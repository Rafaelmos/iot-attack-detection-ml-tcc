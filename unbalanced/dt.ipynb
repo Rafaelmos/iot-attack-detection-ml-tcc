{
 "cells": [
  {
   "cell_type": "code",
   "execution_count": 1,
   "metadata": {},
   "outputs": [],
   "source": [
    "import polars as pl\n",
    "import numpy as np\n",
    "import time\n",
    "from sklearn.tree import DecisionTreeClassifier\n",
    "from sklearn.preprocessing import MinMaxScaler\n",
    "from sklearn.model_selection import train_test_split\n",
    "from sklearn.metrics import accuracy_score, precision_score, recall_score, f1_score, confusion_matrix, balanced_accuracy_score\n",
    "from sklearn.model_selection import KFold\n"
   ]
  },
  {
   "cell_type": "code",
   "execution_count": 2,
   "metadata": {},
   "outputs": [],
   "source": [
    "df_polars_raiz = pl.read_parquet('../dataset.parquet')"
   ]
  },
  {
   "cell_type": "code",
   "execution_count": 3,
   "metadata": {},
   "outputs": [],
   "source": [
    "df_polars = df_polars_raiz.sample(fraction=0.01, seed=42)"
   ]
  },
  {
   "cell_type": "code",
   "execution_count": 4,
   "metadata": {},
   "outputs": [],
   "source": [
    "import ipaddress\n",
    "\n",
    "def ip_to_int(ip: str) -> int:\n",
    "    try:\n",
    "        return int(ipaddress.ip_address(ip))  # Funciona tanto para IPv4 quanto IPv6\n",
    "    except ValueError:\n",
    "        return None"
   ]
  },
  {
   "cell_type": "code",
   "execution_count": 5,
   "metadata": {},
   "outputs": [],
   "source": [
    "#df_polars = df_polars.with_columns([\n",
    "#    pl.col('id.resp_h').map_elements(ip_to_int).alias('id.resp_h'),\n",
    "#    pl.col('id.orig_h').map_elements(ip_to_int).alias('id.orig_h')\n",
    "#])"
   ]
  },
  {
   "cell_type": "code",
   "execution_count": 6,
   "metadata": {},
   "outputs": [],
   "source": [
    "df_polars = df_polars.with_columns([\n",
    "    pl.col('duration').fill_null(0),\n",
    "    pl.col('orig_bytes').fill_null(0),\n",
    "    pl.col('resp_bytes').fill_null(0)\n",
    "])"
   ]
  },
  {
   "cell_type": "code",
   "execution_count": 7,
   "metadata": {},
   "outputs": [],
   "source": [
    "lista_colunas = df_polars.columns\n",
    "colunas_para_spearman = ['id.resp_p', 'history', 'conn_state', 'id.orig_p', 'orig_ip_bytes', 'label']             \n",
    "#['detailed-label', 'id.resp_p', 'history', 'id.orig_h', 'conn_state', 'id.orig_p', 'orig_ip_bytes']\n",
    "colunas_para_dropar = [col for col in lista_colunas if col not in colunas_para_spearman]\n",
    "df_polars = df_polars.drop(colunas_para_dropar)"
   ]
  },
  {
   "cell_type": "code",
   "execution_count": 8,
   "metadata": {},
   "outputs": [],
   "source": [
    "df_polars = df_polars.drop_nulls()"
   ]
  },
  {
   "cell_type": "code",
   "execution_count": 9,
   "metadata": {},
   "outputs": [],
   "source": [
    "X = df_polars.drop('label')\n",
    "y = df_polars['label']       "
   ]
  },
  {
   "cell_type": "code",
   "execution_count": 10,
   "metadata": {},
   "outputs": [],
   "source": [
    "#X = X.to_numpy()\n",
    "#X[:, 0] = np.array([ip_to_int(ip) for ip in X[:, 0]])"
   ]
  },
  {
   "cell_type": "markdown",
   "metadata": {},
   "source": [
    "# Treinamento"
   ]
  },
  {
   "cell_type": "code",
   "execution_count": 11,
   "metadata": {},
   "outputs": [],
   "source": [
    "results = []"
   ]
  },
  {
   "cell_type": "code",
   "execution_count": 12,
   "metadata": {},
   "outputs": [],
   "source": [
    "def startTrain(X, y, criterion, splitter, max_depth, min_samples_split, min_samples_leaf):\n",
    "    kfold = KFold(n_splits=5, shuffle=True)\n",
    "\n",
    "    for train_idx, test_idx in kfold.split(X):\n",
    "        X_train, X_test = X[train_idx], X[test_idx]\n",
    "        y_train, y_test = y[train_idx], y[test_idx]\n",
    "        \n",
    "        scaler = MinMaxScaler()\n",
    "        X_train = scaler.fit_transform(X_train)\n",
    "        X_test = scaler.transform(X_test)\n",
    "\n",
    "        start_training = time.time()\n",
    "        \n",
    "        dt = DecisionTreeClassifier(\n",
    "            criterion=criterion, splitter=splitter, max_depth=max_depth, \n",
    "            min_samples_split=min_samples_split, min_samples_leaf=min_samples_leaf)\n",
    "        \n",
    "        dt.fit(X_train, y_train)\n",
    "        end_training = time.time()\n",
    "\n",
    "        y_pred = dt.predict(X_test)\n",
    "        evaluation_time = time.time()\n",
    "\n",
    "\n",
    "        confusion = confusion_matrix(y_test, y_pred)\n",
    "        tn, fp, fn, tp = confusion.ravel()\n",
    "        accuracy = accuracy_score(y_test, y_pred)\n",
    "        precision = precision_score(y_test, y_pred)\n",
    "        recall = recall_score(y_test, y_pred)\n",
    "        specificity = tn / (tn + fp)\n",
    "        f1 = f1_score(y_test, y_pred)\n",
    "        balanced_accuracy = balanced_accuracy_score(y_test, y_pred)\n",
    "        false_alarm_rate = fp / (fp + tn) if (fp + tn) > 0 else 0\n",
    "        training_duration = end_training - start_training\n",
    "        evaluation_duration = time.time() - end_training\n",
    "\n",
    "    results.append(['DT', accuracy, balanced_accuracy, precision, recall, specificity, f1, false_alarm_rate, tn, fp, fn, tp, training_duration, evaluation_duration])"
   ]
  },
  {
   "cell_type": "code",
   "execution_count": 13,
   "metadata": {},
   "outputs": [],
   "source": [
    "#Melhores Hiperparâmetros encontrados: {'criterion': 'entropy', 'splitter': 'best', 'max_depth': 10, 'min_samples_split': 2, 'min_samples_leaf': 2}\n"
   ]
  },
  {
   "cell_type": "code",
   "execution_count": 14,
   "metadata": {},
   "outputs": [
    {
     "name": "stdout",
     "output_type": "stream",
     "text": [
      "1\n",
      "2\n",
      "3\n",
      "4\n",
      "5\n",
      "6\n",
      "7\n",
      "8\n",
      "9\n",
      "10\n"
     ]
    }
   ],
   "source": [
    "for i in range(1,11):\n",
    "    startTrain(X, y, criterion = 'entropy', splitter= 'best', max_depth = 10, min_samples_split = 2, min_samples_leaf = 2)\n",
    "    print(i)"
   ]
  },
  {
   "cell_type": "code",
   "execution_count": 15,
   "metadata": {},
   "outputs": [
    {
     "name": "stderr",
     "output_type": "stream",
     "text": [
      "c:\\Users\\rafae\\anaconda3\\envs\\tcc_2025_py39\\lib\\functools.py:888: DataOrientationWarning: Row orientation inferred during DataFrame construction. Explicitly specify the orientation by passing `orient=\"row\"` to silence this warning.\n",
      "  return dispatch(args[0].__class__)(*args, **kw)\n"
     ]
    },
    {
     "data": {
      "text/html": [
       "<div><style>\n",
       ".dataframe > thead > tr,\n",
       ".dataframe > tbody > tr {\n",
       "  text-align: right;\n",
       "  white-space: pre-wrap;\n",
       "}\n",
       "</style>\n",
       "<small>shape: (10, 14)</small><table border=\"1\" class=\"dataframe\"><thead><tr><th>Algorithm</th><th>Accuracy</th><th>Balanced Accuracy</th><th>Precision</th><th>Recall</th><th>Specificity</th><th>F1-score</th><th>False Alarm Rate</th><th>tn</th><th>fp</th><th>fn</th><th>tp</th><th>training_duration</th><th>evaluation_duration</th></tr><tr><td>str</td><td>f64</td><td>f64</td><td>f64</td><td>f64</td><td>f64</td><td>f64</td><td>f64</td><td>i64</td><td>i64</td><td>i64</td><td>i64</td><td>f64</td><td>f64</td></tr></thead><tbody><tr><td>&quot;DT&quot;</td><td>0.994822</td><td>0.996715</td><td>0.999903</td><td>0.993939</td><td>0.99949</td><td>0.996912</td><td>0.00051</td><td>17651</td><td>9</td><td>566</td><td>92820</td><td>0.457974</td><td>0.087582</td></tr><tr><td>&quot;DT&quot;</td><td>0.994858</td><td>0.996779</td><td>0.999924</td><td>0.99395</td><td>0.999607</td><td>0.996928</td><td>0.000393</td><td>17816</td><td>7</td><td>564</td><td>92659</td><td>0.446966</td><td>0.086669</td></tr><tr><td>&quot;DT&quot;</td><td>0.995137</td><td>0.996989</td><td>0.999946</td><td>0.994257</td><td>0.99972</td><td>0.997094</td><td>0.00028</td><td>17879</td><td>5</td><td>535</td><td>92627</td><td>0.487329</td><td>0.089254</td></tr><tr><td>&quot;DT&quot;</td><td>0.995335</td><td>0.997086</td><td>0.999935</td><td>0.994509</td><td>0.999663</td><td>0.997215</td><td>0.000337</td><td>17799</td><td>6</td><td>512</td><td>92729</td><td>0.507766</td><td>0.089171</td></tr><tr><td>&quot;DT&quot;</td><td>0.994813</td><td>0.996706</td><td>0.999903</td><td>0.993918</td><td>0.999495</td><td>0.996901</td><td>0.000505</td><td>17813</td><td>9</td><td>567</td><td>92657</td><td>0.524621</td><td>0.097403</td></tr><tr><td>&quot;DT&quot;</td><td>0.995272</td><td>0.996868</td><td>0.999849</td><td>0.994531</td><td>0.999205</td><td>0.997183</td><td>0.000795</td><td>17601</td><td>14</td><td>511</td><td>92920</td><td>0.856321</td><td>0.096952</td></tr><tr><td>&quot;DT&quot;</td><td>0.994903</td><td>0.996714</td><td>0.999881</td><td>0.994043</td><td>0.999385</td><td>0.996954</td><td>0.000615</td><td>17863</td><td>11</td><td>555</td><td>92617</td><td>0.514591</td><td>0.090169</td></tr><tr><td>&quot;DT&quot;</td><td>0.995092</td><td>0.996781</td><td>0.99986</td><td>0.994289</td><td>0.999274</td><td>0.997066</td><td>0.000726</td><td>17887</td><td>13</td><td>532</td><td>92614</td><td>0.49883</td><td>0.083034</td></tr><tr><td>&quot;DT&quot;</td><td>0.994867</td><td>0.996833</td><td>0.999946</td><td>0.99395</td><td>0.999717</td><td>0.996939</td><td>0.000283</td><td>17660</td><td>5</td><td>565</td><td>92816</td><td>0.486189</td><td>0.085214</td></tr><tr><td>&quot;DT&quot;</td><td>0.994903</td><td>0.996738</td><td>0.999892</td><td>0.994039</td><td>0.999437</td><td>0.996957</td><td>0.000563</td><td>17766</td><td>10</td><td>556</td><td>92714</td><td>0.454981</td><td>0.079743</td></tr></tbody></table></div>"
      ],
      "text/plain": [
       "shape: (10, 14)\n",
       "┌───────────┬──────────┬──────────┬───────────┬───┬─────┬───────┬─────────────────┬────────────────┐\n",
       "│ Algorithm ┆ Accuracy ┆ Balanced ┆ Precision ┆ … ┆ fn  ┆ tp    ┆ training_durati ┆ evaluation_dur │\n",
       "│ ---       ┆ ---      ┆ Accuracy ┆ ---       ┆   ┆ --- ┆ ---   ┆ on              ┆ ation          │\n",
       "│ str       ┆ f64      ┆ ---      ┆ f64       ┆   ┆ i64 ┆ i64   ┆ ---             ┆ ---            │\n",
       "│           ┆          ┆ f64      ┆           ┆   ┆     ┆       ┆ f64             ┆ f64            │\n",
       "╞═══════════╪══════════╪══════════╪═══════════╪═══╪═════╪═══════╪═════════════════╪════════════════╡\n",
       "│ DT        ┆ 0.994822 ┆ 0.996715 ┆ 0.999903  ┆ … ┆ 566 ┆ 92820 ┆ 0.457974        ┆ 0.087582       │\n",
       "│ DT        ┆ 0.994858 ┆ 0.996779 ┆ 0.999924  ┆ … ┆ 564 ┆ 92659 ┆ 0.446966        ┆ 0.086669       │\n",
       "│ DT        ┆ 0.995137 ┆ 0.996989 ┆ 0.999946  ┆ … ┆ 535 ┆ 92627 ┆ 0.487329        ┆ 0.089254       │\n",
       "│ DT        ┆ 0.995335 ┆ 0.997086 ┆ 0.999935  ┆ … ┆ 512 ┆ 92729 ┆ 0.507766        ┆ 0.089171       │\n",
       "│ DT        ┆ 0.994813 ┆ 0.996706 ┆ 0.999903  ┆ … ┆ 567 ┆ 92657 ┆ 0.524621        ┆ 0.097403       │\n",
       "│ DT        ┆ 0.995272 ┆ 0.996868 ┆ 0.999849  ┆ … ┆ 511 ┆ 92920 ┆ 0.856321        ┆ 0.096952       │\n",
       "│ DT        ┆ 0.994903 ┆ 0.996714 ┆ 0.999881  ┆ … ┆ 555 ┆ 92617 ┆ 0.514591        ┆ 0.090169       │\n",
       "│ DT        ┆ 0.995092 ┆ 0.996781 ┆ 0.99986   ┆ … ┆ 532 ┆ 92614 ┆ 0.49883         ┆ 0.083034       │\n",
       "│ DT        ┆ 0.994867 ┆ 0.996833 ┆ 0.999946  ┆ … ┆ 565 ┆ 92816 ┆ 0.486189        ┆ 0.085214       │\n",
       "│ DT        ┆ 0.994903 ┆ 0.996738 ┆ 0.999892  ┆ … ┆ 556 ┆ 92714 ┆ 0.454981        ┆ 0.079743       │\n",
       "└───────────┴──────────┴──────────┴───────────┴───┴─────┴───────┴─────────────────┴────────────────┘"
      ]
     },
     "execution_count": 15,
     "metadata": {},
     "output_type": "execute_result"
    }
   ],
   "source": [
    "metrics_df = pl.DataFrame(\n",
    "    results,\n",
    "    schema=['Algorithm', 'Accuracy', 'Balanced Accuracy', 'Precision', 'Recall', 'Specificity', 'F1-score', 'False Alarm Rate', 'tn', 'fp', 'fn', 'tp', 'training_duration', 'evaluation_duration']\n",
    ")\n",
    "metrics_df"
   ]
  },
  {
   "cell_type": "code",
   "execution_count": 16,
   "metadata": {},
   "outputs": [],
   "source": [
    "metrics_df.write_csv(\"metrics_results/unbalanced_dt_metrics_output.csv\", separator=';')"
   ]
  }
 ],
 "metadata": {
  "kernelspec": {
   "display_name": "tcc_2025_py39",
   "language": "python",
   "name": "python3"
  },
  "language_info": {
   "codemirror_mode": {
    "name": "ipython",
    "version": 3
   },
   "file_extension": ".py",
   "mimetype": "text/x-python",
   "name": "python",
   "nbconvert_exporter": "python",
   "pygments_lexer": "ipython3",
   "version": "3.9.21"
  }
 },
 "nbformat": 4,
 "nbformat_minor": 2
}
