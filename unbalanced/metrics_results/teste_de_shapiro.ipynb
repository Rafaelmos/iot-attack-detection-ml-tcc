{
 "cells": [
  {
   "cell_type": "code",
   "execution_count": 1,
   "metadata": {},
   "outputs": [],
   "source": [
    "import polars as pl\n",
    "import numpy as np\n",
    "from scipy.stats import shapiro"
   ]
  },
  {
   "cell_type": "code",
   "execution_count": 2,
   "metadata": {},
   "outputs": [],
   "source": [
    "files = [\n",
    "    (\"unbalanced_2DCNN_metrics_output.csv\", \"2DCNN\"),\n",
    "    (\"unbalanced_AE_metrics_output.csv\", \"AE\"),\n",
    "    (\"unbalanced_bayes_metrics_output.csv\", \"Bayes\"),\n",
    "    (\"unbalanced_dt_metrics_output.csv\", \"DT\"),\n",
    "    (\"unbalanced_knn_metrics_output.csv\", \"KNN\"),\n",
    "    (\"unbalanced_lr_metrics_output.csv\", \"LR\"),\n",
    "    (\"unbalanced_mlp_metrics_output.csv\", \"MLP\"),\n",
    "    (\"unbalanced_rf_metrics_output.csv\", \"RF\"),\n",
    "    (\"unbalanced_svm_metrics_output.csv\", \"SVM\"),\n",
    "]"
   ]
  },
  {
   "cell_type": "code",
   "execution_count": 3,
   "metadata": {},
   "outputs": [],
   "source": [
    "def shapiro_test(df, coluna):\n",
    "    stat, p_value = shapiro(df[coluna].to_numpy())\n",
    "    return stat, p_value\n"
   ]
  },
  {
   "cell_type": "code",
   "execution_count": 4,
   "metadata": {},
   "outputs": [],
   "source": [
    "# Estruturas para armazenar os resultados por métrica\n",
    "accuracy_results = []\n",
    "balanced_accuracy_results = []\n",
    "f1_score_results = []\n",
    "\n",
    "# Itera sobre os arquivos e realiza o teste para cada métrica\n",
    "for file, model_name in files:\n",
    "    df = pl.read_csv(file, separator=\";\")\n",
    "    if \"Accuracy\" in df.columns:\n",
    "        stat, p_value = shapiro_test(df, \"Accuracy\")\n",
    "        accuracy_results.append({\n",
    "            \"Model\": model_name,\n",
    "            \"Shapiro Stat\": stat,\n",
    "            \"p-value\": p_value\n",
    "        })\n",
    "    if \"Balanced Accuracy\" in df.columns:\n",
    "        stat, p_value = shapiro_test(df, \"Balanced Accuracy\")\n",
    "        balanced_accuracy_results.append({\n",
    "            \"Model\": model_name,\n",
    "            \"Shapiro Stat\": stat,\n",
    "            \"p-value\": p_value\n",
    "        })\n",
    "    if \"F1-score\" in df.columns:\n",
    "        stat, p_value = shapiro_test(df, \"F1-score\")\n",
    "        f1_score_results.append({\n",
    "            \"Model\": model_name,\n",
    "            \"Shapiro Stat\": stat,\n",
    "            \"p-value\": p_value\n",
    "        })\n",
    "\n",
    "accuracy_df = pl.DataFrame(accuracy_results)\n",
    "balanced_accuracy_df = pl.DataFrame(balanced_accuracy_results)\n",
    "f1_score_df = pl.DataFrame(f1_score_results)"
   ]
  },
  {
   "cell_type": "code",
   "execution_count": 5,
   "metadata": {},
   "outputs": [
    {
     "name": "stdout",
     "output_type": "stream",
     "text": [
      "Accuracy Results:\n",
      "shape: (9, 3)\n",
      "┌───────┬──────────────┬──────────┐\n",
      "│ Model ┆ Shapiro Stat ┆ p-value  │\n",
      "│ ---   ┆ ---          ┆ ---      │\n",
      "│ str   ┆ f64          ┆ f64      │\n",
      "╞═══════╪══════════════╪══════════╡\n",
      "│ 2DCNN ┆ 0.927056     ┆ 0.419563 │\n",
      "│ AE    ┆ 0.77241      ┆ 0.006691 │\n",
      "│ Bayes ┆ 0.778996     ┆ 0.008049 │\n",
      "│ DT    ┆ 0.840764     ┆ 0.045064 │\n",
      "│ KNN   ┆ 0.962831     ┆ 0.817607 │\n",
      "│ LR    ┆ 0.861285     ┆ 0.079017 │\n",
      "│ MLP   ┆ 0.836493     ┆ 0.040052 │\n",
      "│ RF    ┆ 0.98154      ┆ 0.972872 │\n",
      "│ SVM   ┆ 0.818872     ┆ 0.024558 │\n",
      "└───────┴──────────────┴──────────┘\n"
     ]
    }
   ],
   "source": [
    "print(\"Accuracy Results:\")\n",
    "print(accuracy_df)\n"
   ]
  },
  {
   "cell_type": "code",
   "execution_count": 6,
   "metadata": {},
   "outputs": [
    {
     "name": "stdout",
     "output_type": "stream",
     "text": [
      "\n",
      "Balanced Accuracy Results:\n",
      "shape: (9, 3)\n",
      "┌───────┬──────────────┬──────────┐\n",
      "│ Model ┆ Shapiro Stat ┆ p-value  │\n",
      "│ ---   ┆ ---          ┆ ---      │\n",
      "│ str   ┆ f64          ┆ f64      │\n",
      "╞═══════╪══════════════╪══════════╡\n",
      "│ 2DCNN ┆ 0.96397      ┆ 0.830018 │\n",
      "│ AE    ┆ 0.779803     ┆ 0.008233 │\n",
      "│ Bayes ┆ 0.952624     ┆ 0.699591 │\n",
      "│ DT    ┆ 0.90616      ┆ 0.255643 │\n",
      "│ KNN   ┆ 0.968266     ┆ 0.87432  │\n",
      "│ LR    ┆ 0.982528     ┆ 0.97725  │\n",
      "│ MLP   ┆ 0.941855     ┆ 0.573835 │\n",
      "│ RF    ┆ 0.942595     ┆ 0.582235 │\n",
      "│ SVM   ┆ 0.908237     ┆ 0.2691   │\n",
      "└───────┴──────────────┴──────────┘\n"
     ]
    }
   ],
   "source": [
    "print(\"\\nBalanced Accuracy Results:\")\n",
    "print(balanced_accuracy_df)"
   ]
  },
  {
   "cell_type": "code",
   "execution_count": 7,
   "metadata": {},
   "outputs": [
    {
     "name": "stdout",
     "output_type": "stream",
     "text": [
      "\n",
      "F1-Score Results:\n",
      "shape: (9, 3)\n",
      "┌───────┬──────────────┬──────────┐\n",
      "│ Model ┆ Shapiro Stat ┆ p-value  │\n",
      "│ ---   ┆ ---          ┆ ---      │\n",
      "│ str   ┆ f64          ┆ f64      │\n",
      "╞═══════╪══════════════╪══════════╡\n",
      "│ 2DCNN ┆ 0.927488     ┆ 0.423645 │\n",
      "│ AE    ┆ 0.770565     ┆ 0.006354 │\n",
      "│ Bayes ┆ 0.820306     ┆ 0.025559 │\n",
      "│ DT    ┆ 0.842817     ┆ 0.047687 │\n",
      "│ KNN   ┆ 0.962964     ┆ 0.819074 │\n",
      "│ LR    ┆ 0.860159     ┆ 0.076638 │\n",
      "│ MLP   ┆ 0.83334      ┆ 0.036705 │\n",
      "│ RF    ┆ 0.97985      ┆ 0.964358 │\n",
      "│ SVM   ┆ 0.838109     ┆ 0.041881 │\n",
      "└───────┴──────────────┴──────────┘\n"
     ]
    }
   ],
   "source": [
    "print(\"\\nF1-Score Results:\")\n",
    "print(f1_score_df)"
   ]
  },
  {
   "cell_type": "code",
   "execution_count": 8,
   "metadata": {},
   "outputs": [],
   "source": [
    "accuracy_df.write_csv(\"statistical_test_results/accuracy_results.csv\", separator=';')\n",
    "balanced_accuracy_df.write_csv(\"statistical_test_results/balanced_accuracy_results.csv\", separator=';')\n",
    "f1_score_df.write_csv(\"statistical_test_results/f1_score_results.csv\", separator=';')"
   ]
  }
 ],
 "metadata": {
  "kernelspec": {
   "display_name": "tcc_2025_py39",
   "language": "python",
   "name": "python3"
  },
  "language_info": {
   "codemirror_mode": {
    "name": "ipython",
    "version": 3
   },
   "file_extension": ".py",
   "mimetype": "text/x-python",
   "name": "python",
   "nbconvert_exporter": "python",
   "pygments_lexer": "ipython3",
   "version": "3.9.21"
  }
 },
 "nbformat": 4,
 "nbformat_minor": 2
}
