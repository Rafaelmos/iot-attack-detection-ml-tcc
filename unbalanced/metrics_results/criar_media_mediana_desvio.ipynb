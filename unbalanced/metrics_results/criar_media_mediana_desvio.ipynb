{
 "cells": [
  {
   "cell_type": "code",
   "execution_count": 1,
   "metadata": {},
   "outputs": [],
   "source": [
    "import polars as pl\n",
    "import numpy as np\n",
    "import matplotlib.pyplot as plt\n"
   ]
  },
  {
   "cell_type": "code",
   "execution_count": 2,
   "metadata": {},
   "outputs": [],
   "source": [
    "df_polars_knn = pl.read_csv(\"unbalanced_knn_metrics_output.csv\", separator=\";\")\n",
    "df_polars_lr = pl.read_csv(\"unbalanced_lr_metrics_output.csv\", separator=\";\")\n",
    "df_polars_svm = pl.read_csv(\"unbalanced_svm_metrics_output.csv\", separator=\";\")\n",
    "df_polars_rf = pl.read_csv(\"unbalanced_rf_metrics_output.csv\", separator=\";\")\n",
    "df_polars_bayes = pl.read_csv(\"unbalanced_bayes_metrics_output.csv\", separator=\";\")\n",
    "df_polars_dt = pl.read_csv(\"unbalanced_dt_metrics_output.csv\", separator=\";\")\n",
    "df_polars_AE = pl.read_csv(\"unbalanced_AE_metrics_output.csv\", separator=\";\")\n",
    "df_polars_mlp = pl.read_csv(\"unbalanced_mlp_metrics_output.csv\", separator=\";\")\n",
    "df_polars_2dcnn = pl.read_csv(\"unbalanced_2DCNN_metrics_output.csv\", separator=\";\")"
   ]
  },
  {
   "cell_type": "code",
   "execution_count": 3,
   "metadata": {},
   "outputs": [],
   "source": [
    "lista = [df_polars_knn, df_polars_lr, df_polars_svm, df_polars_rf, df_polars_bayes,df_polars_dt, df_polars_AE, df_polars_mlp, df_polars_2dcnn]\n",
    "medias = []\n",
    "desvios = []\n",
    "medianas = []\n",
    "ic_superiores = []\n",
    "ic_inferiores = []\n"
   ]
  },
  {
   "cell_type": "code",
   "execution_count": 4,
   "metadata": {},
   "outputs": [],
   "source": [
    "def gerar_media(df):\n",
    "    algoritmo = df[0,0]\n",
    "    #print(algoritmo)\n",
    "    mean_values = df.select([\n",
    "    pl.col(\"*\").mean()\n",
    "])\n",
    "    mean_values[0,0] = algoritmo\n",
    "    return mean_values"
   ]
  },
  {
   "cell_type": "code",
   "execution_count": 5,
   "metadata": {},
   "outputs": [],
   "source": [
    "def gerar_desvio(df):\n",
    "    algoritmo = df[0, 0]\n",
    "    \n",
    "    df = df.with_columns(\n",
    "        pl.lit(1).alias(df.columns[0])\n",
    "    )\n",
    "    \n",
    "    std_values = df.select([\n",
    "        pl.col(\"*\").std()\n",
    "    ])\n",
    "        \n",
    "    std_values = std_values.with_columns(\n",
    "        pl.lit(algoritmo).alias(df.columns[0])\n",
    "    )\n",
    "    return std_values"
   ]
  },
  {
   "cell_type": "code",
   "execution_count": 6,
   "metadata": {},
   "outputs": [],
   "source": [
    "def gerar_mediana(df):\n",
    "    algoritmo = df[0, 0]\n",
    "    \n",
    "    df = df.with_columns(\n",
    "        pl.lit(1).alias(df.columns[0])\n",
    "    )\n",
    "    \n",
    "    median_values = df.select([\n",
    "        pl.col(\"*\").median()\n",
    "    ])\n",
    "    \n",
    "    median_values = median_values.with_columns(\n",
    "        pl.lit(algoritmo).alias(df.columns[0])\n",
    "    )\n",
    "    return median_values"
   ]
  },
  {
   "cell_type": "code",
   "execution_count": 7,
   "metadata": {},
   "outputs": [],
   "source": [
    "def gerar_intervalo_confianca(df_medias_unificadas, df_desvios_unificados):\n",
    "    # Armazenando toda a primeira coluna (algoritmo) de df_medias_unificadas\n",
    "    algoritmo = df_medias_unificadas[:, 0]  # Pega toda a primeira coluna\n",
    "    \n",
    "    # Substitui todos os valores da primeira coluna por 1\n",
    "    df_medias_unificadas = df_medias_unificadas.with_columns(\n",
    "        pl.lit(1).alias(df_medias_unificadas.columns[0])\n",
    "    )\n",
    "    df_desvios_unificados = df_desvios_unificados.with_columns(\n",
    "        pl.lit(1).alias(df_desvios_unificados.columns[0])\n",
    "    )\n",
    "    \n",
    "    # Número de amostras\n",
    "    n = 30  # Ou qualquer valor adequado\n",
    "    \n",
    "\n",
    "    # Calculando o intervalo de confiança usando os DataFrames unificados\n",
    "    ic_superior = df_medias_unificadas + 1.96 * df_desvios_unificados / np.sqrt(n)  # IC superior\n",
    "    ic_inferior = df_medias_unificadas - 1.96 * df_desvios_unificados / np.sqrt(n)  # IC inferior\n",
    "    \n",
    "    # Restaurando os valores da primeira coluna (algoritmo) nos dois DataFrames\n",
    "    nome_coluna = df_medias_unificadas.columns[0]  # Nome da primeira coluna\n",
    "    ic_superior = ic_superior.with_columns(pl.lit(algoritmo).alias(nome_coluna))\n",
    "    ic_inferior = ic_inferior.with_columns(pl.lit(algoritmo).alias(nome_coluna))\n",
    "    \n",
    "    return ic_superior, ic_inferior\n"
   ]
  },
  {
   "cell_type": "code",
   "execution_count": 8,
   "metadata": {},
   "outputs": [],
   "source": [
    "for i in lista:\n",
    "    medias.append(gerar_media(i))\n",
    "    desvios.append(gerar_desvio(i))\n",
    "    medianas.append(gerar_mediana(i))\n"
   ]
  },
  {
   "cell_type": "code",
   "execution_count": 9,
   "metadata": {},
   "outputs": [],
   "source": [
    "df_medias_unificadas = pl.concat(medias)\n",
    "df_desvios_unificados = pl.concat(desvios)\n",
    "df_medianas_unificadas = pl.concat(medianas)"
   ]
  },
  {
   "cell_type": "code",
   "execution_count": 10,
   "metadata": {},
   "outputs": [],
   "source": [
    "ic_superiores, ic_inferiores = gerar_intervalo_confianca(df_medias_unificadas, df_desvios_unificados)\n"
   ]
  },
  {
   "cell_type": "code",
   "execution_count": 11,
   "metadata": {},
   "outputs": [
    {
     "data": {
      "text/html": [
       "<div><style>\n",
       ".dataframe > thead > tr,\n",
       ".dataframe > tbody > tr {\n",
       "  text-align: right;\n",
       "  white-space: pre-wrap;\n",
       "}\n",
       "</style>\n",
       "<small>shape: (9, 14)</small><table border=\"1\" class=\"dataframe\"><thead><tr><th>Algorithm</th><th>Accuracy</th><th>Balanced Accuracy</th><th>Precision</th><th>Recall</th><th>Specificity</th><th>F1-score</th><th>False Alarm Rate</th><th>tn</th><th>fp</th><th>fn</th><th>tp</th><th>training_duration</th><th>evaluation_duration</th></tr><tr><td>str</td><td>f64</td><td>f64</td><td>f64</td><td>f64</td><td>f64</td><td>f64</td><td>f64</td><td>f64</td><td>f64</td><td>f64</td><td>f64</td><td>f64</td><td>f64</td></tr></thead><tbody><tr><td>&quot;KNN&quot;</td><td>0.992149</td><td>0.994422</td><td>0.99957</td><td>0.991077</td><td>0.997767</td><td>0.995305</td><td>0.002233</td><td>17763.440039</td><td>39.76</td><td>832.020007</td><td>92411.38125</td><td>0.210291</td><td>9.398191</td></tr><tr><td>&quot;LR&quot;</td><td>0.979899</td><td>0.969066</td><td>0.990995</td><td>0.985012</td><td>0.95312</td><td>0.987994</td><td>0.04688</td><td>16968.600195</td><td>834.600006</td><td>1397.540002</td><td>91845.858594</td><td>1.012137</td><td>0.003297</td></tr><tr><td>&quot;SVM&quot;</td><td>0.951817</td><td>0.937955</td><td>0.98285</td><td>0.958343</td><td>0.917567</td><td>0.969</td><td>0.082433</td><td>16336.620117</td><td>1466.579983</td><td>3883.96001</td><td>89359.439844</td><td>197.9705</td><td>52.362938</td></tr><tr><td>&quot;rf&quot;</td><td>0.995015</td><td>0.99674</td><td>0.999862</td><td>0.994201</td><td>0.99928</td><td>0.997023</td><td>0.00072</td><td>17790.380078</td><td>12.82</td><td>540.7</td><td>92702.7</td><td>45.711283</td><td>0.646564</td></tr><tr><td>&quot;Bayes&quot;</td><td>0.981808</td><td>0.966421</td><td>0.989263</td><td>0.98907</td><td>0.943772</td><td>0.989166</td><td>0.056228</td><td>16802.199219</td><td>1001.0</td><td>1019.180011</td><td>92224.221094</td><td>0.071893</td><td>0.010107</td></tr><tr><td>&quot;DT&quot;</td><td>0.995032</td><td>0.996842</td><td>0.999905</td><td>0.994177</td><td>0.999506</td><td>0.997033</td><td>0.000494</td><td>17794.399805</td><td>8.8</td><td>542.9</td><td>92700.499219</td><td>0.478636</td><td>0.084793</td></tr><tr><td>&quot;AE&quot;</td><td>0.979737</td><td>0.96763</td><td>0.990369</td><td>0.985451</td><td>0.949809</td><td>0.987869</td><td>0.050191</td><td>16909.680078</td><td>893.520007</td><td>1356.660004</td><td>91886.740625</td><td>12.423874</td><td>1.602182</td></tr><tr><td>&quot;MLP&quot;</td><td>0.992095</td><td>0.994214</td><td>0.999486</td><td>0.991096</td><td>0.997332</td><td>0.995273</td><td>0.002668</td><td>17755.680273</td><td>47.52</td><td>830.279993</td><td>92413.119531</td><td>99.699128</td><td>0.22846</td></tr><tr><td>&quot;2DCNN&quot;</td><td>0.99072</td><td>0.991655</td><td>0.99866</td><td>0.990277</td><td>0.993033</td><td>0.994451</td><td>0.006967</td><td>17679.240039</td><td>123.960001</td><td>906.559998</td><td>92336.840625</td><td>100.793844</td><td>2.080423</td></tr></tbody></table></div>"
      ],
      "text/plain": [
       "shape: (9, 14)\n",
       "┌───────────┬──────────┬───────────┬───────────┬───┬───────────┬───────────┬───────────┬───────────┐\n",
       "│ Algorithm ┆ Accuracy ┆ Balanced  ┆ Precision ┆ … ┆ fn        ┆ tp        ┆ training_ ┆ evaluatio │\n",
       "│ ---       ┆ ---      ┆ Accuracy  ┆ ---       ┆   ┆ ---       ┆ ---       ┆ duration  ┆ n_duratio │\n",
       "│ str       ┆ f64      ┆ ---       ┆ f64       ┆   ┆ f64       ┆ f64       ┆ ---       ┆ n         │\n",
       "│           ┆          ┆ f64       ┆           ┆   ┆           ┆           ┆ f64       ┆ ---       │\n",
       "│           ┆          ┆           ┆           ┆   ┆           ┆           ┆           ┆ f64       │\n",
       "╞═══════════╪══════════╪═══════════╪═══════════╪═══╪═══════════╪═══════════╪═══════════╪═══════════╡\n",
       "│ KNN       ┆ 0.992149 ┆ 0.994422  ┆ 0.99957   ┆ … ┆ 832.02000 ┆ 92411.381 ┆ 0.210291  ┆ 9.398191  │\n",
       "│           ┆          ┆           ┆           ┆   ┆ 7         ┆ 25        ┆           ┆           │\n",
       "│ LR        ┆ 0.979899 ┆ 0.969066  ┆ 0.990995  ┆ … ┆ 1397.5400 ┆ 91845.858 ┆ 1.012137  ┆ 0.003297  │\n",
       "│           ┆          ┆           ┆           ┆   ┆ 02        ┆ 594       ┆           ┆           │\n",
       "│ SVM       ┆ 0.951817 ┆ 0.937955  ┆ 0.98285   ┆ … ┆ 3883.9600 ┆ 89359.439 ┆ 197.9705  ┆ 52.362938 │\n",
       "│           ┆          ┆           ┆           ┆   ┆ 1         ┆ 844       ┆           ┆           │\n",
       "│ rf        ┆ 0.995015 ┆ 0.99674   ┆ 0.999862  ┆ … ┆ 540.7     ┆ 92702.7   ┆ 45.711283 ┆ 0.646564  │\n",
       "│ Bayes     ┆ 0.981808 ┆ 0.966421  ┆ 0.989263  ┆ … ┆ 1019.1800 ┆ 92224.221 ┆ 0.071893  ┆ 0.010107  │\n",
       "│           ┆          ┆           ┆           ┆   ┆ 11        ┆ 094       ┆           ┆           │\n",
       "│ DT        ┆ 0.995032 ┆ 0.996842  ┆ 0.999905  ┆ … ┆ 542.9     ┆ 92700.499 ┆ 0.478636  ┆ 0.084793  │\n",
       "│           ┆          ┆           ┆           ┆   ┆           ┆ 219       ┆           ┆           │\n",
       "│ AE        ┆ 0.979737 ┆ 0.96763   ┆ 0.990369  ┆ … ┆ 1356.6600 ┆ 91886.740 ┆ 12.423874 ┆ 1.602182  │\n",
       "│           ┆          ┆           ┆           ┆   ┆ 04        ┆ 625       ┆           ┆           │\n",
       "│ MLP       ┆ 0.992095 ┆ 0.994214  ┆ 0.999486  ┆ … ┆ 830.27999 ┆ 92413.119 ┆ 99.699128 ┆ 0.22846   │\n",
       "│           ┆          ┆           ┆           ┆   ┆ 3         ┆ 531       ┆           ┆           │\n",
       "│ 2DCNN     ┆ 0.99072  ┆ 0.991655  ┆ 0.99866   ┆ … ┆ 906.55999 ┆ 92336.840 ┆ 100.79384 ┆ 2.080423  │\n",
       "│           ┆          ┆           ┆           ┆   ┆ 8         ┆ 625       ┆ 4         ┆           │\n",
       "└───────────┴──────────┴───────────┴───────────┴───┴───────────┴───────────┴───────────┴───────────┘"
      ]
     },
     "execution_count": 11,
     "metadata": {},
     "output_type": "execute_result"
    }
   ],
   "source": [
    "df_medias_unificadas"
   ]
  },
  {
   "cell_type": "code",
   "execution_count": 12,
   "metadata": {},
   "outputs": [],
   "source": [
    "df_medias_unificadas.write_csv(\"_unbalanced_mean_metrics_output.csv\", separator=';')"
   ]
  },
  {
   "cell_type": "code",
   "execution_count": 13,
   "metadata": {},
   "outputs": [
    {
     "data": {
      "text/html": [
       "<div><style>\n",
       ".dataframe > thead > tr,\n",
       ".dataframe > tbody > tr {\n",
       "  text-align: right;\n",
       "  white-space: pre-wrap;\n",
       "}\n",
       "</style>\n",
       "<small>shape: (9, 14)</small><table border=\"1\" class=\"dataframe\"><thead><tr><th>Algorithm</th><th>Accuracy</th><th>Balanced Accuracy</th><th>Precision</th><th>Recall</th><th>Specificity</th><th>F1-score</th><th>False Alarm Rate</th><th>tn</th><th>fp</th><th>fn</th><th>tp</th><th>training_duration</th><th>evaluation_duration</th></tr><tr><td>str</td><td>f64</td><td>f64</td><td>f64</td><td>f64</td><td>f64</td><td>f64</td><td>f64</td><td>f64</td><td>f64</td><td>f64</td><td>f64</td><td>f64</td><td>f64</td></tr></thead><tbody><tr><td>&quot;KNN&quot;</td><td>0.000036</td><td>0.000068</td><td>0.000025</td><td>0.000031</td><td>0.000128</td><td>0.000021</td><td>0.000129</td><td>2.28958</td><td>2.289687</td><td>2.920343</td><td>2.919694</td><td>0.00543</td><td>0.229172</td></tr><tr><td>&quot;LR&quot;</td><td>0.000007</td><td>0.000014</td><td>0.000004</td><td>0.000006</td><td>0.000025</td><td>0.000004</td><td>0.000025</td><td>0.421534</td><td>0.421637</td><td>0.558178</td><td>0.557784</td><td>0.079089</td><td>0.000582</td></tr><tr><td>&quot;SVM&quot;</td><td>0.032707</td><td>0.046003</td><td>0.014841</td><td>0.030091</td><td>0.07343</td><td>0.021912</td><td>0.07343</td><td>1311.965416</td><td>1311.965282</td><td>2805.572121</td><td>2805.572519</td><td>7.722737</td><td>0.848837</td></tr><tr><td>&quot;rf&quot;</td><td>0.000007</td><td>0.00002</td><td>0.000008</td><td>0.000004</td><td>0.00004</td><td>0.000004</td><td>0.00004</td><td>0.70828</td><td>0.708363</td><td>0.380058</td><td>0.380069</td><td>2.921018</td><td>0.020829</td></tr><tr><td>&quot;Bayes&quot;</td><td>0.000002</td><td>0.000003</td><td>2.1399e-7</td><td>0.000003</td><td>0.000006</td><td>0.000002</td><td>0.000006</td><td>0.0</td><td>0.0</td><td>0.274081</td><td>0.273476</td><td>0.007385</td><td>0.000825</td></tr><tr><td>&quot;DT&quot;</td><td>0.000004</td><td>0.000006</td><td>0.000002</td><td>0.000005</td><td>0.000012</td><td>0.000002</td><td>0.000012</td><td>0.211231</td><td>0.210819</td><td>0.454602</td><td>0.455028</td><td>0.023044</td><td>0.00192</td></tr><tr><td>&quot;AE&quot;</td><td>0.004462</td><td>0.002617</td><td>0.000068</td><td>0.005335</td><td>0.000337</td><td>0.002756</td><td>0.000337</td><td>6.022955</td><td>6.023067</td><td>497.397417</td><td>497.398279</td><td>1.916893</td><td>0.212357</td></tr><tr><td>&quot;MLP&quot;</td><td>0.000028</td><td>0.000127</td><td>0.000056</td><td>0.000045</td><td>0.000288</td><td>0.000017</td><td>0.000288</td><td>5.146345</td><td>5.146044</td><td>4.235504</td><td>4.236469</td><td>25.896049</td><td>0.071858</td></tr><tr><td>&quot;2DCNN&quot;</td><td>0.000264</td><td>0.000546</td><td>0.000202</td><td>0.000225</td><td>0.001049</td><td>0.000158</td><td>0.001049</td><td>18.705924</td><td>18.705865</td><td>20.990538</td><td>20.9894</td><td>6.863562</td><td>0.286126</td></tr></tbody></table></div>"
      ],
      "text/plain": [
       "shape: (9, 14)\n",
       "┌───────────┬──────────┬───────────┬───────────┬───┬───────────┬───────────┬───────────┬───────────┐\n",
       "│ Algorithm ┆ Accuracy ┆ Balanced  ┆ Precision ┆ … ┆ fn        ┆ tp        ┆ training_ ┆ evaluatio │\n",
       "│ ---       ┆ ---      ┆ Accuracy  ┆ ---       ┆   ┆ ---       ┆ ---       ┆ duration  ┆ n_duratio │\n",
       "│ str       ┆ f64      ┆ ---       ┆ f64       ┆   ┆ f64       ┆ f64       ┆ ---       ┆ n         │\n",
       "│           ┆          ┆ f64       ┆           ┆   ┆           ┆           ┆ f64       ┆ ---       │\n",
       "│           ┆          ┆           ┆           ┆   ┆           ┆           ┆           ┆ f64       │\n",
       "╞═══════════╪══════════╪═══════════╪═══════════╪═══╪═══════════╪═══════════╪═══════════╪═══════════╡\n",
       "│ KNN       ┆ 0.000036 ┆ 0.000068  ┆ 0.000025  ┆ … ┆ 2.920343  ┆ 2.919694  ┆ 0.00543   ┆ 0.229172  │\n",
       "│ LR        ┆ 0.000007 ┆ 0.000014  ┆ 0.000004  ┆ … ┆ 0.558178  ┆ 0.557784  ┆ 0.079089  ┆ 0.000582  │\n",
       "│ SVM       ┆ 0.032707 ┆ 0.046003  ┆ 0.014841  ┆ … ┆ 2805.5721 ┆ 2805.5725 ┆ 7.722737  ┆ 0.848837  │\n",
       "│           ┆          ┆           ┆           ┆   ┆ 21        ┆ 19        ┆           ┆           │\n",
       "│ rf        ┆ 0.000007 ┆ 0.00002   ┆ 0.000008  ┆ … ┆ 0.380058  ┆ 0.380069  ┆ 2.921018  ┆ 0.020829  │\n",
       "│ Bayes     ┆ 0.000002 ┆ 0.000003  ┆ 2.1399e-7 ┆ … ┆ 0.274081  ┆ 0.273476  ┆ 0.007385  ┆ 0.000825  │\n",
       "│ DT        ┆ 0.000004 ┆ 0.000006  ┆ 0.000002  ┆ … ┆ 0.454602  ┆ 0.455028  ┆ 0.023044  ┆ 0.00192   │\n",
       "│ AE        ┆ 0.004462 ┆ 0.002617  ┆ 0.000068  ┆ … ┆ 497.39741 ┆ 497.39827 ┆ 1.916893  ┆ 0.212357  │\n",
       "│           ┆          ┆           ┆           ┆   ┆ 7         ┆ 9         ┆           ┆           │\n",
       "│ MLP       ┆ 0.000028 ┆ 0.000127  ┆ 0.000056  ┆ … ┆ 4.235504  ┆ 4.236469  ┆ 25.896049 ┆ 0.071858  │\n",
       "│ 2DCNN     ┆ 0.000264 ┆ 0.000546  ┆ 0.000202  ┆ … ┆ 20.990538 ┆ 20.9894   ┆ 6.863562  ┆ 0.286126  │\n",
       "└───────────┴──────────┴───────────┴───────────┴───┴───────────┴───────────┴───────────┴───────────┘"
      ]
     },
     "execution_count": 13,
     "metadata": {},
     "output_type": "execute_result"
    }
   ],
   "source": [
    "df_desvios_unificados"
   ]
  },
  {
   "cell_type": "code",
   "execution_count": 14,
   "metadata": {},
   "outputs": [],
   "source": [
    "df_desvios_unificados.write_csv(\"_unbalanced_std_metrics_output.csv\", separator=';')"
   ]
  },
  {
   "cell_type": "code",
   "execution_count": 15,
   "metadata": {},
   "outputs": [],
   "source": [
    "df_medianas_unificadas.write_csv(\"_unbalanced_median_metrics_output.csv\", separator=';')"
   ]
  },
  {
   "cell_type": "code",
   "execution_count": 16,
   "metadata": {},
   "outputs": [
    {
     "data": {
      "image/png": "[encoded data removed]",
      "text/plain": [
       "<Figure size 1000x600 with 1 Axes>"
      ]
     },
     "metadata": {},
     "output_type": "display_data"
    }
   ],
   "source": [
    "medias_accuracy = df_medias_unificadas['Accuracy'].to_numpy()\n",
    "desvios_accuracy = df_desvios_unificados['Accuracy'].to_numpy()\n",
    "modelos = df_medias_unificadas['Algorithm'].to_numpy()\n",
    "\n",
    "plt.figure(figsize=(10,6))\n",
    "bars = plt.bar(modelos, medias_accuracy, yerr=desvios_accuracy,  # Use as médias e desvios padrão\n",
    "               capsize=5, color='skyblue', edgecolor='black')\n",
    "\n",
    "plt.title(\"Média das Métricas com Erro Padrão\")\n",
    "plt.ylabel(\"Média\")\n",
    "plt.xlabel(\"Modelos\")\n",
    "\n",
    "plt.xticks(rotation=45, ha='right')\n",
    "\n",
    "for bar in bars:\n",
    "    yval = bar.get_height()  # Obtém a altura da barra (média)\n",
    "    plt.text(bar.get_x() + bar.get_width() / 2, yval, f\"{yval:.4f}\", ha='center', va='bottom', fontsize=10)\n",
    "\n",
    "plt.show()\n"
   ]
  }
 ],
 "metadata": {
  "kernelspec": {
   "display_name": "tcc_2025_py39",
   "language": "python",
   "name": "python3"
  },
  "language_info": {
   "codemirror_mode": {
    "name": "ipython",
    "version": 3
   },
   "file_extension": ".py",
   "mimetype": "text/x-python",
   "name": "python",
   "nbconvert_exporter": "python",
   "pygments_lexer": "ipython3",
   "version": "3.9.21"
  }
 },
 "nbformat": 4,
 "nbformat_minor": 2
}
