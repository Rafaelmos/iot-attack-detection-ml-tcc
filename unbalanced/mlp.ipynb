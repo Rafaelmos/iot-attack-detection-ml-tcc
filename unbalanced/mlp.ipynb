{
 "cells": [
  {
   "cell_type": "code",
   "execution_count": 1,
   "metadata": {},
   "outputs": [],
   "source": [
    "import polars as pl\n",
    "import numpy as np\n",
    "import time\n",
    "from sklearn.neural_network import MLPClassifier\n",
    "from sklearn.preprocessing import MinMaxScaler\n",
    "from sklearn.model_selection import train_test_split\n",
    "from sklearn.metrics import accuracy_score, precision_score, recall_score, f1_score, confusion_matrix, balanced_accuracy_score\n",
    "from sklearn.model_selection import KFold\n",
    "from imblearn.under_sampling import RandomUnderSampler"
   ]
  },
  {
   "cell_type": "code",
   "execution_count": 2,
   "metadata": {},
   "outputs": [],
   "source": [
    "df_polars_raiz = pl.read_parquet('../dataset.parquet')"
   ]
  },
  {
   "cell_type": "code",
   "execution_count": 3,
   "metadata": {},
   "outputs": [],
   "source": [
    "df_polars = df_polars_raiz.sample(fraction=0.01, seed=42)"
   ]
  },
  {
   "cell_type": "code",
   "execution_count": 4,
   "metadata": {},
   "outputs": [],
   "source": [
    "import ipaddress\n",
    "\n",
    "def ip_to_int(ip: str) -> int:\n",
    "    try:\n",
    "        return int(ipaddress.ip_address(ip))  # Funciona tanto para IPv4 quanto IPv6\n",
    "    except ValueError:\n",
    "        return None\n"
   ]
  },
  {
   "cell_type": "code",
   "execution_count": 5,
   "metadata": {},
   "outputs": [],
   "source": [
    "#df_polars = df_polars.with_columns([\n",
    "#    pl.col('id.resp_h').map_elements(ip_to_int).alias('id.resp_h'),\n",
    "#    pl.col('id.orig_h').map_elements(ip_to_int).alias('id.orig_h')\n",
    "#])"
   ]
  },
  {
   "cell_type": "code",
   "execution_count": 6,
   "metadata": {},
   "outputs": [],
   "source": [
    "df_polars = df_polars.with_columns([\n",
    "    pl.col('duration').fill_null(0),\n",
    "    pl.col('orig_bytes').fill_null(0),\n",
    "    pl.col('resp_bytes').fill_null(0)\n",
    "])"
   ]
  },
  {
   "cell_type": "code",
   "execution_count": 7,
   "metadata": {},
   "outputs": [],
   "source": [
    "lista_colunas = df_polars.columns\n",
    "colunas_para_spearman = ['id.resp_p', 'history', 'conn_state', 'id.orig_p', 'orig_ip_bytes', 'label']             \n",
    "#['detailed-label', 'id.resp_p', 'history', 'id.orig_h', 'conn_state', 'id.orig_p', 'orig_ip_bytes']\n",
    "colunas_para_dropar = [col for col in lista_colunas if col not in colunas_para_spearman]\n",
    "df_polars = df_polars.drop(colunas_para_dropar)"
   ]
  },
  {
   "cell_type": "code",
   "execution_count": 8,
   "metadata": {},
   "outputs": [],
   "source": [
    "df_polars = df_polars.drop_nulls()"
   ]
  },
  {
   "cell_type": "code",
   "execution_count": 9,
   "metadata": {},
   "outputs": [],
   "source": [
    "X = df_polars.drop('label')\n",
    "y = df_polars['label']       "
   ]
  },
  {
   "cell_type": "code",
   "execution_count": 10,
   "metadata": {},
   "outputs": [],
   "source": [
    "#X = X.to_numpy()\n",
    "#X[:, 0] = np.array([ip_to_int(ip) for ip in X[:, 0]])"
   ]
  },
  {
   "cell_type": "code",
   "execution_count": 11,
   "metadata": {},
   "outputs": [],
   "source": [
    "scaler = MinMaxScaler()\n",
    "X = scaler.fit_transform(X)"
   ]
  },
  {
   "cell_type": "markdown",
   "metadata": {},
   "source": [
    "# Treinamento"
   ]
  },
  {
   "cell_type": "code",
   "execution_count": 12,
   "metadata": {},
   "outputs": [],
   "source": [
    "results = []"
   ]
  },
  {
   "cell_type": "code",
   "execution_count": 13,
   "metadata": {},
   "outputs": [],
   "source": [
    "def startTrain(X, y, hidden_layer_sizes, activation, alpha, max_iter):\n",
    "    kfold = KFold(n_splits=5, shuffle=True)\n",
    "    results_fold = []\n",
    "    \n",
    "    for train_idx, test_idx in kfold.split(X):\n",
    "        X_train, X_test = X[train_idx], X[test_idx]\n",
    "        y_train, y_test = y[train_idx], y[test_idx]\n",
    "\n",
    "        scaler = MinMaxScaler()\n",
    "        X_train_scaled = scaler.fit_transform(X_train)\n",
    "        X_test_scaled = scaler.transform(X_test)\n",
    "        \n",
    "        #rus = RandomUnderSampler()\n",
    "        #X_train_resampled, y_train_resampled = rus.fit_resample(X_train_scaled, y_train)\n",
    "        \n",
    "        mlp = MLPClassifier(hidden_layer_sizes=hidden_layer_sizes, activation=activation, solver='adam', alpha=alpha, max_iter=max_iter)\n",
    "    \n",
    "        start_training = time.time()\n",
    "        mlp.fit(X_train_scaled, y_train)\n",
    "        end_training = time.time()\n",
    "\n",
    "        y_pred = mlp.predict(X_test_scaled)\n",
    "        training_duration = end_training - start_training\n",
    "        evaluation_duration = time.time() - end_training\n",
    "\n",
    "        confusion = confusion_matrix(y_test, y_pred)\n",
    "        tn, fp, fn, tp = confusion.ravel()\n",
    "        accuracy = accuracy_score(y_test, y_pred)\n",
    "        precision = precision_score(y_test, y_pred)\n",
    "        recall = recall_score(y_test, y_pred)\n",
    "        specificity = tn / (tn + fp)\n",
    "        f1 = f1_score(y_test, y_pred)\n",
    "        balanced_accuracy = balanced_accuracy_score(y_test, y_pred)\n",
    "        false_alarm_rate = fp / (fp + tn) if (fp + tn) > 0 else 0\n",
    "        \n",
    "\n",
    "        avaliacao = [accuracy, balanced_accuracy, precision, recall, specificity, f1, false_alarm_rate, tn, fp, fn, tp, training_duration, evaluation_duration]\n",
    "        #print(avaliacao)\n",
    "        results_fold.append(avaliacao)\n",
    "\n",
    "    results_fold_array = np.array(results_fold, dtype=np.float32)\n",
    "    mean_results = np.mean(results_fold_array, axis=0)\n",
    "    results.append([\"MLP\"] + mean_results.tolist())"
   ]
  },
  {
   "cell_type": "code",
   "execution_count": 14,
   "metadata": {},
   "outputs": [],
   "source": [
    "#Melhores Hiperparâmetros encontrados: {'hidden_layer_sizes': (128, 64, 32), 'activation': 'relu', 'alpha': 0.0001, 'max_iter': 300}"
   ]
  },
  {
   "cell_type": "code",
   "execution_count": 15,
   "metadata": {},
   "outputs": [
    {
     "name": "stdout",
     "output_type": "stream",
     "text": [
      "1\n",
      "2\n",
      "3\n",
      "4\n",
      "5\n",
      "6\n",
      "7\n",
      "8\n",
      "9\n",
      "10\n"
     ]
    }
   ],
   "source": [
    "for i in range(1,11):\n",
    "    startTrain(X=X, y=y, hidden_layer_sizes=(128,64,32), activation='relu', alpha=0.0001, max_iter=300)\n",
    "    print(i)"
   ]
  },
  {
   "cell_type": "code",
   "execution_count": 16,
   "metadata": {},
   "outputs": [
    {
     "name": "stderr",
     "output_type": "stream",
     "text": [
      "c:\\Users\\rafae\\anaconda3\\envs\\tcc_2025_py39\\lib\\functools.py:888: DataOrientationWarning: Row orientation inferred during DataFrame construction. Explicitly specify the orientation by passing `orient=\"row\"` to silence this warning.\n",
      "  return dispatch(args[0].__class__)(*args, **kw)\n"
     ]
    },
    {
     "data": {
      "text/html": [
       "<div><style>\n",
       ".dataframe > thead > tr,\n",
       ".dataframe > tbody > tr {\n",
       "  text-align: right;\n",
       "  white-space: pre-wrap;\n",
       "}\n",
       "</style>\n",
       "<small>shape: (10, 14)</small><table border=\"1\" class=\"dataframe\"><thead><tr><th>Algorithm</th><th>Accuracy</th><th>Balanced Accuracy</th><th>Precision</th><th>Recall</th><th>Specificity</th><th>F1-score</th><th>False Alarm Rate</th><th>tn</th><th>fp</th><th>fn</th><th>tp</th><th>training_duration</th><th>evaluation_duration</th></tr><tr><td>str</td><td>f64</td><td>f64</td><td>f64</td><td>f64</td><td>f64</td><td>f64</td><td>f64</td><td>f64</td><td>f64</td><td>f64</td><td>f64</td><td>f64</td><td>f64</td></tr></thead><tbody><tr><td>&quot;MLP&quot;</td><td>0.99216</td><td>0.994435</td><td>0.999574</td><td>0.991086</td><td>0.997785</td><td>0.995312</td><td>0.002215</td><td>17763.800781</td><td>39.400002</td><td>831.200012</td><td>92412.203125</td><td>138.915176</td><td>0.287304</td></tr><tr><td>&quot;MLP&quot;</td><td>0.99207</td><td>0.993993</td><td>0.999388</td><td>0.991163</td><td>0.996823</td><td>0.995258</td><td>0.003177</td><td>17746.599609</td><td>56.599998</td><td>824.0</td><td>92419.398438</td><td>93.999474</td><td>0.294739</td></tr><tr><td>&quot;MLP&quot;</td><td>0.992092</td><td>0.994214</td><td>0.999487</td><td>0.99109</td><td>0.997339</td><td>0.995271</td><td>0.002661</td><td>17755.800781</td><td>47.400002</td><td>830.799988</td><td>92412.601562</td><td>112.110008</td><td>0.302916</td></tr><tr><td>&quot;MLP&quot;</td><td>0.992081</td><td>0.99438</td><td>0.99957</td><td>0.990996</td><td>0.997765</td><td>0.995264</td><td>0.002235</td><td>17763.400391</td><td>39.799999</td><td>839.599976</td><td>92403.796875</td><td>123.359055</td><td>0.295878</td></tr><tr><td>&quot;MLP&quot;</td><td>0.992072</td><td>0.994192</td><td>0.999483</td><td>0.99107</td><td>0.997313</td><td>0.995259</td><td>0.002686</td><td>17755.400391</td><td>47.799999</td><td>832.599976</td><td>92410.796875</td><td>126.502357</td><td>0.289908</td></tr><tr><td>&quot;MLP&quot;</td><td>0.992122</td><td>0.994259</td><td>0.9995</td><td>0.991114</td><td>0.997405</td><td>0.995289</td><td>0.002595</td><td>17757.0</td><td>46.200001</td><td>828.599976</td><td>92414.796875</td><td>108.114037</td><td>0.209203</td></tr><tr><td>&quot;MLP&quot;</td><td>0.99211</td><td>0.994202</td><td>0.999477</td><td>0.991122</td><td>0.997282</td><td>0.995282</td><td>0.002718</td><td>17754.800781</td><td>48.400002</td><td>827.799988</td><td>92415.601562</td><td>84.11763</td><td>0.161317</td></tr><tr><td>&quot;MLP&quot;</td><td>0.992072</td><td>0.99418</td><td>0.999477</td><td>0.991077</td><td>0.997282</td><td>0.995259</td><td>0.002718</td><td>17754.800781</td><td>48.400002</td><td>832.0</td><td>92411.398438</td><td>65.27034</td><td>0.162234</td></tr><tr><td>&quot;MLP&quot;</td><td>0.992088</td><td>0.994185</td><td>0.999474</td><td>0.991098</td><td>0.997272</td><td>0.995269</td><td>0.002728</td><td>17754.599609</td><td>48.599998</td><td>830.0</td><td>92413.398438</td><td>68.261528</td><td>0.144467</td></tr><tr><td>&quot;MLP&quot;</td><td>0.992086</td><td>0.994095</td><td>0.999431</td><td>0.99114</td><td>0.99705</td><td>0.995268</td><td>0.00295</td><td>17750.599609</td><td>52.599998</td><td>826.200012</td><td>92417.203125</td><td>76.341675</td><td>0.13663</td></tr></tbody></table></div>"
      ],
      "text/plain": [
       "shape: (10, 14)\n",
       "┌───────────┬──────────┬───────────┬───────────┬───┬───────────┬───────────┬───────────┬───────────┐\n",
       "│ Algorithm ┆ Accuracy ┆ Balanced  ┆ Precision ┆ … ┆ fn        ┆ tp        ┆ training_ ┆ evaluatio │\n",
       "│ ---       ┆ ---      ┆ Accuracy  ┆ ---       ┆   ┆ ---       ┆ ---       ┆ duration  ┆ n_duratio │\n",
       "│ str       ┆ f64      ┆ ---       ┆ f64       ┆   ┆ f64       ┆ f64       ┆ ---       ┆ n         │\n",
       "│           ┆          ┆ f64       ┆           ┆   ┆           ┆           ┆ f64       ┆ ---       │\n",
       "│           ┆          ┆           ┆           ┆   ┆           ┆           ┆           ┆ f64       │\n",
       "╞═══════════╪══════════╪═══════════╪═══════════╪═══╪═══════════╪═══════════╪═══════════╪═══════════╡\n",
       "│ MLP       ┆ 0.99216  ┆ 0.994435  ┆ 0.999574  ┆ … ┆ 831.20001 ┆ 92412.203 ┆ 138.91517 ┆ 0.287304  │\n",
       "│           ┆          ┆           ┆           ┆   ┆ 2         ┆ 125       ┆ 6         ┆           │\n",
       "│ MLP       ┆ 0.99207  ┆ 0.993993  ┆ 0.999388  ┆ … ┆ 824.0     ┆ 92419.398 ┆ 93.999474 ┆ 0.294739  │\n",
       "│           ┆          ┆           ┆           ┆   ┆           ┆ 438       ┆           ┆           │\n",
       "│ MLP       ┆ 0.992092 ┆ 0.994214  ┆ 0.999487  ┆ … ┆ 830.79998 ┆ 92412.601 ┆ 112.11000 ┆ 0.302916  │\n",
       "│           ┆          ┆           ┆           ┆   ┆ 8         ┆ 562       ┆ 8         ┆           │\n",
       "│ MLP       ┆ 0.992081 ┆ 0.99438   ┆ 0.99957   ┆ … ┆ 839.59997 ┆ 92403.796 ┆ 123.35905 ┆ 0.295878  │\n",
       "│           ┆          ┆           ┆           ┆   ┆ 6         ┆ 875       ┆ 5         ┆           │\n",
       "│ MLP       ┆ 0.992072 ┆ 0.994192  ┆ 0.999483  ┆ … ┆ 832.59997 ┆ 92410.796 ┆ 126.50235 ┆ 0.289908  │\n",
       "│           ┆          ┆           ┆           ┆   ┆ 6         ┆ 875       ┆ 7         ┆           │\n",
       "│ MLP       ┆ 0.992122 ┆ 0.994259  ┆ 0.9995    ┆ … ┆ 828.59997 ┆ 92414.796 ┆ 108.11403 ┆ 0.209203  │\n",
       "│           ┆          ┆           ┆           ┆   ┆ 6         ┆ 875       ┆ 7         ┆           │\n",
       "│ MLP       ┆ 0.99211  ┆ 0.994202  ┆ 0.999477  ┆ … ┆ 827.79998 ┆ 92415.601 ┆ 84.11763  ┆ 0.161317  │\n",
       "│           ┆          ┆           ┆           ┆   ┆ 8         ┆ 562       ┆           ┆           │\n",
       "│ MLP       ┆ 0.992072 ┆ 0.99418   ┆ 0.999477  ┆ … ┆ 832.0     ┆ 92411.398 ┆ 65.27034  ┆ 0.162234  │\n",
       "│           ┆          ┆           ┆           ┆   ┆           ┆ 438       ┆           ┆           │\n",
       "│ MLP       ┆ 0.992088 ┆ 0.994185  ┆ 0.999474  ┆ … ┆ 830.0     ┆ 92413.398 ┆ 68.261528 ┆ 0.144467  │\n",
       "│           ┆          ┆           ┆           ┆   ┆           ┆ 438       ┆           ┆           │\n",
       "│ MLP       ┆ 0.992086 ┆ 0.994095  ┆ 0.999431  ┆ … ┆ 826.20001 ┆ 92417.203 ┆ 76.341675 ┆ 0.13663   │\n",
       "│           ┆          ┆           ┆           ┆   ┆ 2         ┆ 125       ┆           ┆           │\n",
       "└───────────┴──────────┴───────────┴───────────┴───┴───────────┴───────────┴───────────┴───────────┘"
      ]
     },
     "execution_count": 16,
     "metadata": {},
     "output_type": "execute_result"
    }
   ],
   "source": [
    "metrics_df = pl.DataFrame(\n",
    "    results,\n",
    "    schema=['Algorithm', 'Accuracy', 'Balanced Accuracy', 'Precision', 'Recall', 'Specificity', 'F1-score', 'False Alarm Rate', 'tn', 'fp', 'fn', 'tp', 'training_duration', 'evaluation_duration']\n",
    ")\n",
    "metrics_df"
   ]
  },
  {
   "cell_type": "code",
   "execution_count": 17,
   "metadata": {},
   "outputs": [],
   "source": [
    "metrics_df.write_csv(\"metrics_results/unbalanced_mlp_metrics_output.csv\", separator=';')"
   ]
  }
 ],
 "metadata": {
  "kernelspec": {
   "display_name": "tcc_2025_py39",
   "language": "python",
   "name": "python3"
  },
  "language_info": {
   "codemirror_mode": {
    "name": "ipython",
    "version": 3
   },
   "file_extension": ".py",
   "mimetype": "text/x-python",
   "name": "python",
   "nbconvert_exporter": "python",
   "pygments_lexer": "ipython3",
   "version": "3.9.21"
  }
 },
 "nbformat": 4,
 "nbformat_minor": 2
}
