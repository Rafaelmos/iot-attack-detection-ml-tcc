{
 "cells": [
  {
   "cell_type": "code",
   "execution_count": 1,
   "metadata": {},
   "outputs": [],
   "source": [
    "import polars as pl\n",
    "import numpy as np\n",
    "import time\n",
    "from sklearn.naive_bayes import GaussianNB, MultinomialNB, BernoulliNB\n",
    "from sklearn.preprocessing import MinMaxScaler\n",
    "from sklearn.model_selection import train_test_split\n",
    "from sklearn.metrics import accuracy_score, precision_score, recall_score, f1_score, confusion_matrix, balanced_accuracy_score\n",
    "from sklearn.model_selection import KFold\n",
    "from imblearn.under_sampling import RandomUnderSampler"
   ]
  },
  {
   "cell_type": "code",
   "execution_count": 2,
   "metadata": {},
   "outputs": [],
   "source": [
    "df_polars_raiz = pl.read_parquet('../dataset.parquet')"
   ]
  },
  {
   "cell_type": "code",
   "execution_count": 3,
   "metadata": {},
   "outputs": [],
   "source": [
    "df_polars = df_polars_raiz.sample(fraction=0.01, seed=42)"
   ]
  },
  {
   "cell_type": "code",
   "execution_count": 4,
   "metadata": {},
   "outputs": [],
   "source": [
    "import ipaddress\n",
    "\n",
    "def ip_to_int(ip: str) -> int:\n",
    "    try:\n",
    "        return int(ipaddress.ip_address(ip))  # Funciona tanto para IPv4 quanto IPv6\n",
    "    except ValueError:\n",
    "        return None"
   ]
  },
  {
   "cell_type": "code",
   "execution_count": 5,
   "metadata": {},
   "outputs": [],
   "source": [
    "#df_polars = df_polars.with_columns([\n",
    "#    pl.col('id.resp_h').map_elements(ip_to_int).alias('id.resp_h'),\n",
    "#    pl.col('id.orig_h').map_elements(ip_to_int).alias('id.orig_h')\n",
    "#])"
   ]
  },
  {
   "cell_type": "code",
   "execution_count": 6,
   "metadata": {},
   "outputs": [],
   "source": [
    "df_polars = df_polars.with_columns([\n",
    "    pl.col('duration').fill_null(0),\n",
    "    pl.col('orig_bytes').fill_null(0),\n",
    "    pl.col('resp_bytes').fill_null(0),\n",
    "])"
   ]
  },
  {
   "cell_type": "code",
   "execution_count": 7,
   "metadata": {},
   "outputs": [],
   "source": [
    "lista_colunas = df_polars.columns\n",
    "colunas_para_spearman = ['id.resp_p', 'history', 'conn_state', 'id.orig_p', 'orig_ip_bytes', 'label']             \n",
    "#['detailed-label', 'id.resp_p', 'history', 'id.orig_h', 'conn_state', 'id.orig_p', 'orig_ip_bytes']\n",
    "colunas_para_dropar = [col for col in lista_colunas if col not in colunas_para_spearman]\n",
    "df_polars = df_polars.drop(colunas_para_dropar)"
   ]
  },
  {
   "cell_type": "code",
   "execution_count": 8,
   "metadata": {},
   "outputs": [
    {
     "data": {
      "text/html": [
       "<div><style>\n",
       ".dataframe > thead > tr,\n",
       ".dataframe > tbody > tr {\n",
       "  text-align: right;\n",
       "  white-space: pre-wrap;\n",
       "}\n",
       "</style>\n",
       "<small>shape: (555_233, 6)</small><table border=\"1\" class=\"dataframe\"><thead><tr><th>id.orig_p</th><th>id.resp_p</th><th>conn_state</th><th>history</th><th>orig_ip_bytes</th><th>label</th></tr><tr><td>i32</td><td>i32</td><td>i64</td><td>i64</td><td>i64</td><td>i32</td></tr></thead><tbody><tr><td>5526</td><td>37215</td><td>0</td><td>0</td><td>40</td><td>1</td></tr><tr><td>60403</td><td>23</td><td>2</td><td>7</td><td>40</td><td>1</td></tr><tr><td>13386</td><td>81</td><td>2</td><td>7</td><td>40</td><td>1</td></tr><tr><td>36097</td><td>37215</td><td>0</td><td>0</td><td>40</td><td>1</td></tr><tr><td>36097</td><td>37215</td><td>0</td><td>0</td><td>40</td><td>1</td></tr><tr><td>&hellip;</td><td>&hellip;</td><td>&hellip;</td><td>&hellip;</td><td>&hellip;</td><td>&hellip;</td></tr><tr><td>30535</td><td>8081</td><td>1</td><td>1</td><td>80</td><td>1</td></tr><tr><td>36097</td><td>37215</td><td>0</td><td>0</td><td>40</td><td>1</td></tr><tr><td>41258</td><td>23</td><td>1</td><td>1</td><td>120</td><td>1</td></tr><tr><td>36658</td><td>23</td><td>1</td><td>1</td><td>120</td><td>1</td></tr><tr><td>36097</td><td>37215</td><td>0</td><td>0</td><td>40</td><td>1</td></tr></tbody></table></div>"
      ],
      "text/plain": [
       "shape: (555_233, 6)\n",
       "┌───────────┬───────────┬────────────┬─────────┬───────────────┬───────┐\n",
       "│ id.orig_p ┆ id.resp_p ┆ conn_state ┆ history ┆ orig_ip_bytes ┆ label │\n",
       "│ ---       ┆ ---       ┆ ---        ┆ ---     ┆ ---           ┆ ---   │\n",
       "│ i32       ┆ i32       ┆ i64        ┆ i64     ┆ i64           ┆ i32   │\n",
       "╞═══════════╪═══════════╪════════════╪═════════╪═══════════════╪═══════╡\n",
       "│ 5526      ┆ 37215     ┆ 0          ┆ 0       ┆ 40            ┆ 1     │\n",
       "│ 60403     ┆ 23        ┆ 2          ┆ 7       ┆ 40            ┆ 1     │\n",
       "│ 13386     ┆ 81        ┆ 2          ┆ 7       ┆ 40            ┆ 1     │\n",
       "│ 36097     ┆ 37215     ┆ 0          ┆ 0       ┆ 40            ┆ 1     │\n",
       "│ 36097     ┆ 37215     ┆ 0          ┆ 0       ┆ 40            ┆ 1     │\n",
       "│ …         ┆ …         ┆ …          ┆ …       ┆ …             ┆ …     │\n",
       "│ 30535     ┆ 8081      ┆ 1          ┆ 1       ┆ 80            ┆ 1     │\n",
       "│ 36097     ┆ 37215     ┆ 0          ┆ 0       ┆ 40            ┆ 1     │\n",
       "│ 41258     ┆ 23        ┆ 1          ┆ 1       ┆ 120           ┆ 1     │\n",
       "│ 36658     ┆ 23        ┆ 1          ┆ 1       ┆ 120           ┆ 1     │\n",
       "│ 36097     ┆ 37215     ┆ 0          ┆ 0       ┆ 40            ┆ 1     │\n",
       "└───────────┴───────────┴────────────┴─────────┴───────────────┴───────┘"
      ]
     },
     "execution_count": 8,
     "metadata": {},
     "output_type": "execute_result"
    }
   ],
   "source": [
    "df_polars"
   ]
  },
  {
   "cell_type": "code",
   "execution_count": 9,
   "metadata": {},
   "outputs": [],
   "source": [
    "df_polars = df_polars.drop_nulls()"
   ]
  },
  {
   "cell_type": "code",
   "execution_count": 10,
   "metadata": {},
   "outputs": [],
   "source": [
    "X = df_polars.drop('label')\n",
    "y = df_polars['label']       "
   ]
  },
  {
   "cell_type": "code",
   "execution_count": 11,
   "metadata": {},
   "outputs": [],
   "source": [
    "#X = X.to_numpy()\n",
    "#X[:, 0] = np.array([ip_to_int(ip) for ip in X[:, 0]])"
   ]
  },
  {
   "cell_type": "markdown",
   "metadata": {},
   "source": [
    "# Treinamento"
   ]
  },
  {
   "cell_type": "code",
   "execution_count": 12,
   "metadata": {},
   "outputs": [],
   "source": [
    "results = []"
   ]
  },
  {
   "cell_type": "code",
   "execution_count": 13,
   "metadata": {},
   "outputs": [],
   "source": [
    "def startTrain(X, y, bayes):\n",
    "    kfold = KFold(n_splits=5, shuffle=True)\n",
    "    results_fold = []\n",
    "\n",
    "    for train_idx, test_idx in kfold.split(X):\n",
    "        X_train, X_test = X[train_idx], X[test_idx]\n",
    "        y_train, y_test = y[train_idx], y[test_idx]\n",
    "\n",
    "        # Aplicando a normalização APENAS nos dados de treino\n",
    "        scaler = MinMaxScaler()\n",
    "        X_train_scaled = scaler.fit_transform(X_train)\n",
    "        X_test_scaled = scaler.transform(X_test)\n",
    "\n",
    "        # Aplicando o undersampling no conjunto de treino\n",
    "        #rus = RandomUnderSampler()\n",
    "        #X_train_resampled, y_train_resampled = rus.fit_resample(X_train_scaled, y_train)\n",
    "        \n",
    "        start_training = time.time()\n",
    "        # Definir o modelo com os parâmetros fornecidos\n",
    "        bayes.fit(X_train_scaled, y_train)\n",
    "        end_training = time.time()\n",
    "\n",
    "        # Fazer previsões\n",
    "        y_pred = bayes.predict(X_test_scaled)\n",
    "        evaluation_time = time.time()\n",
    "        #print(\"Predição Concluída - \", evaluation_time)        \n",
    "        training_duration = end_training - start_training\n",
    "        evaluation_duration = evaluation_time - end_training\n",
    "        \n",
    "        confusion = confusion_matrix(y_test, y_pred)\n",
    "        tn, fp, fn, tp = confusion.ravel()\n",
    "        accuracy = accuracy_score(y_test, y_pred)\n",
    "        precision = precision_score(y_test, y_pred)\n",
    "        recall = recall_score(y_test, y_pred)\n",
    "        specificity = tn / (tn + fp)\n",
    "        f1 = f1_score(y_test, y_pred)\n",
    "        balanced_accuracy = balanced_accuracy_score(y_test, y_pred)\n",
    "        false_alarm_rate = fp / (fp + tn) if (fp + tn) > 0 else 0\n",
    "        \n",
    "        avaliacao = [accuracy, balanced_accuracy, precision, recall, specificity, f1, false_alarm_rate, tn, fp, fn, tp, training_duration, evaluation_duration]\n",
    "        #print(avaliacao)\n",
    "        results_fold.append(avaliacao)\n",
    "\n",
    "    results_fold_array = np.array(results_fold, dtype=np.float32)\n",
    "    mean_results = np.mean(results_fold_array, axis=0)\n",
    "    results.append([\"Bayes\"] + mean_results.tolist())"
   ]
  },
  {
   "cell_type": "code",
   "execution_count": 14,
   "metadata": {},
   "outputs": [],
   "source": [
    "#Modelo: BernoulliNB - Parâmetros: {'alpha': 0.1, 'binarize': 0.1}  "
   ]
  },
  {
   "cell_type": "code",
   "execution_count": 15,
   "metadata": {},
   "outputs": [
    {
     "name": "stdout",
     "output_type": "stream",
     "text": [
      "1\n",
      "2\n",
      "3\n",
      "4\n",
      "5\n",
      "6\n",
      "7\n",
      "8\n",
      "9\n",
      "10\n"
     ]
    }
   ],
   "source": [
    "for i in range(1,11):\n",
    "    model = BernoulliNB(alpha=0.1, binarize=0.1)\n",
    "    startTrain(X,y, bayes=model)\n",
    "    print(i)"
   ]
  },
  {
   "cell_type": "code",
   "execution_count": 16,
   "metadata": {},
   "outputs": [
    {
     "name": "stderr",
     "output_type": "stream",
     "text": [
      "c:\\Users\\rafae\\anaconda3\\envs\\tcc_2025_py39\\lib\\functools.py:888: DataOrientationWarning: Row orientation inferred during DataFrame construction. Explicitly specify the orientation by passing `orient=\"row\"` to silence this warning.\n",
      "  return dispatch(args[0].__class__)(*args, **kw)\n"
     ]
    },
    {
     "data": {
      "text/html": [
       "<div><style>\n",
       ".dataframe > thead > tr,\n",
       ".dataframe > tbody > tr {\n",
       "  text-align: right;\n",
       "  white-space: pre-wrap;\n",
       "}\n",
       "</style>\n",
       "<small>shape: (10, 14)</small><table border=\"1\" class=\"dataframe\"><thead><tr><th>Algorithm</th><th>Accuracy</th><th>Balanced Accuracy</th><th>Precision</th><th>Recall</th><th>Specificity</th><th>F1-score</th><th>False Alarm Rate</th><th>tn</th><th>fp</th><th>fn</th><th>tp</th><th>training_duration</th><th>evaluation_duration</th></tr><tr><td>str</td><td>f64</td><td>f64</td><td>f64</td><td>f64</td><td>f64</td><td>f64</td><td>f64</td><td>f64</td><td>f64</td><td>f64</td><td>f64</td><td>f64</td><td>f64</td></tr></thead><tbody><tr><td>&quot;Bayes&quot;</td><td>0.981808</td><td>0.966419</td><td>0.989263</td><td>0.989069</td><td>0.943768</td><td>0.989166</td><td>0.056232</td><td>16802.199219</td><td>1001.0</td><td>1019.200012</td><td>92224.203125</td><td>0.091163</td><td>0.011822</td></tr><tr><td>&quot;Bayes&quot;</td><td>0.981808</td><td>0.96642</td><td>0.989263</td><td>0.98907</td><td>0.943771</td><td>0.989166</td><td>0.056229</td><td>16802.199219</td><td>1001.0</td><td>1019.200012</td><td>92224.203125</td><td>0.076709</td><td>0.010704</td></tr><tr><td>&quot;Bayes&quot;</td><td>0.981806</td><td>0.966425</td><td>0.989262</td><td>0.989067</td><td>0.943783</td><td>0.989165</td><td>0.056217</td><td>16802.199219</td><td>1001.0</td><td>1019.400024</td><td>92224.0</td><td>0.070224</td><td>0.009977</td></tr><tr><td>&quot;Bayes&quot;</td><td>0.981806</td><td>0.966422</td><td>0.989263</td><td>0.989067</td><td>0.943777</td><td>0.989165</td><td>0.056223</td><td>16802.199219</td><td>1001.0</td><td>1019.400024</td><td>92224.0</td><td>0.067766</td><td>0.00959</td></tr><tr><td>&quot;Bayes&quot;</td><td>0.981813</td><td>0.966427</td><td>0.989263</td><td>0.989076</td><td>0.943778</td><td>0.989169</td><td>0.056222</td><td>16802.199219</td><td>1001.0</td><td>1018.599976</td><td>92224.796875</td><td>0.065616</td><td>0.009206</td></tr><tr><td>&quot;Bayes&quot;</td><td>0.981806</td><td>0.96642</td><td>0.989262</td><td>0.989067</td><td>0.943773</td><td>0.989165</td><td>0.056227</td><td>16802.199219</td><td>1001.0</td><td>1019.400024</td><td>92224.0</td><td>0.067663</td><td>0.00907</td></tr><tr><td>&quot;Bayes&quot;</td><td>0.981808</td><td>0.966421</td><td>0.989262</td><td>0.989069</td><td>0.943773</td><td>0.989166</td><td>0.056227</td><td>16802.199219</td><td>1001.0</td><td>1019.200012</td><td>92224.203125</td><td>0.070088</td><td>0.010798</td></tr><tr><td>&quot;Bayes&quot;</td><td>0.981811</td><td>0.966421</td><td>0.989263</td><td>0.989074</td><td>0.943768</td><td>0.989168</td><td>0.056232</td><td>16802.199219</td><td>1001.0</td><td>1018.799988</td><td>92224.601562</td><td>0.070763</td><td>0.009933</td></tr><tr><td>&quot;Bayes&quot;</td><td>0.981806</td><td>0.966416</td><td>0.989263</td><td>0.989067</td><td>0.943766</td><td>0.989165</td><td>0.056234</td><td>16802.199219</td><td>1001.0</td><td>1019.400024</td><td>92224.0</td><td>0.070678</td><td>0.010225</td></tr><tr><td>&quot;Bayes&quot;</td><td>0.981808</td><td>0.966418</td><td>0.989263</td><td>0.98907</td><td>0.943767</td><td>0.989166</td><td>0.056233</td><td>16802.199219</td><td>1001.0</td><td>1019.200012</td><td>92224.203125</td><td>0.068264</td><td>0.009742</td></tr></tbody></table></div>"
      ],
      "text/plain": [
       "shape: (10, 14)\n",
       "┌───────────┬──────────┬───────────┬───────────┬───┬───────────┬───────────┬───────────┬───────────┐\n",
       "│ Algorithm ┆ Accuracy ┆ Balanced  ┆ Precision ┆ … ┆ fn        ┆ tp        ┆ training_ ┆ evaluatio │\n",
       "│ ---       ┆ ---      ┆ Accuracy  ┆ ---       ┆   ┆ ---       ┆ ---       ┆ duration  ┆ n_duratio │\n",
       "│ str       ┆ f64      ┆ ---       ┆ f64       ┆   ┆ f64       ┆ f64       ┆ ---       ┆ n         │\n",
       "│           ┆          ┆ f64       ┆           ┆   ┆           ┆           ┆ f64       ┆ ---       │\n",
       "│           ┆          ┆           ┆           ┆   ┆           ┆           ┆           ┆ f64       │\n",
       "╞═══════════╪══════════╪═══════════╪═══════════╪═══╪═══════════╪═══════════╪═══════════╪═══════════╡\n",
       "│ Bayes     ┆ 0.981808 ┆ 0.966419  ┆ 0.989263  ┆ … ┆ 1019.2000 ┆ 92224.203 ┆ 0.091163  ┆ 0.011822  │\n",
       "│           ┆          ┆           ┆           ┆   ┆ 12        ┆ 125       ┆           ┆           │\n",
       "│ Bayes     ┆ 0.981808 ┆ 0.96642   ┆ 0.989263  ┆ … ┆ 1019.2000 ┆ 92224.203 ┆ 0.076709  ┆ 0.010704  │\n",
       "│           ┆          ┆           ┆           ┆   ┆ 12        ┆ 125       ┆           ┆           │\n",
       "│ Bayes     ┆ 0.981806 ┆ 0.966425  ┆ 0.989262  ┆ … ┆ 1019.4000 ┆ 92224.0   ┆ 0.070224  ┆ 0.009977  │\n",
       "│           ┆          ┆           ┆           ┆   ┆ 24        ┆           ┆           ┆           │\n",
       "│ Bayes     ┆ 0.981806 ┆ 0.966422  ┆ 0.989263  ┆ … ┆ 1019.4000 ┆ 92224.0   ┆ 0.067766  ┆ 0.00959   │\n",
       "│           ┆          ┆           ┆           ┆   ┆ 24        ┆           ┆           ┆           │\n",
       "│ Bayes     ┆ 0.981813 ┆ 0.966427  ┆ 0.989263  ┆ … ┆ 1018.5999 ┆ 92224.796 ┆ 0.065616  ┆ 0.009206  │\n",
       "│           ┆          ┆           ┆           ┆   ┆ 76        ┆ 875       ┆           ┆           │\n",
       "│ Bayes     ┆ 0.981806 ┆ 0.96642   ┆ 0.989262  ┆ … ┆ 1019.4000 ┆ 92224.0   ┆ 0.067663  ┆ 0.00907   │\n",
       "│           ┆          ┆           ┆           ┆   ┆ 24        ┆           ┆           ┆           │\n",
       "│ Bayes     ┆ 0.981808 ┆ 0.966421  ┆ 0.989262  ┆ … ┆ 1019.2000 ┆ 92224.203 ┆ 0.070088  ┆ 0.010798  │\n",
       "│           ┆          ┆           ┆           ┆   ┆ 12        ┆ 125       ┆           ┆           │\n",
       "│ Bayes     ┆ 0.981811 ┆ 0.966421  ┆ 0.989263  ┆ … ┆ 1018.7999 ┆ 92224.601 ┆ 0.070763  ┆ 0.009933  │\n",
       "│           ┆          ┆           ┆           ┆   ┆ 88        ┆ 562       ┆           ┆           │\n",
       "│ Bayes     ┆ 0.981806 ┆ 0.966416  ┆ 0.989263  ┆ … ┆ 1019.4000 ┆ 92224.0   ┆ 0.070678  ┆ 0.010225  │\n",
       "│           ┆          ┆           ┆           ┆   ┆ 24        ┆           ┆           ┆           │\n",
       "│ Bayes     ┆ 0.981808 ┆ 0.966418  ┆ 0.989263  ┆ … ┆ 1019.2000 ┆ 92224.203 ┆ 0.068264  ┆ 0.009742  │\n",
       "│           ┆          ┆           ┆           ┆   ┆ 12        ┆ 125       ┆           ┆           │\n",
       "└───────────┴──────────┴───────────┴───────────┴───┴───────────┴───────────┴───────────┴───────────┘"
      ]
     },
     "execution_count": 16,
     "metadata": {},
     "output_type": "execute_result"
    }
   ],
   "source": [
    "metrics_df = pl.DataFrame(\n",
    "    results,\n",
    "    schema=['Algorithm', 'Accuracy', 'Balanced Accuracy', 'Precision', 'Recall', 'Specificity', 'F1-score', 'False Alarm Rate', 'tn', 'fp', 'fn', 'tp', 'training_duration', 'evaluation_duration']\n",
    ")\n",
    "metrics_df"
   ]
  },
  {
   "cell_type": "code",
   "execution_count": 17,
   "metadata": {},
   "outputs": [],
   "source": [
    "metrics_df.write_csv(\"metrics_results/unbalanced_bayes_metrics_output.csv\", separator=';')"
   ]
  }
 ],
 "metadata": {
  "kernelspec": {
   "display_name": "tcc_2025_py39",
   "language": "python",
   "name": "python3"
  },
  "language_info": {
   "codemirror_mode": {
    "name": "ipython",
    "version": 3
   },
   "file_extension": ".py",
   "mimetype": "text/x-python",
   "name": "python",
   "nbconvert_exporter": "python",
   "pygments_lexer": "ipython3",
   "version": "3.9.21"
  }
 },
 "nbformat": 4,
 "nbformat_minor": 2
}
