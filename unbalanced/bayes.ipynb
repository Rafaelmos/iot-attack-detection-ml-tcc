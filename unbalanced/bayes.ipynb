{
 "cells": [
  {
   "cell_type": "code",
   "execution_count": 1,
   "metadata": {},
   "outputs": [],
   "source": [
    "import polars as pl\n",
    "import numpy as np\n",
    "import time\n",
    "from sklearn.naive_bayes import GaussianNB, MultinomialNB, BernoulliNB\n",
    "from sklearn.preprocessing import MinMaxScaler\n",
    "from sklearn.model_selection import train_test_split\n",
    "from sklearn.metrics import accuracy_score, precision_score, recall_score, f1_score, confusion_matrix, balanced_accuracy_score\n",
    "from sklearn.model_selection import KFold\n"
   ]
  },
  {
   "cell_type": "code",
   "execution_count": 2,
   "metadata": {},
   "outputs": [],
   "source": [
    "df_polars_raiz = pl.read_parquet('../dataset.parquet')"
   ]
  },
  {
   "cell_type": "code",
   "execution_count": 3,
   "metadata": {},
   "outputs": [],
   "source": [
    "df_polars = df_polars_raiz.sample(fraction=0.01, seed=42)"
   ]
  },
  {
   "cell_type": "code",
   "execution_count": 4,
   "metadata": {},
   "outputs": [],
   "source": [
    "import ipaddress\n",
    "\n",
    "def ip_to_int(ip: str) -> int:\n",
    "    try:\n",
    "        return int(ipaddress.ip_address(ip))  # Funciona tanto para IPv4 quanto IPv6\n",
    "    except ValueError:\n",
    "        return None"
   ]
  },
  {
   "cell_type": "code",
   "execution_count": 5,
   "metadata": {},
   "outputs": [],
   "source": [
    "#df_polars = df_polars.with_columns([\n",
    "#    pl.col('id.resp_h').map_elements(ip_to_int).alias('id.resp_h'),\n",
    "#    pl.col('id.orig_h').map_elements(ip_to_int).alias('id.orig_h')\n",
    "#])"
   ]
  },
  {
   "cell_type": "code",
   "execution_count": 6,
   "metadata": {},
   "outputs": [],
   "source": [
    "df_polars = df_polars.with_columns([\n",
    "    pl.col('duration').fill_null(0),\n",
    "    pl.col('orig_bytes').fill_null(0),\n",
    "    pl.col('resp_bytes').fill_null(0),\n",
    "])"
   ]
  },
  {
   "cell_type": "code",
   "execution_count": 7,
   "metadata": {},
   "outputs": [],
   "source": [
    "lista_colunas = df_polars.columns\n",
    "colunas_para_spearman = ['id.resp_p', 'history', 'conn_state', 'id.orig_p', 'orig_ip_bytes', 'label']             \n",
    "#['detailed-label', 'id.resp_p', 'history', 'id.orig_h', 'conn_state', 'id.orig_p', 'orig_ip_bytes']\n",
    "colunas_para_dropar = [col for col in lista_colunas if col not in colunas_para_spearman]\n",
    "df_polars = df_polars.drop(colunas_para_dropar)"
   ]
  },
  {
   "cell_type": "code",
   "execution_count": 8,
   "metadata": {},
   "outputs": [
    {
     "data": {
      "text/html": [
       "<div><style>\n",
       ".dataframe > thead > tr,\n",
       ".dataframe > tbody > tr {\n",
       "  text-align: right;\n",
       "  white-space: pre-wrap;\n",
       "}\n",
       "</style>\n",
       "<small>shape: (555_233, 6)</small><table border=\"1\" class=\"dataframe\"><thead><tr><th>id.orig_p</th><th>id.resp_p</th><th>conn_state</th><th>history</th><th>orig_ip_bytes</th><th>label</th></tr><tr><td>i32</td><td>i32</td><td>i64</td><td>i64</td><td>i64</td><td>i32</td></tr></thead><tbody><tr><td>5526</td><td>37215</td><td>0</td><td>0</td><td>40</td><td>1</td></tr><tr><td>60403</td><td>23</td><td>2</td><td>7</td><td>40</td><td>1</td></tr><tr><td>13386</td><td>81</td><td>2</td><td>7</td><td>40</td><td>1</td></tr><tr><td>36097</td><td>37215</td><td>0</td><td>0</td><td>40</td><td>1</td></tr><tr><td>36097</td><td>37215</td><td>0</td><td>0</td><td>40</td><td>1</td></tr><tr><td>&hellip;</td><td>&hellip;</td><td>&hellip;</td><td>&hellip;</td><td>&hellip;</td><td>&hellip;</td></tr><tr><td>30535</td><td>8081</td><td>1</td><td>1</td><td>80</td><td>1</td></tr><tr><td>36097</td><td>37215</td><td>0</td><td>0</td><td>40</td><td>1</td></tr><tr><td>41258</td><td>23</td><td>1</td><td>1</td><td>120</td><td>1</td></tr><tr><td>36658</td><td>23</td><td>1</td><td>1</td><td>120</td><td>1</td></tr><tr><td>36097</td><td>37215</td><td>0</td><td>0</td><td>40</td><td>1</td></tr></tbody></table></div>"
      ],
      "text/plain": [
       "shape: (555_233, 6)\n",
       "┌───────────┬───────────┬────────────┬─────────┬───────────────┬───────┐\n",
       "│ id.orig_p ┆ id.resp_p ┆ conn_state ┆ history ┆ orig_ip_bytes ┆ label │\n",
       "│ ---       ┆ ---       ┆ ---        ┆ ---     ┆ ---           ┆ ---   │\n",
       "│ i32       ┆ i32       ┆ i64        ┆ i64     ┆ i64           ┆ i32   │\n",
       "╞═══════════╪═══════════╪════════════╪═════════╪═══════════════╪═══════╡\n",
       "│ 5526      ┆ 37215     ┆ 0          ┆ 0       ┆ 40            ┆ 1     │\n",
       "│ 60403     ┆ 23        ┆ 2          ┆ 7       ┆ 40            ┆ 1     │\n",
       "│ 13386     ┆ 81        ┆ 2          ┆ 7       ┆ 40            ┆ 1     │\n",
       "│ 36097     ┆ 37215     ┆ 0          ┆ 0       ┆ 40            ┆ 1     │\n",
       "│ 36097     ┆ 37215     ┆ 0          ┆ 0       ┆ 40            ┆ 1     │\n",
       "│ …         ┆ …         ┆ …          ┆ …       ┆ …             ┆ …     │\n",
       "│ 30535     ┆ 8081      ┆ 1          ┆ 1       ┆ 80            ┆ 1     │\n",
       "│ 36097     ┆ 37215     ┆ 0          ┆ 0       ┆ 40            ┆ 1     │\n",
       "│ 41258     ┆ 23        ┆ 1          ┆ 1       ┆ 120           ┆ 1     │\n",
       "│ 36658     ┆ 23        ┆ 1          ┆ 1       ┆ 120           ┆ 1     │\n",
       "│ 36097     ┆ 37215     ┆ 0          ┆ 0       ┆ 40            ┆ 1     │\n",
       "└───────────┴───────────┴────────────┴─────────┴───────────────┴───────┘"
      ]
     },
     "execution_count": 8,
     "metadata": {},
     "output_type": "execute_result"
    }
   ],
   "source": [
    "df_polars"
   ]
  },
  {
   "cell_type": "code",
   "execution_count": 9,
   "metadata": {},
   "outputs": [],
   "source": [
    "df_polars = df_polars.drop_nulls()"
   ]
  },
  {
   "cell_type": "code",
   "execution_count": 10,
   "metadata": {},
   "outputs": [],
   "source": [
    "X = df_polars.drop('label')\n",
    "y = df_polars['label']       "
   ]
  },
  {
   "cell_type": "code",
   "execution_count": 11,
   "metadata": {},
   "outputs": [],
   "source": [
    "#X = X.to_numpy()\n",
    "#X[:, 0] = np.array([ip_to_int(ip) for ip in X[:, 0]])"
   ]
  },
  {
   "cell_type": "markdown",
   "metadata": {},
   "source": [
    "# Treinamento"
   ]
  },
  {
   "cell_type": "code",
   "execution_count": 12,
   "metadata": {},
   "outputs": [],
   "source": [
    "results = []"
   ]
  },
  {
   "cell_type": "code",
   "execution_count": 16,
   "metadata": {},
   "outputs": [],
   "source": [
    "def startTrain(X, y, model):\n",
    " \n",
    "    kfold = KFold(n_splits=5, shuffle=True)\n",
    "    for train_idx, test_idx in kfold.split(X, y):\n",
    "        X_train, X_test = X[train_idx], X[test_idx]\n",
    "        y_train, y_test = y[train_idx], y[test_idx]\n",
    "\n",
    "        # Normalizar os dados\n",
    "        scaler = MinMaxScaler()\n",
    "        X_train = scaler.fit_transform(X_train)\n",
    "        X_test = scaler.transform(X_test)\n",
    "\n",
    "        start_training = time.time()\n",
    "        model.fit(X_train, y_train)\n",
    "        end_training = time.time()\n",
    "        \n",
    "        y_pred = model.predict(X_test)\n",
    "        evaluation_time = time.time()\n",
    "        #print(\"Predição Concluída - \", evaluation_time)        \n",
    "        training_duration = end_training - start_training\n",
    "        evaluation_duration = evaluation_time - end_training\n",
    "        \n",
    "        confusion = confusion_matrix(y_test, y_pred)\n",
    "        tn, fp, fn, tp = confusion.ravel()\n",
    "        accuracy = accuracy_score(y_test, y_pred)\n",
    "        precision = precision_score(y_test, y_pred)\n",
    "        recall = recall_score(y_test, y_pred)\n",
    "        specificity = tn / (tn + fp)\n",
    "        f1 = f1_score(y_test, y_pred)\n",
    "        balanced_accuracy = balanced_accuracy_score(y_test, y_pred)\n",
    "        false_alarm_rate = fp / (fp + tn) if (fp + tn) > 0 else 0\n",
    "        \n",
    "        results.append([\"BernoulliNB\", accuracy, balanced_accuracy, precision, recall, specificity, f1, false_alarm_rate, tn, fp, fn, tp, training_duration, evaluation_duration])"
   ]
  },
  {
   "cell_type": "code",
   "execution_count": 14,
   "metadata": {},
   "outputs": [],
   "source": [
    "#Modelo: BernoulliNB - Parâmetros: {'alpha': 0.1, 'binarize': 0.1}  "
   ]
  },
  {
   "cell_type": "code",
   "execution_count": 17,
   "metadata": {},
   "outputs": [
    {
     "name": "stdout",
     "output_type": "stream",
     "text": [
      "1\n",
      "2\n",
      "3\n",
      "4\n",
      "5\n",
      "6\n",
      "7\n",
      "8\n",
      "9\n",
      "10\n"
     ]
    }
   ],
   "source": [
    "for i in range(1,11):\n",
    "    model = BernoulliNB(alpha=0.1, binarize=0.1)\n",
    "    startTrain(X,y, model=model)\n",
    "    print(i)"
   ]
  },
  {
   "cell_type": "code",
   "execution_count": 17,
   "metadata": {},
   "outputs": [
    {
     "name": "stderr",
     "output_type": "stream",
     "text": [
      "c:\\Users\\rafae\\anaconda3\\envs\\tcc_2025_py39\\lib\\functools.py:888: DataOrientationWarning: Row orientation inferred during DataFrame construction. Explicitly specify the orientation by passing `orient=\"row\"` to silence this warning.\n",
      "  return dispatch(args[0].__class__)(*args, **kw)\n"
     ]
    },
    {
     "data": {
      "text/html": [
       "<div><style>\n",
       ".dataframe > thead > tr,\n",
       ".dataframe > tbody > tr {\n",
       "  text-align: right;\n",
       "  white-space: pre-wrap;\n",
       "}\n",
       "</style>\n",
       "<small>shape: (30, 14)</small><table border=\"1\" class=\"dataframe\"><thead><tr><th>Algorithm</th><th>Accuracy</th><th>Balanced Accuracy</th><th>Precision</th><th>Recall</th><th>Specificity</th><th>F1-score</th><th>False Alarm Rate</th><th>tn</th><th>fp</th><th>fn</th><th>tp</th><th>training_duration</th><th>evaluation_duration</th></tr><tr><td>str</td><td>f64</td><td>f64</td><td>f64</td><td>f64</td><td>f64</td><td>f64</td><td>f64</td><td>i64</td><td>i64</td><td>i64</td><td>i64</td><td>f64</td><td>f64</td></tr></thead><tbody><tr><td>&quot;GaussianNB&quot;</td><td>0.979096</td><td>0.964557</td><td>0.989112</td><td>0.985958</td><td>0.943157</td><td>0.987532</td><td>0.056843</td><td>25187</td><td>1518</td><td>1964</td><td>137901</td><td>0.06544</td><td>0.031098</td></tr><tr><td>&quot;GaussianNB&quot;</td><td>0.977187</td><td>0.960148</td><td>0.987573</td><td>0.985229</td><td>0.935068</td><td>0.986399</td><td>0.064932</td><td>24971</td><td>1734</td><td>2066</td><td>137799</td><td>0.059975</td><td>0.027201</td></tr><tr><td>&quot;GaussianNB&quot;</td><td>0.97885</td><td>0.964002</td><td>0.988919</td><td>0.985858</td><td>0.942146</td><td>0.987386</td><td>0.057854</td><td>25160</td><td>1545</td><td>1978</td><td>137887</td><td>0.064905</td><td>0.034008</td></tr><tr><td>&quot;GaussianNB&quot;</td><td>0.977097</td><td>0.960292</td><td>0.987662</td><td>0.985028</td><td>0.935555</td><td>0.986344</td><td>0.064445</td><td>24984</td><td>1721</td><td>2094</td><td>137771</td><td>0.069125</td><td>0.028981</td></tr><tr><td>&quot;GaussianNB&quot;</td><td>0.977391</td><td>0.960391</td><td>0.987632</td><td>0.985415</td><td>0.935368</td><td>0.986522</td><td>0.064632</td><td>24979</td><td>1726</td><td>2040</td><td>137825</td><td>0.06211</td><td>0.030894</td></tr><tr><td>&hellip;</td><td>&hellip;</td><td>&hellip;</td><td>&hellip;</td><td>&hellip;</td><td>&hellip;</td><td>&hellip;</td><td>&hellip;</td><td>&hellip;</td><td>&hellip;</td><td>&hellip;</td><td>&hellip;</td><td>&hellip;</td><td>&hellip;</td></tr><tr><td>&quot;GaussianNB&quot;</td><td>0.978466</td><td>0.963561</td><td>0.988816</td><td>0.9855</td><td>0.941621</td><td>0.987155</td><td>0.058379</td><td>25146</td><td>1559</td><td>2028</td><td>137837</td><td>0.061552</td><td>0.028136</td></tr><tr><td>&quot;GaussianNB&quot;</td><td>0.977571</td><td>0.961635</td><td>0.988159</td><td>0.985093</td><td>0.938176</td><td>0.986624</td><td>0.061824</td><td>25054</td><td>1651</td><td>2085</td><td>137780</td><td>0.057944</td><td>0.031239</td></tr><tr><td>&quot;GaussianNB&quot;</td><td>0.839191</td><td>0.499726</td><td>0.839603</td><td>0.999414</td><td>0.000037</td><td>0.912565</td><td>0.999963</td><td>1</td><td>26704</td><td>82</td><td>139783</td><td>0.06308</td><td>0.03183</td></tr><tr><td>&quot;GaussianNB&quot;</td><td>0.978267</td><td>0.963261</td><td>0.988729</td><td>0.98535</td><td>0.941172</td><td>0.987037</td><td>0.058828</td><td>25134</td><td>1571</td><td>2049</td><td>137816</td><td>0.058682</td><td>0.028952</td></tr><tr><td>&quot;GaussianNB&quot;</td><td>0.978189</td><td>0.962851</td><td>0.98856</td><td>0.985429</td><td>0.940273</td><td>0.986992</td><td>0.059727</td><td>25110</td><td>1595</td><td>2038</td><td>137827</td><td>0.066986</td><td>0.032012</td></tr></tbody></table></div>"
      ],
      "text/plain": [
       "shape: (30, 14)\n",
       "┌────────────┬──────────┬──────────┬───────────┬───┬──────┬────────┬───────────────┬───────────────┐\n",
       "│ Algorithm  ┆ Accuracy ┆ Balanced ┆ Precision ┆ … ┆ fn   ┆ tp     ┆ training_dura ┆ evaluation_du │\n",
       "│ ---        ┆ ---      ┆ Accuracy ┆ ---       ┆   ┆ ---  ┆ ---    ┆ tion          ┆ ration        │\n",
       "│ str        ┆ f64      ┆ ---      ┆ f64       ┆   ┆ i64  ┆ i64    ┆ ---           ┆ ---           │\n",
       "│            ┆          ┆ f64      ┆           ┆   ┆      ┆        ┆ f64           ┆ f64           │\n",
       "╞════════════╪══════════╪══════════╪═══════════╪═══╪══════╪════════╪═══════════════╪═══════════════╡\n",
       "│ GaussianNB ┆ 0.979096 ┆ 0.964557 ┆ 0.989112  ┆ … ┆ 1964 ┆ 137901 ┆ 0.06544       ┆ 0.031098      │\n",
       "│ GaussianNB ┆ 0.977187 ┆ 0.960148 ┆ 0.987573  ┆ … ┆ 2066 ┆ 137799 ┆ 0.059975      ┆ 0.027201      │\n",
       "│ GaussianNB ┆ 0.97885  ┆ 0.964002 ┆ 0.988919  ┆ … ┆ 1978 ┆ 137887 ┆ 0.064905      ┆ 0.034008      │\n",
       "│ GaussianNB ┆ 0.977097 ┆ 0.960292 ┆ 0.987662  ┆ … ┆ 2094 ┆ 137771 ┆ 0.069125      ┆ 0.028981      │\n",
       "│ GaussianNB ┆ 0.977391 ┆ 0.960391 ┆ 0.987632  ┆ … ┆ 2040 ┆ 137825 ┆ 0.06211       ┆ 0.030894      │\n",
       "│ …          ┆ …        ┆ …        ┆ …         ┆ … ┆ …    ┆ …      ┆ …             ┆ …             │\n",
       "│ GaussianNB ┆ 0.978466 ┆ 0.963561 ┆ 0.988816  ┆ … ┆ 2028 ┆ 137837 ┆ 0.061552      ┆ 0.028136      │\n",
       "│ GaussianNB ┆ 0.977571 ┆ 0.961635 ┆ 0.988159  ┆ … ┆ 2085 ┆ 137780 ┆ 0.057944      ┆ 0.031239      │\n",
       "│ GaussianNB ┆ 0.839191 ┆ 0.499726 ┆ 0.839603  ┆ … ┆ 82   ┆ 139783 ┆ 0.06308       ┆ 0.03183       │\n",
       "│ GaussianNB ┆ 0.978267 ┆ 0.963261 ┆ 0.988729  ┆ … ┆ 2049 ┆ 137816 ┆ 0.058682      ┆ 0.028952      │\n",
       "│ GaussianNB ┆ 0.978189 ┆ 0.962851 ┆ 0.98856   ┆ … ┆ 2038 ┆ 137827 ┆ 0.066986      ┆ 0.032012      │\n",
       "└────────────┴──────────┴──────────┴───────────┴───┴──────┴────────┴───────────────┴───────────────┘"
      ]
     },
     "execution_count": 17,
     "metadata": {},
     "output_type": "execute_result"
    }
   ],
   "source": [
    "metrics_df = pl.DataFrame(\n",
    "    results,\n",
    "    schema=['Algorithm', 'Accuracy', 'Balanced Accuracy', 'Precision', 'Recall', 'Specificity', 'F1-score', 'False Alarm Rate', 'tn', 'fp', 'fn', 'tp', 'training_duration', 'evaluation_duration']\n",
    ")\n",
    "metrics_df"
   ]
  },
  {
   "cell_type": "code",
   "execution_count": 18,
   "metadata": {},
   "outputs": [],
   "source": [
    "metrics_df.write_csv(\"metrics_results/unbalanced_bayes_metrics_output.csv\", separator=';')"
   ]
  }
 ],
 "metadata": {
  "kernelspec": {
   "display_name": "tcc_2025_py39",
   "language": "python",
   "name": "python3"
  },
  "language_info": {
   "codemirror_mode": {
    "name": "ipython",
    "version": 3
   },
   "file_extension": ".py",
   "mimetype": "text/x-python",
   "name": "python",
   "nbconvert_exporter": "python",
   "pygments_lexer": "ipython3",
   "version": "3.9.21"
  }
 },
 "nbformat": 4,
 "nbformat_minor": 2
}
