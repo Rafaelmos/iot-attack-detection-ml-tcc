{
 "cells": [
  {
   "cell_type": "code",
   "execution_count": 1,
   "metadata": {},
   "outputs": [],
   "source": [
    "import polars as pl\n",
    "import numpy as np\n",
    "import time\n",
    "from sklearn.neighbors import KNeighborsClassifier\n",
    "from sklearn.preprocessing import MinMaxScaler\n",
    "from sklearn.model_selection import train_test_split\n",
    "from sklearn.metrics import accuracy_score, precision_score, recall_score, f1_score, confusion_matrix, balanced_accuracy_score"
   ]
  },
  {
   "cell_type": "code",
   "execution_count": 2,
   "metadata": {},
   "outputs": [],
   "source": [
    "df_polars = pl.read_parquet('dataset.parquet')"
   ]
  },
  {
   "cell_type": "code",
   "execution_count": 3,
   "metadata": {},
   "outputs": [],
   "source": [
    "df_polars = df_polars.sample(fraction=0.01, seed=42)"
   ]
  },
  {
   "cell_type": "code",
   "execution_count": 4,
   "metadata": {},
   "outputs": [],
   "source": [
    "import ipaddress\n",
    "\n",
    "def ip_to_int(ip: str) -> int:\n",
    "    try:\n",
    "        return int(ipaddress.ip_address(ip))  # Funciona tanto para IPv4 quanto IPv6\n",
    "    except ValueError:\n",
    "        return None"
   ]
  },
  {
   "cell_type": "code",
   "execution_count": 5,
   "metadata": {},
   "outputs": [],
   "source": [
    "#df_polars = df_polars.with_columns([\n",
    "#    pl.col('id.resp_h').map_elements(ip_to_int).alias('id.resp_h'),\n",
    "#    pl.col('id.orig_h').map_elements(ip_to_int).alias('id.orig_h')\n",
    "#])"
   ]
  },
  {
   "cell_type": "code",
   "execution_count": 6,
   "metadata": {},
   "outputs": [],
   "source": [
    "df_polars = df_polars.with_columns([\n",
    "    pl.col('duration').fill_null(0),\n",
    "    pl.col('orig_bytes').fill_null(0),\n",
    "    pl.col('resp_bytes').fill_null(0)\n",
    "])"
   ]
  },
  {
   "cell_type": "code",
   "execution_count": 7,
   "metadata": {},
   "outputs": [],
   "source": [
    "lista_colunas = df_polars.columns\n",
    "colunas_para_spearman = ['id.resp_p', 'history', 'conn_state', 'id.orig_p', 'orig_ip_bytes', 'label']             \n",
    "#['detailed-label', 'id.resp_p', 'history', 'id.orig_h', 'conn_state', 'id.orig_p', 'orig_ip_bytes']\n",
    "colunas_para_dropar = [col for col in lista_colunas if col not in colunas_para_spearman]\n",
    "df_polars = df_polars.drop(colunas_para_dropar)"
   ]
  },
  {
   "cell_type": "code",
   "execution_count": 8,
   "metadata": {},
   "outputs": [
    {
     "data": {
      "text/html": [
       "<div><style>\n",
       ".dataframe > thead > tr,\n",
       ".dataframe > tbody > tr {\n",
       "  text-align: right;\n",
       "  white-space: pre-wrap;\n",
       "}\n",
       "</style>\n",
       "<small>shape: (555_233, 7)</small><table border=\"1\" class=\"dataframe\"><thead><tr><th>id.orig_h</th><th>id.orig_p</th><th>id.resp_p</th><th>conn_state</th><th>history</th><th>orig_ip_bytes</th><th>label</th></tr><tr><td>str</td><td>i32</td><td>i32</td><td>i64</td><td>i64</td><td>i64</td><td>i32</td></tr></thead><tbody><tr><td>&quot;192.168.100.108&quot;</td><td>5526</td><td>37215</td><td>0</td><td>0</td><td>40</td><td>1</td></tr><tr><td>&quot;192.168.100.111&quot;</td><td>60403</td><td>23</td><td>2</td><td>7</td><td>40</td><td>1</td></tr><tr><td>&quot;192.168.100.111&quot;</td><td>13386</td><td>81</td><td>2</td><td>7</td><td>40</td><td>1</td></tr><tr><td>&quot;192.168.1.198&quot;</td><td>36097</td><td>37215</td><td>0</td><td>0</td><td>40</td><td>1</td></tr><tr><td>&quot;192.168.1.198&quot;</td><td>36097</td><td>37215</td><td>0</td><td>0</td><td>40</td><td>1</td></tr><tr><td>&hellip;</td><td>&hellip;</td><td>&hellip;</td><td>&hellip;</td><td>&hellip;</td><td>&hellip;</td><td>&hellip;</td></tr><tr><td>&quot;192.168.1.193&quot;</td><td>30535</td><td>8081</td><td>1</td><td>1</td><td>80</td><td>1</td></tr><tr><td>&quot;192.168.1.198&quot;</td><td>36097</td><td>37215</td><td>0</td><td>0</td><td>40</td><td>1</td></tr><tr><td>&quot;192.168.1.200&quot;</td><td>41258</td><td>23</td><td>1</td><td>1</td><td>120</td><td>1</td></tr><tr><td>&quot;192.168.1.200&quot;</td><td>36658</td><td>23</td><td>1</td><td>1</td><td>120</td><td>1</td></tr><tr><td>&quot;192.168.1.198&quot;</td><td>36097</td><td>37215</td><td>0</td><td>0</td><td>40</td><td>1</td></tr></tbody></table></div>"
      ],
      "text/plain": [
       "shape: (555_233, 7)\n",
       "┌─────────────────┬───────────┬───────────┬────────────┬─────────┬───────────────┬───────┐\n",
       "│ id.orig_h       ┆ id.orig_p ┆ id.resp_p ┆ conn_state ┆ history ┆ orig_ip_bytes ┆ label │\n",
       "│ ---             ┆ ---       ┆ ---       ┆ ---        ┆ ---     ┆ ---           ┆ ---   │\n",
       "│ str             ┆ i32       ┆ i32       ┆ i64        ┆ i64     ┆ i64           ┆ i32   │\n",
       "╞═════════════════╪═══════════╪═══════════╪════════════╪═════════╪═══════════════╪═══════╡\n",
       "│ 192.168.100.108 ┆ 5526      ┆ 37215     ┆ 0          ┆ 0       ┆ 40            ┆ 1     │\n",
       "│ 192.168.100.111 ┆ 60403     ┆ 23        ┆ 2          ┆ 7       ┆ 40            ┆ 1     │\n",
       "│ 192.168.100.111 ┆ 13386     ┆ 81        ┆ 2          ┆ 7       ┆ 40            ┆ 1     │\n",
       "│ 192.168.1.198   ┆ 36097     ┆ 37215     ┆ 0          ┆ 0       ┆ 40            ┆ 1     │\n",
       "│ 192.168.1.198   ┆ 36097     ┆ 37215     ┆ 0          ┆ 0       ┆ 40            ┆ 1     │\n",
       "│ …               ┆ …         ┆ …         ┆ …          ┆ …       ┆ …             ┆ …     │\n",
       "│ 192.168.1.193   ┆ 30535     ┆ 8081      ┆ 1          ┆ 1       ┆ 80            ┆ 1     │\n",
       "│ 192.168.1.198   ┆ 36097     ┆ 37215     ┆ 0          ┆ 0       ┆ 40            ┆ 1     │\n",
       "│ 192.168.1.200   ┆ 41258     ┆ 23        ┆ 1          ┆ 1       ┆ 120           ┆ 1     │\n",
       "│ 192.168.1.200   ┆ 36658     ┆ 23        ┆ 1          ┆ 1       ┆ 120           ┆ 1     │\n",
       "│ 192.168.1.198   ┆ 36097     ┆ 37215     ┆ 0          ┆ 0       ┆ 40            ┆ 1     │\n",
       "└─────────────────┴───────────┴───────────┴────────────┴─────────┴───────────────┴───────┘"
      ]
     },
     "execution_count": 8,
     "metadata": {},
     "output_type": "execute_result"
    }
   ],
   "source": [
    "df_polars"
   ]
  },
  {
   "cell_type": "code",
   "execution_count": 9,
   "metadata": {},
   "outputs": [],
   "source": [
    "df_polars = df_polars.drop_nulls()"
   ]
  },
  {
   "cell_type": "code",
   "execution_count": 10,
   "metadata": {},
   "outputs": [],
   "source": [
    "X = df_polars.drop('label')\n",
    "y = df_polars['label']       "
   ]
  },
  {
   "cell_type": "code",
   "execution_count": 11,
   "metadata": {},
   "outputs": [],
   "source": [
    "#X = X.to_numpy()\n",
    "#X[:, 0] = np.array([ip_to_int(ip) for ip in X[:, 0]])"
   ]
  },
  {
   "cell_type": "markdown",
   "metadata": {},
   "source": [
    "# Treinamento"
   ]
  },
  {
   "cell_type": "code",
   "execution_count": 13,
   "metadata": {},
   "outputs": [],
   "source": [
    "results = []"
   ]
  },
  {
   "cell_type": "code",
   "execution_count": 14,
   "metadata": {},
   "outputs": [],
   "source": [
    "i=5\n",
    "knn = KNeighborsClassifier(\n",
    "n_neighbors=i,\n",
    "metric='euclidean', \n",
    "weights='uniform'  \n",
    ")"
   ]
  },
  {
   "cell_type": "code",
   "execution_count": 15,
   "metadata": {},
   "outputs": [],
   "source": [
    "def startTrain():\n",
    "\n",
    "    X_train, X_test, y_train, y_test = train_test_split(X, y, test_size=0.3, stratify=y)\n",
    "    start_training = time.time()\n",
    "    #print(f\"Treinando {algorithm_name} - \", start_training)\n",
    "    knn.fit(X_train, y_train)\n",
    "    end_training = time.time()\n",
    "    #print(\"Treino Concluído - \", end_training)\n",
    "    y_pred = knn.predict(X_test)\n",
    "    evaluation_time = time.time()\n",
    "    #print(\"Predição Concluída - \", evaluation_time)        \n",
    "    training_duration = end_training - start_training\n",
    "    evaluation_duration = evaluation_time - end_training\n",
    "\n",
    "    confusion = confusion_matrix(y_test, y_pred)\n",
    "    tn, fp, fn, tp = confusion.ravel()\n",
    "    accuracy = accuracy_score(y_test, y_pred)\n",
    "    precision = precision_score(y_test, y_pred)\n",
    "    recall = recall_score(y_test, y_pred)\n",
    "    specificity = tn / (tn + fp)\n",
    "    f1 = f1_score(y_test, y_pred)\n",
    "    balanced_accuracy = balanced_accuracy_score(y_test, y_pred)\n",
    "    false_alarm_rate = fp / (fp + tn) if (fp + tn) > 0 else 0\n",
    "\n",
    "    results.append([\"KNN\", accuracy, balanced_accuracy, precision, recall, specificity, f1, false_alarm_rate, tn, fp, fn, tp, training_duration, evaluation_duration])\n",
    "\n"
   ]
  },
  {
   "cell_type": "code",
   "execution_count": 16,
   "metadata": {},
   "outputs": [
    {
     "name": "stdout",
     "output_type": "stream",
     "text": [
      "1\n",
      "2\n",
      "3\n",
      "4\n",
      "5\n",
      "6\n",
      "7\n",
      "8\n",
      "9\n",
      "10\n",
      "11\n",
      "12\n",
      "13\n",
      "14\n",
      "15\n",
      "16\n",
      "17\n",
      "18\n",
      "19\n",
      "20\n",
      "21\n",
      "22\n",
      "23\n",
      "24\n",
      "25\n",
      "26\n",
      "27\n",
      "28\n",
      "29\n",
      "30\n"
     ]
    }
   ],
   "source": [
    "for i in range(1,31):\n",
    "    startTrain()\n",
    "    print(i)"
   ]
  },
  {
   "cell_type": "code",
   "execution_count": 17,
   "metadata": {},
   "outputs": [
    {
     "name": "stderr",
     "output_type": "stream",
     "text": [
      "c:\\Users\\rafae\\anaconda3\\envs\\tcc_2025_py39\\lib\\functools.py:888: DataOrientationWarning: Row orientation inferred during DataFrame construction. Explicitly specify the orientation by passing `orient=\"row\"` to silence this warning.\n",
      "  return dispatch(args[0].__class__)(*args, **kw)\n"
     ]
    },
    {
     "data": {
      "text/html": [
       "<div><style>\n",
       ".dataframe > thead > tr,\n",
       ".dataframe > tbody > tr {\n",
       "  text-align: right;\n",
       "  white-space: pre-wrap;\n",
       "}\n",
       "</style>\n",
       "<small>shape: (30, 14)</small><table border=\"1\" class=\"dataframe\"><thead><tr><th>Algorithm</th><th>Accuracy</th><th>Balanced Accuracy</th><th>Precision</th><th>Recall</th><th>Specificity</th><th>F1-score</th><th>False Alarm Rate</th><th>tn</th><th>fp</th><th>fn</th><th>tp</th><th>training_duration</th><th>evaluation_duration</th></tr><tr><td>str</td><td>f64</td><td>f64</td><td>f64</td><td>f64</td><td>f64</td><td>f64</td><td>f64</td><td>i64</td><td>i64</td><td>i64</td><td>i64</td><td>f64</td><td>f64</td></tr></thead><tbody><tr><td>&quot;KNN&quot;</td><td>0.992292</td><td>0.994304</td><td>0.999474</td><td>0.991342</td><td>0.997266</td><td>0.995391</td><td>0.002734</td><td>26632</td><td>73</td><td>1211</td><td>138654</td><td>2.61611</td><td>419.741776</td></tr><tr><td>&quot;KNN&quot;</td><td>0.991835</td><td>0.993987</td><td>0.999452</td><td>0.99082</td><td>0.997154</td><td>0.995117</td><td>0.002846</td><td>26629</td><td>76</td><td>1284</td><td>138581</td><td>1.979808</td><td>360.431304</td></tr><tr><td>&quot;KNN&quot;</td><td>0.992057</td><td>0.994195</td><td>0.999488</td><td>0.991049</td><td>0.997341</td><td>0.99525</td><td>0.002659</td><td>26634</td><td>71</td><td>1252</td><td>138613</td><td>1.740984</td><td>388.153681</td></tr><tr><td>&quot;KNN&quot;</td><td>0.99264</td><td>0.994587</td><td>0.99951</td><td>0.991721</td><td>0.997454</td><td>0.9956</td><td>0.002546</td><td>26637</td><td>68</td><td>1158</td><td>138707</td><td>1.705734</td><td>335.069819</td></tr><tr><td>&quot;KNN&quot;</td><td>0.992015</td><td>0.99414</td><td>0.999474</td><td>0.991013</td><td>0.997266</td><td>0.995225</td><td>0.002734</td><td>26632</td><td>73</td><td>1257</td><td>138608</td><td>2.443218</td><td>314.853468</td></tr><tr><td>&hellip;</td><td>&hellip;</td><td>&hellip;</td><td>&hellip;</td><td>&hellip;</td><td>&hellip;</td><td>&hellip;</td><td>&hellip;</td><td>&hellip;</td><td>&hellip;</td><td>&hellip;</td><td>&hellip;</td><td>&hellip;</td><td>&hellip;</td></tr><tr><td>&quot;KNN&quot;</td><td>0.991979</td><td>0.993952</td><td>0.999394</td><td>0.991049</td><td>0.996855</td><td>0.995204</td><td>0.003145</td><td>26621</td><td>84</td><td>1252</td><td>138613</td><td>1.188691</td><td>351.071561</td></tr><tr><td>&quot;KNN&quot;</td><td>0.992111</td><td>0.994091</td><td>0.999423</td><td>0.991177</td><td>0.997004</td><td>0.995283</td><td>0.002996</td><td>26625</td><td>80</td><td>1234</td><td>138631</td><td>1.99171</td><td>359.256407</td></tr><tr><td>&quot;KNN&quot;</td><td>0.991967</td><td>0.994369</td><td>0.999596</td><td>0.990834</td><td>0.997903</td><td>0.995196</td><td>0.002097</td><td>26649</td><td>56</td><td>1282</td><td>138583</td><td>1.489332</td><td>346.593317</td></tr><tr><td>&quot;KNN&quot;</td><td>0.992418</td><td>0.994228</td><td>0.999402</td><td>0.991563</td><td>0.996892</td><td>0.995467</td><td>0.003108</td><td>26622</td><td>83</td><td>1180</td><td>138685</td><td>1.630551</td><td>361.444154</td></tr><tr><td>&quot;KNN&quot;</td><td>0.992027</td><td>0.994041</td><td>0.999423</td><td>0.991077</td><td>0.997004</td><td>0.995233</td><td>0.002996</td><td>26625</td><td>80</td><td>1248</td><td>138617</td><td>1.375021</td><td>353.748269</td></tr></tbody></table></div>"
      ],
      "text/plain": [
       "shape: (30, 14)\n",
       "┌───────────┬──────────┬──────────┬───────────┬───┬──────┬────────┬────────────────┬───────────────┐\n",
       "│ Algorithm ┆ Accuracy ┆ Balanced ┆ Precision ┆ … ┆ fn   ┆ tp     ┆ training_durat ┆ evaluation_du │\n",
       "│ ---       ┆ ---      ┆ Accuracy ┆ ---       ┆   ┆ ---  ┆ ---    ┆ ion            ┆ ration        │\n",
       "│ str       ┆ f64      ┆ ---      ┆ f64       ┆   ┆ i64  ┆ i64    ┆ ---            ┆ ---           │\n",
       "│           ┆          ┆ f64      ┆           ┆   ┆      ┆        ┆ f64            ┆ f64           │\n",
       "╞═══════════╪══════════╪══════════╪═══════════╪═══╪══════╪════════╪════════════════╪═══════════════╡\n",
       "│ KNN       ┆ 0.992292 ┆ 0.994304 ┆ 0.999474  ┆ … ┆ 1211 ┆ 138654 ┆ 2.61611        ┆ 419.741776    │\n",
       "│ KNN       ┆ 0.991835 ┆ 0.993987 ┆ 0.999452  ┆ … ┆ 1284 ┆ 138581 ┆ 1.979808       ┆ 360.431304    │\n",
       "│ KNN       ┆ 0.992057 ┆ 0.994195 ┆ 0.999488  ┆ … ┆ 1252 ┆ 138613 ┆ 1.740984       ┆ 388.153681    │\n",
       "│ KNN       ┆ 0.99264  ┆ 0.994587 ┆ 0.99951   ┆ … ┆ 1158 ┆ 138707 ┆ 1.705734       ┆ 335.069819    │\n",
       "│ KNN       ┆ 0.992015 ┆ 0.99414  ┆ 0.999474  ┆ … ┆ 1257 ┆ 138608 ┆ 2.443218       ┆ 314.853468    │\n",
       "│ …         ┆ …        ┆ …        ┆ …         ┆ … ┆ …    ┆ …      ┆ …              ┆ …             │\n",
       "│ KNN       ┆ 0.991979 ┆ 0.993952 ┆ 0.999394  ┆ … ┆ 1252 ┆ 138613 ┆ 1.188691       ┆ 351.071561    │\n",
       "│ KNN       ┆ 0.992111 ┆ 0.994091 ┆ 0.999423  ┆ … ┆ 1234 ┆ 138631 ┆ 1.99171        ┆ 359.256407    │\n",
       "│ KNN       ┆ 0.991967 ┆ 0.994369 ┆ 0.999596  ┆ … ┆ 1282 ┆ 138583 ┆ 1.489332       ┆ 346.593317    │\n",
       "│ KNN       ┆ 0.992418 ┆ 0.994228 ┆ 0.999402  ┆ … ┆ 1180 ┆ 138685 ┆ 1.630551       ┆ 361.444154    │\n",
       "│ KNN       ┆ 0.992027 ┆ 0.994041 ┆ 0.999423  ┆ … ┆ 1248 ┆ 138617 ┆ 1.375021       ┆ 353.748269    │\n",
       "└───────────┴──────────┴──────────┴───────────┴───┴──────┴────────┴────────────────┴───────────────┘"
      ]
     },
     "execution_count": 17,
     "metadata": {},
     "output_type": "execute_result"
    }
   ],
   "source": [
    "metrics_df = pl.DataFrame(\n",
    "    results,\n",
    "    schema=['Algorithm', 'Accuracy', 'Balanced Accuracy' , 'Precision', 'Recall', 'Specificity', 'F1-score', 'False Alarm Rate', 'tn', 'fp', 'fn', 'tp', 'training_duration', 'evaluation_duration']\n",
    ")\n",
    "metrics_df\n"
   ]
  },
  {
   "cell_type": "code",
   "execution_count": 18,
   "metadata": {},
   "outputs": [],
   "source": [
    "metrics_df.write_csv(f\"metrics_results/unbalanced_knn_metrics_output.csv\", separator=';')"
   ]
  }
 ],
 "metadata": {
  "kernelspec": {
   "display_name": "tcc_2025_py39",
   "language": "python",
   "name": "python3"
  },
  "language_info": {
   "codemirror_mode": {
    "name": "ipython",
    "version": 3
   },
   "file_extension": ".py",
   "mimetype": "text/x-python",
   "name": "python",
   "nbconvert_exporter": "python",
   "pygments_lexer": "ipython3",
   "version": "3.9.21"
  }
 },
 "nbformat": 4,
 "nbformat_minor": 2
}
