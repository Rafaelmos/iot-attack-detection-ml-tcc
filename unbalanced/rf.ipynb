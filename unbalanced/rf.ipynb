{
 "cells": [
  {
   "cell_type": "code",
   "execution_count": 1,
   "metadata": {},
   "outputs": [],
   "source": [
    "import polars as pl\n",
    "import numpy as np\n",
    "import time\n",
    "from sklearn.ensemble import RandomForestClassifier\n",
    "from sklearn.preprocessing import MinMaxScaler\n",
    "from sklearn.model_selection import train_test_split\n",
    "from sklearn.metrics import accuracy_score, precision_score, recall_score, f1_score, confusion_matrix, balanced_accuracy_score\n",
    "from sklearn.model_selection import KFold\n",
    "from imblearn.under_sampling import RandomUnderSampler"
   ]
  },
  {
   "cell_type": "code",
   "execution_count": 2,
   "metadata": {},
   "outputs": [],
   "source": [
    "df_polars_raiz = pl.read_parquet('../dataset.parquet')"
   ]
  },
  {
   "cell_type": "code",
   "execution_count": 3,
   "metadata": {},
   "outputs": [],
   "source": [
    "df_polars = df_polars_raiz.sample(fraction=0.01, seed=42)"
   ]
  },
  {
   "cell_type": "code",
   "execution_count": 4,
   "metadata": {},
   "outputs": [],
   "source": [
    "import ipaddress\n",
    "\n",
    "def ip_to_int(ip: str) -> int:\n",
    "    try:\n",
    "        return int(ipaddress.ip_address(ip))  # Funciona tanto para IPv4 quanto IPv6\n",
    "    except ValueError:\n",
    "        return None"
   ]
  },
  {
   "cell_type": "code",
   "execution_count": 5,
   "metadata": {},
   "outputs": [],
   "source": [
    "#df_polars = df_polars.with_columns([\n",
    "#    pl.col('id.resp_h').map_elements(ip_to_int).alias('id.resp_h'),\n",
    "#    pl.col('id.orig_h').map_elements(ip_to_int).alias('id.orig_h')\n",
    "#])"
   ]
  },
  {
   "cell_type": "code",
   "execution_count": 6,
   "metadata": {},
   "outputs": [],
   "source": [
    "df_polars = df_polars.with_columns([\n",
    "    pl.col('duration').fill_null(0),\n",
    "    pl.col('orig_bytes').fill_null(0),\n",
    "    pl.col('resp_bytes').fill_null(0)\n",
    "])"
   ]
  },
  {
   "cell_type": "code",
   "execution_count": 7,
   "metadata": {},
   "outputs": [],
   "source": [
    "lista_colunas = df_polars.columns\n",
    "colunas_para_spearman = ['id.resp_p', 'history', 'conn_state', 'id.orig_p', 'orig_ip_bytes', 'label']             \n",
    "#['detailed-label', 'id.resp_p', 'history', 'id.orig_h', 'conn_state', 'id.orig_p', 'orig_ip_bytes']\n",
    "colunas_para_dropar = [col for col in lista_colunas if col not in colunas_para_spearman]\n",
    "df_polars = df_polars.drop(colunas_para_dropar)"
   ]
  },
  {
   "cell_type": "code",
   "execution_count": 8,
   "metadata": {},
   "outputs": [],
   "source": [
    "df_polars = df_polars.drop_nulls()"
   ]
  },
  {
   "cell_type": "code",
   "execution_count": 9,
   "metadata": {},
   "outputs": [],
   "source": [
    "X = df_polars.drop('label')\n",
    "y = df_polars['label']       "
   ]
  },
  {
   "cell_type": "code",
   "execution_count": 10,
   "metadata": {},
   "outputs": [],
   "source": [
    "#X = X.to_numpy()\n",
    "#X[:, 0] = np.array([ip_to_int(ip) for ip in X[:, 0]])"
   ]
  },
  {
   "cell_type": "markdown",
   "metadata": {},
   "source": [
    "# Treinamento"
   ]
  },
  {
   "cell_type": "code",
   "execution_count": 11,
   "metadata": {},
   "outputs": [],
   "source": [
    "results = []"
   ]
  },
  {
   "cell_type": "code",
   "execution_count": null,
   "metadata": {},
   "outputs": [],
   "source": [
    "def startTrain(X, y, criterion, bootstrap, max_depth, min_samples_split, n_estimators):\n",
    "    kfold = KFold(n_splits=5, shuffle=True)\n",
    "    results_fold = []\n",
    "\n",
    "    for train_idx, test_idx in kfold.split(X):\n",
    "        X_train, X_test = X[train_idx], X[test_idx]\n",
    "        y_train, y_test = y[train_idx], y[test_idx]\n",
    "        \n",
    "        scaler = MinMaxScaler()\n",
    "        X_train_scaled = scaler.fit_transform(X_train)\n",
    "        X_test_scaled = scaler.transform(X_test)\n",
    "        \n",
    "        #rus = RandomUnderSampler()\n",
    "        #X_train_resampled, y_train_resampled = rus.fit_resample(X_train_scaled, y_train)\n",
    "\n",
    "        rf = RandomForestClassifier(\n",
    "            criterion=criterion, bootstrap=bootstrap, max_depth=max_depth,\n",
    "            min_samples_split=min_samples_split, n_estimators=n_estimators\n",
    "        )\n",
    "\n",
    "        start_training = time.time()\n",
    "        rf.fit(X_train_scaled, y_train)\n",
    "        end_training = time.time()\n",
    "\n",
    "        y_pred = rf.predict(X_test_scaled)\n",
    "        training_duration = end_training - start_training\n",
    "        evaluation_duration = time.time() - end_training\n",
    "\n",
    "        confusion = confusion_matrix(y_test, y_pred)\n",
    "        tn, fp, fn, tp = confusion.ravel()\n",
    "        accuracy = accuracy_score(y_test, y_pred)\n",
    "        precision = precision_score(y_test, y_pred)\n",
    "        recall = recall_score(y_test, y_pred)\n",
    "        specificity = tn / (tn + fp)\n",
    "        f1 = f1_score(y_test, y_pred)\n",
    "        balanced_accuracy = balanced_accuracy_score(y_test, y_pred)\n",
    "        false_alarm_rate = fp / (fp + tn) if (fp + tn) > 0 else 0\n",
    "        \n",
    "\n",
    "        avaliacao = [accuracy, balanced_accuracy, precision, recall, specificity, f1, false_alarm_rate, tn, fp, fn, tp, training_duration, evaluation_duration]\n",
    "        #print(avaliacao)\n",
    "        results_fold.append(avaliacao)\n",
    "\n",
    "    results_fold_array = np.array(results_fold, dtype=np.float32)\n",
    "    mean_results = np.mean(results_fold_array, axis=0)\n",
    "    results.append([\"RF\"] + mean_results.tolist())"
   ]
  },
  {
   "cell_type": "code",
   "execution_count": 13,
   "metadata": {},
   "outputs": [],
   "source": [
    "#Melhores Hiperparâmetros encontrados: {'criterion': 'entropy', 'bootstrap': False, 'max_depth': 10, 'min_samples_split': 2, 'n_estimators': 200}"
   ]
  },
  {
   "cell_type": "code",
   "execution_count": 14,
   "metadata": {},
   "outputs": [
    {
     "name": "stdout",
     "output_type": "stream",
     "text": [
      "1\n",
      "2\n",
      "3\n",
      "4\n",
      "5\n",
      "6\n",
      "7\n",
      "8\n",
      "9\n",
      "10\n"
     ]
    }
   ],
   "source": [
    "for i in range(1,11):\n",
    "    startTrain(X, y, criterion='entropy',bootstrap=False,max_depth=10, min_samples_split=2, n_estimators=200)\n",
    "    print(i)"
   ]
  },
  {
   "cell_type": "code",
   "execution_count": 15,
   "metadata": {},
   "outputs": [
    {
     "name": "stderr",
     "output_type": "stream",
     "text": [
      "c:\\Users\\rafae\\anaconda3\\envs\\tcc_2025_py39\\lib\\functools.py:888: DataOrientationWarning: Row orientation inferred during DataFrame construction. Explicitly specify the orientation by passing `orient=\"row\"` to silence this warning.\n",
      "  return dispatch(args[0].__class__)(*args, **kw)\n"
     ]
    },
    {
     "data": {
      "text/html": [
       "<div><style>\n",
       ".dataframe > thead > tr,\n",
       ".dataframe > tbody > tr {\n",
       "  text-align: right;\n",
       "  white-space: pre-wrap;\n",
       "}\n",
       "</style>\n",
       "<small>shape: (10, 14)</small><table border=\"1\" class=\"dataframe\"><thead><tr><th>Algorithm</th><th>Accuracy</th><th>Balanced Accuracy</th><th>Precision</th><th>Recall</th><th>Specificity</th><th>F1-score</th><th>False Alarm Rate</th><th>tn</th><th>fp</th><th>fn</th><th>tp</th><th>training_duration</th><th>evaluation_duration</th></tr><tr><td>str</td><td>f64</td><td>f64</td><td>f64</td><td>f64</td><td>f64</td><td>f64</td><td>f64</td><td>f64</td><td>f64</td><td>f64</td><td>f64</td><td>f64</td><td>f64</td></tr></thead><tbody><tr><td>&quot;rf&quot;</td><td>0.995018</td><td>0.996747</td><td>0.999864</td><td>0.994202</td><td>0.999293</td><td>0.997025</td><td>0.000707</td><td>17790.599609</td><td>12.6</td><td>540.599976</td><td>92702.796875</td><td>47.078415</td><td>0.662687</td></tr><tr><td>&quot;rf&quot;</td><td>0.995015</td><td>0.996727</td><td>0.999856</td><td>0.994207</td><td>0.999247</td><td>0.997023</td><td>0.000753</td><td>17789.800781</td><td>13.4</td><td>540.200012</td><td>92703.203125</td><td>45.279976</td><td>0.630901</td></tr><tr><td>&quot;rf&quot;</td><td>0.995013</td><td>0.996744</td><td>0.999864</td><td>0.994196</td><td>0.999292</td><td>0.997022</td><td>0.000708</td><td>17790.599609</td><td>12.6</td><td>541.200012</td><td>92702.203125</td><td>47.345024</td><td>0.648443</td></tr><tr><td>&quot;rf&quot;</td><td>0.995022</td><td>0.996767</td><td>0.999873</td><td>0.994198</td><td>0.999337</td><td>0.997027</td><td>0.000663</td><td>17791.400391</td><td>11.8</td><td>541.0</td><td>92702.398438</td><td>50.218399</td><td>0.68875</td></tr><tr><td>&quot;rf&quot;</td><td>0.99502</td><td>0.996748</td><td>0.999864</td><td>0.994204</td><td>0.999292</td><td>0.997026</td><td>0.000708</td><td>17790.599609</td><td>12.6</td><td>540.400024</td><td>92703.0</td><td>47.676502</td><td>0.647617</td></tr><tr><td>&quot;rf&quot;</td><td>0.995029</td><td>0.996772</td><td>0.999873</td><td>0.994206</td><td>0.999337</td><td>0.997032</td><td>0.000663</td><td>17791.400391</td><td>11.8</td><td>540.200012</td><td>92703.203125</td><td>48.293324</td><td>0.666763</td></tr><tr><td>&quot;rf&quot;</td><td>0.995004</td><td>0.996712</td><td>0.999851</td><td>0.994198</td><td>0.999225</td><td>0.997017</td><td>0.000775</td><td>17789.400391</td><td>13.8</td><td>541.0</td><td>92702.398438</td><td>44.258251</td><td>0.636395</td></tr><tr><td>&quot;rf&quot;</td><td>0.995009</td><td>0.996719</td><td>0.999853</td><td>0.994202</td><td>0.999235</td><td>0.99702</td><td>0.000765</td><td>17789.599609</td><td>13.6</td><td>540.599976</td><td>92702.796875</td><td>40.962429</td><td>0.622124</td></tr><tr><td>&quot;rf&quot;</td><td>0.995011</td><td>0.996724</td><td>0.999856</td><td>0.994202</td><td>0.999247</td><td>0.997021</td><td>0.000753</td><td>17789.800781</td><td>13.4</td><td>540.599976</td><td>92702.796875</td><td>43.965023</td><td>0.634167</td></tr><tr><td>&quot;rf&quot;</td><td>0.995013</td><td>0.996744</td><td>0.999864</td><td>0.994196</td><td>0.999292</td><td>0.997022</td><td>0.000708</td><td>17790.599609</td><td>12.6</td><td>541.200012</td><td>92702.203125</td><td>42.035484</td><td>0.627788</td></tr></tbody></table></div>"
      ],
      "text/plain": [
       "shape: (10, 14)\n",
       "┌───────────┬──────────┬───────────┬───────────┬───┬───────────┬───────────┬───────────┬───────────┐\n",
       "│ Algorithm ┆ Accuracy ┆ Balanced  ┆ Precision ┆ … ┆ fn        ┆ tp        ┆ training_ ┆ evaluatio │\n",
       "│ ---       ┆ ---      ┆ Accuracy  ┆ ---       ┆   ┆ ---       ┆ ---       ┆ duration  ┆ n_duratio │\n",
       "│ str       ┆ f64      ┆ ---       ┆ f64       ┆   ┆ f64       ┆ f64       ┆ ---       ┆ n         │\n",
       "│           ┆          ┆ f64       ┆           ┆   ┆           ┆           ┆ f64       ┆ ---       │\n",
       "│           ┆          ┆           ┆           ┆   ┆           ┆           ┆           ┆ f64       │\n",
       "╞═══════════╪══════════╪═══════════╪═══════════╪═══╪═══════════╪═══════════╪═══════════╪═══════════╡\n",
       "│ rf        ┆ 0.995018 ┆ 0.996747  ┆ 0.999864  ┆ … ┆ 540.59997 ┆ 92702.796 ┆ 47.078415 ┆ 0.662687  │\n",
       "│           ┆          ┆           ┆           ┆   ┆ 6         ┆ 875       ┆           ┆           │\n",
       "│ rf        ┆ 0.995015 ┆ 0.996727  ┆ 0.999856  ┆ … ┆ 540.20001 ┆ 92703.203 ┆ 45.279976 ┆ 0.630901  │\n",
       "│           ┆          ┆           ┆           ┆   ┆ 2         ┆ 125       ┆           ┆           │\n",
       "│ rf        ┆ 0.995013 ┆ 0.996744  ┆ 0.999864  ┆ … ┆ 541.20001 ┆ 92702.203 ┆ 47.345024 ┆ 0.648443  │\n",
       "│           ┆          ┆           ┆           ┆   ┆ 2         ┆ 125       ┆           ┆           │\n",
       "│ rf        ┆ 0.995022 ┆ 0.996767  ┆ 0.999873  ┆ … ┆ 541.0     ┆ 92702.398 ┆ 50.218399 ┆ 0.68875   │\n",
       "│           ┆          ┆           ┆           ┆   ┆           ┆ 438       ┆           ┆           │\n",
       "│ rf        ┆ 0.99502  ┆ 0.996748  ┆ 0.999864  ┆ … ┆ 540.40002 ┆ 92703.0   ┆ 47.676502 ┆ 0.647617  │\n",
       "│           ┆          ┆           ┆           ┆   ┆ 4         ┆           ┆           ┆           │\n",
       "│ rf        ┆ 0.995029 ┆ 0.996772  ┆ 0.999873  ┆ … ┆ 540.20001 ┆ 92703.203 ┆ 48.293324 ┆ 0.666763  │\n",
       "│           ┆          ┆           ┆           ┆   ┆ 2         ┆ 125       ┆           ┆           │\n",
       "│ rf        ┆ 0.995004 ┆ 0.996712  ┆ 0.999851  ┆ … ┆ 541.0     ┆ 92702.398 ┆ 44.258251 ┆ 0.636395  │\n",
       "│           ┆          ┆           ┆           ┆   ┆           ┆ 438       ┆           ┆           │\n",
       "│ rf        ┆ 0.995009 ┆ 0.996719  ┆ 0.999853  ┆ … ┆ 540.59997 ┆ 92702.796 ┆ 40.962429 ┆ 0.622124  │\n",
       "│           ┆          ┆           ┆           ┆   ┆ 6         ┆ 875       ┆           ┆           │\n",
       "│ rf        ┆ 0.995011 ┆ 0.996724  ┆ 0.999856  ┆ … ┆ 540.59997 ┆ 92702.796 ┆ 43.965023 ┆ 0.634167  │\n",
       "│           ┆          ┆           ┆           ┆   ┆ 6         ┆ 875       ┆           ┆           │\n",
       "│ rf        ┆ 0.995013 ┆ 0.996744  ┆ 0.999864  ┆ … ┆ 541.20001 ┆ 92702.203 ┆ 42.035484 ┆ 0.627788  │\n",
       "│           ┆          ┆           ┆           ┆   ┆ 2         ┆ 125       ┆           ┆           │\n",
       "└───────────┴──────────┴───────────┴───────────┴───┴───────────┴───────────┴───────────┴───────────┘"
      ]
     },
     "execution_count": 15,
     "metadata": {},
     "output_type": "execute_result"
    }
   ],
   "source": [
    "metrics_df = pl.DataFrame(\n",
    "    results,\n",
    "    schema=['Algorithm', 'Accuracy', 'Balanced Accuracy', 'Precision', 'Recall', 'Specificity', 'F1-score', 'False Alarm Rate', 'tn', 'fp', 'fn', 'tp', 'training_duration', 'evaluation_duration']\n",
    ")\n",
    "metrics_df"
   ]
  },
  {
   "cell_type": "code",
   "execution_count": 16,
   "metadata": {},
   "outputs": [],
   "source": [
    "metrics_df.write_csv(\"metrics_results/unbalanced_rf_metrics_output.csv\", separator=';')"
   ]
  }
 ],
 "metadata": {
  "kernelspec": {
   "display_name": "tcc_2025_py39",
   "language": "python",
   "name": "python3"
  },
  "language_info": {
   "codemirror_mode": {
    "name": "ipython",
    "version": 3
   },
   "file_extension": ".py",
   "mimetype": "text/x-python",
   "name": "python",
   "nbconvert_exporter": "python",
   "pygments_lexer": "ipython3",
   "version": "3.9.21"
  }
 },
 "nbformat": 4,
 "nbformat_minor": 2
}
