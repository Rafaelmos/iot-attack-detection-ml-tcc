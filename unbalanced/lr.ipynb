{
 "cells": [
  {
   "cell_type": "code",
   "execution_count": 1,
   "metadata": {},
   "outputs": [],
   "source": [
    "import polars as pl\n",
    "import numpy as np\n",
    "import time\n",
    "from sklearn.linear_model import LogisticRegression\n",
    "from sklearn.preprocessing import MinMaxScaler\n",
    "from sklearn.model_selection import train_test_split\n",
    "from sklearn.metrics import accuracy_score, precision_score, recall_score, f1_score, confusion_matrix, balanced_accuracy_score\n",
    "from sklearn.model_selection import KFold\n",
    "from imblearn.under_sampling import RandomUnderSampler"
   ]
  },
  {
   "cell_type": "code",
   "execution_count": 2,
   "metadata": {},
   "outputs": [],
   "source": [
    "df_polars_raiz = pl.read_parquet('../dataset.parquet')"
   ]
  },
  {
   "cell_type": "code",
   "execution_count": 3,
   "metadata": {},
   "outputs": [],
   "source": [
    "df_polars = df_polars_raiz.sample(fraction=0.01, seed=42)"
   ]
  },
  {
   "cell_type": "code",
   "execution_count": 4,
   "metadata": {},
   "outputs": [],
   "source": [
    "import ipaddress\n",
    "\n",
    "def ip_to_int(ip: str) -> int:\n",
    "    try:\n",
    "        return int(ipaddress.ip_address(ip))  # Funciona tanto para IPv4 quanto IPv6\n",
    "    except ValueError:\n",
    "        return None"
   ]
  },
  {
   "cell_type": "code",
   "execution_count": 5,
   "metadata": {},
   "outputs": [],
   "source": [
    "#df_polars = df_polars.with_columns([\n",
    "#    pl.col('id.resp_h').map_elements(ip_to_int).alias('id.resp_h'),\n",
    "#    pl.col('id.orig_h').map_elements(ip_to_int).alias('id.orig_h')\n",
    "#])"
   ]
  },
  {
   "cell_type": "code",
   "execution_count": 6,
   "metadata": {},
   "outputs": [],
   "source": [
    "df_polars = df_polars.with_columns([\n",
    "    pl.col('duration').fill_null(0),\n",
    "    pl.col('orig_bytes').fill_null(0),\n",
    "    pl.col('resp_bytes').fill_null(0)\n",
    "])"
   ]
  },
  {
   "cell_type": "code",
   "execution_count": 7,
   "metadata": {},
   "outputs": [],
   "source": [
    "lista_colunas = df_polars.columns\n",
    "colunas_para_spearman = ['id.resp_p', 'history', 'conn_state', 'id.orig_p', 'orig_ip_bytes', 'label']             \n",
    "#['detailed-label', 'id.resp_p', 'history', 'id.orig_h', 'conn_state', 'id.orig_p', 'orig_ip_bytes']\n",
    "colunas_para_dropar = [col for col in lista_colunas if col not in colunas_para_spearman]\n",
    "df_polars = df_polars.drop(colunas_para_dropar)"
   ]
  },
  {
   "cell_type": "code",
   "execution_count": 8,
   "metadata": {},
   "outputs": [],
   "source": [
    "df_polars = df_polars.drop_nulls()"
   ]
  },
  {
   "cell_type": "code",
   "execution_count": 9,
   "metadata": {},
   "outputs": [],
   "source": [
    "X = df_polars.drop('label')\n",
    "y = df_polars['label']       "
   ]
  },
  {
   "cell_type": "code",
   "execution_count": 10,
   "metadata": {},
   "outputs": [],
   "source": [
    "#X = X.to_numpy()\n",
    "#X[:, 0] = np.array([ip_to_int(ip) for ip in X[:, 0]])"
   ]
  },
  {
   "cell_type": "markdown",
   "metadata": {},
   "source": [
    "# Treinamento"
   ]
  },
  {
   "cell_type": "code",
   "execution_count": 11,
   "metadata": {},
   "outputs": [],
   "source": [
    "results = []"
   ]
  },
  {
   "cell_type": "code",
   "execution_count": 12,
   "metadata": {},
   "outputs": [],
   "source": [
    "def startTrain(X, y, penalty, C, solver):\n",
    "    kfold = KFold(n_splits=5, shuffle=True)\n",
    "    results_fold = []\n",
    "\n",
    "    for train_idx, test_idx in kfold.split(X):\n",
    "        X_train, X_test = X[train_idx], X[test_idx]\n",
    "        y_train, y_test = y[train_idx], y[test_idx]\n",
    "\n",
    "        # 🔹 Normalização MinMaxScaler\n",
    "        scaler = MinMaxScaler()\n",
    "        X_train_scaled = scaler.fit_transform(X_train)\n",
    "        X_test_scaled = scaler.transform(X_test)\n",
    "\n",
    "        # Aplicando o undersampling no conjunto de treino\n",
    "        #rus = RandomUnderSampler()\n",
    "        #X_train_resampled, y_train_resampled = rus.fit_resample(X_train_scaled, y_train)\n",
    "\n",
    "        start_training = time.time()\n",
    "\n",
    "        # Inicializa o modelo de Regressão Logística\n",
    "        lr = LogisticRegression(penalty=penalty, C=C, solver=solver)\n",
    "        \n",
    "        # Treina o modelo\n",
    "        lr.fit(X_train_scaled, y_train)\n",
    "        end_training = time.time()\n",
    "\n",
    "        # Predição\n",
    "        y_pred = lr.predict(X_test_scaled)\n",
    "        evaluation_duration = time.time() - end_training\n",
    "        training_duration = end_training - start_training\n",
    "        \n",
    "        confusion = confusion_matrix(y_test, y_pred)\n",
    "        tn, fp, fn, tp = confusion.ravel()\n",
    "        accuracy = accuracy_score(y_test, y_pred)\n",
    "        precision = precision_score(y_test, y_pred)\n",
    "        recall = recall_score(y_test, y_pred)\n",
    "        specificity = tn / (tn + fp)\n",
    "        f1 = f1_score(y_test, y_pred)\n",
    "        balanced_accuracy = balanced_accuracy_score(y_test, y_pred)\n",
    "        false_alarm_rate = fp / (fp + tn) if (fp + tn) > 0 else 0\n",
    "        \n",
    "        avaliacao = [accuracy, balanced_accuracy, precision, recall, specificity, f1, false_alarm_rate, tn, fp, fn, tp, training_duration, evaluation_duration]\n",
    "        #print(avaliacao)\n",
    "        results_fold.append(avaliacao)\n",
    "\n",
    "    results_fold_array = np.array(results_fold, dtype=np.float32)\n",
    "    mean_results = np.mean(results_fold_array, axis=0)\n",
    "    results.append([\"LR\"] + mean_results.tolist())"
   ]
  },
  {
   "cell_type": "code",
   "execution_count": 13,
   "metadata": {},
   "outputs": [],
   "source": [
    "#Melhores Hiperparâmetros encontrados: {'penalty': 'l2', 'C': 1, 'solver': 'newton-cg'}"
   ]
  },
  {
   "cell_type": "code",
   "execution_count": 14,
   "metadata": {},
   "outputs": [
    {
     "name": "stdout",
     "output_type": "stream",
     "text": [
      "1\n",
      "2\n",
      "3\n",
      "4\n",
      "5\n",
      "6\n",
      "7\n",
      "8\n",
      "9\n",
      "10\n"
     ]
    }
   ],
   "source": [
    "for i in range(1,11):\n",
    "    startTrain(X=X, y=y, penalty='l2', C=1, solver='newton-cg')\n",
    "    print(i)"
   ]
  },
  {
   "cell_type": "code",
   "execution_count": 15,
   "metadata": {},
   "outputs": [
    {
     "name": "stderr",
     "output_type": "stream",
     "text": [
      "c:\\Users\\rafae\\anaconda3\\envs\\tcc_2025_py39\\lib\\functools.py:888: DataOrientationWarning: Row orientation inferred during DataFrame construction. Explicitly specify the orientation by passing `orient=\"row\"` to silence this warning.\n",
      "  return dispatch(args[0].__class__)(*args, **kw)\n"
     ]
    },
    {
     "data": {
      "text/html": [
       "<div><style>\n",
       ".dataframe > thead > tr,\n",
       ".dataframe > tbody > tr {\n",
       "  text-align: right;\n",
       "  white-space: pre-wrap;\n",
       "}\n",
       "</style>\n",
       "<small>shape: (10, 14)</small><table border=\"1\" class=\"dataframe\"><thead><tr><th>Algorithm</th><th>Accuracy</th><th>Balanced Accuracy</th><th>Precision</th><th>Recall</th><th>Specificity</th><th>F1-score</th><th>False Alarm Rate</th><th>tn</th><th>fp</th><th>fn</th><th>tp</th><th>training_duration</th><th>evaluation_duration</th></tr><tr><td>str</td><td>f64</td><td>f64</td><td>f64</td><td>f64</td><td>f64</td><td>f64</td><td>f64</td><td>f64</td><td>f64</td><td>f64</td><td>f64</td><td>f64</td><td>f64</td></tr></thead><tbody><tr><td>&quot;LR&quot;</td><td>0.979893</td><td>0.96905</td><td>0.990989</td><td>0.985011</td><td>0.953088</td><td>0.987991</td><td>0.046912</td><td>16968.0</td><td>835.200012</td><td>1397.599976</td><td>91845.796875</td><td>1.051911</td><td>0.003257</td></tr><tr><td>&quot;LR&quot;</td><td>0.979902</td><td>0.969078</td><td>0.990999</td><td>0.985012</td><td>0.953145</td><td>0.987996</td><td>0.046855</td><td>16969.0</td><td>834.200012</td><td>1397.599976</td><td>91845.796875</td><td>1.141673</td><td>0.003518</td></tr><tr><td>&quot;LR&quot;</td><td>0.979899</td><td>0.969071</td><td>0.990997</td><td>0.985009</td><td>0.953133</td><td>0.987994</td><td>0.046866</td><td>16968.800781</td><td>834.400024</td><td>1397.800049</td><td>91845.601562</td><td>1.06284</td><td>0.003035</td></tr><tr><td>&quot;LR&quot;</td><td>0.9799</td><td>0.969074</td><td>0.990999</td><td>0.985009</td><td>0.95314</td><td>0.987995</td><td>0.04686</td><td>16969.0</td><td>834.200012</td><td>1397.800049</td><td>91845.601562</td><td>1.040117</td><td>0.002806</td></tr><tr><td>&quot;LR&quot;</td><td>0.979895</td><td>0.969062</td><td>0.990995</td><td>0.985007</td><td>0.953118</td><td>0.987992</td><td>0.046882</td><td>16968.599609</td><td>834.599976</td><td>1398.0</td><td>91845.398438</td><td>0.908792</td><td>0.003582</td></tr><tr><td>&quot;LR&quot;</td><td>0.979899</td><td>0.969063</td><td>0.990995</td><td>0.985011</td><td>0.953115</td><td>0.987994</td><td>0.046885</td><td>16968.599609</td><td>834.599976</td><td>1397.599976</td><td>91845.796875</td><td>1.05615</td><td>0.004201</td></tr><tr><td>&quot;LR&quot;</td><td>0.97989</td><td>0.969041</td><td>0.990986</td><td>0.985009</td><td>0.953072</td><td>0.987989</td><td>0.046928</td><td>16967.800781</td><td>835.400024</td><td>1397.800049</td><td>91845.601562</td><td>0.992062</td><td>0.003294</td></tr><tr><td>&quot;LR&quot;</td><td>0.979897</td><td>0.969057</td><td>0.990993</td><td>0.985011</td><td>0.953104</td><td>0.987993</td><td>0.046896</td><td>16968.400391</td><td>834.799988</td><td>1397.599976</td><td>91845.796875</td><td>0.875682</td><td>0.002044</td></tr><tr><td>&quot;LR&quot;</td><td>0.9799</td><td>0.969073</td><td>0.990997</td><td>0.985011</td><td>0.953134</td><td>0.987995</td><td>0.046866</td><td>16968.800781</td><td>834.400024</td><td>1397.599976</td><td>91845.796875</td><td>0.961263</td><td>0.003553</td></tr><tr><td>&quot;LR&quot;</td><td>0.979917</td><td>0.969088</td><td>0.990999</td><td>0.985029</td><td>0.953148</td><td>0.988005</td><td>0.046852</td><td>16969.0</td><td>834.200012</td><td>1396.0</td><td>91847.398438</td><td>1.030882</td><td>0.003684</td></tr></tbody></table></div>"
      ],
      "text/plain": [
       "shape: (10, 14)\n",
       "┌───────────┬──────────┬───────────┬───────────┬───┬───────────┬───────────┬───────────┬───────────┐\n",
       "│ Algorithm ┆ Accuracy ┆ Balanced  ┆ Precision ┆ … ┆ fn        ┆ tp        ┆ training_ ┆ evaluatio │\n",
       "│ ---       ┆ ---      ┆ Accuracy  ┆ ---       ┆   ┆ ---       ┆ ---       ┆ duration  ┆ n_duratio │\n",
       "│ str       ┆ f64      ┆ ---       ┆ f64       ┆   ┆ f64       ┆ f64       ┆ ---       ┆ n         │\n",
       "│           ┆          ┆ f64       ┆           ┆   ┆           ┆           ┆ f64       ┆ ---       │\n",
       "│           ┆          ┆           ┆           ┆   ┆           ┆           ┆           ┆ f64       │\n",
       "╞═══════════╪══════════╪═══════════╪═══════════╪═══╪═══════════╪═══════════╪═══════════╪═══════════╡\n",
       "│ LR        ┆ 0.979893 ┆ 0.96905   ┆ 0.990989  ┆ … ┆ 1397.5999 ┆ 91845.796 ┆ 1.051911  ┆ 0.003257  │\n",
       "│           ┆          ┆           ┆           ┆   ┆ 76        ┆ 875       ┆           ┆           │\n",
       "│ LR        ┆ 0.979902 ┆ 0.969078  ┆ 0.990999  ┆ … ┆ 1397.5999 ┆ 91845.796 ┆ 1.141673  ┆ 0.003518  │\n",
       "│           ┆          ┆           ┆           ┆   ┆ 76        ┆ 875       ┆           ┆           │\n",
       "│ LR        ┆ 0.979899 ┆ 0.969071  ┆ 0.990997  ┆ … ┆ 1397.8000 ┆ 91845.601 ┆ 1.06284   ┆ 0.003035  │\n",
       "│           ┆          ┆           ┆           ┆   ┆ 49        ┆ 562       ┆           ┆           │\n",
       "│ LR        ┆ 0.9799   ┆ 0.969074  ┆ 0.990999  ┆ … ┆ 1397.8000 ┆ 91845.601 ┆ 1.040117  ┆ 0.002806  │\n",
       "│           ┆          ┆           ┆           ┆   ┆ 49        ┆ 562       ┆           ┆           │\n",
       "│ LR        ┆ 0.979895 ┆ 0.969062  ┆ 0.990995  ┆ … ┆ 1398.0    ┆ 91845.398 ┆ 0.908792  ┆ 0.003582  │\n",
       "│           ┆          ┆           ┆           ┆   ┆           ┆ 438       ┆           ┆           │\n",
       "│ LR        ┆ 0.979899 ┆ 0.969063  ┆ 0.990995  ┆ … ┆ 1397.5999 ┆ 91845.796 ┆ 1.05615   ┆ 0.004201  │\n",
       "│           ┆          ┆           ┆           ┆   ┆ 76        ┆ 875       ┆           ┆           │\n",
       "│ LR        ┆ 0.97989  ┆ 0.969041  ┆ 0.990986  ┆ … ┆ 1397.8000 ┆ 91845.601 ┆ 0.992062  ┆ 0.003294  │\n",
       "│           ┆          ┆           ┆           ┆   ┆ 49        ┆ 562       ┆           ┆           │\n",
       "│ LR        ┆ 0.979897 ┆ 0.969057  ┆ 0.990993  ┆ … ┆ 1397.5999 ┆ 91845.796 ┆ 0.875682  ┆ 0.002044  │\n",
       "│           ┆          ┆           ┆           ┆   ┆ 76        ┆ 875       ┆           ┆           │\n",
       "│ LR        ┆ 0.9799   ┆ 0.969073  ┆ 0.990997  ┆ … ┆ 1397.5999 ┆ 91845.796 ┆ 0.961263  ┆ 0.003553  │\n",
       "│           ┆          ┆           ┆           ┆   ┆ 76        ┆ 875       ┆           ┆           │\n",
       "│ LR        ┆ 0.979917 ┆ 0.969088  ┆ 0.990999  ┆ … ┆ 1396.0    ┆ 91847.398 ┆ 1.030882  ┆ 0.003684  │\n",
       "│           ┆          ┆           ┆           ┆   ┆           ┆ 438       ┆           ┆           │\n",
       "└───────────┴──────────┴───────────┴───────────┴───┴───────────┴───────────┴───────────┴───────────┘"
      ]
     },
     "execution_count": 15,
     "metadata": {},
     "output_type": "execute_result"
    }
   ],
   "source": [
    "metrics_df = pl.DataFrame(\n",
    "    results,\n",
    "    schema=['Algorithm', 'Accuracy', 'Balanced Accuracy', 'Precision', 'Recall', 'Specificity', 'F1-score', 'False Alarm Rate', 'tn', 'fp', 'fn', 'tp', 'training_duration', 'evaluation_duration']\n",
    ")\n",
    "metrics_df"
   ]
  },
  {
   "cell_type": "code",
   "execution_count": 16,
   "metadata": {},
   "outputs": [],
   "source": [
    "metrics_df.write_csv(\"metrics_results/unbalanced_lr_metrics_output.csv\", separator=';')"
   ]
  }
 ],
 "metadata": {
  "kernelspec": {
   "display_name": "tcc_2025_py39",
   "language": "python",
   "name": "python3"
  },
  "language_info": {
   "codemirror_mode": {
    "name": "ipython",
    "version": 3
   },
   "file_extension": ".py",
   "mimetype": "text/x-python",
   "name": "python",
   "nbconvert_exporter": "python",
   "pygments_lexer": "ipython3",
   "version": "3.9.21"
  }
 },
 "nbformat": 4,
 "nbformat_minor": 2
}
