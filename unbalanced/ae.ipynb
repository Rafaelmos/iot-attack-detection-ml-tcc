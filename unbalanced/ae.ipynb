{
 "cells": [
  {
   "cell_type": "code",
   "execution_count": 1,
   "metadata": {},
   "outputs": [],
   "source": [
    "import polars as pl\n",
    "import numpy as np\n",
    "import time\n",
    "from sklearn.preprocessing import MinMaxScaler\n",
    "from sklearn.model_selection import train_test_split\n",
    "from sklearn.metrics import accuracy_score, precision_score, recall_score, f1_score, confusion_matrix, balanced_accuracy_score\n",
    "from sklearn.model_selection import KFold\n",
    "\n",
    "import torch\n",
    "import torch.nn as nn\n",
    "import torch.optim as optim\n",
    "from torch.utils.data import DataLoader, TensorDataset"
   ]
  },
  {
   "cell_type": "code",
   "execution_count": 2,
   "metadata": {},
   "outputs": [],
   "source": [
    "df_polars_raiz = pl.read_parquet('../dataset.parquet')"
   ]
  },
  {
   "cell_type": "code",
   "execution_count": 3,
   "metadata": {},
   "outputs": [],
   "source": [
    "df_polars = df_polars_raiz.sample(fraction=0.01, seed=42)"
   ]
  },
  {
   "cell_type": "code",
   "execution_count": 4,
   "metadata": {},
   "outputs": [],
   "source": [
    "import ipaddress\n",
    "\n",
    "def ip_to_int(ip: str) -> int:\n",
    "    try:\n",
    "        return int(ipaddress.ip_address(ip))  # Funciona tanto para IPv4 quanto IPv6\n",
    "    except ValueError:\n",
    "        return None"
   ]
  },
  {
   "cell_type": "code",
   "execution_count": 5,
   "metadata": {},
   "outputs": [],
   "source": [
    "#df_polars = df_polars.with_columns([\n",
    "#    pl.col('id.resp_h').map_elements(ip_to_int).alias('id.resp_h'),\n",
    "#    pl.col('id.orig_h').map_elements(ip_to_int).alias('id.orig_h')\n",
    "#])"
   ]
  },
  {
   "cell_type": "code",
   "execution_count": 6,
   "metadata": {},
   "outputs": [],
   "source": [
    "df_polars = df_polars.with_columns([\n",
    "    pl.col('duration').fill_null(0),\n",
    "    pl.col('orig_bytes').fill_null(0),\n",
    "    pl.col('resp_bytes').fill_null(0)\n",
    "])"
   ]
  },
  {
   "cell_type": "code",
   "execution_count": 7,
   "metadata": {},
   "outputs": [],
   "source": [
    "lista_colunas = df_polars.columns\n",
    "colunas_para_spearman = ['id.resp_p', 'history', 'conn_state', 'id.orig_p', 'orig_ip_bytes', 'label']             \n",
    "#['detailed-label', 'id.resp_p', 'history', 'id.orig_h', 'conn_state', 'id.orig_p', 'orig_ip_bytes']\n",
    "colunas_para_dropar = [col for col in lista_colunas if col not in colunas_para_spearman]\n",
    "df_polars = df_polars.drop(colunas_para_dropar)"
   ]
  },
  {
   "cell_type": "code",
   "execution_count": 8,
   "metadata": {},
   "outputs": [],
   "source": [
    "df_polars = df_polars.drop_nulls()"
   ]
  },
  {
   "cell_type": "code",
   "execution_count": 9,
   "metadata": {},
   "outputs": [],
   "source": [
    "X = df_polars.drop('label')\n",
    "y = df_polars['label']       "
   ]
  },
  {
   "cell_type": "code",
   "execution_count": 10,
   "metadata": {},
   "outputs": [],
   "source": [
    "#X = X.to_numpy()\n",
    "#X[:, 0] = np.array([ip_to_int(ip) for ip in X[:, 0]])"
   ]
  },
  {
   "cell_type": "markdown",
   "metadata": {},
   "source": [
    "# Treinamento"
   ]
  },
  {
   "cell_type": "code",
   "execution_count": 11,
   "metadata": {},
   "outputs": [],
   "source": [
    "results = []"
   ]
  },
  {
   "cell_type": "code",
   "execution_count": 12,
   "metadata": {},
   "outputs": [],
   "source": [
    "class Autoencoder(nn.Module):\n",
    "    def __init__(self, input_dim, hidden_dim):\n",
    "        super(Autoencoder, self).__init__()\n",
    "        self.encoder = nn.Sequential(\n",
    "            nn.Linear(input_dim, hidden_dim),\n",
    "            nn.ReLU(),\n",
    "            nn.Linear(hidden_dim, 8),\n",
    "            nn.ReLU(), \n",
    "        )\n",
    "        self.decoder = nn.Sequential(\n",
    "            nn.Linear(8, hidden_dim),\n",
    "            nn.ReLU(),\n",
    "            nn.Linear(hidden_dim, input_dim) \n",
    "        )\n",
    "        \n",
    "    def forward(self, x):\n",
    "        encoded = self.encoder(x)\n",
    "        decoded = self.decoder(encoded)\n",
    "        return decoded"
   ]
  },
  {
   "cell_type": "code",
   "execution_count": 13,
   "metadata": {},
   "outputs": [],
   "source": [
    "def startTrain(X, y, hidden_dim, epochs, learning_rate, batch_size):\n",
    "    kfold = KFold(n_splits=5, shuffle=True)\n",
    "    results_fold = []\n",
    "\n",
    "    for fold, (train_idx, test_idx) in enumerate(kfold.split(X)):\n",
    "        X_train, X_test = X[train_idx], X[test_idx]\n",
    "        y_train, y_test = y[train_idx], y[test_idx]\n",
    "\n",
    "        # Aplicar MinMaxScaler APENAS aos dados de treino\n",
    "        scaler = MinMaxScaler()\n",
    "        X_train = scaler.fit_transform(X_train)\n",
    "        X_test = scaler.transform(X_test)\n",
    "\n",
    "        # Filtrar apenas os dados benignos (classe 0) para treinar o Autoencoder\n",
    "        X_train = X_train[y_train == 0]\n",
    "\n",
    "        # Converter para tensores PyTorch\n",
    "        X_train_tensor = torch.tensor(X_train, dtype=torch.float32)\n",
    "        X_test_tensor = torch.tensor(X_test, dtype=torch.float32)\n",
    "        y_test_tensor = torch.tensor(y_test, dtype=torch.float32)\n",
    "\n",
    "        # Criar DataLoaders\n",
    "        train_dataset = TensorDataset(X_train_tensor)\n",
    "        test_dataset = TensorDataset(X_test_tensor, y_test_tensor)\n",
    "        train_loader = DataLoader(train_dataset, batch_size=batch_size, shuffle=True)\n",
    "        test_loader = DataLoader(test_dataset, batch_size=batch_size, shuffle=False)\n",
    "\n",
    "        # Configuração do dispositivo e modelo\n",
    "        device = torch.device('cuda' if torch.cuda.is_available() else 'cpu')\n",
    "        input_dim = X_train.shape[1]\n",
    "        model = Autoencoder(input_dim=input_dim, hidden_dim=hidden_dim).to(device)\n",
    "\n",
    "        # Definição da função de perda e otimizador\n",
    "        criterion = nn.MSELoss()\n",
    "        optimizer = optim.Adam(model.parameters(), lr=learning_rate)\n",
    "\n",
    "        # Treinamento\n",
    "        start_training = time.time()\n",
    "        for epoch in range(epochs):\n",
    "            model.train()\n",
    "            epoch_loss = 0\n",
    "            for data in train_loader:\n",
    "                inputs = data[0].to(device)\n",
    "                optimizer.zero_grad()\n",
    "                outputs = model(inputs)\n",
    "                loss = criterion(outputs, inputs)\n",
    "                loss.backward()\n",
    "                optimizer.step()\n",
    "                epoch_loss += loss.item() * inputs.size(0)\n",
    "\n",
    "        end_training = time.time()\n",
    "\n",
    "        # Avaliação do limiar baseado no conjunto de treino\n",
    "        model.eval()\n",
    "        reconstruction_errors_train = []\n",
    "        with torch.no_grad():\n",
    "            for data in train_loader:\n",
    "                inputs = data[0].to(device)\n",
    "                outputs = model(inputs)\n",
    "                reconstruction_error = torch.mean((outputs - inputs) ** 2, dim=1)\n",
    "                reconstruction_errors_train.extend(reconstruction_error.cpu().numpy())\n",
    "\n",
    "        reconstruction_errors_train = np.array(reconstruction_errors_train)\n",
    "        threshold = np.percentile(reconstruction_errors_train, 95)  # Limiar baseado no percentil 95\n",
    "\n",
    "        # Avaliação no conjunto de teste\n",
    "        reconstruction_errors_test = []\n",
    "        y_pred = []\n",
    "        with torch.no_grad():\n",
    "            for data in test_loader:\n",
    "                inputs, targets = data[0].to(device), data[1].cpu().numpy()\n",
    "                outputs = model(inputs)\n",
    "                reconstruction_error = torch.mean((outputs - inputs) ** 2, dim=1).cpu().numpy()\n",
    "                reconstruction_errors_test.extend(reconstruction_error)\n",
    "                y_pred.extend((reconstruction_error > threshold).astype(int))\n",
    "\n",
    "        # Conversão para numpy arrays\n",
    "        reconstruction_errors_test = np.array(reconstruction_errors_test)\n",
    "        y_pred = np.array(y_pred)\n",
    "\n",
    "        # Cálculo de métricas de desempenho\n",
    "        evaluation_time = time.time()\n",
    "        confusion = confusion_matrix(y_test, y_pred)\n",
    "        tn, fp, fn, tp = confusion.ravel()\n",
    "        accuracy = accuracy_score(y_test, y_pred)\n",
    "        precision = precision_score(y_test, y_pred)\n",
    "        recall = recall_score(y_test, y_pred)\n",
    "        specificity = tn / (tn + fp) if (tn + fp) > 0 else 0\n",
    "        f1 = f1_score(y_test, y_pred)\n",
    "        balanced_accuracy = balanced_accuracy_score(y_test, y_pred)\n",
    "        false_alarm_rate = fp / (fp + tn) if (fp + tn) > 0 else 0\n",
    "\n",
    "        training_duration = end_training - start_training\n",
    "        evaluation_duration = time.time() - end_training\n",
    "        avaliacao = [accuracy, balanced_accuracy, precision, recall, specificity, f1, false_alarm_rate, tn, fp, fn, tp, training_duration, evaluation_duration]\n",
    "        #print(avaliacao)\n",
    "        results_fold.append(avaliacao)\n",
    "\n",
    "    results_fold_array = np.array(results_fold, dtype=np.float32)\n",
    "    mean_results = np.mean(results_fold_array, axis=0)\n",
    "    results.append([\"AE\"] + mean_results.tolist())"
   ]
  },
  {
   "cell_type": "code",
   "execution_count": 14,
   "metadata": {},
   "outputs": [],
   "source": [
    "#Melhores Hiperparâmetros encontrados: {'hidden_dim': 16, 'epochs': 20, 'learning_rate': 0.001, 'batch_size': 512}"
   ]
  },
  {
   "cell_type": "code",
   "execution_count": 15,
   "metadata": {},
   "outputs": [
    {
     "name": "stdout",
     "output_type": "stream",
     "text": [
      "1\n",
      "2\n",
      "3\n",
      "4\n",
      "5\n",
      "6\n",
      "7\n",
      "8\n",
      "9\n",
      "10\n"
     ]
    }
   ],
   "source": [
    "for i in range(1,11):\n",
    "    startTrain(X, y, hidden_dim=16, epochs=20, learning_rate=0.001, batch_size=512)\n",
    "    print(i)"
   ]
  },
  {
   "cell_type": "code",
   "execution_count": 16,
   "metadata": {},
   "outputs": [
    {
     "name": "stderr",
     "output_type": "stream",
     "text": [
      "c:\\Users\\rafae\\anaconda3\\envs\\tcc_2025_py39\\lib\\functools.py:888: DataOrientationWarning: Row orientation inferred during DataFrame construction. Explicitly specify the orientation by passing `orient=\"row\"` to silence this warning.\n",
      "  return dispatch(args[0].__class__)(*args, **kw)\n"
     ]
    },
    {
     "data": {
      "text/html": [
       "<div><style>\n",
       ".dataframe > thead > tr,\n",
       ".dataframe > tbody > tr {\n",
       "  text-align: right;\n",
       "  white-space: pre-wrap;\n",
       "}\n",
       "</style>\n",
       "<small>shape: (10, 14)</small><table border=\"1\" class=\"dataframe\"><thead><tr><th>Algorithm</th><th>Accuracy</th><th>Balanced Accuracy</th><th>Precision</th><th>Recall</th><th>Specificity</th><th>F1-score</th><th>False Alarm Rate</th><th>tn</th><th>fp</th><th>fn</th><th>tp</th><th>training_duration</th><th>evaluation_duration</th></tr><tr><td>str</td><td>f64</td><td>f64</td><td>f64</td><td>f64</td><td>f64</td><td>f64</td><td>f64</td><td>f64</td><td>f64</td><td>f64</td><td>f64</td><td>f64</td><td>f64</td></tr></thead><tbody><tr><td>&quot;AE&quot;</td><td>0.98327</td><td>0.969887</td><td>0.990481</td><td>0.989586</td><td>0.950187</td><td>0.990033</td><td>0.049813</td><td>16916.400391</td><td>886.799988</td><td>971.0</td><td>92272.398438</td><td>10.863027</td><td>1.430868</td></tr><tr><td>&quot;AE&quot;</td><td>0.983643</td><td>0.970066</td><td>0.990464</td><td>0.990052</td><td>0.95008</td><td>0.990257</td><td>0.049921</td><td>16914.400391</td><td>888.799988</td><td>927.599976</td><td>92315.796875</td><td>11.031323</td><td>1.341935</td></tr><tr><td>&quot;AE&quot;</td><td>0.981685</td><td>0.968815</td><td>0.990404</td><td>0.987758</td><td>0.949872</td><td>0.989079</td><td>0.050128</td><td>16910.800781</td><td>892.400024</td><td>1141.400024</td><td>92102.0</td><td>10.211519</td><td>1.324315</td></tr><tr><td>&quot;AE&quot;</td><td>0.98293</td><td>0.969616</td><td>0.990445</td><td>0.989213</td><td>0.950019</td><td>0.989828</td><td>0.049981</td><td>16913.400391</td><td>889.799988</td><td>1005.799988</td><td>92237.601562</td><td>10.469568</td><td>1.347683</td></tr><tr><td>&quot;AE&quot;</td><td>0.982487</td><td>0.969315</td><td>0.990423</td><td>0.988705</td><td>0.949925</td><td>0.989561</td><td>0.050075</td><td>16911.800781</td><td>891.400024</td><td>1053.400024</td><td>92190.0</td><td>10.771115</td><td>1.402249</td></tr><tr><td>&quot;AE&quot;</td><td>0.983567</td><td>0.970001</td><td>0.990455</td><td>0.989971</td><td>0.950032</td><td>0.990212</td><td>0.049968</td><td>16913.599609</td><td>889.599976</td><td>935.200012</td><td>92308.203125</td><td>10.816902</td><td>1.431598</td></tr><tr><td>&quot;AE&quot;</td><td>0.981655</td><td>0.968914</td><td>0.990458</td><td>0.987668</td><td>0.950159</td><td>0.989059</td><td>0.049841</td><td>16916.0</td><td>887.200012</td><td>1150.0</td><td>92093.398438</td><td>13.489792</td><td>1.67585</td></tr><tr><td>&quot;AE&quot;</td><td>0.97918</td><td>0.967453</td><td>0.990434</td><td>0.984721</td><td>0.950185</td><td>0.987554</td><td>0.049815</td><td>16916.400391</td><td>886.799988</td><td>1425.199951</td><td>91818.203125</td><td>12.011002</td><td>1.58137</td></tr><tr><td>&quot;AE&quot;</td><td>0.978359</td><td>0.96713</td><td>0.990502</td><td>0.983653</td><td>0.950608</td><td>0.987043</td><td>0.049392</td><td>16923.800781</td><td>879.400024</td><td>1523.800049</td><td>91719.601562</td><td>12.33753</td><td>1.598603</td></tr><tr><td>&quot;AE&quot;</td><td>0.982777</td><td>0.969513</td><td>0.99044</td><td>0.989033</td><td>0.949993</td><td>0.989735</td><td>0.050007</td><td>16913.0</td><td>890.200012</td><td>1022.400024</td><td>92221.0</td><td>12.866748</td><td>1.66771</td></tr></tbody></table></div>"
      ],
      "text/plain": [
       "shape: (10, 14)\n",
       "┌───────────┬──────────┬───────────┬───────────┬───┬───────────┬───────────┬───────────┬───────────┐\n",
       "│ Algorithm ┆ Accuracy ┆ Balanced  ┆ Precision ┆ … ┆ fn        ┆ tp        ┆ training_ ┆ evaluatio │\n",
       "│ ---       ┆ ---      ┆ Accuracy  ┆ ---       ┆   ┆ ---       ┆ ---       ┆ duration  ┆ n_duratio │\n",
       "│ str       ┆ f64      ┆ ---       ┆ f64       ┆   ┆ f64       ┆ f64       ┆ ---       ┆ n         │\n",
       "│           ┆          ┆ f64       ┆           ┆   ┆           ┆           ┆ f64       ┆ ---       │\n",
       "│           ┆          ┆           ┆           ┆   ┆           ┆           ┆           ┆ f64       │\n",
       "╞═══════════╪══════════╪═══════════╪═══════════╪═══╪═══════════╪═══════════╪═══════════╪═══════════╡\n",
       "│ AE        ┆ 0.98327  ┆ 0.969887  ┆ 0.990481  ┆ … ┆ 971.0     ┆ 92272.398 ┆ 10.863027 ┆ 1.430868  │\n",
       "│           ┆          ┆           ┆           ┆   ┆           ┆ 438       ┆           ┆           │\n",
       "│ AE        ┆ 0.983643 ┆ 0.970066  ┆ 0.990464  ┆ … ┆ 927.59997 ┆ 92315.796 ┆ 11.031323 ┆ 1.341935  │\n",
       "│           ┆          ┆           ┆           ┆   ┆ 6         ┆ 875       ┆           ┆           │\n",
       "│ AE        ┆ 0.981685 ┆ 0.968815  ┆ 0.990404  ┆ … ┆ 1141.4000 ┆ 92102.0   ┆ 10.211519 ┆ 1.324315  │\n",
       "│           ┆          ┆           ┆           ┆   ┆ 24        ┆           ┆           ┆           │\n",
       "│ AE        ┆ 0.98293  ┆ 0.969616  ┆ 0.990445  ┆ … ┆ 1005.7999 ┆ 92237.601 ┆ 10.469568 ┆ 1.347683  │\n",
       "│           ┆          ┆           ┆           ┆   ┆ 88        ┆ 562       ┆           ┆           │\n",
       "│ AE        ┆ 0.982487 ┆ 0.969315  ┆ 0.990423  ┆ … ┆ 1053.4000 ┆ 92190.0   ┆ 10.771115 ┆ 1.402249  │\n",
       "│           ┆          ┆           ┆           ┆   ┆ 24        ┆           ┆           ┆           │\n",
       "│ AE        ┆ 0.983567 ┆ 0.970001  ┆ 0.990455  ┆ … ┆ 935.20001 ┆ 92308.203 ┆ 10.816902 ┆ 1.431598  │\n",
       "│           ┆          ┆           ┆           ┆   ┆ 2         ┆ 125       ┆           ┆           │\n",
       "│ AE        ┆ 0.981655 ┆ 0.968914  ┆ 0.990458  ┆ … ┆ 1150.0    ┆ 92093.398 ┆ 13.489792 ┆ 1.67585   │\n",
       "│           ┆          ┆           ┆           ┆   ┆           ┆ 438       ┆           ┆           │\n",
       "│ AE        ┆ 0.97918  ┆ 0.967453  ┆ 0.990434  ┆ … ┆ 1425.1999 ┆ 91818.203 ┆ 12.011002 ┆ 1.58137   │\n",
       "│           ┆          ┆           ┆           ┆   ┆ 51        ┆ 125       ┆           ┆           │\n",
       "│ AE        ┆ 0.978359 ┆ 0.96713   ┆ 0.990502  ┆ … ┆ 1523.8000 ┆ 91719.601 ┆ 12.33753  ┆ 1.598603  │\n",
       "│           ┆          ┆           ┆           ┆   ┆ 49        ┆ 562       ┆           ┆           │\n",
       "│ AE        ┆ 0.982777 ┆ 0.969513  ┆ 0.99044   ┆ … ┆ 1022.4000 ┆ 92221.0   ┆ 12.866748 ┆ 1.66771   │\n",
       "│           ┆          ┆           ┆           ┆   ┆ 24        ┆           ┆           ┆           │\n",
       "└───────────┴──────────┴───────────┴───────────┴───┴───────────┴───────────┴───────────┴───────────┘"
      ]
     },
     "execution_count": 16,
     "metadata": {},
     "output_type": "execute_result"
    }
   ],
   "source": [
    "metrics_df = pl.DataFrame(\n",
    "    results,\n",
    "    schema=['Algorithm', 'Accuracy', 'Balanced Accuracy' , 'Precision', 'Recall', 'Specificity', 'F1-score', 'False Alarm Rate', 'tn', 'fp', 'fn', 'tp', 'training_duration', 'evaluation_duration']\n",
    ")\n",
    "metrics_df"
   ]
  },
  {
   "cell_type": "code",
   "execution_count": 17,
   "metadata": {},
   "outputs": [],
   "source": [
    "metrics_df.write_csv(f\"metrics_results/unbalanced_AE_metrics_output.csv\", separator=';')"
   ]
  }
 ],
 "metadata": {
  "kernelspec": {
   "display_name": "tcc_2025_py39",
   "language": "python",
   "name": "python3"
  },
  "language_info": {
   "codemirror_mode": {
    "name": "ipython",
    "version": 3
   },
   "file_extension": ".py",
   "mimetype": "text/x-python",
   "name": "python",
   "nbconvert_exporter": "python",
   "pygments_lexer": "ipython3",
   "version": "3.9.21"
  }
 },
 "nbformat": 4,
 "nbformat_minor": 2
}
