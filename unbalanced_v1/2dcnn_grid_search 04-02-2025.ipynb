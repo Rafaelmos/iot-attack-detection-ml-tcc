{
 "cells": [
  {
   "cell_type": "code",
   "execution_count": 1,
   "metadata": {},
   "outputs": [],
   "source": [
    "import polars as pl\n",
    "import numpy as np\n",
    "import time\n",
    "from sklearn.preprocessing import MinMaxScaler\n",
    "from sklearn.model_selection import train_test_split\n",
    "from sklearn.metrics import accuracy_score, precision_score, recall_score, f1_score, confusion_matrix, balanced_accuracy_score\n",
    "from sklearn.model_selection import KFold\n",
    "import torch.optim as optim\n",
    "\n",
    "import math\n",
    "import torch\n",
    "import torch.nn as nn\n",
    "from torch.utils.data import TensorDataset, DataLoader"
   ]
  },
  {
   "cell_type": "code",
   "execution_count": 2,
   "metadata": {},
   "outputs": [],
   "source": [
    "df_polars_raiz = pl.read_parquet('../dataset.parquet')"
   ]
  },
  {
   "cell_type": "code",
   "execution_count": 3,
   "metadata": {},
   "outputs": [],
   "source": [
    "df_polars = df_polars_raiz.sample(fraction=0.01, seed=42)"
   ]
  },
  {
   "cell_type": "code",
   "execution_count": 4,
   "metadata": {},
   "outputs": [],
   "source": [
    "import ipaddress\n",
    "\n",
    "def ip_to_int(ip: str) -> int:\n",
    "    try:\n",
    "        return int(ipaddress.ip_address(ip))  # Funciona tanto para IPv4 quanto IPv6\n",
    "    except ValueError:\n",
    "        return None"
   ]
  },
  {
   "cell_type": "code",
   "execution_count": 5,
   "metadata": {},
   "outputs": [],
   "source": [
    "#df_polars = df_polars.with_columns([\n",
    "#    pl.col('id.resp_h').map_elements(ip_to_int).alias('id.resp_h'),\n",
    "#    pl.col('id.orig_h').map_elements(ip_to_int).alias('id.orig_h')\n",
    "#])"
   ]
  },
  {
   "cell_type": "code",
   "execution_count": 6,
   "metadata": {},
   "outputs": [
    {
     "data": {
      "text/html": [
       "<div><style>\n",
       ".dataframe > thead > tr,\n",
       ".dataframe > tbody > tr {\n",
       "  text-align: right;\n",
       "  white-space: pre-wrap;\n",
       "}\n",
       "</style>\n",
       "<small>shape: (555_233, 23)</small><table border=\"1\" class=\"dataframe\"><thead><tr><th>ts</th><th>uid</th><th>id.orig_h</th><th>id.orig_p</th><th>id.resp_h</th><th>id.resp_p</th><th>proto</th><th>service</th><th>duration</th><th>orig_bytes</th><th>resp_bytes</th><th>conn_state</th><th>local_orig</th><th>local_resp</th><th>missed_bytes</th><th>history</th><th>orig_pkts</th><th>orig_ip_bytes</th><th>resp_pkts</th><th>resp_ip_bytes</th><th>tunnel_parents</th><th>label</th><th>detailed-label</th></tr><tr><td>f64</td><td>str</td><td>str</td><td>i32</td><td>str</td><td>i32</td><td>i64</td><td>i64</td><td>f64</td><td>f64</td><td>f64</td><td>i64</td><td>str</td><td>str</td><td>i32</td><td>i64</td><td>i64</td><td>i64</td><td>i64</td><td>i64</td><td>str</td><td>i32</td><td>str</td></tr></thead><tbody><tr><td>1.5322e9</td><td>&quot;C63mNb4FhdpSoHAj9g&quot;</td><td>&quot;192.168.100.108&quot;</td><td>5526</td><td>&quot;47.138.157.173&quot;</td><td>37215</td><td>0</td><td>0</td><td>0.0</td><td>0.0</td><td>0.0</td><td>0</td><td>&quot;-&quot;</td><td>&quot;-&quot;</td><td>0</td><td>0</td><td>1</td><td>40</td><td>0</td><td>0</td><td>&quot;(empty)&quot;</td><td>1</td><td>&quot;Okiru&quot;</td></tr><tr><td>1.5326e9</td><td>&quot;CppkaidEFlUgsYbOh&quot;</td><td>&quot;192.168.100.111&quot;</td><td>60403</td><td>&quot;147.32.6.210&quot;</td><td>23</td><td>1</td><td>0</td><td>0.0</td><td>0.0</td><td>0.0</td><td>2</td><td>&quot;-&quot;</td><td>&quot;-&quot;</td><td>0</td><td>7</td><td>1</td><td>40</td><td>0</td><td>0</td><td>&quot;(empty)&quot;</td><td>1</td><td>&quot;PartOfAHorizontalPortScan&quot;</td></tr><tr><td>1.5326e9</td><td>&quot;CNXYoV2KOSjeK0XsCi&quot;</td><td>&quot;192.168.100.111&quot;</td><td>13386</td><td>&quot;50.229.102.190&quot;</td><td>81</td><td>1</td><td>0</td><td>0.0</td><td>0.0</td><td>0.0</td><td>2</td><td>&quot;-&quot;</td><td>&quot;-&quot;</td><td>0</td><td>7</td><td>1</td><td>40</td><td>0</td><td>0</td><td>&quot;(empty)&quot;</td><td>1</td><td>&quot;PartOfAHorizontalPortScan&quot;</td></tr><tr><td>1.5455e9</td><td>&quot;Cv91cy38cVUjBeny4k&quot;</td><td>&quot;192.168.1.198&quot;</td><td>36097</td><td>&quot;78.87.208.14&quot;</td><td>37215</td><td>0</td><td>0</td><td>null</td><td>null</td><td>null</td><td>0</td><td>&quot;-&quot;</td><td>&quot;-&quot;</td><td>0</td><td>0</td><td>1</td><td>40</td><td>0</td><td>0</td><td>&quot;-&quot;</td><td>1</td><td>&quot;Okiru&quot;</td></tr><tr><td>1.5454e9</td><td>&quot;CKvVZA3voOeDO627Ca&quot;</td><td>&quot;192.168.1.198&quot;</td><td>36097</td><td>&quot;202.99.70.13&quot;</td><td>37215</td><td>0</td><td>0</td><td>null</td><td>null</td><td>null</td><td>0</td><td>&quot;-&quot;</td><td>&quot;-&quot;</td><td>0</td><td>0</td><td>1</td><td>40</td><td>0</td><td>0</td><td>&quot;-&quot;</td><td>1</td><td>&quot;Okiru&quot;</td></tr><tr><td>&hellip;</td><td>&hellip;</td><td>&hellip;</td><td>&hellip;</td><td>&hellip;</td><td>&hellip;</td><td>&hellip;</td><td>&hellip;</td><td>&hellip;</td><td>&hellip;</td><td>&hellip;</td><td>&hellip;</td><td>&hellip;</td><td>&hellip;</td><td>&hellip;</td><td>&hellip;</td><td>&hellip;</td><td>&hellip;</td><td>&hellip;</td><td>&hellip;</td><td>&hellip;</td><td>&hellip;</td><td>&hellip;</td></tr><tr><td>1.5514e9</td><td>&quot;CwwQzn3658DIsMZ9uj&quot;</td><td>&quot;192.168.1.193&quot;</td><td>30535</td><td>&quot;217.130.2.16&quot;</td><td>8081</td><td>0</td><td>1</td><td>0.000005</td><td>0.0</td><td>0.0</td><td>1</td><td>&quot;-&quot;</td><td>&quot;-&quot;</td><td>0</td><td>1</td><td>2</td><td>80</td><td>0</td><td>0</td><td>&quot;-&quot;</td><td>1</td><td>&quot;PartOfAHorizontalPortScan&quot;</td></tr><tr><td>1.5454e9</td><td>&quot;CnykMt2RDdLvT42t8l&quot;</td><td>&quot;192.168.1.198&quot;</td><td>36097</td><td>&quot;112.160.204.32&quot;</td><td>37215</td><td>0</td><td>0</td><td>null</td><td>null</td><td>null</td><td>0</td><td>&quot;-&quot;</td><td>&quot;-&quot;</td><td>0</td><td>0</td><td>1</td><td>40</td><td>0</td><td>0</td><td>&quot;-&quot;</td><td>1</td><td>&quot;Okiru&quot;</td></tr><tr><td>1.5514e9</td><td>&quot;CDjM7C2ZIehXyoB3f&quot;</td><td>&quot;192.168.1.200&quot;</td><td>41258</td><td>&quot;134.130.151.164&quot;</td><td>23</td><td>0</td><td>1</td><td>0.000002</td><td>0.0</td><td>0.0</td><td>1</td><td>&quot;-&quot;</td><td>&quot;-&quot;</td><td>0</td><td>1</td><td>2</td><td>120</td><td>0</td><td>0</td><td>&quot;-&quot;</td><td>1</td><td>&quot;PartOfAHorizontalPortScan&quot;</td></tr><tr><td>1.5514e9</td><td>&quot;CttXNg3OrZSHSsUTH5&quot;</td><td>&quot;192.168.1.200&quot;</td><td>36658</td><td>&quot;171.251.198.162&quot;</td><td>23</td><td>0</td><td>1</td><td>0.000214</td><td>0.0</td><td>0.0</td><td>1</td><td>&quot;-&quot;</td><td>&quot;-&quot;</td><td>0</td><td>1</td><td>2</td><td>120</td><td>0</td><td>0</td><td>&quot;-&quot;</td><td>1</td><td>&quot;PartOfAHorizontalPortScan&quot;</td></tr><tr><td>1.5454e9</td><td>&quot;Czhqv31jbBelqVvOI&quot;</td><td>&quot;192.168.1.198&quot;</td><td>36097</td><td>&quot;223.8.201.70&quot;</td><td>37215</td><td>0</td><td>0</td><td>null</td><td>null</td><td>null</td><td>0</td><td>&quot;-&quot;</td><td>&quot;-&quot;</td><td>0</td><td>0</td><td>1</td><td>40</td><td>0</td><td>0</td><td>&quot;-&quot;</td><td>1</td><td>&quot;Okiru&quot;</td></tr></tbody></table></div>"
      ],
      "text/plain": [
       "shape: (555_233, 23)\n",
       "┌──────────┬────────────┬────────────┬───────────┬───┬────────────┬────────────┬───────┬───────────┐\n",
       "│ ts       ┆ uid        ┆ id.orig_h  ┆ id.orig_p ┆ … ┆ resp_ip_by ┆ tunnel_par ┆ label ┆ detailed- │\n",
       "│ ---      ┆ ---        ┆ ---        ┆ ---       ┆   ┆ tes        ┆ ents       ┆ ---   ┆ label     │\n",
       "│ f64      ┆ str        ┆ str        ┆ i32       ┆   ┆ ---        ┆ ---        ┆ i32   ┆ ---       │\n",
       "│          ┆            ┆            ┆           ┆   ┆ i64        ┆ str        ┆       ┆ str       │\n",
       "╞══════════╪════════════╪════════════╪═══════════╪═══╪════════════╪════════════╪═══════╪═══════════╡\n",
       "│ 1.5322e9 ┆ C63mNb4Fhd ┆ 192.168.10 ┆ 5526      ┆ … ┆ 0          ┆ (empty)    ┆ 1     ┆ Okiru     │\n",
       "│          ┆ pSoHAj9g   ┆ 0.108      ┆           ┆   ┆            ┆            ┆       ┆           │\n",
       "│ 1.5326e9 ┆ CppkaidEFl ┆ 192.168.10 ┆ 60403     ┆ … ┆ 0          ┆ (empty)    ┆ 1     ┆ PartOfAHo │\n",
       "│          ┆ UgsYbOh    ┆ 0.111      ┆           ┆   ┆            ┆            ┆       ┆ rizontalP │\n",
       "│          ┆            ┆            ┆           ┆   ┆            ┆            ┆       ┆ ortScan   │\n",
       "│ 1.5326e9 ┆ CNXYoV2KOS ┆ 192.168.10 ┆ 13386     ┆ … ┆ 0          ┆ (empty)    ┆ 1     ┆ PartOfAHo │\n",
       "│          ┆ jeK0XsCi   ┆ 0.111      ┆           ┆   ┆            ┆            ┆       ┆ rizontalP │\n",
       "│          ┆            ┆            ┆           ┆   ┆            ┆            ┆       ┆ ortScan   │\n",
       "│ 1.5455e9 ┆ Cv91cy38cV ┆ 192.168.1. ┆ 36097     ┆ … ┆ 0          ┆ -          ┆ 1     ┆ Okiru     │\n",
       "│          ┆ UjBeny4k   ┆ 198        ┆           ┆   ┆            ┆            ┆       ┆           │\n",
       "│ 1.5454e9 ┆ CKvVZA3voO ┆ 192.168.1. ┆ 36097     ┆ … ┆ 0          ┆ -          ┆ 1     ┆ Okiru     │\n",
       "│          ┆ eDO627Ca   ┆ 198        ┆           ┆   ┆            ┆            ┆       ┆           │\n",
       "│ …        ┆ …          ┆ …          ┆ …         ┆ … ┆ …          ┆ …          ┆ …     ┆ …         │\n",
       "│ 1.5514e9 ┆ CwwQzn3658 ┆ 192.168.1. ┆ 30535     ┆ … ┆ 0          ┆ -          ┆ 1     ┆ PartOfAHo │\n",
       "│          ┆ DIsMZ9uj   ┆ 193        ┆           ┆   ┆            ┆            ┆       ┆ rizontalP │\n",
       "│          ┆            ┆            ┆           ┆   ┆            ┆            ┆       ┆ ortScan   │\n",
       "│ 1.5454e9 ┆ CnykMt2RDd ┆ 192.168.1. ┆ 36097     ┆ … ┆ 0          ┆ -          ┆ 1     ┆ Okiru     │\n",
       "│          ┆ LvT42t8l   ┆ 198        ┆           ┆   ┆            ┆            ┆       ┆           │\n",
       "│ 1.5514e9 ┆ CDjM7C2ZIe ┆ 192.168.1. ┆ 41258     ┆ … ┆ 0          ┆ -          ┆ 1     ┆ PartOfAHo │\n",
       "│          ┆ hXyoB3f    ┆ 200        ┆           ┆   ┆            ┆            ┆       ┆ rizontalP │\n",
       "│          ┆            ┆            ┆           ┆   ┆            ┆            ┆       ┆ ortScan   │\n",
       "│ 1.5514e9 ┆ CttXNg3OrZ ┆ 192.168.1. ┆ 36658     ┆ … ┆ 0          ┆ -          ┆ 1     ┆ PartOfAHo │\n",
       "│          ┆ SHSsUTH5   ┆ 200        ┆           ┆   ┆            ┆            ┆       ┆ rizontalP │\n",
       "│          ┆            ┆            ┆           ┆   ┆            ┆            ┆       ┆ ortScan   │\n",
       "│ 1.5454e9 ┆ Czhqv31jbB ┆ 192.168.1. ┆ 36097     ┆ … ┆ 0          ┆ -          ┆ 1     ┆ Okiru     │\n",
       "│          ┆ elqVvOI    ┆ 198        ┆           ┆   ┆            ┆            ┆       ┆           │\n",
       "└──────────┴────────────┴────────────┴───────────┴───┴────────────┴────────────┴───────┴───────────┘"
      ]
     },
     "execution_count": 6,
     "metadata": {},
     "output_type": "execute_result"
    }
   ],
   "source": [
    "df_polars"
   ]
  },
  {
   "cell_type": "code",
   "execution_count": 7,
   "metadata": {},
   "outputs": [],
   "source": [
    "df_polars = df_polars.with_columns([\n",
    "    pl.col('duration').fill_null(0),\n",
    "    pl.col('orig_bytes').fill_null(0),\n",
    "    pl.col('resp_bytes').fill_null(0)\n",
    "])"
   ]
  },
  {
   "cell_type": "code",
   "execution_count": 8,
   "metadata": {},
   "outputs": [],
   "source": [
    "lista_colunas = df_polars.columns\n",
    "colunas_para_spearman = ['id.resp_p', 'history', 'conn_state', 'id.orig_p', 'orig_ip_bytes', 'label']             \n",
    "#['detailed-label', 'id.resp_p', 'history', 'id.orig_h', 'conn_state', 'id.orig_p', 'orig_ip_bytes']\n",
    "colunas_para_dropar = [col for col in lista_colunas if col not in colunas_para_spearman]\n",
    "df_polars = df_polars.drop(colunas_para_dropar)"
   ]
  },
  {
   "cell_type": "code",
   "execution_count": 9,
   "metadata": {},
   "outputs": [],
   "source": [
    "df_polars = df_polars.drop_nulls()"
   ]
  },
  {
   "cell_type": "code",
   "execution_count": 10,
   "metadata": {},
   "outputs": [],
   "source": [
    "X = df_polars.drop('label')\n",
    "y = df_polars['label']       "
   ]
  },
  {
   "cell_type": "code",
   "execution_count": 11,
   "metadata": {},
   "outputs": [
    {
     "ename": "TypeError",
     "evalue": "int() argument must be a string, a bytes-like object or a number, not 'NoneType'",
     "output_type": "error",
     "traceback": [
      "\u001b[1;31m---------------------------------------------------------------------------\u001b[0m",
      "\u001b[1;31mTypeError\u001b[0m                                 Traceback (most recent call last)",
      "Cell \u001b[1;32mIn[11], line 2\u001b[0m\n\u001b[0;32m      1\u001b[0m X \u001b[38;5;241m=\u001b[39m X\u001b[38;5;241m.\u001b[39mto_numpy()\n\u001b[1;32m----> 2\u001b[0m \u001b[43mX\u001b[49m\u001b[43m[\u001b[49m\u001b[43m:\u001b[49m\u001b[43m,\u001b[49m\u001b[43m \u001b[49m\u001b[38;5;241;43m0\u001b[39;49m\u001b[43m]\u001b[49m \u001b[38;5;241m=\u001b[39m np\u001b[38;5;241m.\u001b[39marray([ip_to_int(ip) \u001b[38;5;28;01mfor\u001b[39;00m ip \u001b[38;5;129;01min\u001b[39;00m X[:, \u001b[38;5;241m0\u001b[39m]])\n",
      "\u001b[1;31mTypeError\u001b[0m: int() argument must be a string, a bytes-like object or a number, not 'NoneType'"
     ]
    }
   ],
   "source": [
    "#X = X.to_numpy()\n",
    "#X[:, 0] = np.array([ip_to_int(ip) for ip in X[:, 0]])"
   ]
  },
  {
   "cell_type": "code",
   "execution_count": 12,
   "metadata": {},
   "outputs": [],
   "source": [
    "# calcular número desejado de características\n",
    "def calculate_desired_num_features(current_num_features):\n",
    "    root = math.sqrt(current_num_features)\n",
    "    desired_num_features = math.ceil(root) ** 2\n",
    "    \n",
    "    return desired_num_features"
   ]
  },
  {
   "cell_type": "code",
   "execution_count": 13,
   "metadata": {},
   "outputs": [
    {
     "name": "stdout",
     "output_type": "stream",
     "text": [
      "(555233, 5)\n"
     ]
    }
   ],
   "source": [
    "print(X.shape)\n"
   ]
  },
  {
   "cell_type": "markdown",
   "metadata": {},
   "source": [
    "# Treinamento"
   ]
  },
  {
   "cell_type": "code",
   "execution_count": 14,
   "metadata": {},
   "outputs": [],
   "source": [
    "results = []\n",
    "SAMPLE_2D_SIZE = 4"
   ]
  },
  {
   "cell_type": "code",
   "execution_count": 15,
   "metadata": {},
   "outputs": [],
   "source": [
    "class CNNModel(nn.Module):\n",
    "    def __init__(self, dropout_rate=0.2):\n",
    "        super(CNNModel, self).__init__()\n",
    "        \n",
    "        self.conv1 = nn.Conv2d(1, 64, kernel_size=2, stride=1, padding=0)\n",
    "        self.relu1 = nn.ReLU()\n",
    "        self.conv2 = nn.Conv2d(64, 64, kernel_size=2, stride=1, padding=0)\n",
    "        self.relu2 = nn.ReLU()\n",
    "        self.pool1 = nn.MaxPool2d(kernel_size=2, stride=2)\n",
    "        \n",
    "        def conv2d_out_size(size, kernel_size=2, stride=1, padding=0):\n",
    "            return (size - kernel_size + 2 * padding) // stride + 1\n",
    "        \n",
    "        size_after_conv1 = conv2d_out_size(SAMPLE_2D_SIZE, kernel_size=2)\n",
    "        size_after_conv2 = conv2d_out_size(size_after_conv1, kernel_size=2)\n",
    "        size_after_pool = conv2d_out_size(size_after_conv2, kernel_size=2, stride=2)\n",
    "        \n",
    "        self.fc1 = nn.Linear(64 * size_after_pool * size_after_pool, 64)\n",
    "        self.relu3 = nn.ReLU()\n",
    "        self.dropout = nn.Dropout(dropout_rate)\n",
    "        self.fc2 = nn.Linear(64, 1)\n",
    "        \n",
    "    def forward(self, x):\n",
    "        x = self.conv1(x)\n",
    "        x = self.relu1(x)\n",
    "        x = self.conv2(x)\n",
    "        x = self.relu2(x)\n",
    "        x = self.pool1(x)\n",
    "        x = x.view(x.size(0), -1)\n",
    "        x = self.fc1(x)\n",
    "        x = self.relu3(x)\n",
    "        x = self.dropout(x)\n",
    "        x = self.fc2(x)\n",
    "        return x.squeeze()"
   ]
  },
  {
   "cell_type": "code",
   "execution_count": 16,
   "metadata": {},
   "outputs": [],
   "source": [
    "def startTrain(dropout_rate=0.2, learning_rate=0.001, num_epochs=10):\n",
    "    kfold = KFold(n_splits=5, shuffle=True, random_state=42)\n",
    "    results_fold = []\n",
    "    \n",
    "    for train_idx, test_idx in kfold.split(X, y):\n",
    "        X_train, X_test = X[train_idx], X[test_idx]\n",
    "        y_train, y_test = y[train_idx], y[test_idx]\n",
    "    \n",
    "        scaler = MinMaxScaler()\n",
    "        X_train_scaled = scaler.fit_transform(X_train)\n",
    "        X_test_scaled = scaler.transform(X_test)\n",
    "    \n",
    "        desired_num_features = 16\n",
    "        current_num_features = X_train_scaled.shape[1]\n",
    "    \n",
    "        if current_num_features < desired_num_features:\n",
    "            padding = desired_num_features - current_num_features\n",
    "            X_train_scaled = np.pad(X_train_scaled, ((0, 0), (0, padding)), 'constant')\n",
    "            X_test_scaled = np.pad(X_test_scaled, ((0, 0), (0, padding)), 'constant')\n",
    "        elif current_num_features > desired_num_features:\n",
    "            raise ValueError(\"Número de características maior que o desejado.\")\n",
    "    \n",
    "        X_train_scaled = X_train_scaled.reshape(-1, 1, SAMPLE_2D_SIZE, SAMPLE_2D_SIZE)\n",
    "        X_test_scaled = X_test_scaled.reshape(-1, 1, SAMPLE_2D_SIZE, SAMPLE_2D_SIZE)\n",
    "    \n",
    "        X_train_tensor = torch.tensor(X_train_scaled, dtype=torch.float32)\n",
    "        y_train_tensor = torch.tensor(y_train, dtype=torch.float32)\n",
    "        X_test_tensor = torch.tensor(X_test_scaled, dtype=torch.float32)\n",
    "        y_test_tensor = torch.tensor(y_test, dtype=torch.float32)\n",
    "    \n",
    "        device = torch.device('cuda' if torch.cuda.is_available() else 'cpu')\n",
    "        model = CNNModel(dropout_rate=dropout_rate)\n",
    "        \n",
    "        criterion = nn.BCEWithLogitsLoss()\n",
    "        optimizer = optim.Adam(model.parameters(), lr=learning_rate)\n",
    "    \n",
    "        batch_size = 512\n",
    "        train_dataset = TensorDataset(X_train_tensor, y_train_tensor)\n",
    "        test_dataset = TensorDataset(X_test_tensor, y_test_tensor)\n",
    "        train_loader = DataLoader(train_dataset, batch_size=batch_size, shuffle=True)\n",
    "        test_loader = DataLoader(test_dataset, batch_size=batch_size)\n",
    "        \n",
    "        for epoch in range(num_epochs):\n",
    "            model.train()\n",
    "            for X_batch, y_batch in train_loader:\n",
    "                optimizer.zero_grad()\n",
    "                outputs = model(X_batch)\n",
    "                loss = criterion(outputs, y_batch)\n",
    "                loss.backward()\n",
    "                optimizer.step()\n",
    "    \n",
    "        model.eval()\n",
    "        all_preds = []\n",
    "        all_labels = []\n",
    "        \n",
    "        with torch.no_grad():\n",
    "            for X_batch, y_batch in test_loader:\n",
    "                outputs = model(X_batch)\n",
    "                preds = torch.sigmoid(outputs)\n",
    "                all_preds.extend(preds.cpu().numpy())\n",
    "                all_labels.extend(y_batch.cpu().numpy())\n",
    "\n",
    "        all_preds = np.array(all_preds)\n",
    "        all_labels = np.array(all_labels)\n",
    "        y_pred = (all_preds >= 0.5).astype(int)\n",
    "        y_true = all_labels\n",
    "    \n",
    "        accuracy = accuracy_score(y_true, y_pred)\n",
    "        results_fold.append(accuracy)\n",
    "        print(f\"Acurácia atual:{accuracy} \\n Lista: {np.mean(results_fold)}\")\n",
    "    return np.mean(results_fold)"
   ]
  },
  {
   "cell_type": "code",
   "execution_count": 17,
   "metadata": {},
   "outputs": [],
   "source": [
    "def grid_search():\n",
    "    param_grid = {\n",
    "        'conv1_out_channels': [32, 64],\n",
    "        'conv2_out_channels': [32, 64],\n",
    "        'dropout_rate': [0.2, 0.3, 0.4],\n",
    "        'learning_rate': [0.001, 0.0001],\n",
    "        'num_epochs': [6, 10]\n",
    "    }\n",
    "\n",
    "    best_accuracy = 0\n",
    "    best_params = {}\n",
    "\n",
    "    for dropout_rate in param_grid['dropout_rate']:\n",
    "        for learning_rate in param_grid['learning_rate']:\n",
    "            for num_epochs in param_grid['num_epochs']:\n",
    "                accuracy = startTrain(dropout_rate, learning_rate, num_epochs)\n",
    "                print(f\"dropout_rate={dropout_rate}, learning_rate={learning_rate}, num_epochs={num_epochs} -> Accuracy: {accuracy:.4f}\")\n",
    "                \n",
    "                if accuracy > best_accuracy:\n",
    "                    best_accuracy = accuracy\n",
    "                    best_params = {'dropout_rate': dropout_rate, 'learning_rate': learning_rate, 'num_epochs': num_epochs}\n",
    "    \n",
    "    print(\"\\nMelhores Hiperparâmetros encontrados:\", best_params)\n",
    "    print(f\"Melhor Acurácia Média: {best_accuracy:.4f}\")\n",
    "    return best_params"
   ]
  },
  {
   "cell_type": "code",
   "execution_count": 18,
   "metadata": {},
   "outputs": [
    {
     "name": "stdout",
     "output_type": "stream",
     "text": [
      "Acurácia atual:0.9896080038182031 \n",
      " Lista: 0.9896080038182031\n",
      "Acurácia atual:0.9900852792061019 \n",
      " Lista: 0.9898466415121525\n",
      "Acurácia atual:0.9897250713661783 \n",
      " Lista: 0.9898061181301611\n"
     ]
    },
    {
     "ename": "KeyboardInterrupt",
     "evalue": "",
     "output_type": "error",
     "traceback": [
      "\u001b[1;31m---------------------------------------------------------------------------\u001b[0m",
      "\u001b[1;31mKeyboardInterrupt\u001b[0m                         Traceback (most recent call last)",
      "Cell \u001b[1;32mIn[18], line 1\u001b[0m\n\u001b[1;32m----> 1\u001b[0m best_params \u001b[38;5;241m=\u001b[39m \u001b[43mgrid_search\u001b[49m\u001b[43m(\u001b[49m\u001b[43m)\u001b[49m\n",
      "Cell \u001b[1;32mIn[17], line 14\u001b[0m, in \u001b[0;36mgrid_search\u001b[1;34m()\u001b[0m\n\u001b[0;32m     12\u001b[0m \u001b[38;5;28;01mfor\u001b[39;00m learning_rate \u001b[38;5;129;01min\u001b[39;00m param_grid[\u001b[38;5;124m'\u001b[39m\u001b[38;5;124mlearning_rate\u001b[39m\u001b[38;5;124m'\u001b[39m]:\n\u001b[0;32m     13\u001b[0m     \u001b[38;5;28;01mfor\u001b[39;00m num_epochs \u001b[38;5;129;01min\u001b[39;00m param_grid[\u001b[38;5;124m'\u001b[39m\u001b[38;5;124mnum_epochs\u001b[39m\u001b[38;5;124m'\u001b[39m]:\n\u001b[1;32m---> 14\u001b[0m         accuracy \u001b[38;5;241m=\u001b[39m \u001b[43mstartTrain\u001b[49m\u001b[43m(\u001b[49m\u001b[43mdropout_rate\u001b[49m\u001b[43m,\u001b[49m\u001b[43m \u001b[49m\u001b[43mlearning_rate\u001b[49m\u001b[43m,\u001b[49m\u001b[43m \u001b[49m\u001b[43mnum_epochs\u001b[49m\u001b[43m)\u001b[49m\n\u001b[0;32m     15\u001b[0m         \u001b[38;5;28mprint\u001b[39m(\u001b[38;5;124mf\u001b[39m\u001b[38;5;124m\"\u001b[39m\u001b[38;5;124mdropout_rate=\u001b[39m\u001b[38;5;132;01m{\u001b[39;00mdropout_rate\u001b[38;5;132;01m}\u001b[39;00m\u001b[38;5;124m, learning_rate=\u001b[39m\u001b[38;5;132;01m{\u001b[39;00mlearning_rate\u001b[38;5;132;01m}\u001b[39;00m\u001b[38;5;124m, num_epochs=\u001b[39m\u001b[38;5;132;01m{\u001b[39;00mnum_epochs\u001b[38;5;132;01m}\u001b[39;00m\u001b[38;5;124m -> Accuracy: \u001b[39m\u001b[38;5;132;01m{\u001b[39;00maccuracy\u001b[38;5;132;01m:\u001b[39;00m\u001b[38;5;124m.4f\u001b[39m\u001b[38;5;132;01m}\u001b[39;00m\u001b[38;5;124m\"\u001b[39m)\n\u001b[0;32m     17\u001b[0m         \u001b[38;5;28;01mif\u001b[39;00m accuracy \u001b[38;5;241m>\u001b[39m best_accuracy:\n",
      "Cell \u001b[1;32mIn[16], line 47\u001b[0m, in \u001b[0;36mstartTrain\u001b[1;34m(dropout_rate, learning_rate, num_epochs)\u001b[0m\n\u001b[0;32m     45\u001b[0m \u001b[38;5;28;01mfor\u001b[39;00m X_batch, y_batch \u001b[38;5;129;01min\u001b[39;00m train_loader:\n\u001b[0;32m     46\u001b[0m     optimizer\u001b[38;5;241m.\u001b[39mzero_grad()\n\u001b[1;32m---> 47\u001b[0m     outputs \u001b[38;5;241m=\u001b[39m \u001b[43mmodel\u001b[49m\u001b[43m(\u001b[49m\u001b[43mX_batch\u001b[49m\u001b[43m)\u001b[49m\n\u001b[0;32m     48\u001b[0m     loss \u001b[38;5;241m=\u001b[39m criterion(outputs, y_batch)\n\u001b[0;32m     49\u001b[0m     loss\u001b[38;5;241m.\u001b[39mbackward()\n",
      "File \u001b[1;32mc:\\Users\\rafae\\anaconda3\\envs\\tcc_2025_py39\\lib\\site-packages\\torch\\nn\\modules\\module.py:1532\u001b[0m, in \u001b[0;36mModule._wrapped_call_impl\u001b[1;34m(self, *args, **kwargs)\u001b[0m\n\u001b[0;32m   1530\u001b[0m     \u001b[38;5;28;01mreturn\u001b[39;00m \u001b[38;5;28mself\u001b[39m\u001b[38;5;241m.\u001b[39m_compiled_call_impl(\u001b[38;5;241m*\u001b[39margs, \u001b[38;5;241m*\u001b[39m\u001b[38;5;241m*\u001b[39mkwargs)  \u001b[38;5;66;03m# type: ignore[misc]\u001b[39;00m\n\u001b[0;32m   1531\u001b[0m \u001b[38;5;28;01melse\u001b[39;00m:\n\u001b[1;32m-> 1532\u001b[0m     \u001b[38;5;28;01mreturn\u001b[39;00m \u001b[38;5;28mself\u001b[39m\u001b[38;5;241m.\u001b[39m_call_impl(\u001b[38;5;241m*\u001b[39margs, \u001b[38;5;241m*\u001b[39m\u001b[38;5;241m*\u001b[39mkwargs)\n",
      "File \u001b[1;32mc:\\Users\\rafae\\anaconda3\\envs\\tcc_2025_py39\\lib\\site-packages\\torch\\nn\\modules\\module.py:1541\u001b[0m, in \u001b[0;36mModule._call_impl\u001b[1;34m(self, *args, **kwargs)\u001b[0m\n\u001b[0;32m   1536\u001b[0m \u001b[38;5;66;03m# If we don't have any hooks, we want to skip the rest of the logic in\u001b[39;00m\n\u001b[0;32m   1537\u001b[0m \u001b[38;5;66;03m# this function, and just call forward.\u001b[39;00m\n\u001b[0;32m   1538\u001b[0m \u001b[38;5;28;01mif\u001b[39;00m \u001b[38;5;129;01mnot\u001b[39;00m (\u001b[38;5;28mself\u001b[39m\u001b[38;5;241m.\u001b[39m_backward_hooks \u001b[38;5;129;01mor\u001b[39;00m \u001b[38;5;28mself\u001b[39m\u001b[38;5;241m.\u001b[39m_backward_pre_hooks \u001b[38;5;129;01mor\u001b[39;00m \u001b[38;5;28mself\u001b[39m\u001b[38;5;241m.\u001b[39m_forward_hooks \u001b[38;5;129;01mor\u001b[39;00m \u001b[38;5;28mself\u001b[39m\u001b[38;5;241m.\u001b[39m_forward_pre_hooks\n\u001b[0;32m   1539\u001b[0m         \u001b[38;5;129;01mor\u001b[39;00m _global_backward_pre_hooks \u001b[38;5;129;01mor\u001b[39;00m _global_backward_hooks\n\u001b[0;32m   1540\u001b[0m         \u001b[38;5;129;01mor\u001b[39;00m _global_forward_hooks \u001b[38;5;129;01mor\u001b[39;00m _global_forward_pre_hooks):\n\u001b[1;32m-> 1541\u001b[0m     \u001b[38;5;28;01mreturn\u001b[39;00m forward_call(\u001b[38;5;241m*\u001b[39margs, \u001b[38;5;241m*\u001b[39m\u001b[38;5;241m*\u001b[39mkwargs)\n\u001b[0;32m   1543\u001b[0m \u001b[38;5;28;01mtry\u001b[39;00m:\n\u001b[0;32m   1544\u001b[0m     result \u001b[38;5;241m=\u001b[39m \u001b[38;5;28;01mNone\u001b[39;00m\n",
      "Cell \u001b[1;32mIn[15], line 24\u001b[0m, in \u001b[0;36mCNNModel.forward\u001b[1;34m(self, x)\u001b[0m\n\u001b[0;32m     23\u001b[0m \u001b[38;5;28;01mdef\u001b[39;00m \u001b[38;5;21mforward\u001b[39m(\u001b[38;5;28mself\u001b[39m, x):\n\u001b[1;32m---> 24\u001b[0m     x \u001b[38;5;241m=\u001b[39m \u001b[38;5;28;43mself\u001b[39;49m\u001b[38;5;241;43m.\u001b[39;49m\u001b[43mconv1\u001b[49m\u001b[43m(\u001b[49m\u001b[43mx\u001b[49m\u001b[43m)\u001b[49m\n\u001b[0;32m     25\u001b[0m     x \u001b[38;5;241m=\u001b[39m \u001b[38;5;28mself\u001b[39m\u001b[38;5;241m.\u001b[39mrelu1(x)\n\u001b[0;32m     26\u001b[0m     x \u001b[38;5;241m=\u001b[39m \u001b[38;5;28mself\u001b[39m\u001b[38;5;241m.\u001b[39mconv2(x)\n",
      "File \u001b[1;32mc:\\Users\\rafae\\anaconda3\\envs\\tcc_2025_py39\\lib\\site-packages\\torch\\nn\\modules\\module.py:1532\u001b[0m, in \u001b[0;36mModule._wrapped_call_impl\u001b[1;34m(self, *args, **kwargs)\u001b[0m\n\u001b[0;32m   1530\u001b[0m     \u001b[38;5;28;01mreturn\u001b[39;00m \u001b[38;5;28mself\u001b[39m\u001b[38;5;241m.\u001b[39m_compiled_call_impl(\u001b[38;5;241m*\u001b[39margs, \u001b[38;5;241m*\u001b[39m\u001b[38;5;241m*\u001b[39mkwargs)  \u001b[38;5;66;03m# type: ignore[misc]\u001b[39;00m\n\u001b[0;32m   1531\u001b[0m \u001b[38;5;28;01melse\u001b[39;00m:\n\u001b[1;32m-> 1532\u001b[0m     \u001b[38;5;28;01mreturn\u001b[39;00m \u001b[38;5;28mself\u001b[39m\u001b[38;5;241m.\u001b[39m_call_impl(\u001b[38;5;241m*\u001b[39margs, \u001b[38;5;241m*\u001b[39m\u001b[38;5;241m*\u001b[39mkwargs)\n",
      "File \u001b[1;32mc:\\Users\\rafae\\anaconda3\\envs\\tcc_2025_py39\\lib\\site-packages\\torch\\nn\\modules\\module.py:1541\u001b[0m, in \u001b[0;36mModule._call_impl\u001b[1;34m(self, *args, **kwargs)\u001b[0m\n\u001b[0;32m   1536\u001b[0m \u001b[38;5;66;03m# If we don't have any hooks, we want to skip the rest of the logic in\u001b[39;00m\n\u001b[0;32m   1537\u001b[0m \u001b[38;5;66;03m# this function, and just call forward.\u001b[39;00m\n\u001b[0;32m   1538\u001b[0m \u001b[38;5;28;01mif\u001b[39;00m \u001b[38;5;129;01mnot\u001b[39;00m (\u001b[38;5;28mself\u001b[39m\u001b[38;5;241m.\u001b[39m_backward_hooks \u001b[38;5;129;01mor\u001b[39;00m \u001b[38;5;28mself\u001b[39m\u001b[38;5;241m.\u001b[39m_backward_pre_hooks \u001b[38;5;129;01mor\u001b[39;00m \u001b[38;5;28mself\u001b[39m\u001b[38;5;241m.\u001b[39m_forward_hooks \u001b[38;5;129;01mor\u001b[39;00m \u001b[38;5;28mself\u001b[39m\u001b[38;5;241m.\u001b[39m_forward_pre_hooks\n\u001b[0;32m   1539\u001b[0m         \u001b[38;5;129;01mor\u001b[39;00m _global_backward_pre_hooks \u001b[38;5;129;01mor\u001b[39;00m _global_backward_hooks\n\u001b[0;32m   1540\u001b[0m         \u001b[38;5;129;01mor\u001b[39;00m _global_forward_hooks \u001b[38;5;129;01mor\u001b[39;00m _global_forward_pre_hooks):\n\u001b[1;32m-> 1541\u001b[0m     \u001b[38;5;28;01mreturn\u001b[39;00m forward_call(\u001b[38;5;241m*\u001b[39margs, \u001b[38;5;241m*\u001b[39m\u001b[38;5;241m*\u001b[39mkwargs)\n\u001b[0;32m   1543\u001b[0m \u001b[38;5;28;01mtry\u001b[39;00m:\n\u001b[0;32m   1544\u001b[0m     result \u001b[38;5;241m=\u001b[39m \u001b[38;5;28;01mNone\u001b[39;00m\n",
      "File \u001b[1;32mc:\\Users\\rafae\\anaconda3\\envs\\tcc_2025_py39\\lib\\site-packages\\torch\\nn\\modules\\conv.py:460\u001b[0m, in \u001b[0;36mConv2d.forward\u001b[1;34m(self, input)\u001b[0m\n\u001b[0;32m    459\u001b[0m \u001b[38;5;28;01mdef\u001b[39;00m \u001b[38;5;21mforward\u001b[39m(\u001b[38;5;28mself\u001b[39m, \u001b[38;5;28minput\u001b[39m: Tensor) \u001b[38;5;241m-\u001b[39m\u001b[38;5;241m>\u001b[39m Tensor:\n\u001b[1;32m--> 460\u001b[0m     \u001b[38;5;28;01mreturn\u001b[39;00m \u001b[38;5;28;43mself\u001b[39;49m\u001b[38;5;241;43m.\u001b[39;49m\u001b[43m_conv_forward\u001b[49m\u001b[43m(\u001b[49m\u001b[38;5;28;43minput\u001b[39;49m\u001b[43m,\u001b[49m\u001b[43m \u001b[49m\u001b[38;5;28;43mself\u001b[39;49m\u001b[38;5;241;43m.\u001b[39;49m\u001b[43mweight\u001b[49m\u001b[43m,\u001b[49m\u001b[43m \u001b[49m\u001b[38;5;28;43mself\u001b[39;49m\u001b[38;5;241;43m.\u001b[39;49m\u001b[43mbias\u001b[49m\u001b[43m)\u001b[49m\n",
      "File \u001b[1;32mc:\\Users\\rafae\\anaconda3\\envs\\tcc_2025_py39\\lib\\site-packages\\torch\\nn\\modules\\conv.py:456\u001b[0m, in \u001b[0;36mConv2d._conv_forward\u001b[1;34m(self, input, weight, bias)\u001b[0m\n\u001b[0;32m    452\u001b[0m \u001b[38;5;28;01mif\u001b[39;00m \u001b[38;5;28mself\u001b[39m\u001b[38;5;241m.\u001b[39mpadding_mode \u001b[38;5;241m!=\u001b[39m \u001b[38;5;124m'\u001b[39m\u001b[38;5;124mzeros\u001b[39m\u001b[38;5;124m'\u001b[39m:\n\u001b[0;32m    453\u001b[0m     \u001b[38;5;28;01mreturn\u001b[39;00m F\u001b[38;5;241m.\u001b[39mconv2d(F\u001b[38;5;241m.\u001b[39mpad(\u001b[38;5;28minput\u001b[39m, \u001b[38;5;28mself\u001b[39m\u001b[38;5;241m.\u001b[39m_reversed_padding_repeated_twice, mode\u001b[38;5;241m=\u001b[39m\u001b[38;5;28mself\u001b[39m\u001b[38;5;241m.\u001b[39mpadding_mode),\n\u001b[0;32m    454\u001b[0m                     weight, bias, \u001b[38;5;28mself\u001b[39m\u001b[38;5;241m.\u001b[39mstride,\n\u001b[0;32m    455\u001b[0m                     _pair(\u001b[38;5;241m0\u001b[39m), \u001b[38;5;28mself\u001b[39m\u001b[38;5;241m.\u001b[39mdilation, \u001b[38;5;28mself\u001b[39m\u001b[38;5;241m.\u001b[39mgroups)\n\u001b[1;32m--> 456\u001b[0m \u001b[38;5;28;01mreturn\u001b[39;00m \u001b[43mF\u001b[49m\u001b[38;5;241;43m.\u001b[39;49m\u001b[43mconv2d\u001b[49m\u001b[43m(\u001b[49m\u001b[38;5;28;43minput\u001b[39;49m\u001b[43m,\u001b[49m\u001b[43m \u001b[49m\u001b[43mweight\u001b[49m\u001b[43m,\u001b[49m\u001b[43m \u001b[49m\u001b[43mbias\u001b[49m\u001b[43m,\u001b[49m\u001b[43m \u001b[49m\u001b[38;5;28;43mself\u001b[39;49m\u001b[38;5;241;43m.\u001b[39;49m\u001b[43mstride\u001b[49m\u001b[43m,\u001b[49m\n\u001b[0;32m    457\u001b[0m \u001b[43m                \u001b[49m\u001b[38;5;28;43mself\u001b[39;49m\u001b[38;5;241;43m.\u001b[39;49m\u001b[43mpadding\u001b[49m\u001b[43m,\u001b[49m\u001b[43m \u001b[49m\u001b[38;5;28;43mself\u001b[39;49m\u001b[38;5;241;43m.\u001b[39;49m\u001b[43mdilation\u001b[49m\u001b[43m,\u001b[49m\u001b[43m \u001b[49m\u001b[38;5;28;43mself\u001b[39;49m\u001b[38;5;241;43m.\u001b[39;49m\u001b[43mgroups\u001b[49m\u001b[43m)\u001b[49m\n",
      "\u001b[1;31mKeyboardInterrupt\u001b[0m: "
     ]
    }
   ],
   "source": [
    "best_params = grid_search()"
   ]
  },
  {
   "cell_type": "code",
   "execution_count": 21,
   "metadata": {},
   "outputs": [
    {
     "name": "stdout",
     "output_type": "stream",
     "text": [
      "1\n",
      "2\n",
      "3\n",
      "4\n",
      "5\n",
      "6\n",
      "7\n",
      "8\n",
      "9\n",
      "10\n",
      "11\n",
      "12\n",
      "13\n",
      "14\n",
      "15\n",
      "16\n",
      "17\n",
      "18\n",
      "19\n",
      "20\n",
      "21\n",
      "22\n",
      "23\n",
      "24\n",
      "25\n",
      "26\n",
      "27\n",
      "28\n",
      "29\n",
      "30\n"
     ]
    }
   ],
   "source": [
    "print(\"\\nMelhores Hiperparâmetros encontrados:\", best_params)"
   ]
  }
 ],
 "metadata": {
  "kernelspec": {
   "display_name": "tcc_2025_py39",
   "language": "python",
   "name": "python3"
  },
  "language_info": {
   "codemirror_mode": {
    "name": "ipython",
    "version": 3
   },
   "file_extension": ".py",
   "mimetype": "text/x-python",
   "name": "python",
   "nbconvert_exporter": "python",
   "pygments_lexer": "ipython3",
   "version": "3.9.21"
  }
 },
 "nbformat": 4,
 "nbformat_minor": 2
}
