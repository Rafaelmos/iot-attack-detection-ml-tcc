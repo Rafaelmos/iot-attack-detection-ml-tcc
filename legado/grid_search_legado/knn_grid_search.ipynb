{
 "cells": [
  {
   "cell_type": "code",
   "execution_count": 1,
   "metadata": {},
   "outputs": [],
   "source": [
    "import polars as pl\n",
    "import numpy as np\n",
    "import time\n",
    "from sklearn.neighbors import KNeighborsClassifier\n",
    "from sklearn.preprocessing import MinMaxScaler\n",
    "from sklearn.model_selection import train_test_split\n",
    "from sklearn.metrics import accuracy_score, precision_score, recall_score, f1_score, confusion_matrix, balanced_accuracy_score\n",
    "from sklearn.model_selection import KFold\n"
   ]
  },
  {
   "cell_type": "code",
   "execution_count": 2,
   "metadata": {},
   "outputs": [],
   "source": [
    "df_polars_raiz = pl.read_parquet('../dataset.parquet')"
   ]
  },
  {
   "cell_type": "code",
   "execution_count": 3,
   "metadata": {},
   "outputs": [],
   "source": [
    "df_polars = df_polars_raiz.sample(fraction=0.01, seed=42)"
   ]
  },
  {
   "cell_type": "code",
   "execution_count": 4,
   "metadata": {},
   "outputs": [],
   "source": [
    "import ipaddress\n",
    "\n",
    "def ip_to_int(ip: str) -> int:\n",
    "    try:\n",
    "        return int(ipaddress.ip_address(ip))  # Funciona tanto para IPv4 quanto IPv6\n",
    "    except ValueError:\n",
    "        return None"
   ]
  },
  {
   "cell_type": "code",
   "execution_count": 5,
   "metadata": {},
   "outputs": [],
   "source": [
    "#df_polars = df_polars.with_columns([\n",
    "#    pl.col('id.resp_h').map_elements(ip_to_int).alias('id.resp_h'),\n",
    "#    pl.col('id.orig_h').map_elements(ip_to_int).alias('id.orig_h')\n",
    "#])"
   ]
  },
  {
   "cell_type": "code",
   "execution_count": 6,
   "metadata": {},
   "outputs": [],
   "source": [
    "df_polars = df_polars.with_columns([\n",
    "    pl.col('duration').fill_null(0),\n",
    "    pl.col('orig_bytes').fill_null(0),\n",
    "    pl.col('resp_bytes').fill_null(0)\n",
    "])"
   ]
  },
  {
   "cell_type": "code",
   "execution_count": 7,
   "metadata": {},
   "outputs": [],
   "source": [
    "lista_colunas = df_polars.columns\n",
    "colunas_para_spearman = ['id.resp_p', 'history', 'conn_state', 'id.orig_p', 'orig_ip_bytes', 'label']             \n",
    "#['detailed-label', 'id.resp_p', 'history', 'id.orig_h', 'conn_state', 'id.orig_p', 'orig_ip_bytes']\n",
    "colunas_para_dropar = [col for col in lista_colunas if col not in colunas_para_spearman]\n",
    "df_polars = df_polars.drop(colunas_para_dropar)"
   ]
  },
  {
   "cell_type": "code",
   "execution_count": 8,
   "metadata": {},
   "outputs": [
    {
     "data": {
      "text/html": [
       "<div><style>\n",
       ".dataframe > thead > tr,\n",
       ".dataframe > tbody > tr {\n",
       "  text-align: right;\n",
       "  white-space: pre-wrap;\n",
       "}\n",
       "</style>\n",
       "<small>shape: (555_233, 6)</small><table border=\"1\" class=\"dataframe\"><thead><tr><th>id.orig_p</th><th>id.resp_p</th><th>conn_state</th><th>history</th><th>orig_ip_bytes</th><th>label</th></tr><tr><td>i32</td><td>i32</td><td>i64</td><td>i64</td><td>i64</td><td>i32</td></tr></thead><tbody><tr><td>5526</td><td>37215</td><td>0</td><td>0</td><td>40</td><td>1</td></tr><tr><td>60403</td><td>23</td><td>2</td><td>7</td><td>40</td><td>1</td></tr><tr><td>13386</td><td>81</td><td>2</td><td>7</td><td>40</td><td>1</td></tr><tr><td>36097</td><td>37215</td><td>0</td><td>0</td><td>40</td><td>1</td></tr><tr><td>36097</td><td>37215</td><td>0</td><td>0</td><td>40</td><td>1</td></tr><tr><td>&hellip;</td><td>&hellip;</td><td>&hellip;</td><td>&hellip;</td><td>&hellip;</td><td>&hellip;</td></tr><tr><td>30535</td><td>8081</td><td>1</td><td>1</td><td>80</td><td>1</td></tr><tr><td>36097</td><td>37215</td><td>0</td><td>0</td><td>40</td><td>1</td></tr><tr><td>41258</td><td>23</td><td>1</td><td>1</td><td>120</td><td>1</td></tr><tr><td>36658</td><td>23</td><td>1</td><td>1</td><td>120</td><td>1</td></tr><tr><td>36097</td><td>37215</td><td>0</td><td>0</td><td>40</td><td>1</td></tr></tbody></table></div>"
      ],
      "text/plain": [
       "shape: (555_233, 6)\n",
       "┌───────────┬───────────┬────────────┬─────────┬───────────────┬───────┐\n",
       "│ id.orig_p ┆ id.resp_p ┆ conn_state ┆ history ┆ orig_ip_bytes ┆ label │\n",
       "│ ---       ┆ ---       ┆ ---        ┆ ---     ┆ ---           ┆ ---   │\n",
       "│ i32       ┆ i32       ┆ i64        ┆ i64     ┆ i64           ┆ i32   │\n",
       "╞═══════════╪═══════════╪════════════╪═════════╪═══════════════╪═══════╡\n",
       "│ 5526      ┆ 37215     ┆ 0          ┆ 0       ┆ 40            ┆ 1     │\n",
       "│ 60403     ┆ 23        ┆ 2          ┆ 7       ┆ 40            ┆ 1     │\n",
       "│ 13386     ┆ 81        ┆ 2          ┆ 7       ┆ 40            ┆ 1     │\n",
       "│ 36097     ┆ 37215     ┆ 0          ┆ 0       ┆ 40            ┆ 1     │\n",
       "│ 36097     ┆ 37215     ┆ 0          ┆ 0       ┆ 40            ┆ 1     │\n",
       "│ …         ┆ …         ┆ …          ┆ …       ┆ …             ┆ …     │\n",
       "│ 30535     ┆ 8081      ┆ 1          ┆ 1       ┆ 80            ┆ 1     │\n",
       "│ 36097     ┆ 37215     ┆ 0          ┆ 0       ┆ 40            ┆ 1     │\n",
       "│ 41258     ┆ 23        ┆ 1          ┆ 1       ┆ 120           ┆ 1     │\n",
       "│ 36658     ┆ 23        ┆ 1          ┆ 1       ┆ 120           ┆ 1     │\n",
       "│ 36097     ┆ 37215     ┆ 0          ┆ 0       ┆ 40            ┆ 1     │\n",
       "└───────────┴───────────┴────────────┴─────────┴───────────────┴───────┘"
      ]
     },
     "execution_count": 8,
     "metadata": {},
     "output_type": "execute_result"
    }
   ],
   "source": [
    "df_polars"
   ]
  },
  {
   "cell_type": "code",
   "execution_count": 9,
   "metadata": {},
   "outputs": [],
   "source": [
    "df_polars = df_polars.drop_nulls()"
   ]
  },
  {
   "cell_type": "code",
   "execution_count": 10,
   "metadata": {},
   "outputs": [],
   "source": [
    "X = df_polars.drop('label')\n",
    "y = df_polars['label']       "
   ]
  },
  {
   "cell_type": "code",
   "execution_count": 11,
   "metadata": {},
   "outputs": [],
   "source": [
    "#X = X.to_numpy()\n",
    "#X[:, 0] = np.array([ip_to_int(ip) for ip in X[:, 0]])"
   ]
  },
  {
   "cell_type": "markdown",
   "metadata": {},
   "source": [
    "# Treinamento"
   ]
  },
  {
   "cell_type": "code",
   "execution_count": 12,
   "metadata": {},
   "outputs": [],
   "source": [
    "results = []"
   ]
  },
  {
   "cell_type": "code",
   "execution_count": null,
   "metadata": {},
   "outputs": [],
   "source": [
    "def startTrain(X, y, n_neighbors, metric, weights):\n",
    "    kfold = KFold(n_splits=5, shuffle=True, random_state=42)\n",
    "    results_fold = []\n",
    "\n",
    "    for train_idx, test_idx in kfold.split(X):\n",
    "        X_train, X_test = X[train_idx], X[test_idx]\n",
    "        y_train, y_test = y[train_idx], y[test_idx]\n",
    "\n",
    "        scaler = MinMaxScaler()\n",
    "        X_train_scaled = scaler.fit_transform(X_train)\n",
    "        X_test_scaled = scaler.transform(X_test)\n",
    "\n",
    "        knn = KNeighborsClassifier(n_neighbors=n_neighbors, metric=metric, weights=weights)\n",
    "\n",
    "        start_training = time.time() \n",
    "        knn.fit(X_train_scaled, y_train)\n",
    "        end_training = time.time()\n",
    "\n",
    "        y_pred = knn.predict(X_test_scaled)\n",
    "        evaluation_time = time.time()\n",
    "\n",
    "        accuracy = accuracy_score(y_test, y_pred)\n",
    "        results_fold.append(accuracy)\n",
    "\n",
    "    return np.mean(results_fold)"
   ]
  },
  {
   "cell_type": "code",
   "execution_count": null,
   "metadata": {},
   "outputs": [],
   "source": [
    "def grid_search():\n",
    "    param_grid = {\n",
    "        'n_neighbors': [3, 5, 7, 9, 11],\n",
    "        'metric': ['euclidean', 'manhattan', 'minkowski'],\n",
    "        'weights': ['uniform', 'distance']\n",
    "    }\n",
    "\n",
    "    best_accuracy = 0\n",
    "    best_params = {}\n",
    "\n",
    "    for n_neighbors in param_grid['n_neighbors']:\n",
    "        for metric in param_grid['metric']:\n",
    "            for weights in param_grid['weights']:\n",
    "                \n",
    "                accuracy = startTrain(X, y, n_neighbors=n_neighbors, metric=metric, weights=weights)\n",
    "                \n",
    "                print(f\"n_neighbors={n_neighbors}, metric={metric}, weights={weights} -> Accuracy: {accuracy}\")\n",
    "\n",
    "                if accuracy > best_accuracy:\n",
    "                    best_accuracy = accuracy\n",
    "                    best_params = {\n",
    "                        'n_neighbors': n_neighbors,\n",
    "                        'metric': metric,\n",
    "                        'weights': weights\n",
    "                    }\n",
    "\n",
    "    print(\"\\nMelhores Hiperparâmetros encontrados:\", best_params)\n",
    "    print(f\"Melhor Acurácia Média: {best_accuracy}\")\n",
    "    return best_params"
   ]
  },
  {
   "cell_type": "code",
   "execution_count": 15,
   "metadata": {},
   "outputs": [
    {
     "name": "stdout",
     "output_type": "stream",
     "text": [
      "n_neighbors=3, metric=euclidean, weights=uniform -> Accuracy: 0.9918754819385729\n",
      "n_neighbors=3, metric=euclidean, weights=distance -> Accuracy: 0.9919403195443854\n",
      "n_neighbors=3, metric=manhattan, weights=uniform -> Accuracy: 0.9920447803694044\n",
      "n_neighbors=3, metric=manhattan, weights=distance -> Accuracy: 0.9920015551691117\n",
      "n_neighbors=3, metric=minkowski, weights=uniform -> Accuracy: 0.9918754819385729\n",
      "n_neighbors=3, metric=minkowski, weights=distance -> Accuracy: 0.9919403195443854\n",
      "n_neighbors=5, metric=euclidean, weights=uniform -> Accuracy: 0.9921672517323892\n",
      "n_neighbors=5, metric=euclidean, weights=distance -> Accuracy: 0.9919223093307966\n",
      "n_neighbors=5, metric=manhattan, weights=uniform -> Accuracy: 0.9922104767218366\n",
      "n_neighbors=5, metric=manhattan, weights=distance -> Accuracy: 0.9919601312513018\n",
      "n_neighbors=5, metric=minkowski, weights=uniform -> Accuracy: 0.9921672517323892\n",
      "n_neighbors=5, metric=minkowski, weights=distance -> Accuracy: 0.9919223093307966\n",
      "n_neighbors=7, metric=euclidean, weights=uniform -> Accuracy: 0.99220147136365\n",
      "n_neighbors=7, metric=euclidean, weights=distance -> Accuracy: 0.9919349167998203\n",
      "n_neighbors=7, metric=manhattan, weights=uniform -> Accuracy: 0.9921960682460511\n",
      "n_neighbors=7, metric=manhattan, weights=distance -> Accuracy: 0.9919277125781463\n",
      "n_neighbors=7, metric=minkowski, weights=uniform -> Accuracy: 0.99220147136365\n",
      "n_neighbors=7, metric=minkowski, weights=distance -> Accuracy: 0.9919349167998203\n",
      "n_neighbors=9, metric=euclidean, weights=uniform -> Accuracy: 0.9922014714285254\n",
      "n_neighbors=9, metric=euclidean, weights=distance -> Accuracy: 0.9919223094443288\n",
      "n_neighbors=9, metric=manhattan, weights=uniform -> Accuracy: 0.9921924661514332\n",
      "n_neighbors=9, metric=manhattan, weights=distance -> Accuracy: 0.9919115031442555\n",
      "n_neighbors=9, metric=minkowski, weights=uniform -> Accuracy: 0.9922014714285254\n",
      "n_neighbors=9, metric=minkowski, weights=distance -> Accuracy: 0.9919223094443288\n",
      "n_neighbors=11, metric=euclidean, weights=uniform -> Accuracy: 0.9921888641216903\n",
      "n_neighbors=11, metric=euclidean, weights=distance -> Accuracy: 0.9918970947820019\n",
      "n_neighbors=11, metric=manhattan, weights=uniform -> Accuracy: 0.9921744557269992\n",
      "n_neighbors=11, metric=manhattan, weights=distance -> Accuracy: 0.9918790843089116\n",
      "n_neighbors=11, metric=minkowski, weights=uniform -> Accuracy: 0.9921888641216903\n",
      "n_neighbors=11, metric=minkowski, weights=distance -> Accuracy: 0.9918970947820019\n",
      "\n",
      "Melhores Hiperparâmetros encontrados: {'n_neighbors': 5, 'metric': 'manhattan', 'weights': 'uniform'}\n",
      "Melhor Acurácia Média: 0.9922104767218366\n"
     ]
    }
   ],
   "source": [
    "inicio = time.time()\n",
    "best_params = grid_search()\n",
    "fim = time.time()"
   ]
  },
  {
   "cell_type": "code",
   "execution_count": 16,
   "metadata": {},
   "outputs": [
    {
     "name": "stdout",
     "output_type": "stream",
     "text": [
      "20498.069157600403\n"
     ]
    }
   ],
   "source": [
    "duracao = fim - inicio\n",
    "print(duracao)"
   ]
  },
  {
   "cell_type": "code",
   "execution_count": 17,
   "metadata": {},
   "outputs": [
    {
     "name": "stdout",
     "output_type": "stream",
     "text": [
      "\n",
      "Melhores Hiperparâmetros encontrados: {'n_neighbors': 5, 'metric': 'manhattan', 'weights': 'uniform'}\n"
     ]
    }
   ],
   "source": [
    "print(\"\\nMelhores Hiperparâmetros encontrados:\", best_params)"
   ]
  }
 ],
 "metadata": {
  "kernelspec": {
   "display_name": "tcc_2025_py39",
   "language": "python",
   "name": "python3"
  },
  "language_info": {
   "codemirror_mode": {
    "name": "ipython",
    "version": 3
   },
   "file_extension": ".py",
   "mimetype": "text/x-python",
   "name": "python",
   "nbconvert_exporter": "python",
   "pygments_lexer": "ipython3",
   "version": "3.9.21"
  }
 },
 "nbformat": 4,
 "nbformat_minor": 2
}
