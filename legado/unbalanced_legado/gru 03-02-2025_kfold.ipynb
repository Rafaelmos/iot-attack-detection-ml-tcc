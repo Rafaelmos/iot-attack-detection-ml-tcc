{
 "cells": [
  {
   "cell_type": "code",
   "execution_count": 19,
   "metadata": {},
   "outputs": [],
   "source": [
    "import polars as pl\n",
    "import numpy as np\n",
    "import time\n",
    "import ipaddress\n",
    "from sklearn.model_selection import KFold\n",
    "from sklearn.preprocessing import MinMaxScaler\n",
    "from sklearn.model_selection import train_test_split\n",
    "from sklearn.metrics import accuracy_score, precision_score, recall_score, f1_score, confusion_matrix, balanced_accuracy_score\n",
    "\n",
    "import torch\n",
    "import torch.nn as nn\n",
    "import torch.optim as optim\n",
    "from torch.utils.data import TensorDataset, DataLoader"
   ]
  },
  {
   "cell_type": "code",
   "execution_count": 2,
   "metadata": {},
   "outputs": [],
   "source": [
    "df_polars_raiz = pl.read_parquet('../dataset.parquet')"
   ]
  },
  {
   "cell_type": "code",
   "execution_count": 3,
   "metadata": {},
   "outputs": [],
   "source": [
    "df_polars = df_polars_raiz.sample(fraction=0.01, seed=42)"
   ]
  },
  {
   "cell_type": "code",
   "execution_count": 4,
   "metadata": {},
   "outputs": [],
   "source": [
    "def ip_to_int(ip: str) -> int:\n",
    "    try:\n",
    "        return int(ipaddress.ip_address(ip))  # Funciona tanto para IPv4 quanto IPv6\n",
    "    except ValueError:\n",
    "        return None"
   ]
  },
  {
   "cell_type": "code",
   "execution_count": 5,
   "metadata": {},
   "outputs": [],
   "source": [
    "#df_polars = df_polars.with_columns([\n",
    "#    pl.col('id.resp_h').map_elements(ip_to_int).alias('id.resp_h'),\n",
    "#    pl.col('id.orig_h').map_elements(ip_to_int).alias('id.orig_h')\n",
    "#])"
   ]
  },
  {
   "cell_type": "code",
   "execution_count": 6,
   "metadata": {},
   "outputs": [],
   "source": [
    "df_polars = df_polars.with_columns([\n",
    "    pl.col('duration').fill_null(0),\n",
    "    pl.col('orig_bytes').fill_null(0),\n",
    "    pl.col('resp_bytes').fill_null(0)\n",
    "])"
   ]
  },
  {
   "cell_type": "code",
   "execution_count": 7,
   "metadata": {},
   "outputs": [],
   "source": [
    "lista_colunas = df_polars.columns\n",
    "colunas_para_spearman = ['id.resp_p', 'history', 'id.orig_h', 'conn_state', 'id.orig_p', 'orig_ip_bytes', 'label', 'ts']\n",
    "colunas_para_dropar = [col for col in lista_colunas if col not in colunas_para_spearman]\n",
    "df_polars = df_polars.drop(colunas_para_dropar)"
   ]
  },
  {
   "cell_type": "code",
   "execution_count": 8,
   "metadata": {},
   "outputs": [],
   "source": [
    "df_polars = df_polars.drop_nulls()\n"
   ]
  },
  {
   "cell_type": "code",
   "execution_count": 9,
   "metadata": {},
   "outputs": [
    {
     "data": {
      "text/html": [
       "<div><style>\n",
       ".dataframe > thead > tr,\n",
       ".dataframe > tbody > tr {\n",
       "  text-align: right;\n",
       "  white-space: pre-wrap;\n",
       "}\n",
       "</style>\n",
       "<small>shape: (555_233, 8)</small><table border=\"1\" class=\"dataframe\"><thead><tr><th>ts</th><th>id.orig_h</th><th>id.orig_p</th><th>id.resp_p</th><th>conn_state</th><th>history</th><th>orig_ip_bytes</th><th>label</th></tr><tr><td>f64</td><td>str</td><td>i32</td><td>i32</td><td>i64</td><td>i64</td><td>i64</td><td>i32</td></tr></thead><tbody><tr><td>1.5322e9</td><td>&quot;192.168.100.108&quot;</td><td>5526</td><td>37215</td><td>0</td><td>0</td><td>40</td><td>1</td></tr><tr><td>1.5326e9</td><td>&quot;192.168.100.111&quot;</td><td>60403</td><td>23</td><td>2</td><td>7</td><td>40</td><td>1</td></tr><tr><td>1.5326e9</td><td>&quot;192.168.100.111&quot;</td><td>13386</td><td>81</td><td>2</td><td>7</td><td>40</td><td>1</td></tr><tr><td>1.5455e9</td><td>&quot;192.168.1.198&quot;</td><td>36097</td><td>37215</td><td>0</td><td>0</td><td>40</td><td>1</td></tr><tr><td>1.5454e9</td><td>&quot;192.168.1.198&quot;</td><td>36097</td><td>37215</td><td>0</td><td>0</td><td>40</td><td>1</td></tr><tr><td>&hellip;</td><td>&hellip;</td><td>&hellip;</td><td>&hellip;</td><td>&hellip;</td><td>&hellip;</td><td>&hellip;</td><td>&hellip;</td></tr><tr><td>1.5514e9</td><td>&quot;192.168.1.193&quot;</td><td>30535</td><td>8081</td><td>1</td><td>1</td><td>80</td><td>1</td></tr><tr><td>1.5454e9</td><td>&quot;192.168.1.198&quot;</td><td>36097</td><td>37215</td><td>0</td><td>0</td><td>40</td><td>1</td></tr><tr><td>1.5514e9</td><td>&quot;192.168.1.200&quot;</td><td>41258</td><td>23</td><td>1</td><td>1</td><td>120</td><td>1</td></tr><tr><td>1.5514e9</td><td>&quot;192.168.1.200&quot;</td><td>36658</td><td>23</td><td>1</td><td>1</td><td>120</td><td>1</td></tr><tr><td>1.5454e9</td><td>&quot;192.168.1.198&quot;</td><td>36097</td><td>37215</td><td>0</td><td>0</td><td>40</td><td>1</td></tr></tbody></table></div>"
      ],
      "text/plain": [
       "shape: (555_233, 8)\n",
       "┌──────────┬────────────────┬───────────┬───────────┬────────────┬─────────┬───────────────┬───────┐\n",
       "│ ts       ┆ id.orig_h      ┆ id.orig_p ┆ id.resp_p ┆ conn_state ┆ history ┆ orig_ip_bytes ┆ label │\n",
       "│ ---      ┆ ---            ┆ ---       ┆ ---       ┆ ---        ┆ ---     ┆ ---           ┆ ---   │\n",
       "│ f64      ┆ str            ┆ i32       ┆ i32       ┆ i64        ┆ i64     ┆ i64           ┆ i32   │\n",
       "╞══════════╪════════════════╪═══════════╪═══════════╪════════════╪═════════╪═══════════════╪═══════╡\n",
       "│ 1.5322e9 ┆ 192.168.100.10 ┆ 5526      ┆ 37215     ┆ 0          ┆ 0       ┆ 40            ┆ 1     │\n",
       "│          ┆ 8              ┆           ┆           ┆            ┆         ┆               ┆       │\n",
       "│ 1.5326e9 ┆ 192.168.100.11 ┆ 60403     ┆ 23        ┆ 2          ┆ 7       ┆ 40            ┆ 1     │\n",
       "│          ┆ 1              ┆           ┆           ┆            ┆         ┆               ┆       │\n",
       "│ 1.5326e9 ┆ 192.168.100.11 ┆ 13386     ┆ 81        ┆ 2          ┆ 7       ┆ 40            ┆ 1     │\n",
       "│          ┆ 1              ┆           ┆           ┆            ┆         ┆               ┆       │\n",
       "│ 1.5455e9 ┆ 192.168.1.198  ┆ 36097     ┆ 37215     ┆ 0          ┆ 0       ┆ 40            ┆ 1     │\n",
       "│ 1.5454e9 ┆ 192.168.1.198  ┆ 36097     ┆ 37215     ┆ 0          ┆ 0       ┆ 40            ┆ 1     │\n",
       "│ …        ┆ …              ┆ …         ┆ …         ┆ …          ┆ …       ┆ …             ┆ …     │\n",
       "│ 1.5514e9 ┆ 192.168.1.193  ┆ 30535     ┆ 8081      ┆ 1          ┆ 1       ┆ 80            ┆ 1     │\n",
       "│ 1.5454e9 ┆ 192.168.1.198  ┆ 36097     ┆ 37215     ┆ 0          ┆ 0       ┆ 40            ┆ 1     │\n",
       "│ 1.5514e9 ┆ 192.168.1.200  ┆ 41258     ┆ 23        ┆ 1          ┆ 1       ┆ 120           ┆ 1     │\n",
       "│ 1.5514e9 ┆ 192.168.1.200  ┆ 36658     ┆ 23        ┆ 1          ┆ 1       ┆ 120           ┆ 1     │\n",
       "│ 1.5454e9 ┆ 192.168.1.198  ┆ 36097     ┆ 37215     ┆ 0          ┆ 0       ┆ 40            ┆ 1     │\n",
       "└──────────┴────────────────┴───────────┴───────────┴────────────┴─────────┴───────────────┴───────┘"
      ]
     },
     "execution_count": 9,
     "metadata": {},
     "output_type": "execute_result"
    }
   ],
   "source": [
    "df_polars"
   ]
  },
  {
   "cell_type": "code",
   "execution_count": 10,
   "metadata": {},
   "outputs": [],
   "source": [
    "df_polars = df_polars.with_columns(pl.col(\"ts\").cast(pl.Datetime))\n"
   ]
  },
  {
   "cell_type": "code",
   "execution_count": 11,
   "metadata": {},
   "outputs": [],
   "source": [
    "df_polars = df_polars.with_columns(pl.col(\"ts\").cast(pl.Int64))\n"
   ]
  },
  {
   "cell_type": "code",
   "execution_count": 12,
   "metadata": {},
   "outputs": [],
   "source": [
    "df_polars = df_polars.sort([\"id.orig_h\", \"ts\"])  # Ordenando por IP de origem e tempo\n",
    "\n",
    "window_size = 5  # Tamanho da janela temporal\n",
    "step_size = 1  # Passo entre janelas\n",
    "\n",
    "def create_sequences(df, window_size, step_size):\n",
    "    sequences, labels = [], []\n",
    "    for group in df.partition_by(\"id.orig_h\"):  # Correção aqui\n",
    "        group_np = group.drop(\"id.orig_h\").to_numpy()\n",
    "        for i in range(0, len(group_np) - window_size, step_size):\n",
    "            seq = group_np[i:i + window_size, :-1]  # Features\n",
    "            label = group_np[i + window_size - 1, -1]  # Última linha como rótulo\n",
    "            sequences.append(seq)\n",
    "            labels.append(label)\n",
    "    return np.array(sequences), np.array(labels)\n",
    "\n",
    "X, y = create_sequences(df_polars, window_size, step_size)\n"
   ]
  },
  {
   "cell_type": "code",
   "execution_count": 13,
   "metadata": {},
   "outputs": [
    {
     "data": {
      "text/html": [
       "<div><style>\n",
       ".dataframe > thead > tr,\n",
       ".dataframe > tbody > tr {\n",
       "  text-align: right;\n",
       "  white-space: pre-wrap;\n",
       "}\n",
       "</style>\n",
       "<small>shape: (555_233, 8)</small><table border=\"1\" class=\"dataframe\"><thead><tr><th>ts</th><th>id.orig_h</th><th>id.orig_p</th><th>id.resp_p</th><th>conn_state</th><th>history</th><th>orig_ip_bytes</th><th>label</th></tr><tr><td>i64</td><td>str</td><td>i32</td><td>i32</td><td>i64</td><td>i64</td><td>i64</td><td>i32</td></tr></thead><tbody><tr><td>1537537487</td><td>&quot;0.0.0.0&quot;</td><td>68</td><td>67</td><td>0</td><td>0</td><td>3280</td><td>0</td></tr><tr><td>1525996281</td><td>&quot;101.100.216.176&quot;</td><td>3</td><td>3</td><td>3</td><td>4</td><td>68</td><td>0</td></tr><tr><td>1526142029</td><td>&quot;103.254.211.56&quot;</td><td>3</td><td>3</td><td>3</td><td>4</td><td>68</td><td>0</td></tr><tr><td>1526071458</td><td>&quot;104.227.148.64&quot;</td><td>3</td><td>3</td><td>3</td><td>4</td><td>68</td><td>0</td></tr><tr><td>1526031395</td><td>&quot;104.251.224.11&quot;</td><td>3</td><td>10</td><td>3</td><td>4</td><td>88</td><td>0</td></tr><tr><td>&hellip;</td><td>&hellip;</td><td>&hellip;</td><td>&hellip;</td><td>&hellip;</td><td>&hellip;</td><td>&hellip;</td><td>&hellip;</td></tr><tr><td>1525912775</td><td>&quot;99.167.37.225&quot;</td><td>3</td><td>1</td><td>3</td><td>4</td><td>88</td><td>0</td></tr><tr><td>1525881896</td><td>&quot;99.246.132.175&quot;</td><td>3</td><td>3</td><td>3</td><td>4</td><td>88</td><td>0</td></tr><tr><td>1537529902</td><td>&quot;::&quot;</td><td>135</td><td>136</td><td>3</td><td>8</td><td>64</td><td>0</td></tr><tr><td>1562160913</td><td>&quot;fe80::5bcc:698e:39d5:cdf&quot;</td><td>133</td><td>134</td><td>2</td><td>2</td><td>192</td><td>0</td></tr><tr><td>1537528622</td><td>&quot;fe80::80e6:50ff:fe12:1464&quot;</td><td>5353</td><td>5353</td><td>0</td><td>0</td><td>996</td><td>0</td></tr></tbody></table></div>"
      ],
      "text/plain": [
       "shape: (555_233, 8)\n",
       "┌────────────┬───────────────┬───────────┬───────────┬────────────┬─────────┬──────────────┬───────┐\n",
       "│ ts         ┆ id.orig_h     ┆ id.orig_p ┆ id.resp_p ┆ conn_state ┆ history ┆ orig_ip_byte ┆ label │\n",
       "│ ---        ┆ ---           ┆ ---       ┆ ---       ┆ ---        ┆ ---     ┆ s            ┆ ---   │\n",
       "│ i64        ┆ str           ┆ i32       ┆ i32       ┆ i64        ┆ i64     ┆ ---          ┆ i32   │\n",
       "│            ┆               ┆           ┆           ┆            ┆         ┆ i64          ┆       │\n",
       "╞════════════╪═══════════════╪═══════════╪═══════════╪════════════╪═════════╪══════════════╪═══════╡\n",
       "│ 1537537487 ┆ 0.0.0.0       ┆ 68        ┆ 67        ┆ 0          ┆ 0       ┆ 3280         ┆ 0     │\n",
       "│ 1525996281 ┆ 101.100.216.1 ┆ 3         ┆ 3         ┆ 3          ┆ 4       ┆ 68           ┆ 0     │\n",
       "│            ┆ 76            ┆           ┆           ┆            ┆         ┆              ┆       │\n",
       "│ 1526142029 ┆ 103.254.211.5 ┆ 3         ┆ 3         ┆ 3          ┆ 4       ┆ 68           ┆ 0     │\n",
       "│            ┆ 6             ┆           ┆           ┆            ┆         ┆              ┆       │\n",
       "│ 1526071458 ┆ 104.227.148.6 ┆ 3         ┆ 3         ┆ 3          ┆ 4       ┆ 68           ┆ 0     │\n",
       "│            ┆ 4             ┆           ┆           ┆            ┆         ┆              ┆       │\n",
       "│ 1526031395 ┆ 104.251.224.1 ┆ 3         ┆ 10        ┆ 3          ┆ 4       ┆ 88           ┆ 0     │\n",
       "│            ┆ 1             ┆           ┆           ┆            ┆         ┆              ┆       │\n",
       "│ …          ┆ …             ┆ …         ┆ …         ┆ …          ┆ …       ┆ …            ┆ …     │\n",
       "│ 1525912775 ┆ 99.167.37.225 ┆ 3         ┆ 1         ┆ 3          ┆ 4       ┆ 88           ┆ 0     │\n",
       "│ 1525881896 ┆ 99.246.132.17 ┆ 3         ┆ 3         ┆ 3          ┆ 4       ┆ 88           ┆ 0     │\n",
       "│            ┆ 5             ┆           ┆           ┆            ┆         ┆              ┆       │\n",
       "│ 1537529902 ┆ ::            ┆ 135       ┆ 136       ┆ 3          ┆ 8       ┆ 64           ┆ 0     │\n",
       "│ 1562160913 ┆ fe80::5bcc:69 ┆ 133       ┆ 134       ┆ 2          ┆ 2       ┆ 192          ┆ 0     │\n",
       "│            ┆ 8e:39d5:cdf   ┆           ┆           ┆            ┆         ┆              ┆       │\n",
       "│ 1537528622 ┆ fe80::80e6:50 ┆ 5353      ┆ 5353      ┆ 0          ┆ 0       ┆ 996          ┆ 0     │\n",
       "│            ┆ ff:fe12:1464  ┆           ┆           ┆            ┆         ┆              ┆       │\n",
       "└────────────┴───────────────┴───────────┴───────────┴────────────┴─────────┴──────────────┴───────┘"
      ]
     },
     "execution_count": 13,
     "metadata": {},
     "output_type": "execute_result"
    }
   ],
   "source": [
    "df_polars"
   ]
  },
  {
   "cell_type": "code",
   "execution_count": 14,
   "metadata": {},
   "outputs": [],
   "source": [
    "scaler = MinMaxScaler()\n",
    "X = X.reshape(-1, X.shape[-1])  # Flatten antes de normalizar\n",
    "X = scaler.fit_transform(X)\n",
    "X = X.reshape(-1, window_size, X.shape[-1])  # Reformatando após normalização\n",
    "results = []"
   ]
  },
  {
   "cell_type": "markdown",
   "metadata": {},
   "source": [
    "# Treinamento"
   ]
  },
  {
   "cell_type": "code",
   "execution_count": 15,
   "metadata": {},
   "outputs": [],
   "source": [
    "class GRUClassifier(nn.Module):\n",
    "    def __init__(self, input_dim, hidden_dim, output_dim, dropout_rate):\n",
    "        super(GRUClassifier, self).__init__()\n",
    "        self.gru = nn.GRU(input_dim, hidden_dim, batch_first=True, dropout=dropout_rate, bidirectional=False)\n",
    "        self.relu = nn.ReLU()\n",
    "        self.dropout = nn.Dropout(dropout_rate)\n",
    "        self.fc = nn.Linear(hidden_dim, output_dim)\n",
    "\n",
    "    def forward(self, x):\n",
    "        _, hidden = self.gru(x)\n",
    "        hidden = self.relu(hidden[-1])\n",
    "        hidden = self.dropout(hidden)\n",
    "        return self.fc(hidden)  # Sem ativação aqui!"
   ]
  },
  {
   "cell_type": "code",
   "execution_count": 25,
   "metadata": {},
   "outputs": [],
   "source": [
    "results = []"
   ]
  },
  {
   "cell_type": "code",
   "execution_count": 28,
   "metadata": {},
   "outputs": [],
   "source": [
    "def startTrain():\n",
    "    # KFold cross-validation com 5 folds\n",
    "    kfold = KFold(n_splits=5, shuffle=True, random_state=42)\n",
    "    \n",
    "    # Lista para armazenar os resultados de cada fold\n",
    "\n",
    "    # Inicia o tempo de treinamento\n",
    "    start_training = time.time()\n",
    "\n",
    "    # Loop sobre os folds\n",
    "    for fold, (train_idx, test_idx) in enumerate(kfold.split(X, y), 1):\n",
    "        print(f\"Fold {fold} começando...\")\n",
    "\n",
    "        # Divide os dados de treino e teste com base nos índices\n",
    "        X_train, X_test = X[train_idx], X[test_idx]\n",
    "        y_train, y_test = y[train_idx], y[test_idx]\n",
    "\n",
    "        # Converte os dados para tensores\n",
    "        X_train_tensor = torch.tensor(X_train, dtype=torch.float32)\n",
    "        X_test_tensor = torch.tensor(X_test, dtype=torch.float32)\n",
    "        y_train_tensor = torch.tensor(y_train, dtype=torch.float32)\n",
    "        y_test_tensor = torch.tensor(y_test, dtype=torch.float32)\n",
    "\n",
    "        # Coloca o modelo no dispositivo correto (GPU ou CPU)\n",
    "        device = torch.device('cuda' if torch.cuda.is_available() else 'cpu')\n",
    "\n",
    "        # Definir os parâmetros do modelo\n",
    "        input_dim = X_train.shape[2]  # Número de features por timestep\n",
    "        hidden_dim = 100  # Número de neurônios na GRU\n",
    "        dropout_rate = 0.2  # Dropout para evitar overfitting\n",
    "        output_dim = 1  # Classificação binária\n",
    "\n",
    "        # Cria o modelo\n",
    "        model = GRUClassifier(input_dim, hidden_dim, output_dim, dropout_rate).to(device)\n",
    "\n",
    "        # Define a função de perda e o otimizador\n",
    "        criterion = nn.BCEWithLogitsLoss()\n",
    "        optimizer = optim.Adam(model.parameters(), lr=0.001)\n",
    "\n",
    "        # Configura o DataLoader para treino e teste\n",
    "        batch_size = 512\n",
    "        train_dataset = TensorDataset(X_train_tensor, y_train_tensor)\n",
    "        test_dataset = TensorDataset(X_test_tensor, y_test_tensor)\n",
    "        train_loader = DataLoader(train_dataset, batch_size=batch_size, shuffle=True)\n",
    "        test_loader = DataLoader(test_dataset, batch_size=batch_size)\n",
    "\n",
    "        # Treinamento\n",
    "        model.train()\n",
    "        epoch_loss = 0\n",
    "        for inputs, targets in train_loader:\n",
    "            inputs, targets = inputs.to(device), targets.to(device)\n",
    "            optimizer.zero_grad()\n",
    "            outputs = model(inputs)\n",
    "            loss = criterion(outputs.squeeze(), targets)\n",
    "            loss.backward()\n",
    "            optimizer.step()\n",
    "            epoch_loss += loss.item() * inputs.size(0)\n",
    "\n",
    "        # Avaliação no conjunto de teste\n",
    "        model.eval()\n",
    "        all_outputs, all_targets = [], []\n",
    "        with torch.no_grad():\n",
    "            for inputs, targets in test_loader:\n",
    "                inputs, targets = inputs.to(device), targets.to(device)\n",
    "                outputs = model(inputs)\n",
    "                all_outputs.append(outputs.cpu())\n",
    "                all_targets.append(targets.cpu())\n",
    "\n",
    "        all_outputs = torch.cat(all_outputs)\n",
    "        all_targets = torch.cat(all_targets)\n",
    "\n",
    "        # Transformando a saída para 0 ou 1\n",
    "        y_pred = (all_outputs > 0.5).float().numpy()\n",
    "        y_true = all_targets.numpy()\n",
    "\n",
    "        # Cálculo das métricas\n",
    "        confusion = confusion_matrix(y_true, y_pred)\n",
    "        tn, fp, fn, tp = confusion.ravel()\n",
    "        accuracy = accuracy_score(y_true, y_pred)\n",
    "        precision = precision_score(y_true, y_pred)\n",
    "        recall = recall_score(y_true, y_pred)\n",
    "        specificity = tn / (tn + fp)\n",
    "        f1 = f1_score(y_true, y_pred)\n",
    "        balanced_accuracy = balanced_accuracy_score(y_true, y_pred)\n",
    "        false_alarm_rate = fp / (fp + tn) if (fp + tn) > 0 else 0\n",
    "\n",
    "        # Salva os resultados do fold\n",
    "        end_training = time.time()\n",
    "        training_duration = end_training - start_training\n",
    "        evaluation_duration = time.time() - end_training\n",
    "        print(f\"Fold {fold}: Acurácia = {accuracy:.4f}, Precisão = {precision:.4f}, Recall = {recall:.4f}, F1 = {f1:.4f}\")\n",
    "\n",
    "\n",
    "    results.append([f\"Fold {fold}\", accuracy, balanced_accuracy, precision, recall, specificity, f1, false_alarm_rate, tn, fp, fn, tp, training_duration, evaluation_duration])"
   ]
  },
  {
   "cell_type": "code",
   "execution_count": 29,
   "metadata": {},
   "outputs": [
    {
     "name": "stdout",
     "output_type": "stream",
     "text": [
      "Fold 1 começando...\n",
      "Fold 1: Acurácia = 0.9914, Precisão = 0.9965, Recall = 0.9933, F1 = 0.9949\n",
      "Fold 2 começando...\n"
     ]
    },
    {
     "name": "stderr",
     "output_type": "stream",
     "text": [
      "c:\\Users\\rafae\\anaconda3\\envs\\tcc_2025_py39\\lib\\site-packages\\torch\\nn\\modules\\rnn.py:83: UserWarning: dropout option adds dropout after all but last recurrent layer, so non-zero dropout expects num_layers greater than 1, but got dropout=0.2 and num_layers=1\n",
      "  warnings.warn(\"dropout option adds dropout after all but last \"\n"
     ]
    },
    {
     "name": "stdout",
     "output_type": "stream",
     "text": [
      "Fold 2: Acurácia = 0.9877, Precisão = 0.9980, Recall = 0.9874, F1 = 0.9927\n",
      "Fold 3 começando...\n"
     ]
    },
    {
     "name": "stderr",
     "output_type": "stream",
     "text": [
      "c:\\Users\\rafae\\anaconda3\\envs\\tcc_2025_py39\\lib\\site-packages\\torch\\nn\\modules\\rnn.py:83: UserWarning: dropout option adds dropout after all but last recurrent layer, so non-zero dropout expects num_layers greater than 1, but got dropout=0.2 and num_layers=1\n",
      "  warnings.warn(\"dropout option adds dropout after all but last \"\n"
     ]
    },
    {
     "name": "stdout",
     "output_type": "stream",
     "text": [
      "Fold 3: Acurácia = 0.9932, Precisão = 0.9940, Recall = 0.9980, F1 = 0.9960\n",
      "Fold 4 começando...\n"
     ]
    },
    {
     "name": "stderr",
     "output_type": "stream",
     "text": [
      "c:\\Users\\rafae\\anaconda3\\envs\\tcc_2025_py39\\lib\\site-packages\\torch\\nn\\modules\\rnn.py:83: UserWarning: dropout option adds dropout after all but last recurrent layer, so non-zero dropout expects num_layers greater than 1, but got dropout=0.2 and num_layers=1\n",
      "  warnings.warn(\"dropout option adds dropout after all but last \"\n"
     ]
    },
    {
     "name": "stdout",
     "output_type": "stream",
     "text": [
      "Fold 4: Acurácia = 0.9873, Precisão = 0.9979, Recall = 0.9869, F1 = 0.9924\n",
      "Fold 5 começando...\n"
     ]
    },
    {
     "name": "stderr",
     "output_type": "stream",
     "text": [
      "c:\\Users\\rafae\\anaconda3\\envs\\tcc_2025_py39\\lib\\site-packages\\torch\\nn\\modules\\rnn.py:83: UserWarning: dropout option adds dropout after all but last recurrent layer, so non-zero dropout expects num_layers greater than 1, but got dropout=0.2 and num_layers=1\n",
      "  warnings.warn(\"dropout option adds dropout after all but last \"\n"
     ]
    },
    {
     "name": "stdout",
     "output_type": "stream",
     "text": [
      "Fold 5: Acurácia = 0.9871, Precisão = 0.9985, Recall = 0.9862, F1 = 0.9923\n",
      "1\n"
     ]
    }
   ],
   "source": [
    "for i in range(1,2):\n",
    "    startTrain()\n",
    "    print(i)"
   ]
  },
  {
   "cell_type": "code",
   "execution_count": 30,
   "metadata": {},
   "outputs": [
    {
     "name": "stderr",
     "output_type": "stream",
     "text": [
      "c:\\Users\\rafae\\anaconda3\\envs\\tcc_2025_py39\\lib\\functools.py:888: DataOrientationWarning: Row orientation inferred during DataFrame construction. Explicitly specify the orientation by passing `orient=\"row\"` to silence this warning.\n",
      "  return dispatch(args[0].__class__)(*args, **kw)\n"
     ]
    },
    {
     "data": {
      "text/html": [
       "<div><style>\n",
       ".dataframe > thead > tr,\n",
       ".dataframe > tbody > tr {\n",
       "  text-align: right;\n",
       "  white-space: pre-wrap;\n",
       "}\n",
       "</style>\n",
       "<small>shape: (1, 14)</small><table border=\"1\" class=\"dataframe\"><thead><tr><th>Algorithm</th><th>Accuracy</th><th>Balanced Accuracy</th><th>Precision</th><th>Recall</th><th>Specificity</th><th>F1-score</th><th>False Alarm Rate</th><th>tn</th><th>fp</th><th>fn</th><th>tp</th><th>training_duration</th><th>evaluation_duration</th></tr><tr><td>str</td><td>f64</td><td>f64</td><td>f64</td><td>f64</td><td>f64</td><td>f64</td><td>f64</td><td>i64</td><td>i64</td><td>i64</td><td>i64</td><td>f64</td><td>f64</td></tr></thead><tbody><tr><td>&quot;Fold 5&quot;</td><td>0.987149</td><td>0.989196</td><td>0.998502</td><td>0.98619</td><td>0.992203</td><td>0.992308</td><td>0.007797</td><td>17560</td><td>138</td><td>1288</td><td>91976</td><td>107.570482</td><td>0.0</td></tr></tbody></table></div>"
      ],
      "text/plain": [
       "shape: (1, 14)\n",
       "┌───────────┬──────────┬──────────┬───────────┬───┬──────┬───────┬────────────────┬────────────────┐\n",
       "│ Algorithm ┆ Accuracy ┆ Balanced ┆ Precision ┆ … ┆ fn   ┆ tp    ┆ training_durat ┆ evaluation_dur │\n",
       "│ ---       ┆ ---      ┆ Accuracy ┆ ---       ┆   ┆ ---  ┆ ---   ┆ ion            ┆ ation          │\n",
       "│ str       ┆ f64      ┆ ---      ┆ f64       ┆   ┆ i64  ┆ i64   ┆ ---            ┆ ---            │\n",
       "│           ┆          ┆ f64      ┆           ┆   ┆      ┆       ┆ f64            ┆ f64            │\n",
       "╞═══════════╪══════════╪══════════╪═══════════╪═══╪══════╪═══════╪════════════════╪════════════════╡\n",
       "│ Fold 5    ┆ 0.987149 ┆ 0.989196 ┆ 0.998502  ┆ … ┆ 1288 ┆ 91976 ┆ 107.570482     ┆ 0.0            │\n",
       "└───────────┴──────────┴──────────┴───────────┴───┴──────┴───────┴────────────────┴────────────────┘"
      ]
     },
     "execution_count": 30,
     "metadata": {},
     "output_type": "execute_result"
    }
   ],
   "source": [
    "metrics_df = pl.DataFrame(\n",
    "    results,\n",
    "    schema=['Algorithm', 'Accuracy', 'Balanced Accuracy', 'Precision', 'Recall', 'Specificity', 'F1-score', 'False Alarm Rate', 'tn', 'fp', 'fn', 'tp', 'training_duration', 'evaluation_duration']\n",
    ")\n",
    "metrics_df"
   ]
  },
  {
   "cell_type": "code",
   "execution_count": 19,
   "metadata": {},
   "outputs": [],
   "source": [
    "metrics_df.write_csv(f\"metrics_results/unbalanced_GRU_metrics_output.csv\", separator=';')"
   ]
  },
  {
   "cell_type": "code",
   "execution_count": null,
   "metadata": {},
   "outputs": [],
   "source": [
    "# Exibindo a média dos resultados\n",
    "print(\"\\nMédia dos resultados após K-Fold cross-validation:\")\n",
    "print(results_df.mean())\n"
   ]
  }
 ],
 "metadata": {
  "kernelspec": {
   "display_name": "tcc_2025_py39",
   "language": "python",
   "name": "python3"
  },
  "language_info": {
   "codemirror_mode": {
    "name": "ipython",
    "version": 3
   },
   "file_extension": ".py",
   "mimetype": "text/x-python",
   "name": "python",
   "nbconvert_exporter": "python",
   "pygments_lexer": "ipython3",
   "version": "3.9.21"
  }
 },
 "nbformat": 4,
 "nbformat_minor": 2
}
