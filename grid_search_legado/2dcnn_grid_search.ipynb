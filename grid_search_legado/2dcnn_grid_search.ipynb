{
 "cells": [
  {
   "cell_type": "code",
   "execution_count": 1,
   "metadata": {},
   "outputs": [],
   "source": [
    "import polars as pl\n",
    "import numpy as np\n",
    "import time\n",
    "from sklearn.preprocessing import MinMaxScaler\n",
    "from sklearn.model_selection import train_test_split\n",
    "from sklearn.metrics import accuracy_score, precision_score, recall_score, f1_score, confusion_matrix, balanced_accuracy_score\n",
    "from sklearn.model_selection import KFold\n",
    "import torch.optim as optim\n",
    "\n",
    "import math\n",
    "import torch\n",
    "import torch.nn as nn\n",
    "from torch.utils.data import TensorDataset, DataLoader"
   ]
  },
  {
   "cell_type": "code",
   "execution_count": 2,
   "metadata": {},
   "outputs": [],
   "source": [
    "df_polars_raiz = pl.read_parquet('../dataset.parquet')"
   ]
  },
  {
   "cell_type": "code",
   "execution_count": 3,
   "metadata": {},
   "outputs": [],
   "source": [
    "df_polars = df_polars_raiz.sample(fraction=0.01, seed=42)"
   ]
  },
  {
   "cell_type": "code",
   "execution_count": 4,
   "metadata": {},
   "outputs": [],
   "source": [
    "import ipaddress\n",
    "\n",
    "def ip_to_int(ip: str) -> int:\n",
    "    try:\n",
    "        return int(ipaddress.ip_address(ip))  # Funciona tanto para IPv4 quanto IPv6\n",
    "    except ValueError:\n",
    "        return None"
   ]
  },
  {
   "cell_type": "code",
   "execution_count": 5,
   "metadata": {},
   "outputs": [],
   "source": [
    "#df_polars = df_polars.with_columns([\n",
    "#    pl.col('id.resp_h').map_elements(ip_to_int).alias('id.resp_h'),\n",
    "#    pl.col('id.orig_h').map_elements(ip_to_int).alias('id.orig_h')\n",
    "#])"
   ]
  },
  {
   "cell_type": "code",
   "execution_count": 6,
   "metadata": {},
   "outputs": [
    {
     "data": {
      "text/html": [
       "<div><style>\n",
       ".dataframe > thead > tr,\n",
       ".dataframe > tbody > tr {\n",
       "  text-align: right;\n",
       "  white-space: pre-wrap;\n",
       "}\n",
       "</style>\n",
       "<small>shape: (555_233, 23)</small><table border=\"1\" class=\"dataframe\"><thead><tr><th>ts</th><th>uid</th><th>id.orig_h</th><th>id.orig_p</th><th>id.resp_h</th><th>id.resp_p</th><th>proto</th><th>service</th><th>duration</th><th>orig_bytes</th><th>resp_bytes</th><th>conn_state</th><th>local_orig</th><th>local_resp</th><th>missed_bytes</th><th>history</th><th>orig_pkts</th><th>orig_ip_bytes</th><th>resp_pkts</th><th>resp_ip_bytes</th><th>tunnel_parents</th><th>label</th><th>detailed-label</th></tr><tr><td>f64</td><td>str</td><td>str</td><td>i32</td><td>str</td><td>i32</td><td>i64</td><td>i64</td><td>f64</td><td>f64</td><td>f64</td><td>i64</td><td>str</td><td>str</td><td>i32</td><td>i64</td><td>i64</td><td>i64</td><td>i64</td><td>i64</td><td>str</td><td>i32</td><td>str</td></tr></thead><tbody><tr><td>1.5322e9</td><td>&quot;C63mNb4FhdpSoHAj9g&quot;</td><td>&quot;192.168.100.108&quot;</td><td>5526</td><td>&quot;47.138.157.173&quot;</td><td>37215</td><td>0</td><td>0</td><td>0.0</td><td>0.0</td><td>0.0</td><td>0</td><td>&quot;-&quot;</td><td>&quot;-&quot;</td><td>0</td><td>0</td><td>1</td><td>40</td><td>0</td><td>0</td><td>&quot;(empty)&quot;</td><td>1</td><td>&quot;Okiru&quot;</td></tr><tr><td>1.5326e9</td><td>&quot;CppkaidEFlUgsYbOh&quot;</td><td>&quot;192.168.100.111&quot;</td><td>60403</td><td>&quot;147.32.6.210&quot;</td><td>23</td><td>1</td><td>0</td><td>0.0</td><td>0.0</td><td>0.0</td><td>2</td><td>&quot;-&quot;</td><td>&quot;-&quot;</td><td>0</td><td>7</td><td>1</td><td>40</td><td>0</td><td>0</td><td>&quot;(empty)&quot;</td><td>1</td><td>&quot;PartOfAHorizontalPortScan&quot;</td></tr><tr><td>1.5326e9</td><td>&quot;CNXYoV2KOSjeK0XsCi&quot;</td><td>&quot;192.168.100.111&quot;</td><td>13386</td><td>&quot;50.229.102.190&quot;</td><td>81</td><td>1</td><td>0</td><td>0.0</td><td>0.0</td><td>0.0</td><td>2</td><td>&quot;-&quot;</td><td>&quot;-&quot;</td><td>0</td><td>7</td><td>1</td><td>40</td><td>0</td><td>0</td><td>&quot;(empty)&quot;</td><td>1</td><td>&quot;PartOfAHorizontalPortScan&quot;</td></tr><tr><td>1.5455e9</td><td>&quot;Cv91cy38cVUjBeny4k&quot;</td><td>&quot;192.168.1.198&quot;</td><td>36097</td><td>&quot;78.87.208.14&quot;</td><td>37215</td><td>0</td><td>0</td><td>null</td><td>null</td><td>null</td><td>0</td><td>&quot;-&quot;</td><td>&quot;-&quot;</td><td>0</td><td>0</td><td>1</td><td>40</td><td>0</td><td>0</td><td>&quot;-&quot;</td><td>1</td><td>&quot;Okiru&quot;</td></tr><tr><td>1.5454e9</td><td>&quot;CKvVZA3voOeDO627Ca&quot;</td><td>&quot;192.168.1.198&quot;</td><td>36097</td><td>&quot;202.99.70.13&quot;</td><td>37215</td><td>0</td><td>0</td><td>null</td><td>null</td><td>null</td><td>0</td><td>&quot;-&quot;</td><td>&quot;-&quot;</td><td>0</td><td>0</td><td>1</td><td>40</td><td>0</td><td>0</td><td>&quot;-&quot;</td><td>1</td><td>&quot;Okiru&quot;</td></tr><tr><td>&hellip;</td><td>&hellip;</td><td>&hellip;</td><td>&hellip;</td><td>&hellip;</td><td>&hellip;</td><td>&hellip;</td><td>&hellip;</td><td>&hellip;</td><td>&hellip;</td><td>&hellip;</td><td>&hellip;</td><td>&hellip;</td><td>&hellip;</td><td>&hellip;</td><td>&hellip;</td><td>&hellip;</td><td>&hellip;</td><td>&hellip;</td><td>&hellip;</td><td>&hellip;</td><td>&hellip;</td><td>&hellip;</td></tr><tr><td>1.5514e9</td><td>&quot;CwwQzn3658DIsMZ9uj&quot;</td><td>&quot;192.168.1.193&quot;</td><td>30535</td><td>&quot;217.130.2.16&quot;</td><td>8081</td><td>0</td><td>1</td><td>0.000005</td><td>0.0</td><td>0.0</td><td>1</td><td>&quot;-&quot;</td><td>&quot;-&quot;</td><td>0</td><td>1</td><td>2</td><td>80</td><td>0</td><td>0</td><td>&quot;-&quot;</td><td>1</td><td>&quot;PartOfAHorizontalPortScan&quot;</td></tr><tr><td>1.5454e9</td><td>&quot;CnykMt2RDdLvT42t8l&quot;</td><td>&quot;192.168.1.198&quot;</td><td>36097</td><td>&quot;112.160.204.32&quot;</td><td>37215</td><td>0</td><td>0</td><td>null</td><td>null</td><td>null</td><td>0</td><td>&quot;-&quot;</td><td>&quot;-&quot;</td><td>0</td><td>0</td><td>1</td><td>40</td><td>0</td><td>0</td><td>&quot;-&quot;</td><td>1</td><td>&quot;Okiru&quot;</td></tr><tr><td>1.5514e9</td><td>&quot;CDjM7C2ZIehXyoB3f&quot;</td><td>&quot;192.168.1.200&quot;</td><td>41258</td><td>&quot;134.130.151.164&quot;</td><td>23</td><td>0</td><td>1</td><td>0.000002</td><td>0.0</td><td>0.0</td><td>1</td><td>&quot;-&quot;</td><td>&quot;-&quot;</td><td>0</td><td>1</td><td>2</td><td>120</td><td>0</td><td>0</td><td>&quot;-&quot;</td><td>1</td><td>&quot;PartOfAHorizontalPortScan&quot;</td></tr><tr><td>1.5514e9</td><td>&quot;CttXNg3OrZSHSsUTH5&quot;</td><td>&quot;192.168.1.200&quot;</td><td>36658</td><td>&quot;171.251.198.162&quot;</td><td>23</td><td>0</td><td>1</td><td>0.000214</td><td>0.0</td><td>0.0</td><td>1</td><td>&quot;-&quot;</td><td>&quot;-&quot;</td><td>0</td><td>1</td><td>2</td><td>120</td><td>0</td><td>0</td><td>&quot;-&quot;</td><td>1</td><td>&quot;PartOfAHorizontalPortScan&quot;</td></tr><tr><td>1.5454e9</td><td>&quot;Czhqv31jbBelqVvOI&quot;</td><td>&quot;192.168.1.198&quot;</td><td>36097</td><td>&quot;223.8.201.70&quot;</td><td>37215</td><td>0</td><td>0</td><td>null</td><td>null</td><td>null</td><td>0</td><td>&quot;-&quot;</td><td>&quot;-&quot;</td><td>0</td><td>0</td><td>1</td><td>40</td><td>0</td><td>0</td><td>&quot;-&quot;</td><td>1</td><td>&quot;Okiru&quot;</td></tr></tbody></table></div>"
      ],
      "text/plain": [
       "shape: (555_233, 23)\n",
       "┌──────────┬────────────┬────────────┬───────────┬───┬────────────┬────────────┬───────┬───────────┐\n",
       "│ ts       ┆ uid        ┆ id.orig_h  ┆ id.orig_p ┆ … ┆ resp_ip_by ┆ tunnel_par ┆ label ┆ detailed- │\n",
       "│ ---      ┆ ---        ┆ ---        ┆ ---       ┆   ┆ tes        ┆ ents       ┆ ---   ┆ label     │\n",
       "│ f64      ┆ str        ┆ str        ┆ i32       ┆   ┆ ---        ┆ ---        ┆ i32   ┆ ---       │\n",
       "│          ┆            ┆            ┆           ┆   ┆ i64        ┆ str        ┆       ┆ str       │\n",
       "╞══════════╪════════════╪════════════╪═══════════╪═══╪════════════╪════════════╪═══════╪═══════════╡\n",
       "│ 1.5322e9 ┆ C63mNb4Fhd ┆ 192.168.10 ┆ 5526      ┆ … ┆ 0          ┆ (empty)    ┆ 1     ┆ Okiru     │\n",
       "│          ┆ pSoHAj9g   ┆ 0.108      ┆           ┆   ┆            ┆            ┆       ┆           │\n",
       "│ 1.5326e9 ┆ CppkaidEFl ┆ 192.168.10 ┆ 60403     ┆ … ┆ 0          ┆ (empty)    ┆ 1     ┆ PartOfAHo │\n",
       "│          ┆ UgsYbOh    ┆ 0.111      ┆           ┆   ┆            ┆            ┆       ┆ rizontalP │\n",
       "│          ┆            ┆            ┆           ┆   ┆            ┆            ┆       ┆ ortScan   │\n",
       "│ 1.5326e9 ┆ CNXYoV2KOS ┆ 192.168.10 ┆ 13386     ┆ … ┆ 0          ┆ (empty)    ┆ 1     ┆ PartOfAHo │\n",
       "│          ┆ jeK0XsCi   ┆ 0.111      ┆           ┆   ┆            ┆            ┆       ┆ rizontalP │\n",
       "│          ┆            ┆            ┆           ┆   ┆            ┆            ┆       ┆ ortScan   │\n",
       "│ 1.5455e9 ┆ Cv91cy38cV ┆ 192.168.1. ┆ 36097     ┆ … ┆ 0          ┆ -          ┆ 1     ┆ Okiru     │\n",
       "│          ┆ UjBeny4k   ┆ 198        ┆           ┆   ┆            ┆            ┆       ┆           │\n",
       "│ 1.5454e9 ┆ CKvVZA3voO ┆ 192.168.1. ┆ 36097     ┆ … ┆ 0          ┆ -          ┆ 1     ┆ Okiru     │\n",
       "│          ┆ eDO627Ca   ┆ 198        ┆           ┆   ┆            ┆            ┆       ┆           │\n",
       "│ …        ┆ …          ┆ …          ┆ …         ┆ … ┆ …          ┆ …          ┆ …     ┆ …         │\n",
       "│ 1.5514e9 ┆ CwwQzn3658 ┆ 192.168.1. ┆ 30535     ┆ … ┆ 0          ┆ -          ┆ 1     ┆ PartOfAHo │\n",
       "│          ┆ DIsMZ9uj   ┆ 193        ┆           ┆   ┆            ┆            ┆       ┆ rizontalP │\n",
       "│          ┆            ┆            ┆           ┆   ┆            ┆            ┆       ┆ ortScan   │\n",
       "│ 1.5454e9 ┆ CnykMt2RDd ┆ 192.168.1. ┆ 36097     ┆ … ┆ 0          ┆ -          ┆ 1     ┆ Okiru     │\n",
       "│          ┆ LvT42t8l   ┆ 198        ┆           ┆   ┆            ┆            ┆       ┆           │\n",
       "│ 1.5514e9 ┆ CDjM7C2ZIe ┆ 192.168.1. ┆ 41258     ┆ … ┆ 0          ┆ -          ┆ 1     ┆ PartOfAHo │\n",
       "│          ┆ hXyoB3f    ┆ 200        ┆           ┆   ┆            ┆            ┆       ┆ rizontalP │\n",
       "│          ┆            ┆            ┆           ┆   ┆            ┆            ┆       ┆ ortScan   │\n",
       "│ 1.5514e9 ┆ CttXNg3OrZ ┆ 192.168.1. ┆ 36658     ┆ … ┆ 0          ┆ -          ┆ 1     ┆ PartOfAHo │\n",
       "│          ┆ SHSsUTH5   ┆ 200        ┆           ┆   ┆            ┆            ┆       ┆ rizontalP │\n",
       "│          ┆            ┆            ┆           ┆   ┆            ┆            ┆       ┆ ortScan   │\n",
       "│ 1.5454e9 ┆ Czhqv31jbB ┆ 192.168.1. ┆ 36097     ┆ … ┆ 0          ┆ -          ┆ 1     ┆ Okiru     │\n",
       "│          ┆ elqVvOI    ┆ 198        ┆           ┆   ┆            ┆            ┆       ┆           │\n",
       "└──────────┴────────────┴────────────┴───────────┴───┴────────────┴────────────┴───────┴───────────┘"
      ]
     },
     "execution_count": 6,
     "metadata": {},
     "output_type": "execute_result"
    }
   ],
   "source": [
    "df_polars"
   ]
  },
  {
   "cell_type": "code",
   "execution_count": 7,
   "metadata": {},
   "outputs": [],
   "source": [
    "df_polars = df_polars.with_columns([\n",
    "    pl.col('duration').fill_null(0),\n",
    "    pl.col('orig_bytes').fill_null(0),\n",
    "    pl.col('resp_bytes').fill_null(0)\n",
    "])"
   ]
  },
  {
   "cell_type": "code",
   "execution_count": 8,
   "metadata": {},
   "outputs": [],
   "source": [
    "lista_colunas = df_polars.columns\n",
    "colunas_para_spearman = ['id.resp_p', 'history', 'conn_state', 'id.orig_p', 'orig_ip_bytes', 'label']             \n",
    "#['detailed-label', 'id.resp_p', 'history', 'id.orig_h', 'conn_state', 'id.orig_p', 'orig_ip_bytes']\n",
    "colunas_para_dropar = [col for col in lista_colunas if col not in colunas_para_spearman]\n",
    "df_polars = df_polars.drop(colunas_para_dropar)"
   ]
  },
  {
   "cell_type": "code",
   "execution_count": 9,
   "metadata": {},
   "outputs": [],
   "source": [
    "df_polars = df_polars.drop_nulls()"
   ]
  },
  {
   "cell_type": "code",
   "execution_count": 10,
   "metadata": {},
   "outputs": [],
   "source": [
    "X = df_polars.drop('label')\n",
    "y = df_polars['label']       "
   ]
  },
  {
   "cell_type": "code",
   "execution_count": 11,
   "metadata": {},
   "outputs": [],
   "source": [
    "#X = X.to_numpy()\n",
    "#X[:, 0] = np.array([ip_to_int(ip) for ip in X[:, 0]])"
   ]
  },
  {
   "cell_type": "code",
   "execution_count": 12,
   "metadata": {},
   "outputs": [],
   "source": [
    "# calcular número desejado de características\n",
    "def calculate_desired_num_features(current_num_features):\n",
    "    root = math.sqrt(current_num_features)\n",
    "    desired_num_features = math.ceil(root) ** 2\n",
    "    \n",
    "    return desired_num_features"
   ]
  },
  {
   "cell_type": "code",
   "execution_count": 13,
   "metadata": {},
   "outputs": [
    {
     "name": "stdout",
     "output_type": "stream",
     "text": [
      "(555233, 5)\n"
     ]
    }
   ],
   "source": [
    "print(X.shape)\n"
   ]
  },
  {
   "cell_type": "markdown",
   "metadata": {},
   "source": [
    "# Treinamento"
   ]
  },
  {
   "cell_type": "code",
   "execution_count": 14,
   "metadata": {},
   "outputs": [],
   "source": [
    "results = []\n",
    "SAMPLE_2D_SIZE = 4"
   ]
  },
  {
   "cell_type": "code",
   "execution_count": 15,
   "metadata": {},
   "outputs": [],
   "source": [
    "class CNNModel(nn.Module):\n",
    "    def __init__(self, conv1_out_channels=64, conv2_out_channels=64, dropout_rate=0.2):\n",
    "        super(CNNModel, self).__init__()\n",
    "        \n",
    "        self.conv1 = nn.Conv2d(1, conv1_out_channels, kernel_size=2, stride=1, padding=0)\n",
    "        self.relu1 = nn.ReLU()\n",
    "        self.conv2 = nn.Conv2d(conv1_out_channels, conv2_out_channels, kernel_size=2, stride=1, padding=0)\n",
    "        self.relu2 = nn.ReLU()\n",
    "        self.pool1 = nn.MaxPool2d(kernel_size=2, stride=2)\n",
    "        \n",
    "        def conv2d_out_size(size, kernel_size=2, stride=1, padding=0):\n",
    "            return (size - kernel_size + 2 * padding) // stride + 1\n",
    "        \n",
    "        size_after_conv1 = conv2d_out_size(SAMPLE_2D_SIZE, kernel_size=2)\n",
    "        size_after_conv2 = conv2d_out_size(size_after_conv1, kernel_size=2)\n",
    "        size_after_pool = conv2d_out_size(size_after_conv2, kernel_size=2, stride=2)\n",
    "        \n",
    "        self.fc1 = nn.Linear(conv2_out_channels * size_after_pool * size_after_pool, 64)\n",
    "        self.relu3 = nn.ReLU()\n",
    "        self.dropout = nn.Dropout(dropout_rate)\n",
    "        self.fc2 = nn.Linear(64, 1)\n",
    "        \n",
    "    def forward(self, x):\n",
    "        x = self.conv1(x)\n",
    "        x = self.relu1(x)\n",
    "        x = self.conv2(x)\n",
    "        x = self.relu2(x)\n",
    "        x = self.pool1(x)\n",
    "        x = x.view(x.size(0), -1)\n",
    "        x = self.fc1(x)\n",
    "        x = self.relu3(x)\n",
    "        x = self.dropout(x)\n",
    "        x = self.fc2(x)\n",
    "        return x.squeeze()\n"
   ]
  },
  {
   "cell_type": "code",
   "execution_count": 16,
   "metadata": {},
   "outputs": [],
   "source": [
    "def startTrain(conv1_out_channels=32, conv2_out_channels=32, dropout_rate=0.2, learning_rate=0.001, num_epochs=10):\n",
    "    kfold = KFold(n_splits=5, shuffle=True, random_state=42)\n",
    "    results_fold = []\n",
    "    \n",
    "    for train_idx, test_idx in kfold.split(X, y):\n",
    "        X_train, X_test = X[train_idx], X[test_idx]\n",
    "        y_train, y_test = y[train_idx], y[test_idx]\n",
    "    \n",
    "        scaler = MinMaxScaler()\n",
    "        X_train_scaled = scaler.fit_transform(X_train)\n",
    "        X_test_scaled = scaler.transform(X_test)\n",
    "    \n",
    "        desired_num_features = 16\n",
    "        current_num_features = X_train_scaled.shape[1]\n",
    "    \n",
    "        if current_num_features < desired_num_features:\n",
    "            padding = desired_num_features - current_num_features\n",
    "            X_train_scaled = np.pad(X_train_scaled, ((0, 0), (0, padding)), 'constant')\n",
    "            X_test_scaled = np.pad(X_test_scaled, ((0, 0), (0, padding)), 'constant')\n",
    "        elif current_num_features > desired_num_features:\n",
    "            raise ValueError(\"Número de características maior que o desejado.\")\n",
    "    \n",
    "        X_train_scaled = X_train_scaled.reshape(-1, 1, SAMPLE_2D_SIZE, SAMPLE_2D_SIZE)\n",
    "        X_test_scaled = X_test_scaled.reshape(-1, 1, SAMPLE_2D_SIZE, SAMPLE_2D_SIZE)\n",
    "    \n",
    "        X_train_tensor = torch.tensor(X_train_scaled, dtype=torch.float32)\n",
    "        y_train_tensor = torch.tensor(y_train, dtype=torch.float32)\n",
    "        X_test_tensor = torch.tensor(X_test_scaled, dtype=torch.float32)\n",
    "        y_test_tensor = torch.tensor(y_test, dtype=torch.float32)\n",
    "    \n",
    "        device = torch.device('cuda' if torch.cuda.is_available() else 'cpu')\n",
    "        model = CNNModel(conv1_out_channels=conv1_out_channels, conv2_out_channels=conv2_out_channels, dropout_rate=dropout_rate)\n",
    "        \n",
    "        criterion = nn.BCEWithLogitsLoss()\n",
    "        optimizer = optim.Adam(model.parameters(), lr=learning_rate)\n",
    "    \n",
    "        batch_size = 512\n",
    "        train_dataset = TensorDataset(X_train_tensor, y_train_tensor)\n",
    "        test_dataset = TensorDataset(X_test_tensor, y_test_tensor)\n",
    "        train_loader = DataLoader(train_dataset, batch_size=batch_size, shuffle=True)\n",
    "        test_loader = DataLoader(test_dataset, batch_size=batch_size)\n",
    "        \n",
    "        for epoch in range(num_epochs):\n",
    "            model.train()\n",
    "            for X_batch, y_batch in train_loader:\n",
    "                optimizer.zero_grad()\n",
    "                outputs = model(X_batch)\n",
    "                loss = criterion(outputs, y_batch)\n",
    "                loss.backward()\n",
    "                optimizer.step()\n",
    "    \n",
    "        model.eval()\n",
    "        all_preds = []\n",
    "        all_labels = []\n",
    "        \n",
    "        with torch.no_grad():\n",
    "            for X_batch, y_batch in test_loader:\n",
    "                outputs = model(X_batch)\n",
    "                preds = torch.sigmoid(outputs)\n",
    "                all_preds.extend(preds.cpu().numpy())\n",
    "                all_labels.extend(y_batch.cpu().numpy())\n",
    "\n",
    "        all_preds = np.array(all_preds)\n",
    "        all_labels = np.array(all_labels)\n",
    "        y_pred = (all_preds >= 0.5).astype(int)\n",
    "        y_true = all_labels\n",
    "    \n",
    "        accuracy = accuracy_score(y_true, y_pred)\n",
    "        results_fold.append(accuracy)\n",
    "    return np.mean(results_fold)"
   ]
  },
  {
   "cell_type": "code",
   "execution_count": 17,
   "metadata": {},
   "outputs": [],
   "source": [
    "def grid_search():\n",
    "    param_grid = {\n",
    "        'conv1_out_channels': [32, 64],\n",
    "        'conv2_out_channels': [32, 64],\n",
    "        'dropout_rate': [0.2, 0.3, 0.4],\n",
    "        'learning_rate': [0.001, 0.0001],\n",
    "        'num_epochs': [6, 10]\n",
    "    }\n",
    "\n",
    "    best_accuracy = 0\n",
    "    best_params = {}\n",
    "\n",
    "    for conv1_out_channels in param_grid['conv1_out_channels']:\n",
    "        for conv2_out_channels in param_grid['conv2_out_channels']:\n",
    "            for dropout_rate in param_grid['dropout_rate']:\n",
    "                for learning_rate in param_grid['learning_rate']:\n",
    "                    for num_epochs in param_grid['num_epochs']:\n",
    "                        accuracy = startTrain(conv1_out_channels, conv2_out_channels, dropout_rate, learning_rate, num_epochs)\n",
    "                        print(f\"conv1_out_channels={conv1_out_channels}, conv2_out_channels={conv2_out_channels}, \"\n",
    "                              f\"dropout_rate={dropout_rate}, learning_rate={learning_rate}, num_epochs={num_epochs} \"\n",
    "                              f\"-> Accuracy: {accuracy}\")\n",
    "\n",
    "                        if accuracy > best_accuracy:\n",
    "                            best_accuracy = accuracy\n",
    "                            best_params = {\n",
    "                                'conv1_out_channels': conv1_out_channels,\n",
    "                                'conv2_out_channels': conv2_out_channels,\n",
    "                                'dropout_rate': dropout_rate,\n",
    "                                'learning_rate': learning_rate,\n",
    "                                'num_epochs': num_epochs\n",
    "                            }\n",
    "\n",
    "    print(\"\\nMelhores Hiperparâmetros encontrados:\", best_params)\n",
    "    print(f\"Melhor Acurácia Média: {best_accuracy}\")\n",
    "    return best_params\n"
   ]
  },
  {
   "cell_type": "code",
   "execution_count": 18,
   "metadata": {},
   "outputs": [
    {
     "name": "stdout",
     "output_type": "stream",
     "text": [
      "conv1_out_channels=32, conv2_out_channels=32, dropout_rate=0.2, learning_rate=0.001, num_epochs=6 -> Accuracy: 0.9884931197956517\n",
      "conv1_out_channels=32, conv2_out_channels=32, dropout_rate=0.2, learning_rate=0.001, num_epochs=10 -> Accuracy: 0.9901392717325541\n",
      "conv1_out_channels=32, conv2_out_channels=32, dropout_rate=0.2, learning_rate=0.0001, num_epochs=6 -> Accuracy: 0.9815861084500692\n",
      "conv1_out_channels=32, conv2_out_channels=32, dropout_rate=0.2, learning_rate=0.0001, num_epochs=10 -> Accuracy: 0.981326758951294\n",
      "conv1_out_channels=32, conv2_out_channels=32, dropout_rate=0.3, learning_rate=0.001, num_epochs=6 -> Accuracy: 0.9881221004656207\n",
      "conv1_out_channels=32, conv2_out_channels=32, dropout_rate=0.3, learning_rate=0.001, num_epochs=10 -> Accuracy: 0.9896187708199855\n",
      "conv1_out_channels=32, conv2_out_channels=32, dropout_rate=0.3, learning_rate=0.0001, num_epochs=6 -> Accuracy: 0.9812997414819122\n",
      "conv1_out_channels=32, conv2_out_channels=32, dropout_rate=0.3, learning_rate=0.0001, num_epochs=10 -> Accuracy: 0.9819319085602748\n",
      "conv1_out_channels=32, conv2_out_channels=32, dropout_rate=0.4, learning_rate=0.001, num_epochs=6 -> Accuracy: 0.9877781077361878\n",
      "conv1_out_channels=32, conv2_out_channels=32, dropout_rate=0.4, learning_rate=0.001, num_epochs=10 -> Accuracy: 0.9893990449458882\n",
      "conv1_out_channels=32, conv2_out_channels=32, dropout_rate=0.4, learning_rate=0.0001, num_epochs=6 -> Accuracy: 0.9814618355126624\n",
      "conv1_out_channels=32, conv2_out_channels=32, dropout_rate=0.4, learning_rate=0.0001, num_epochs=10 -> Accuracy: 0.9821120144427183\n",
      "conv1_out_channels=32, conv2_out_channels=64, dropout_rate=0.2, learning_rate=0.001, num_epochs=6 -> Accuracy: 0.9887074408653891\n",
      "conv1_out_channels=32, conv2_out_channels=64, dropout_rate=0.2, learning_rate=0.001, num_epochs=10 -> Accuracy: 0.9903319837216372\n",
      "conv1_out_channels=32, conv2_out_channels=64, dropout_rate=0.2, learning_rate=0.0001, num_epochs=6 -> Accuracy: 0.9817896261553466\n",
      "conv1_out_channels=32, conv2_out_channels=64, dropout_rate=0.2, learning_rate=0.0001, num_epochs=10 -> Accuracy: 0.9825424650658482\n",
      "conv1_out_channels=32, conv2_out_channels=64, dropout_rate=0.3, learning_rate=0.001, num_epochs=6 -> Accuracy: 0.9889487819184313\n",
      "conv1_out_channels=32, conv2_out_channels=64, dropout_rate=0.3, learning_rate=0.001, num_epochs=10 -> Accuracy: 0.9903499973898425\n",
      "conv1_out_channels=32, conv2_out_channels=64, dropout_rate=0.3, learning_rate=0.0001, num_epochs=6 -> Accuracy: 0.9816977731237285\n",
      "conv1_out_channels=32, conv2_out_channels=64, dropout_rate=0.3, learning_rate=0.0001, num_epochs=10 -> Accuracy: 0.9823587531151666\n",
      "conv1_out_channels=32, conv2_out_channels=64, dropout_rate=0.4, learning_rate=0.001, num_epochs=6 -> Accuracy: 0.9886984416054927\n",
      "conv1_out_channels=32, conv2_out_channels=64, dropout_rate=0.4, learning_rate=0.001, num_epochs=10 -> Accuracy: 0.9896547962750087\n",
      "conv1_out_channels=32, conv2_out_channels=64, dropout_rate=0.4, learning_rate=0.0001, num_epochs=6 -> Accuracy: 0.9817139818277706\n",
      "conv1_out_channels=32, conv2_out_channels=64, dropout_rate=0.4, learning_rate=0.0001, num_epochs=10 -> Accuracy: 0.9822849139463801\n",
      "conv1_out_channels=64, conv2_out_channels=32, dropout_rate=0.2, learning_rate=0.001, num_epochs=6 -> Accuracy: 0.9892819743812057\n",
      "conv1_out_channels=64, conv2_out_channels=32, dropout_rate=0.2, learning_rate=0.001, num_epochs=10 -> Accuracy: 0.9898114837659813\n",
      "conv1_out_channels=64, conv2_out_channels=32, dropout_rate=0.2, learning_rate=0.0001, num_epochs=6 -> Accuracy: 0.9817968303770206\n",
      "conv1_out_channels=64, conv2_out_channels=32, dropout_rate=0.2, learning_rate=0.0001, num_epochs=10 -> Accuracy: 0.9831007931538316\n",
      "conv1_out_channels=64, conv2_out_channels=32, dropout_rate=0.3, learning_rate=0.001, num_epochs=6 -> Accuracy: 0.9894278602593547\n",
      "conv1_out_channels=64, conv2_out_channels=32, dropout_rate=0.3, learning_rate=0.001, num_epochs=10 -> Accuracy: 0.9903932227523237\n",
      "conv1_out_channels=64, conv2_out_channels=32, dropout_rate=0.3, learning_rate=0.0001, num_epochs=6 -> Accuracy: 0.9817301920726045\n",
      "conv1_out_channels=64, conv2_out_channels=32, dropout_rate=0.3, learning_rate=0.0001, num_epochs=10 -> Accuracy: 0.9820940019260519\n",
      "conv1_out_channels=64, conv2_out_channels=32, dropout_rate=0.4, learning_rate=0.001, num_epochs=6 -> Accuracy: 0.9892945849804686\n",
      "conv1_out_channels=64, conv2_out_channels=32, dropout_rate=0.4, learning_rate=0.001, num_epochs=10 -> Accuracy: 0.9906615779336627\n",
      "conv1_out_channels=64, conv2_out_channels=32, dropout_rate=0.4, learning_rate=0.0001, num_epochs=6 -> Accuracy: 0.9808422752383505\n",
      "conv1_out_channels=64, conv2_out_channels=32, dropout_rate=0.4, learning_rate=0.0001, num_epochs=10 -> Accuracy: 0.9820940045210691\n",
      "conv1_out_channels=64, conv2_out_channels=64, dropout_rate=0.2, learning_rate=0.001, num_epochs=6 -> Accuracy: 0.9892045313823831\n",
      "conv1_out_channels=64, conv2_out_channels=64, dropout_rate=0.2, learning_rate=0.001, num_epochs=10 -> Accuracy: 0.9901482805129195\n",
      "conv1_out_channels=64, conv2_out_channels=64, dropout_rate=0.2, learning_rate=0.0001, num_epochs=6 -> Accuracy: 0.9818328514529524\n",
      "conv1_out_channels=64, conv2_out_channels=64, dropout_rate=0.2, learning_rate=0.0001, num_epochs=10 -> Accuracy: 0.983057560460427\n",
      "conv1_out_channels=64, conv2_out_channels=64, dropout_rate=0.3, learning_rate=0.001, num_epochs=6 -> Accuracy: 0.9897466467602666\n",
      "conv1_out_channels=64, conv2_out_channels=64, dropout_rate=0.3, learning_rate=0.001, num_epochs=10 -> Accuracy: 0.9910037755275599\n",
      "conv1_out_channels=64, conv2_out_channels=64, dropout_rate=0.3, learning_rate=0.0001, num_epochs=6 -> Accuracy: 0.98172118611432\n",
      "conv1_out_channels=64, conv2_out_channels=64, dropout_rate=0.3, learning_rate=0.0001, num_epochs=10 -> Accuracy: 0.9828612492474635\n",
      "conv1_out_channels=64, conv2_out_channels=64, dropout_rate=0.4, learning_rate=0.001, num_epochs=6 -> Accuracy: 0.9897592510828318\n",
      "conv1_out_channels=64, conv2_out_channels=64, dropout_rate=0.4, learning_rate=0.001, num_epochs=10 -> Accuracy: 0.9908452833157073\n",
      "conv1_out_channels=64, conv2_out_channels=64, dropout_rate=0.4, learning_rate=0.0001, num_epochs=6 -> Accuracy: 0.9818076370825652\n",
      "conv1_out_channels=64, conv2_out_channels=64, dropout_rate=0.4, learning_rate=0.0001, num_epochs=10 -> Accuracy: 0.9829440936933425\n",
      "\n",
      "Melhores Hiperparâmetros encontrados: {'conv1_out_channels': 64, 'conv2_out_channels': 64, 'dropout_rate': 0.3, 'learning_rate': 0.001, 'num_epochs': 10}\n",
      "Melhor Acurácia Média: 0.9910037755275599\n"
     ]
    }
   ],
   "source": [
    "inicio = time.time()\n",
    "best_params = grid_search()\n",
    "fim = time.time()"
   ]
  },
  {
   "cell_type": "code",
   "execution_count": 19,
   "metadata": {},
   "outputs": [
    {
     "name": "stdout",
     "output_type": "stream",
     "text": [
      "18475.200475931168\n"
     ]
    }
   ],
   "source": [
    "duracao = fim - inicio\n",
    "print(duracao)"
   ]
  },
  {
   "cell_type": "code",
   "execution_count": 20,
   "metadata": {},
   "outputs": [
    {
     "name": "stdout",
     "output_type": "stream",
     "text": [
      "\n",
      "Melhores Hiperparâmetros encontrados: {'conv1_out_channels': 64, 'conv2_out_channels': 64, 'dropout_rate': 0.3, 'learning_rate': 0.001, 'num_epochs': 10}\n"
     ]
    }
   ],
   "source": [
    "print(\"\\nMelhores Hiperparâmetros encontrados:\", best_params)"
   ]
  }
 ],
 "metadata": {
  "kernelspec": {
   "display_name": "tcc_2025_py39",
   "language": "python",
   "name": "python3"
  },
  "language_info": {
   "codemirror_mode": {
    "name": "ipython",
    "version": 3
   },
   "file_extension": ".py",
   "mimetype": "text/x-python",
   "name": "python",
   "nbconvert_exporter": "python",
   "pygments_lexer": "ipython3",
   "version": "3.9.21"
  }
 },
 "nbformat": 4,
 "nbformat_minor": 2
}
