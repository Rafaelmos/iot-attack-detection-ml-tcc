{
 "cells": [
  {
   "cell_type": "code",
   "execution_count": 1,
   "metadata": {},
   "outputs": [],
   "source": [
    "import polars as pl\n",
    "import numpy as np\n",
    "import time\n",
    "from sklearn.tree import DecisionTreeClassifier\n",
    "from sklearn.preprocessing import MinMaxScaler\n",
    "from sklearn.model_selection import train_test_split\n",
    "from sklearn.metrics import accuracy_score, precision_score, recall_score, f1_score, confusion_matrix, balanced_accuracy_score\n",
    "from sklearn.model_selection import KFold\n"
   ]
  },
  {
   "cell_type": "code",
   "execution_count": 2,
   "metadata": {},
   "outputs": [],
   "source": [
    "df_polars_raiz = pl.read_parquet('../dataset.parquet')"
   ]
  },
  {
   "cell_type": "code",
   "execution_count": 3,
   "metadata": {},
   "outputs": [],
   "source": [
    "df_polars = df_polars_raiz.sample(fraction=0.01, seed=42)"
   ]
  },
  {
   "cell_type": "code",
   "execution_count": 4,
   "metadata": {},
   "outputs": [],
   "source": [
    "import ipaddress\n",
    "\n",
    "def ip_to_int(ip: str) -> int:\n",
    "    try:\n",
    "        return int(ipaddress.ip_address(ip))  # Funciona tanto para IPv4 quanto IPv6\n",
    "    except ValueError:\n",
    "        return None"
   ]
  },
  {
   "cell_type": "code",
   "execution_count": 5,
   "metadata": {},
   "outputs": [],
   "source": [
    "#df_polars = df_polars.with_columns([\n",
    "#    pl.col('id.resp_h').map_elements(ip_to_int).alias('id.resp_h'),\n",
    "#    pl.col('id.orig_h').map_elements(ip_to_int).alias('id.orig_h')\n",
    "#])"
   ]
  },
  {
   "cell_type": "code",
   "execution_count": 6,
   "metadata": {},
   "outputs": [],
   "source": [
    "df_polars = df_polars.with_columns([\n",
    "    pl.col('duration').fill_null(0),\n",
    "    pl.col('orig_bytes').fill_null(0),\n",
    "    pl.col('resp_bytes').fill_null(0)\n",
    "])"
   ]
  },
  {
   "cell_type": "code",
   "execution_count": 7,
   "metadata": {},
   "outputs": [],
   "source": [
    "lista_colunas = df_polars.columns\n",
    "colunas_para_spearman = ['id.resp_p', 'history', 'conn_state', 'id.orig_p', 'orig_ip_bytes', 'label']             \n",
    "#['detailed-label', 'id.resp_p', 'history', 'id.orig_h', 'conn_state', 'id.orig_p', 'orig_ip_bytes']\n",
    "colunas_para_dropar = [col for col in lista_colunas if col not in colunas_para_spearman]\n",
    "df_polars = df_polars.drop(colunas_para_dropar)"
   ]
  },
  {
   "cell_type": "code",
   "execution_count": 8,
   "metadata": {},
   "outputs": [],
   "source": [
    "df_polars = df_polars.drop_nulls()"
   ]
  },
  {
   "cell_type": "code",
   "execution_count": 9,
   "metadata": {},
   "outputs": [],
   "source": [
    "X = df_polars.drop('label')\n",
    "y = df_polars['label']       "
   ]
  },
  {
   "cell_type": "code",
   "execution_count": 10,
   "metadata": {},
   "outputs": [],
   "source": [
    "#X = X.to_numpy()\n",
    "#X[:, 0] = np.array([ip_to_int(ip) for ip in X[:, 0]])"
   ]
  },
  {
   "cell_type": "markdown",
   "metadata": {},
   "source": [
    "# Treinamento"
   ]
  },
  {
   "cell_type": "code",
   "execution_count": 11,
   "metadata": {},
   "outputs": [],
   "source": [
    "results = []"
   ]
  },
  {
   "cell_type": "code",
   "execution_count": 12,
   "metadata": {},
   "outputs": [],
   "source": [
    "def startTrain(X, y, criterion='gini', splitter='best', max_depth=None, min_samples_split=2, min_samples_leaf=1):\n",
    "    kfold = KFold(n_splits=5, shuffle=True, random_state=42)\n",
    "    results_fold = []\n",
    "\n",
    "    for train_idx, test_idx in kfold.split(X):\n",
    "        X_train, X_test = X[train_idx], X[test_idx]\n",
    "        y_train, y_test = y[train_idx], y[test_idx]\n",
    "        \n",
    "        scaler = MinMaxScaler()\n",
    "        X_train = scaler.fit_transform(X_train)\n",
    "        X_test = scaler.transform(X_test)\n",
    "        \n",
    "        dt = DecisionTreeClassifier(\n",
    "            criterion=criterion, splitter=splitter, max_depth=max_depth, \n",
    "            min_samples_split=min_samples_split, min_samples_leaf=min_samples_leaf)\n",
    "        \n",
    "        dt.fit(X_train, y_train)\n",
    "        y_pred = dt.predict(X_test)\n",
    "\n",
    "        accuracy = accuracy_score(y_test, y_pred)\n",
    "        results_fold.append(accuracy)\n",
    "\n",
    "    return np.mean(results_fold)"
   ]
  },
  {
   "cell_type": "code",
   "execution_count": 13,
   "metadata": {},
   "outputs": [],
   "source": [
    "from itertools import product\n",
    "\n",
    "def grid_search(X, y):\n",
    "    param_grid = {\n",
    "        'criterion': ['gini', 'entropy'],\n",
    "        'splitter': ['best', 'random'],\n",
    "        'max_depth': [None, 5, 10, 20],\n",
    "        'min_samples_split': [2, 5, 10],\n",
    "        'min_samples_leaf': [1, 2, 5]\n",
    "    }\n",
    "\n",
    "    best_accuracy = 0\n",
    "    best_params = {}\n",
    "\n",
    "    # Gerando todas as combinações de hiperparâmetros\n",
    "    for criterion, splitter, max_depth, min_samples_split, min_samples_leaf in product(\n",
    "        param_grid['criterion'], param_grid['splitter'], param_grid['max_depth'], param_grid['min_samples_split'], param_grid['min_samples_leaf']\n",
    "    ):\n",
    "        accuracy = startTrain(X, y, criterion=criterion, splitter=splitter, max_depth=max_depth, \n",
    "                              min_samples_split=min_samples_split, min_samples_leaf=min_samples_leaf)\n",
    "        \n",
    "        print(f\"criterion={criterion}, splitter={splitter}, max_depth={max_depth}, min_samples_split={min_samples_split}, min_samples_leaf={min_samples_leaf} -> Accuracy: {accuracy}\")\n",
    "\n",
    "        # Atualiza os melhores hiperparâmetros caso a acurácia seja maior\n",
    "        if accuracy > best_accuracy:\n",
    "            best_accuracy = accuracy\n",
    "            best_params = {\n",
    "                'criterion': criterion,\n",
    "                'splitter': splitter,\n",
    "                'max_depth': max_depth,\n",
    "                'min_samples_split': min_samples_split,\n",
    "                'min_samples_leaf': min_samples_leaf\n",
    "            }\n",
    "\n",
    "    print(\"\\nMelhores Hiperparâmetros encontrados:\", best_params)\n",
    "    print(f\"Melhor Acurácia Média: {best_accuracy}\")\n",
    "    return best_params\n"
   ]
  },
  {
   "cell_type": "code",
   "execution_count": 14,
   "metadata": {},
   "outputs": [
    {
     "name": "stdout",
     "output_type": "stream",
     "text": [
      "criterion=gini, splitter=best, max_depth=None, min_samples_split=2, min_samples_leaf=1 -> Accuracy: 0.9934856174543555\n",
      "criterion=gini, splitter=best, max_depth=None, min_samples_split=2, min_samples_leaf=2 -> Accuracy: 0.9946202756371691\n",
      "criterion=gini, splitter=best, max_depth=None, min_samples_split=2, min_samples_leaf=5 -> Accuracy: 0.9948814275213094\n",
      "criterion=gini, splitter=best, max_depth=None, min_samples_split=5, min_samples_leaf=1 -> Accuracy: 0.9933919628969718\n",
      "criterion=gini, splitter=best, max_depth=None, min_samples_split=5, min_samples_leaf=2 -> Accuracy: 0.9946148725033515\n",
      "criterion=gini, splitter=best, max_depth=None, min_samples_split=5, min_samples_leaf=5 -> Accuracy: 0.9948868306713459\n",
      "criterion=gini, splitter=best, max_depth=None, min_samples_split=10, min_samples_leaf=1 -> Accuracy: 0.9935612612467091\n",
      "criterion=gini, splitter=best, max_depth=None, min_samples_split=10, min_samples_leaf=2 -> Accuracy: 0.994623877764225\n",
      "criterion=gini, splitter=best, max_depth=None, min_samples_split=10, min_samples_leaf=5 -> Accuracy: 0.9948868307037835\n",
      "criterion=gini, splitter=best, max_depth=5, min_samples_split=2, min_samples_leaf=1 -> Accuracy: 0.993898056890765\n",
      "criterion=gini, splitter=best, max_depth=5, min_samples_split=2, min_samples_leaf=2 -> Accuracy: 0.9938944547799282\n",
      "criterion=gini, splitter=best, max_depth=5, min_samples_split=2, min_samples_leaf=5 -> Accuracy: 0.9938890516623294\n",
      "criterion=gini, splitter=best, max_depth=5, min_samples_split=5, min_samples_leaf=1 -> Accuracy: 0.993898056890765\n",
      "criterion=gini, splitter=best, max_depth=5, min_samples_split=5, min_samples_leaf=2 -> Accuracy: 0.9938944547799282\n",
      "criterion=gini, splitter=best, max_depth=5, min_samples_split=5, min_samples_leaf=5 -> Accuracy: 0.9938890516623294\n",
      "criterion=gini, splitter=best, max_depth=5, min_samples_split=10, min_samples_leaf=1 -> Accuracy: 0.993898056890765\n",
      "criterion=gini, splitter=best, max_depth=5, min_samples_split=10, min_samples_leaf=2 -> Accuracy: 0.9938944547799282\n",
      "criterion=gini, splitter=best, max_depth=5, min_samples_split=10, min_samples_leaf=5 -> Accuracy: 0.9938890516623294\n",
      "criterion=gini, splitter=best, max_depth=10, min_samples_split=2, min_samples_leaf=1 -> Accuracy: 0.994883228657822\n",
      "criterion=gini, splitter=best, max_depth=10, min_samples_split=2, min_samples_leaf=2 -> Accuracy: 0.9948598149536008\n",
      "criterion=gini, splitter=best, max_depth=10, min_samples_split=2, min_samples_leaf=5 -> Accuracy: 0.9948382023696732\n",
      "criterion=gini, splitter=best, max_depth=10, min_samples_split=5, min_samples_leaf=1 -> Accuracy: 0.9948742233807296\n",
      "criterion=gini, splitter=best, max_depth=10, min_samples_split=5, min_samples_leaf=2 -> Accuracy: 0.9948634170482189\n",
      "criterion=gini, splitter=best, max_depth=10, min_samples_split=5, min_samples_leaf=5 -> Accuracy: 0.9948418044805102\n",
      "criterion=gini, splitter=best, max_depth=10, min_samples_split=10, min_samples_leaf=1 -> Accuracy: 0.9948652181847315\n",
      "criterion=gini, splitter=best, max_depth=10, min_samples_split=10, min_samples_leaf=2 -> Accuracy: 0.994858013914401\n",
      "criterion=gini, splitter=best, max_depth=10, min_samples_split=10, min_samples_leaf=5 -> Accuracy: 0.9948400034575295\n",
      "criterion=gini, splitter=best, max_depth=20, min_samples_split=2, min_samples_leaf=1 -> Accuracy: 0.9948291971736752\n",
      "criterion=gini, splitter=best, max_depth=20, min_samples_split=2, min_samples_leaf=2 -> Accuracy: 0.9949048411282174\n",
      "criterion=gini, splitter=best, max_depth=20, min_samples_split=2, min_samples_leaf=5 -> Accuracy: 0.9949228516337456\n",
      "criterion=gini, splitter=best, max_depth=20, min_samples_split=5, min_samples_leaf=1 -> Accuracy: 0.994789574132876\n",
      "criterion=gini, splitter=best, max_depth=20, min_samples_split=5, min_samples_leaf=2 -> Accuracy: 0.994885029648365\n",
      "criterion=gini, splitter=best, max_depth=20, min_samples_split=5, min_samples_leaf=5 -> Accuracy: 0.9949246526567264\n",
      "criterion=gini, splitter=best, max_depth=20, min_samples_split=10, min_samples_leaf=1 -> Accuracy: 0.9947949772991315\n",
      "criterion=gini, splitter=best, max_depth=20, min_samples_split=10, min_samples_leaf=2 -> Accuracy: 0.9948832286253844\n",
      "criterion=gini, splitter=best, max_depth=20, min_samples_split=10, min_samples_leaf=5 -> Accuracy: 0.9949318568459626\n",
      "criterion=gini, splitter=random, max_depth=None, min_samples_split=2, min_samples_leaf=1 -> Accuracy: 0.9937755857710631\n",
      "criterion=gini, splitter=random, max_depth=None, min_samples_split=2, min_samples_leaf=2 -> Accuracy: 0.9947913753180455\n",
      "criterion=gini, splitter=random, max_depth=None, min_samples_split=2, min_samples_leaf=5 -> Accuracy: 0.9946472914197898\n",
      "criterion=gini, splitter=random, max_depth=None, min_samples_split=5, min_samples_leaf=1 -> Accuracy: 0.9943411138962552\n",
      "criterion=gini, splitter=random, max_depth=None, min_samples_split=5, min_samples_leaf=2 -> Accuracy: 0.9947229360879616\n",
      "criterion=gini, splitter=random, max_depth=None, min_samples_split=5, min_samples_leaf=5 -> Accuracy: 0.9947283382973044\n",
      "criterion=gini, splitter=random, max_depth=None, min_samples_split=10, min_samples_leaf=1 -> Accuracy: 0.9947949775261955\n",
      "criterion=gini, splitter=random, max_depth=None, min_samples_split=10, min_samples_leaf=2 -> Accuracy: 0.9948580139468388\n",
      "criterion=gini, splitter=random, max_depth=None, min_samples_split=10, min_samples_leaf=5 -> Accuracy: 0.9946815117484613\n",
      "criterion=gini, splitter=random, max_depth=5, min_samples_split=2, min_samples_leaf=1 -> Accuracy: 0.9429086121766156\n",
      "criterion=gini, splitter=random, max_depth=5, min_samples_split=2, min_samples_leaf=2 -> Accuracy: 0.9756751248499761\n",
      "criterion=gini, splitter=random, max_depth=5, min_samples_split=2, min_samples_leaf=5 -> Accuracy: 0.9796463396996911\n",
      "criterion=gini, splitter=random, max_depth=5, min_samples_split=5, min_samples_leaf=1 -> Accuracy: 0.9258419725060852\n",
      "criterion=gini, splitter=random, max_depth=5, min_samples_split=5, min_samples_leaf=2 -> Accuracy: 0.9356703011899704\n",
      "criterion=gini, splitter=random, max_depth=5, min_samples_split=5, min_samples_leaf=5 -> Accuracy: 0.9878213250054593\n",
      "criterion=gini, splitter=random, max_depth=5, min_samples_split=10, min_samples_leaf=1 -> Accuracy: 0.95911635734385\n",
      "criterion=gini, splitter=random, max_depth=5, min_samples_split=10, min_samples_leaf=2 -> Accuracy: 0.953612166293146\n",
      "criterion=gini, splitter=random, max_depth=5, min_samples_split=10, min_samples_leaf=5 -> Accuracy: 0.9719775835070141\n",
      "criterion=gini, splitter=random, max_depth=10, min_samples_split=2, min_samples_leaf=1 -> Accuracy: 0.9930155467422587\n",
      "criterion=gini, splitter=random, max_depth=10, min_samples_split=2, min_samples_leaf=2 -> Accuracy: 0.9731354917782193\n",
      "criterion=gini, splitter=random, max_depth=10, min_samples_split=2, min_samples_leaf=5 -> Accuracy: 0.9926715433408179\n",
      "criterion=gini, splitter=random, max_depth=10, min_samples_split=5, min_samples_leaf=1 -> Accuracy: 0.9924356084707388\n",
      "criterion=gini, splitter=random, max_depth=10, min_samples_split=5, min_samples_leaf=2 -> Accuracy: 0.9914684484742808\n",
      "criterion=gini, splitter=random, max_depth=10, min_samples_split=5, min_samples_leaf=5 -> Accuracy: 0.992250100524922\n",
      "criterion=gini, splitter=random, max_depth=10, min_samples_split=10, min_samples_leaf=1 -> Accuracy: 0.9929128833720717\n",
      "criterion=gini, splitter=random, max_depth=10, min_samples_split=10, min_samples_leaf=2 -> Accuracy: 0.9924464109269426\n",
      "criterion=gini, splitter=random, max_depth=10, min_samples_split=10, min_samples_leaf=5 -> Accuracy: 0.9927958182569251\n",
      "criterion=gini, splitter=random, max_depth=20, min_samples_split=2, min_samples_leaf=1 -> Accuracy: 0.9949264533553299\n",
      "criterion=gini, splitter=random, max_depth=20, min_samples_split=2, min_samples_leaf=2 -> Accuracy: 0.994740945782547\n",
      "criterion=gini, splitter=random, max_depth=20, min_samples_split=2, min_samples_leaf=5 -> Accuracy: 0.9945698468477382\n",
      "criterion=gini, splitter=random, max_depth=20, min_samples_split=5, min_samples_leaf=1 -> Accuracy: 0.9949174480133621\n",
      "criterion=gini, splitter=random, max_depth=20, min_samples_split=5, min_samples_leaf=2 -> Accuracy: 0.9948796265956418\n",
      "criterion=gini, splitter=random, max_depth=20, min_samples_split=5, min_samples_leaf=5 -> Accuracy: 0.9944095533371842\n",
      "criterion=gini, splitter=random, max_depth=20, min_samples_split=10, min_samples_leaf=1 -> Accuracy: 0.994793175465208\n",
      "criterion=gini, splitter=random, max_depth=20, min_samples_split=10, min_samples_leaf=2 -> Accuracy: 0.9948418044642914\n",
      "criterion=gini, splitter=random, max_depth=20, min_samples_split=10, min_samples_leaf=5 -> Accuracy: 0.9941952296399919\n",
      "criterion=entropy, splitter=best, max_depth=None, min_samples_split=2, min_samples_leaf=1 -> Accuracy: 0.9935126332531947\n",
      "criterion=entropy, splitter=best, max_depth=None, min_samples_split=2, min_samples_leaf=2 -> Accuracy: 0.9946887154997883\n",
      "criterion=entropy, splitter=best, max_depth=None, min_samples_split=2, min_samples_leaf=5 -> Accuracy: 0.9949336579662564\n",
      "criterion=entropy, splitter=best, max_depth=None, min_samples_split=5, min_samples_leaf=1 -> Accuracy: 0.9934387902081013\n",
      "criterion=entropy, splitter=best, max_depth=None, min_samples_split=5, min_samples_leaf=2 -> Accuracy: 0.9946671029969553\n",
      "criterion=entropy, splitter=best, max_depth=None, min_samples_split=5, min_samples_leaf=5 -> Accuracy: 0.9949372600446557\n",
      "criterion=entropy, splitter=best, max_depth=None, min_samples_split=10, min_samples_leaf=1 -> Accuracy: 0.9936026852780511\n",
      "criterion=entropy, splitter=best, max_depth=None, min_samples_split=10, min_samples_leaf=2 -> Accuracy: 0.9946833123173142\n",
      "criterion=entropy, splitter=best, max_depth=None, min_samples_split=10, min_samples_leaf=5 -> Accuracy: 0.9949372600446557\n",
      "criterion=entropy, splitter=best, max_depth=5, min_samples_split=2, min_samples_leaf=1 -> Accuracy: 0.9939394807923563\n",
      "criterion=entropy, splitter=best, max_depth=5, min_samples_split=2, min_samples_leaf=2 -> Accuracy: 0.9939358786815194\n",
      "criterion=entropy, splitter=best, max_depth=5, min_samples_split=2, min_samples_leaf=5 -> Accuracy: 0.9939358786977384\n",
      "criterion=entropy, splitter=best, max_depth=5, min_samples_split=5, min_samples_leaf=1 -> Accuracy: 0.9939394807923563\n",
      "criterion=entropy, splitter=best, max_depth=5, min_samples_split=5, min_samples_leaf=2 -> Accuracy: 0.9939358786815194\n",
      "criterion=entropy, splitter=best, max_depth=5, min_samples_split=5, min_samples_leaf=5 -> Accuracy: 0.9939358786977384\n",
      "criterion=entropy, splitter=best, max_depth=5, min_samples_split=10, min_samples_leaf=1 -> Accuracy: 0.9939394807923563\n",
      "criterion=entropy, splitter=best, max_depth=5, min_samples_split=10, min_samples_leaf=2 -> Accuracy: 0.9939358786815194\n",
      "criterion=entropy, splitter=best, max_depth=5, min_samples_split=10, min_samples_leaf=5 -> Accuracy: 0.9939358786977384\n",
      "criterion=entropy, splitter=best, max_depth=10, min_samples_split=2, min_samples_leaf=1 -> Accuracy: 0.9950291134330888\n",
      "criterion=entropy, splitter=best, max_depth=10, min_samples_split=2, min_samples_leaf=2 -> Accuracy: 0.9950345165020311\n",
      "criterion=entropy, splitter=best, max_depth=10, min_samples_split=2, min_samples_leaf=5 -> Accuracy: 0.9950038988031998\n",
      "criterion=entropy, splitter=best, max_depth=10, min_samples_split=5, min_samples_leaf=1 -> Accuracy: 0.9950201082370906\n",
      "criterion=entropy, splitter=best, max_depth=10, min_samples_split=5, min_samples_leaf=2 -> Accuracy: 0.995030914423632\n",
      "criterion=entropy, splitter=best, max_depth=10, min_samples_split=5, min_samples_leaf=5 -> Accuracy: 0.9949984956856011\n",
      "criterion=entropy, splitter=best, max_depth=10, min_samples_split=10, min_samples_leaf=1 -> Accuracy: 0.9950219092600714\n",
      "criterion=entropy, splitter=best, max_depth=10, min_samples_split=10, min_samples_leaf=2 -> Accuracy: 0.995030914423632\n",
      "criterion=entropy, splitter=best, max_depth=10, min_samples_split=10, min_samples_leaf=5 -> Accuracy: 0.9949984956693821\n",
      "criterion=entropy, splitter=best, max_depth=20, min_samples_split=2, min_samples_leaf=1 -> Accuracy: 0.9949012392606633\n",
      "criterion=entropy, splitter=best, max_depth=20, min_samples_split=2, min_samples_leaf=2 -> Accuracy: 0.9949570716056023\n",
      "criterion=entropy, splitter=best, max_depth=20, min_samples_split=2, min_samples_leaf=5 -> Accuracy: 0.9949840872909098\n",
      "criterion=entropy, splitter=best, max_depth=20, min_samples_split=5, min_samples_leaf=1 -> Accuracy: 0.9948868307848778\n",
      "criterion=entropy, splitter=best, max_depth=20, min_samples_split=5, min_samples_leaf=2 -> Accuracy: 0.9949588726772397\n",
      "criterion=entropy, splitter=best, max_depth=20, min_samples_split=5, min_samples_leaf=5 -> Accuracy: 0.9949840872909098\n",
      "criterion=entropy, splitter=best, max_depth=20, min_samples_split=10, min_samples_leaf=1 -> Accuracy: 0.9948904328957147\n",
      "criterion=entropy, splitter=best, max_depth=20, min_samples_split=10, min_samples_leaf=2 -> Accuracy: 0.9949588726610209\n",
      "criterion=entropy, splitter=best, max_depth=20, min_samples_split=10, min_samples_leaf=5 -> Accuracy: 0.9949840872909098\n",
      "criterion=entropy, splitter=random, max_depth=None, min_samples_split=2, min_samples_leaf=1 -> Accuracy: 0.9937755859656894\n",
      "criterion=entropy, splitter=random, max_depth=None, min_samples_split=2, min_samples_leaf=2 -> Accuracy: 0.9947427469190597\n",
      "criterion=entropy, splitter=random, max_depth=None, min_samples_split=2, min_samples_leaf=5 -> Accuracy: 0.9946779091672775\n",
      "criterion=entropy, splitter=random, max_depth=None, min_samples_split=5, min_samples_leaf=1 -> Accuracy: 0.9943519201152341\n",
      "criterion=entropy, splitter=random, max_depth=None, min_samples_split=5, min_samples_leaf=2 -> Accuracy: 0.994805783891144\n",
      "criterion=entropy, splitter=random, max_depth=None, min_samples_split=5, min_samples_leaf=5 -> Accuracy: 0.9947103279864027\n",
      "criterion=entropy, splitter=random, max_depth=None, min_samples_split=10, min_samples_leaf=1 -> Accuracy: 0.9947571553948453\n",
      "criterion=entropy, splitter=random, max_depth=None, min_samples_split=10, min_samples_leaf=2 -> Accuracy: 0.9948544121765976\n",
      "criterion=entropy, splitter=random, max_depth=None, min_samples_split=10, min_samples_leaf=5 -> Accuracy: 0.9946833129011929\n",
      "criterion=entropy, splitter=random, max_depth=5, min_samples_split=2, min_samples_leaf=1 -> Accuracy: 0.9849000171065313\n",
      "criterion=entropy, splitter=random, max_depth=5, min_samples_split=2, min_samples_leaf=2 -> Accuracy: 0.9186394420048462\n",
      "criterion=entropy, splitter=random, max_depth=5, min_samples_split=2, min_samples_leaf=5 -> Accuracy: 0.9382961282421821\n",
      "criterion=entropy, splitter=random, max_depth=5, min_samples_split=5, min_samples_leaf=1 -> Accuracy: 0.9610488068646388\n",
      "criterion=entropy, splitter=random, max_depth=5, min_samples_split=5, min_samples_leaf=2 -> Accuracy: 0.9877060637515933\n",
      "criterion=entropy, splitter=random, max_depth=5, min_samples_split=5, min_samples_leaf=5 -> Accuracy: 0.9561338493394924\n",
      "criterion=entropy, splitter=random, max_depth=5, min_samples_split=10, min_samples_leaf=1 -> Accuracy: 0.9874809290184219\n",
      "criterion=entropy, splitter=random, max_depth=5, min_samples_split=10, min_samples_leaf=2 -> Accuracy: 0.8802267899518714\n",
      "criterion=entropy, splitter=random, max_depth=5, min_samples_split=10, min_samples_leaf=5 -> Accuracy: 0.9758822368323823\n",
      "criterion=entropy, splitter=random, max_depth=10, min_samples_split=2, min_samples_leaf=1 -> Accuracy: 0.9929218910008984\n",
      "criterion=entropy, splitter=random, max_depth=10, min_samples_split=2, min_samples_leaf=2 -> Accuracy: 0.9925778888807473\n",
      "criterion=entropy, splitter=random, max_depth=10, min_samples_split=2, min_samples_leaf=5 -> Accuracy: 0.9935720692822001\n",
      "criterion=entropy, splitter=random, max_depth=10, min_samples_split=5, min_samples_leaf=1 -> Accuracy: 0.9914702472266216\n",
      "criterion=entropy, splitter=random, max_depth=10, min_samples_split=5, min_samples_leaf=2 -> Accuracy: 0.9917872320233607\n",
      "criterion=entropy, splitter=random, max_depth=10, min_samples_split=5, min_samples_leaf=5 -> Accuracy: 0.9925544765064723\n",
      "criterion=entropy, splitter=random, max_depth=10, min_samples_split=10, min_samples_leaf=1 -> Accuracy: 0.992558078990343\n",
      "criterion=entropy, splitter=random, max_depth=10, min_samples_split=10, min_samples_leaf=2 -> Accuracy: 0.9887993123054102\n",
      "criterion=entropy, splitter=random, max_depth=10, min_samples_split=10, min_samples_leaf=5 -> Accuracy: 0.9921222238547927\n",
      "criterion=entropy, splitter=random, max_depth=20, min_samples_split=2, min_samples_leaf=1 -> Accuracy: 0.9950075009140369\n",
      "criterion=entropy, splitter=random, max_depth=20, min_samples_split=2, min_samples_leaf=2 -> Accuracy: 0.9947247365432824\n",
      "criterion=entropy, splitter=random, max_depth=20, min_samples_split=2, min_samples_leaf=5 -> Accuracy: 0.9942582667742649\n",
      "criterion=entropy, splitter=random, max_depth=20, min_samples_split=5, min_samples_leaf=1 -> Accuracy: 0.994953469413671\n",
      "criterion=entropy, splitter=random, max_depth=20, min_samples_split=5, min_samples_leaf=2 -> Accuracy: 0.9949066423296056\n",
      "criterion=entropy, splitter=random, max_depth=20, min_samples_split=5, min_samples_leaf=5 -> Accuracy: 0.9944833968201868\n",
      "criterion=entropy, splitter=random, max_depth=20, min_samples_split=10, min_samples_leaf=1 -> Accuracy: 0.994976882923266\n",
      "criterion=entropy, splitter=random, max_depth=20, min_samples_split=10, min_samples_leaf=2 -> Accuracy: 0.994798579588376\n",
      "criterion=entropy, splitter=random, max_depth=20, min_samples_split=10, min_samples_leaf=5 -> Accuracy: 0.9945986630370228\n",
      "\n",
      "Melhores Hiperparâmetros encontrados: {'criterion': 'entropy', 'splitter': 'best', 'max_depth': 10, 'min_samples_split': 2, 'min_samples_leaf': 2}\n",
      "Melhor Acurácia Média: 0.9950345165020311\n"
     ]
    }
   ],
   "source": [
    "inicio = time.time()\n",
    "best_params = grid_search(X, y)\n",
    "fim = time.time()"
   ]
  },
  {
   "cell_type": "code",
   "execution_count": 15,
   "metadata": {},
   "outputs": [
    {
     "name": "stdout",
     "output_type": "stream",
     "text": [
      "323.08916091918945\n"
     ]
    }
   ],
   "source": [
    "duracao = fim - inicio\n",
    "print(duracao)"
   ]
  },
  {
   "cell_type": "code",
   "execution_count": 16,
   "metadata": {},
   "outputs": [
    {
     "name": "stdout",
     "output_type": "stream",
     "text": [
      "\n",
      "Melhores Hiperparâmetros encontrados: {'criterion': 'entropy', 'splitter': 'best', 'max_depth': 10, 'min_samples_split': 2, 'min_samples_leaf': 2}\n"
     ]
    }
   ],
   "source": [
    "print(\"\\nMelhores Hiperparâmetros encontrados:\", best_params)"
   ]
  }
 ],
 "metadata": {
  "kernelspec": {
   "display_name": "tcc_2025_py39",
   "language": "python",
   "name": "python3"
  },
  "language_info": {
   "codemirror_mode": {
    "name": "ipython",
    "version": 3
   },
   "file_extension": ".py",
   "mimetype": "text/x-python",
   "name": "python",
   "nbconvert_exporter": "python",
   "pygments_lexer": "ipython3",
   "version": "3.9.21"
  }
 },
 "nbformat": 4,
 "nbformat_minor": 2
}
