{
 "cells": [
  {
   "cell_type": "code",
   "execution_count": 1,
   "metadata": {},
   "outputs": [],
   "source": [
    "import polars as pl\n",
    "import numpy as np\n",
    "import time\n",
    "from sklearn.preprocessing import MinMaxScaler\n",
    "from sklearn.model_selection import train_test_split\n",
    "from sklearn.metrics import accuracy_score, precision_score, recall_score, f1_score, confusion_matrix, balanced_accuracy_score\n",
    "from sklearn.model_selection import KFold\n",
    "import torch.optim as optim\n",
    "\n",
    "import math\n",
    "import torch\n",
    "import torch.nn as nn\n",
    "from torch.utils.data import TensorDataset, DataLoader\n",
    "from imblearn.under_sampling import RandomUnderSampler"
   ]
  },
  {
   "cell_type": "code",
   "execution_count": 2,
   "metadata": {},
   "outputs": [],
   "source": [
    "df_polars_raiz = pl.read_parquet('../dataset.parquet')"
   ]
  },
  {
   "cell_type": "code",
   "execution_count": 3,
   "metadata": {},
   "outputs": [],
   "source": [
    "df_polars = df_polars_raiz.sample(fraction=0.01, seed=42)"
   ]
  },
  {
   "cell_type": "code",
   "execution_count": 4,
   "metadata": {},
   "outputs": [],
   "source": [
    "import ipaddress\n",
    "\n",
    "def ip_to_int(ip: str) -> int:\n",
    "    try:\n",
    "        return int(ipaddress.ip_address(ip))  # Funciona tanto para IPv4 quanto IPv6\n",
    "    except ValueError:\n",
    "        return None"
   ]
  },
  {
   "cell_type": "code",
   "execution_count": 5,
   "metadata": {},
   "outputs": [],
   "source": [
    "#df_polars = df_polars.with_columns([\n",
    "#    pl.col('id.resp_h').map_elements(ip_to_int).alias('id.resp_h'),\n",
    "#    pl.col('id.orig_h').map_elements(ip_to_int).alias('id.orig_h')\n",
    "#])"
   ]
  },
  {
   "cell_type": "code",
   "execution_count": 6,
   "metadata": {},
   "outputs": [
    {
     "data": {
      "text/html": [
       "<div><style>\n",
       ".dataframe > thead > tr,\n",
       ".dataframe > tbody > tr {\n",
       "  text-align: right;\n",
       "  white-space: pre-wrap;\n",
       "}\n",
       "</style>\n",
       "<small>shape: (555_233, 23)</small><table border=\"1\" class=\"dataframe\"><thead><tr><th>ts</th><th>uid</th><th>id.orig_h</th><th>id.orig_p</th><th>id.resp_h</th><th>id.resp_p</th><th>proto</th><th>service</th><th>duration</th><th>orig_bytes</th><th>resp_bytes</th><th>conn_state</th><th>local_orig</th><th>local_resp</th><th>missed_bytes</th><th>history</th><th>orig_pkts</th><th>orig_ip_bytes</th><th>resp_pkts</th><th>resp_ip_bytes</th><th>tunnel_parents</th><th>label</th><th>detailed-label</th></tr><tr><td>f64</td><td>str</td><td>str</td><td>i32</td><td>str</td><td>i32</td><td>i64</td><td>i64</td><td>f64</td><td>f64</td><td>f64</td><td>i64</td><td>str</td><td>str</td><td>i32</td><td>i64</td><td>i64</td><td>i64</td><td>i64</td><td>i64</td><td>str</td><td>i32</td><td>str</td></tr></thead><tbody><tr><td>1.5322e9</td><td>&quot;C63mNb4FhdpSoHAj9g&quot;</td><td>&quot;192.168.100.108&quot;</td><td>5526</td><td>&quot;47.138.157.173&quot;</td><td>37215</td><td>0</td><td>0</td><td>0.0</td><td>0.0</td><td>0.0</td><td>0</td><td>&quot;-&quot;</td><td>&quot;-&quot;</td><td>0</td><td>0</td><td>1</td><td>40</td><td>0</td><td>0</td><td>&quot;(empty)&quot;</td><td>1</td><td>&quot;Okiru&quot;</td></tr><tr><td>1.5326e9</td><td>&quot;CppkaidEFlUgsYbOh&quot;</td><td>&quot;192.168.100.111&quot;</td><td>60403</td><td>&quot;147.32.6.210&quot;</td><td>23</td><td>1</td><td>0</td><td>0.0</td><td>0.0</td><td>0.0</td><td>2</td><td>&quot;-&quot;</td><td>&quot;-&quot;</td><td>0</td><td>7</td><td>1</td><td>40</td><td>0</td><td>0</td><td>&quot;(empty)&quot;</td><td>1</td><td>&quot;PartOfAHorizontalPortScan&quot;</td></tr><tr><td>1.5326e9</td><td>&quot;CNXYoV2KOSjeK0XsCi&quot;</td><td>&quot;192.168.100.111&quot;</td><td>13386</td><td>&quot;50.229.102.190&quot;</td><td>81</td><td>1</td><td>0</td><td>0.0</td><td>0.0</td><td>0.0</td><td>2</td><td>&quot;-&quot;</td><td>&quot;-&quot;</td><td>0</td><td>7</td><td>1</td><td>40</td><td>0</td><td>0</td><td>&quot;(empty)&quot;</td><td>1</td><td>&quot;PartOfAHorizontalPortScan&quot;</td></tr><tr><td>1.5455e9</td><td>&quot;Cv91cy38cVUjBeny4k&quot;</td><td>&quot;192.168.1.198&quot;</td><td>36097</td><td>&quot;78.87.208.14&quot;</td><td>37215</td><td>0</td><td>0</td><td>null</td><td>null</td><td>null</td><td>0</td><td>&quot;-&quot;</td><td>&quot;-&quot;</td><td>0</td><td>0</td><td>1</td><td>40</td><td>0</td><td>0</td><td>&quot;-&quot;</td><td>1</td><td>&quot;Okiru&quot;</td></tr><tr><td>1.5454e9</td><td>&quot;CKvVZA3voOeDO627Ca&quot;</td><td>&quot;192.168.1.198&quot;</td><td>36097</td><td>&quot;202.99.70.13&quot;</td><td>37215</td><td>0</td><td>0</td><td>null</td><td>null</td><td>null</td><td>0</td><td>&quot;-&quot;</td><td>&quot;-&quot;</td><td>0</td><td>0</td><td>1</td><td>40</td><td>0</td><td>0</td><td>&quot;-&quot;</td><td>1</td><td>&quot;Okiru&quot;</td></tr><tr><td>&hellip;</td><td>&hellip;</td><td>&hellip;</td><td>&hellip;</td><td>&hellip;</td><td>&hellip;</td><td>&hellip;</td><td>&hellip;</td><td>&hellip;</td><td>&hellip;</td><td>&hellip;</td><td>&hellip;</td><td>&hellip;</td><td>&hellip;</td><td>&hellip;</td><td>&hellip;</td><td>&hellip;</td><td>&hellip;</td><td>&hellip;</td><td>&hellip;</td><td>&hellip;</td><td>&hellip;</td><td>&hellip;</td></tr><tr><td>1.5514e9</td><td>&quot;CwwQzn3658DIsMZ9uj&quot;</td><td>&quot;192.168.1.193&quot;</td><td>30535</td><td>&quot;217.130.2.16&quot;</td><td>8081</td><td>0</td><td>1</td><td>0.000005</td><td>0.0</td><td>0.0</td><td>1</td><td>&quot;-&quot;</td><td>&quot;-&quot;</td><td>0</td><td>1</td><td>2</td><td>80</td><td>0</td><td>0</td><td>&quot;-&quot;</td><td>1</td><td>&quot;PartOfAHorizontalPortScan&quot;</td></tr><tr><td>1.5454e9</td><td>&quot;CnykMt2RDdLvT42t8l&quot;</td><td>&quot;192.168.1.198&quot;</td><td>36097</td><td>&quot;112.160.204.32&quot;</td><td>37215</td><td>0</td><td>0</td><td>null</td><td>null</td><td>null</td><td>0</td><td>&quot;-&quot;</td><td>&quot;-&quot;</td><td>0</td><td>0</td><td>1</td><td>40</td><td>0</td><td>0</td><td>&quot;-&quot;</td><td>1</td><td>&quot;Okiru&quot;</td></tr><tr><td>1.5514e9</td><td>&quot;CDjM7C2ZIehXyoB3f&quot;</td><td>&quot;192.168.1.200&quot;</td><td>41258</td><td>&quot;134.130.151.164&quot;</td><td>23</td><td>0</td><td>1</td><td>0.000002</td><td>0.0</td><td>0.0</td><td>1</td><td>&quot;-&quot;</td><td>&quot;-&quot;</td><td>0</td><td>1</td><td>2</td><td>120</td><td>0</td><td>0</td><td>&quot;-&quot;</td><td>1</td><td>&quot;PartOfAHorizontalPortScan&quot;</td></tr><tr><td>1.5514e9</td><td>&quot;CttXNg3OrZSHSsUTH5&quot;</td><td>&quot;192.168.1.200&quot;</td><td>36658</td><td>&quot;171.251.198.162&quot;</td><td>23</td><td>0</td><td>1</td><td>0.000214</td><td>0.0</td><td>0.0</td><td>1</td><td>&quot;-&quot;</td><td>&quot;-&quot;</td><td>0</td><td>1</td><td>2</td><td>120</td><td>0</td><td>0</td><td>&quot;-&quot;</td><td>1</td><td>&quot;PartOfAHorizontalPortScan&quot;</td></tr><tr><td>1.5454e9</td><td>&quot;Czhqv31jbBelqVvOI&quot;</td><td>&quot;192.168.1.198&quot;</td><td>36097</td><td>&quot;223.8.201.70&quot;</td><td>37215</td><td>0</td><td>0</td><td>null</td><td>null</td><td>null</td><td>0</td><td>&quot;-&quot;</td><td>&quot;-&quot;</td><td>0</td><td>0</td><td>1</td><td>40</td><td>0</td><td>0</td><td>&quot;-&quot;</td><td>1</td><td>&quot;Okiru&quot;</td></tr></tbody></table></div>"
      ],
      "text/plain": [
       "shape: (555_233, 23)\n",
       "┌──────────┬────────────┬────────────┬───────────┬───┬────────────┬────────────┬───────┬───────────┐\n",
       "│ ts       ┆ uid        ┆ id.orig_h  ┆ id.orig_p ┆ … ┆ resp_ip_by ┆ tunnel_par ┆ label ┆ detailed- │\n",
       "│ ---      ┆ ---        ┆ ---        ┆ ---       ┆   ┆ tes        ┆ ents       ┆ ---   ┆ label     │\n",
       "│ f64      ┆ str        ┆ str        ┆ i32       ┆   ┆ ---        ┆ ---        ┆ i32   ┆ ---       │\n",
       "│          ┆            ┆            ┆           ┆   ┆ i64        ┆ str        ┆       ┆ str       │\n",
       "╞══════════╪════════════╪════════════╪═══════════╪═══╪════════════╪════════════╪═══════╪═══════════╡\n",
       "│ 1.5322e9 ┆ C63mNb4Fhd ┆ 192.168.10 ┆ 5526      ┆ … ┆ 0          ┆ (empty)    ┆ 1     ┆ Okiru     │\n",
       "│          ┆ pSoHAj9g   ┆ 0.108      ┆           ┆   ┆            ┆            ┆       ┆           │\n",
       "│ 1.5326e9 ┆ CppkaidEFl ┆ 192.168.10 ┆ 60403     ┆ … ┆ 0          ┆ (empty)    ┆ 1     ┆ PartOfAHo │\n",
       "│          ┆ UgsYbOh    ┆ 0.111      ┆           ┆   ┆            ┆            ┆       ┆ rizontalP │\n",
       "│          ┆            ┆            ┆           ┆   ┆            ┆            ┆       ┆ ortScan   │\n",
       "│ 1.5326e9 ┆ CNXYoV2KOS ┆ 192.168.10 ┆ 13386     ┆ … ┆ 0          ┆ (empty)    ┆ 1     ┆ PartOfAHo │\n",
       "│          ┆ jeK0XsCi   ┆ 0.111      ┆           ┆   ┆            ┆            ┆       ┆ rizontalP │\n",
       "│          ┆            ┆            ┆           ┆   ┆            ┆            ┆       ┆ ortScan   │\n",
       "│ 1.5455e9 ┆ Cv91cy38cV ┆ 192.168.1. ┆ 36097     ┆ … ┆ 0          ┆ -          ┆ 1     ┆ Okiru     │\n",
       "│          ┆ UjBeny4k   ┆ 198        ┆           ┆   ┆            ┆            ┆       ┆           │\n",
       "│ 1.5454e9 ┆ CKvVZA3voO ┆ 192.168.1. ┆ 36097     ┆ … ┆ 0          ┆ -          ┆ 1     ┆ Okiru     │\n",
       "│          ┆ eDO627Ca   ┆ 198        ┆           ┆   ┆            ┆            ┆       ┆           │\n",
       "│ …        ┆ …          ┆ …          ┆ …         ┆ … ┆ …          ┆ …          ┆ …     ┆ …         │\n",
       "│ 1.5514e9 ┆ CwwQzn3658 ┆ 192.168.1. ┆ 30535     ┆ … ┆ 0          ┆ -          ┆ 1     ┆ PartOfAHo │\n",
       "│          ┆ DIsMZ9uj   ┆ 193        ┆           ┆   ┆            ┆            ┆       ┆ rizontalP │\n",
       "│          ┆            ┆            ┆           ┆   ┆            ┆            ┆       ┆ ortScan   │\n",
       "│ 1.5454e9 ┆ CnykMt2RDd ┆ 192.168.1. ┆ 36097     ┆ … ┆ 0          ┆ -          ┆ 1     ┆ Okiru     │\n",
       "│          ┆ LvT42t8l   ┆ 198        ┆           ┆   ┆            ┆            ┆       ┆           │\n",
       "│ 1.5514e9 ┆ CDjM7C2ZIe ┆ 192.168.1. ┆ 41258     ┆ … ┆ 0          ┆ -          ┆ 1     ┆ PartOfAHo │\n",
       "│          ┆ hXyoB3f    ┆ 200        ┆           ┆   ┆            ┆            ┆       ┆ rizontalP │\n",
       "│          ┆            ┆            ┆           ┆   ┆            ┆            ┆       ┆ ortScan   │\n",
       "│ 1.5514e9 ┆ CttXNg3OrZ ┆ 192.168.1. ┆ 36658     ┆ … ┆ 0          ┆ -          ┆ 1     ┆ PartOfAHo │\n",
       "│          ┆ SHSsUTH5   ┆ 200        ┆           ┆   ┆            ┆            ┆       ┆ rizontalP │\n",
       "│          ┆            ┆            ┆           ┆   ┆            ┆            ┆       ┆ ortScan   │\n",
       "│ 1.5454e9 ┆ Czhqv31jbB ┆ 192.168.1. ┆ 36097     ┆ … ┆ 0          ┆ -          ┆ 1     ┆ Okiru     │\n",
       "│          ┆ elqVvOI    ┆ 198        ┆           ┆   ┆            ┆            ┆       ┆           │\n",
       "└──────────┴────────────┴────────────┴───────────┴───┴────────────┴────────────┴───────┴───────────┘"
      ]
     },
     "execution_count": 6,
     "metadata": {},
     "output_type": "execute_result"
    }
   ],
   "source": [
    "df_polars"
   ]
  },
  {
   "cell_type": "code",
   "execution_count": 7,
   "metadata": {},
   "outputs": [],
   "source": [
    "df_polars = df_polars.with_columns([\n",
    "    pl.col('duration').fill_null(0),\n",
    "    pl.col('orig_bytes').fill_null(0),\n",
    "    pl.col('resp_bytes').fill_null(0)\n",
    "])"
   ]
  },
  {
   "cell_type": "code",
   "execution_count": 8,
   "metadata": {},
   "outputs": [],
   "source": [
    "lista_colunas = df_polars.columns\n",
    "colunas_para_spearman = ['id.resp_p', 'history', 'conn_state', 'id.orig_p', 'orig_ip_bytes', 'label']             \n",
    "#['detailed-label', 'id.resp_p', 'history', 'id.orig_h', 'conn_state', 'id.orig_p', 'orig_ip_bytes']\n",
    "colunas_para_dropar = [col for col in lista_colunas if col not in colunas_para_spearman]\n",
    "df_polars = df_polars.drop(colunas_para_dropar)"
   ]
  },
  {
   "cell_type": "code",
   "execution_count": 9,
   "metadata": {},
   "outputs": [],
   "source": [
    "df_polars = df_polars.drop_nulls()"
   ]
  },
  {
   "cell_type": "code",
   "execution_count": 10,
   "metadata": {},
   "outputs": [],
   "source": [
    "X = df_polars.drop('label')\n",
    "y = df_polars['label']       "
   ]
  },
  {
   "cell_type": "code",
   "execution_count": 11,
   "metadata": {},
   "outputs": [],
   "source": [
    "#X = X.to_numpy()\n",
    "#X[:, 0] = np.array([ip_to_int(ip) for ip in X[:, 0]])"
   ]
  },
  {
   "cell_type": "code",
   "execution_count": 12,
   "metadata": {},
   "outputs": [],
   "source": [
    "# calcular número desejado de características\n",
    "def calculate_desired_num_features(current_num_features):\n",
    "    root = math.sqrt(current_num_features)\n",
    "    desired_num_features = math.ceil(root) ** 2\n",
    "    \n",
    "    return desired_num_features"
   ]
  },
  {
   "cell_type": "code",
   "execution_count": 13,
   "metadata": {},
   "outputs": [
    {
     "name": "stdout",
     "output_type": "stream",
     "text": [
      "(555233, 5)\n"
     ]
    }
   ],
   "source": [
    "print(X.shape)"
   ]
  },
  {
   "cell_type": "markdown",
   "metadata": {},
   "source": [
    "# Treinamento"
   ]
  },
  {
   "cell_type": "code",
   "execution_count": 14,
   "metadata": {},
   "outputs": [],
   "source": [
    "results = []\n",
    "SAMPLE_2D_SIZE = 4"
   ]
  },
  {
   "cell_type": "code",
   "execution_count": 15,
   "metadata": {},
   "outputs": [],
   "source": [
    "class CNNModel(nn.Module):\n",
    "    def __init__(self, conv1_out_channels=64, conv2_out_channels=64, dropout_rate=0.2):\n",
    "        super(CNNModel, self).__init__()\n",
    "        \n",
    "        self.conv1 = nn.Conv2d(1, conv1_out_channels, kernel_size=2, stride=1, padding=0)\n",
    "        self.relu1 = nn.ReLU()\n",
    "        self.conv2 = nn.Conv2d(conv1_out_channels, conv2_out_channels, kernel_size=2, stride=1, padding=0)\n",
    "        self.relu2 = nn.ReLU()\n",
    "        self.pool1 = nn.MaxPool2d(kernel_size=2, stride=2)\n",
    "        \n",
    "        def conv2d_out_size(size, kernel_size=2, stride=1, padding=0):\n",
    "            return (size - kernel_size + 2 * padding) // stride + 1\n",
    "        \n",
    "        size_after_conv1 = conv2d_out_size(SAMPLE_2D_SIZE, kernel_size=2)\n",
    "        size_after_conv2 = conv2d_out_size(size_after_conv1, kernel_size=2)\n",
    "        size_after_pool = conv2d_out_size(size_after_conv2, kernel_size=2, stride=2)\n",
    "        \n",
    "        self.fc1 = nn.Linear(conv2_out_channels * size_after_pool * size_after_pool, 64)\n",
    "        self.relu3 = nn.ReLU()\n",
    "        self.dropout = nn.Dropout(dropout_rate)\n",
    "        self.fc2 = nn.Linear(64, 1)\n",
    "        \n",
    "    def forward(self, x):\n",
    "        x = self.conv1(x)\n",
    "        x = self.relu1(x)\n",
    "        x = self.conv2(x)\n",
    "        x = self.relu2(x)\n",
    "        x = self.pool1(x)\n",
    "        x = x.view(x.size(0), -1)\n",
    "        x = self.fc1(x)\n",
    "        x = self.relu3(x)\n",
    "        x = self.dropout(x)\n",
    "        x = self.fc2(x)\n",
    "        return x.squeeze()\n"
   ]
  },
  {
   "cell_type": "code",
   "execution_count": 16,
   "metadata": {},
   "outputs": [],
   "source": [
    "def startTrain(num_epochs, dropout_rate, learning_rate, conv1_out_channels, conv2_out_channels):\n",
    "    kfold = KFold(n_splits=5, shuffle=True)\n",
    "    results_fold = []\n",
    "    for train_idx, test_idx in kfold.split(X, y):\n",
    "        X_train, X_test = X[train_idx], X[test_idx]\n",
    "        y_train, y_test = y[train_idx], y[test_idx]\n",
    "    \n",
    "        scaler = MinMaxScaler()\n",
    "        X_train_scaled = scaler.fit_transform(X_train)\n",
    "        X_test_scaled = scaler.transform(X_test)\n",
    "        \n",
    "        rus = RandomUnderSampler()\n",
    "        X_train_resampled, y_train_resampled = rus.fit_resample(X_train_scaled, y_train)\n",
    "    \n",
    "        desired_num_features = 16\n",
    "        current_num_features = X_train_resampled.shape[1]\n",
    "    \n",
    "        if current_num_features < desired_num_features:\n",
    "            padding = desired_num_features - current_num_features\n",
    "            X_train_resampled = np.pad(X_train_resampled, ((0, 0), (0, padding)), 'constant')\n",
    "            X_test_scaled = np.pad(X_test_scaled, ((0, 0), (0, padding)), 'constant')\n",
    "        elif current_num_features > desired_num_features:\n",
    "            raise ValueError(\"Número de características maior que o desejado.\")\n",
    "    \n",
    "        X_train_resampled = X_train_resampled.reshape(-1, 1, SAMPLE_2D_SIZE, SAMPLE_2D_SIZE)\n",
    "        X_test_scaled = X_test_scaled.reshape(-1, 1, SAMPLE_2D_SIZE, SAMPLE_2D_SIZE)\n",
    "    \n",
    "        X_train_tensor = torch.tensor(X_train_resampled, dtype=torch.float32)\n",
    "        y_train_tensor = torch.tensor(y_train_resampled, dtype=torch.float32)\n",
    "        X_test_tensor = torch.tensor(X_test_scaled, dtype=torch.float32)\n",
    "        y_test_tensor = torch.tensor(y_test, dtype=torch.float32)\n",
    "    \n",
    "        device = torch.device('cuda' if torch.cuda.is_available() else 'cpu')\n",
    "        model = CNNModel(conv1_out_channels=conv1_out_channels, conv2_out_channels=conv2_out_channels, dropout_rate=dropout_rate)\n",
    "        criterion = nn.BCEWithLogitsLoss()\n",
    "        optimizer = optim.Adam(model.parameters(), lr=learning_rate)\n",
    "\n",
    "        # DataLoader\n",
    "        batch_size = 512\n",
    "        train_dataset = TensorDataset(X_train_tensor, y_train_tensor)\n",
    "        test_dataset = TensorDataset(X_test_tensor, y_test_tensor)\n",
    "        train_loader = DataLoader(train_dataset, batch_size=batch_size, shuffle=True)\n",
    "        test_loader = DataLoader(test_dataset, batch_size=batch_size)\n",
    "\n",
    "        start_training = time.time()\n",
    "        \n",
    "        for epoch in range(num_epochs):\n",
    "            model.train()\n",
    "            for X_batch, y_batch in train_loader:\n",
    "                optimizer.zero_grad()\n",
    "                outputs = model(X_batch)\n",
    "                loss = criterion(outputs, y_batch)\n",
    "                loss.backward()\n",
    "                optimizer.step()\n",
    "        \n",
    "        end_training = time.time()\n",
    "\n",
    "        # Avaliação\n",
    "        model.eval()\n",
    "        all_preds = []\n",
    "        all_labels = []\n",
    "        \n",
    "        with torch.no_grad():\n",
    "            for X_batch, y_batch in test_loader:\n",
    "                outputs = model(X_batch)\n",
    "                preds = torch.sigmoid(outputs)\n",
    "                all_preds.extend(preds.cpu().numpy())\n",
    "                all_labels.extend(y_batch.cpu().numpy())\n",
    "\n",
    "        all_preds = np.array(all_preds)\n",
    "        all_labels = np.array(all_labels)\n",
    "        y_pred = (all_preds >= 0.5).astype(int)\n",
    "        y_true = all_labels\n",
    "\n",
    "        # Cálculo das métricas\n",
    "        confusion = confusion_matrix(y_true, y_pred)\n",
    "        tn, fp, fn, tp = confusion.ravel()\n",
    "        accuracy = accuracy_score(y_true, y_pred)\n",
    "        precision = precision_score(y_true, y_pred)\n",
    "        recall = recall_score(y_true, y_pred)\n",
    "        specificity = tn / (tn + fp) if (tn + fp) > 0 else 0\n",
    "        f1 = f1_score(y_true, y_pred)\n",
    "        balanced_accuracy = balanced_accuracy_score(y_true, y_pred)\n",
    "        false_alarm_rate = fp / (fp + tn) if (fp + tn) > 0 else 0\n",
    "\n",
    "        # Cálculo de tempos\n",
    "        training_duration = end_training - start_training\n",
    "        evaluation_duration = time.time() - end_training\n",
    "\n",
    "        # Registro de resultados\n",
    "        avaliacao = [\n",
    "            accuracy, balanced_accuracy, precision, recall, specificity, f1, \n",
    "            false_alarm_rate, tn, fp, fn, tp, training_duration, evaluation_duration\n",
    "        ]\n",
    "        \n",
    "        #print(avaliacao)\n",
    "        results_fold.append(avaliacao)\n",
    "        results_fold_array = np.array(results_fold, dtype=np.float32)\n",
    "    mean_results = np.mean(results_fold_array, axis=0)\n",
    "    results.append([\"2DCNN\"] + mean_results.tolist())"
   ]
  },
  {
   "cell_type": "code",
   "execution_count": 17,
   "metadata": {},
   "outputs": [],
   "source": [
    "#{'conv1_out_channels': 64, 'conv2_out_channels': 64, 'dropout_rate': 0.3, 'learning_rate': 0.001, 'num_epochs': 10}"
   ]
  },
  {
   "cell_type": "code",
   "execution_count": 18,
   "metadata": {},
   "outputs": [
    {
     "name": "stdout",
     "output_type": "stream",
     "text": [
      "1\n",
      "2\n",
      "3\n",
      "4\n",
      "5\n",
      "6\n",
      "7\n",
      "8\n",
      "9\n",
      "10\n"
     ]
    }
   ],
   "source": [
    "for i in range(1,11):\n",
    "    startTrain(conv1_out_channels= 64, conv2_out_channels=64, dropout_rate= 0.3, learning_rate= 0.001, num_epochs=10)\n",
    "    print(i)"
   ]
  },
  {
   "cell_type": "code",
   "execution_count": 19,
   "metadata": {},
   "outputs": [
    {
     "name": "stderr",
     "output_type": "stream",
     "text": [
      "c:\\Users\\rafae\\anaconda3\\envs\\tcc_2025_py39\\lib\\functools.py:888: DataOrientationWarning: Row orientation inferred during DataFrame construction. Explicitly specify the orientation by passing `orient=\"row\"` to silence this warning.\n",
      "  return dispatch(args[0].__class__)(*args, **kw)\n"
     ]
    },
    {
     "data": {
      "text/html": [
       "<div><style>\n",
       ".dataframe > thead > tr,\n",
       ".dataframe > tbody > tr {\n",
       "  text-align: right;\n",
       "  white-space: pre-wrap;\n",
       "}\n",
       "</style>\n",
       "<small>shape: (10, 14)</small><table border=\"1\" class=\"dataframe\"><thead><tr><th>Algorithm</th><th>Accuracy</th><th>Balanced Accuracy</th><th>Precision</th><th>Recall</th><th>Specificity</th><th>F1-score</th><th>False Alarm Rate</th><th>tn</th><th>fp</th><th>fn</th><th>tp</th><th>training_duration</th><th>evaluation_duration</th></tr><tr><td>str</td><td>f64</td><td>f64</td><td>f64</td><td>f64</td><td>f64</td><td>f64</td><td>f64</td><td>f64</td><td>f64</td><td>f64</td><td>f64</td><td>f64</td><td>f64</td></tr></thead><tbody><tr><td>&quot;2DCNN&quot;</td><td>0.987254</td><td>0.989409</td><td>0.99856</td><td>0.986243</td><td>0.992575</td><td>0.992362</td><td>0.007425</td><td>17670.599609</td><td>132.600006</td><td>1282.800049</td><td>91960.601562</td><td>32.436836</td><td>1.904232</td></tr><tr><td>&quot;2DCNN&quot;</td><td>0.987976</td><td>0.989799</td><td>0.998546</td><td>0.987117</td><td>0.992481</td><td>0.992799</td><td>0.007519</td><td>17669.199219</td><td>134.0</td><td>1201.199951</td><td>92042.203125</td><td>33.923481</td><td>1.965273</td></tr><tr><td>&quot;2DCNN&quot;</td><td>0.987247</td><td>0.989609</td><td>0.998662</td><td>0.986134</td><td>0.993084</td><td>0.992358</td><td>0.006916</td><td>17680.0</td><td>123.199997</td><td>1293.0</td><td>91950.398438</td><td>30.802105</td><td>1.832695</td></tr><tr><td>&quot;2DCNN&quot;</td><td>0.987771</td><td>0.98969</td><td>0.998552</td><td>0.986866</td><td>0.992514</td><td>0.992674</td><td>0.007486</td><td>17669.800781</td><td>133.399994</td><td>1224.599976</td><td>92018.796875</td><td>31.947887</td><td>1.92633</td></tr><tr><td>&quot;2DCNN&quot;</td><td>0.987025</td><td>0.989144</td><td>0.998506</td><td>0.986024</td><td>0.992264</td><td>0.992226</td><td>0.007736</td><td>17665.599609</td><td>137.600006</td><td>1303.199951</td><td>91940.203125</td><td>34.68166</td><td>2.210478</td></tr><tr><td>&quot;2DCNN&quot;</td><td>0.986586</td><td>0.989647</td><td>0.99887</td><td>0.98514</td><td>0.994155</td><td>0.991956</td><td>0.005845</td><td>17699.199219</td><td>104.0</td><td>1385.599976</td><td>91857.796875</td><td>36.205494</td><td>2.067551</td></tr><tr><td>&quot;2DCNN&quot;</td><td>0.987627</td><td>0.989865</td><td>0.998678</td><td>0.986572</td><td>0.993159</td><td>0.992588</td><td>0.006841</td><td>17681.400391</td><td>121.800003</td><td>1252.199951</td><td>91991.203125</td><td>37.326252</td><td>2.347405</td></tr><tr><td>&quot;2DCNN&quot;</td><td>0.987182</td><td>0.989177</td><td>0.998476</td><td>0.986239</td><td>0.992116</td><td>0.992319</td><td>0.007884</td><td>17662.800781</td><td>140.399994</td><td>1283.0</td><td>91960.398438</td><td>34.085144</td><td>2.015938</td></tr><tr><td>&quot;2DCNN&quot;</td><td>0.988398</td><td>0.98926</td><td>0.998174</td><td>0.987991</td><td>0.99053</td><td>0.993056</td><td>0.00947</td><td>17634.599609</td><td>168.600006</td><td>1119.800049</td><td>92123.601562</td><td>31.197918</td><td>1.901135</td></tr><tr><td>&quot;2DCNN&quot;</td><td>0.987504</td><td>0.989451</td><td>0.998521</td><td>0.986581</td><td>0.99232</td><td>0.992514</td><td>0.00768</td><td>17666.800781</td><td>136.399994</td><td>1251.199951</td><td>91992.203125</td><td>30.784637</td><td>1.908332</td></tr></tbody></table></div>"
      ],
      "text/plain": [
       "shape: (10, 14)\n",
       "┌───────────┬──────────┬───────────┬───────────┬───┬───────────┬───────────┬───────────┬───────────┐\n",
       "│ Algorithm ┆ Accuracy ┆ Balanced  ┆ Precision ┆ … ┆ fn        ┆ tp        ┆ training_ ┆ evaluatio │\n",
       "│ ---       ┆ ---      ┆ Accuracy  ┆ ---       ┆   ┆ ---       ┆ ---       ┆ duration  ┆ n_duratio │\n",
       "│ str       ┆ f64      ┆ ---       ┆ f64       ┆   ┆ f64       ┆ f64       ┆ ---       ┆ n         │\n",
       "│           ┆          ┆ f64       ┆           ┆   ┆           ┆           ┆ f64       ┆ ---       │\n",
       "│           ┆          ┆           ┆           ┆   ┆           ┆           ┆           ┆ f64       │\n",
       "╞═══════════╪══════════╪═══════════╪═══════════╪═══╪═══════════╪═══════════╪═══════════╪═══════════╡\n",
       "│ 2DCNN     ┆ 0.987254 ┆ 0.989409  ┆ 0.99856   ┆ … ┆ 1282.8000 ┆ 91960.601 ┆ 32.436836 ┆ 1.904232  │\n",
       "│           ┆          ┆           ┆           ┆   ┆ 49        ┆ 562       ┆           ┆           │\n",
       "│ 2DCNN     ┆ 0.987976 ┆ 0.989799  ┆ 0.998546  ┆ … ┆ 1201.1999 ┆ 92042.203 ┆ 33.923481 ┆ 1.965273  │\n",
       "│           ┆          ┆           ┆           ┆   ┆ 51        ┆ 125       ┆           ┆           │\n",
       "│ 2DCNN     ┆ 0.987247 ┆ 0.989609  ┆ 0.998662  ┆ … ┆ 1293.0    ┆ 91950.398 ┆ 30.802105 ┆ 1.832695  │\n",
       "│           ┆          ┆           ┆           ┆   ┆           ┆ 438       ┆           ┆           │\n",
       "│ 2DCNN     ┆ 0.987771 ┆ 0.98969   ┆ 0.998552  ┆ … ┆ 1224.5999 ┆ 92018.796 ┆ 31.947887 ┆ 1.92633   │\n",
       "│           ┆          ┆           ┆           ┆   ┆ 76        ┆ 875       ┆           ┆           │\n",
       "│ 2DCNN     ┆ 0.987025 ┆ 0.989144  ┆ 0.998506  ┆ … ┆ 1303.1999 ┆ 91940.203 ┆ 34.68166  ┆ 2.210478  │\n",
       "│           ┆          ┆           ┆           ┆   ┆ 51        ┆ 125       ┆           ┆           │\n",
       "│ 2DCNN     ┆ 0.986586 ┆ 0.989647  ┆ 0.99887   ┆ … ┆ 1385.5999 ┆ 91857.796 ┆ 36.205494 ┆ 2.067551  │\n",
       "│           ┆          ┆           ┆           ┆   ┆ 76        ┆ 875       ┆           ┆           │\n",
       "│ 2DCNN     ┆ 0.987627 ┆ 0.989865  ┆ 0.998678  ┆ … ┆ 1252.1999 ┆ 91991.203 ┆ 37.326252 ┆ 2.347405  │\n",
       "│           ┆          ┆           ┆           ┆   ┆ 51        ┆ 125       ┆           ┆           │\n",
       "│ 2DCNN     ┆ 0.987182 ┆ 0.989177  ┆ 0.998476  ┆ … ┆ 1283.0    ┆ 91960.398 ┆ 34.085144 ┆ 2.015938  │\n",
       "│           ┆          ┆           ┆           ┆   ┆           ┆ 438       ┆           ┆           │\n",
       "│ 2DCNN     ┆ 0.988398 ┆ 0.98926   ┆ 0.998174  ┆ … ┆ 1119.8000 ┆ 92123.601 ┆ 31.197918 ┆ 1.901135  │\n",
       "│           ┆          ┆           ┆           ┆   ┆ 49        ┆ 562       ┆           ┆           │\n",
       "│ 2DCNN     ┆ 0.987504 ┆ 0.989451  ┆ 0.998521  ┆ … ┆ 1251.1999 ┆ 91992.203 ┆ 30.784637 ┆ 1.908332  │\n",
       "│           ┆          ┆           ┆           ┆   ┆ 51        ┆ 125       ┆           ┆           │\n",
       "└───────────┴──────────┴───────────┴───────────┴───┴───────────┴───────────┴───────────┴───────────┘"
      ]
     },
     "execution_count": 19,
     "metadata": {},
     "output_type": "execute_result"
    }
   ],
   "source": [
    "metrics_df = pl.DataFrame(\n",
    "    results,\n",
    "    schema=['Algorithm', 'Accuracy', 'Balanced Accuracy' , 'Precision', 'Recall', 'Specificity', 'F1-score', 'False Alarm Rate', 'tn', 'fp', 'fn', 'tp', 'training_duration', 'evaluation_duration']\n",
    ")\n",
    "metrics_df"
   ]
  },
  {
   "cell_type": "code",
   "execution_count": null,
   "metadata": {},
   "outputs": [],
   "source": [
    "metrics_df.write_csv(f\"metrics_results/balanced_2DCNN_metrics_output.csv\", separator=';')"
   ]
  }
 ],
 "metadata": {
  "kernelspec": {
   "display_name": "tcc_2025_py39",
   "language": "python",
   "name": "python3"
  },
  "language_info": {
   "codemirror_mode": {
    "name": "ipython",
    "version": 3
   },
   "file_extension": ".py",
   "mimetype": "text/x-python",
   "name": "python",
   "nbconvert_exporter": "python",
   "pygments_lexer": "ipython3",
   "version": "3.9.21"
  }
 },
 "nbformat": 4,
 "nbformat_minor": 2
}
