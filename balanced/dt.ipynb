{
 "cells": [
  {
   "cell_type": "code",
   "execution_count": 1,
   "metadata": {},
   "outputs": [],
   "source": [
    "import polars as pl\n",
    "import numpy as np\n",
    "import time\n",
    "from sklearn.tree import DecisionTreeClassifier\n",
    "from sklearn.preprocessing import MinMaxScaler\n",
    "from sklearn.model_selection import train_test_split\n",
    "from sklearn.metrics import accuracy_score, precision_score, recall_score, f1_score, confusion_matrix, balanced_accuracy_score\n",
    "from sklearn.model_selection import KFold\n",
    "from imblearn.under_sampling import RandomUnderSampler"
   ]
  },
  {
   "cell_type": "code",
   "execution_count": 2,
   "metadata": {},
   "outputs": [],
   "source": [
    "df_polars_raiz = pl.read_parquet('../dataset.parquet')"
   ]
  },
  {
   "cell_type": "code",
   "execution_count": 3,
   "metadata": {},
   "outputs": [],
   "source": [
    "df_polars = df_polars_raiz.sample(fraction=0.01, seed=42)"
   ]
  },
  {
   "cell_type": "code",
   "execution_count": 4,
   "metadata": {},
   "outputs": [],
   "source": [
    "import ipaddress\n",
    "\n",
    "def ip_to_int(ip: str) -> int:\n",
    "    try:\n",
    "        return int(ipaddress.ip_address(ip))  # Funciona tanto para IPv4 quanto IPv6\n",
    "    except ValueError:\n",
    "        return None"
   ]
  },
  {
   "cell_type": "code",
   "execution_count": 5,
   "metadata": {},
   "outputs": [],
   "source": [
    "#df_polars = df_polars.with_columns([\n",
    "#    pl.col('id.resp_h').map_elements(ip_to_int).alias('id.resp_h'),\n",
    "#    pl.col('id.orig_h').map_elements(ip_to_int).alias('id.orig_h')\n",
    "#])"
   ]
  },
  {
   "cell_type": "code",
   "execution_count": 6,
   "metadata": {},
   "outputs": [],
   "source": [
    "df_polars = df_polars.with_columns([\n",
    "    pl.col('duration').fill_null(0),\n",
    "    pl.col('orig_bytes').fill_null(0),\n",
    "    pl.col('resp_bytes').fill_null(0)\n",
    "])"
   ]
  },
  {
   "cell_type": "code",
   "execution_count": 7,
   "metadata": {},
   "outputs": [],
   "source": [
    "lista_colunas = df_polars.columns\n",
    "colunas_para_spearman = ['id.resp_p', 'history', 'conn_state', 'id.orig_p', 'orig_ip_bytes', 'label']             \n",
    "#['detailed-label', 'id.resp_p', 'history', 'id.orig_h', 'conn_state', 'id.orig_p', 'orig_ip_bytes']\n",
    "colunas_para_dropar = [col for col in lista_colunas if col not in colunas_para_spearman]\n",
    "df_polars = df_polars.drop(colunas_para_dropar)"
   ]
  },
  {
   "cell_type": "code",
   "execution_count": 8,
   "metadata": {},
   "outputs": [],
   "source": [
    "df_polars = df_polars.drop_nulls()"
   ]
  },
  {
   "cell_type": "code",
   "execution_count": 9,
   "metadata": {},
   "outputs": [],
   "source": [
    "X = df_polars.drop('label')\n",
    "y = df_polars['label']       "
   ]
  },
  {
   "cell_type": "code",
   "execution_count": 10,
   "metadata": {},
   "outputs": [],
   "source": [
    "#X = X.to_numpy()\n",
    "#X[:, 0] = np.array([ip_to_int(ip) for ip in X[:, 0]])"
   ]
  },
  {
   "cell_type": "markdown",
   "metadata": {},
   "source": [
    "# Treinamento"
   ]
  },
  {
   "cell_type": "code",
   "execution_count": 11,
   "metadata": {},
   "outputs": [],
   "source": [
    "results = []"
   ]
  },
  {
   "cell_type": "code",
   "execution_count": 12,
   "metadata": {},
   "outputs": [],
   "source": [
    "def startTrain(X, y, criterion, splitter, max_depth, min_samples_split, min_samples_leaf):\n",
    "    kfold = KFold(n_splits=5, shuffle=True, random_state=42)\n",
    "    results_fold = []\n",
    "\n",
    "    for train_idx, test_idx in kfold.split(X):\n",
    "        X_train, X_test = X[train_idx], X[test_idx]\n",
    "        y_train, y_test = y[train_idx], y[test_idx]\n",
    "        \n",
    "        scaler = MinMaxScaler()\n",
    "        X_train_scaled = scaler.fit_transform(X_train)\n",
    "        X_test = scaler.transform(X_test)\n",
    "        \n",
    "        rus = RandomUnderSampler()\n",
    "        X_train_resampled, y_train_resampled = rus.fit_resample(X_train_scaled, y_train)\n",
    "        \n",
    "        dt = DecisionTreeClassifier(\n",
    "            criterion=criterion, splitter=splitter, max_depth=max_depth, \n",
    "            min_samples_split=min_samples_split, min_samples_leaf=min_samples_leaf)\n",
    "        \n",
    "        start_training = time.time()\n",
    "        dt.fit(X_train_resampled, y_train_resampled)\n",
    "        end_training = time.time()\n",
    "\n",
    "        y_pred = dt.predict(X_test)\n",
    "\n",
    "        confusion = confusion_matrix(y_test, y_pred)\n",
    "        tn, fp, fn, tp = confusion.ravel()\n",
    "        accuracy = accuracy_score(y_test, y_pred)\n",
    "        precision = precision_score(y_test, y_pred)\n",
    "        recall = recall_score(y_test, y_pred)\n",
    "        specificity = tn / (tn + fp)\n",
    "        f1 = f1_score(y_test, y_pred)\n",
    "        balanced_accuracy = balanced_accuracy_score(y_test, y_pred)\n",
    "        false_alarm_rate = fp / (fp + tn) if (fp + tn) > 0 else 0\n",
    "        \n",
    "        training_duration = end_training - start_training\n",
    "        evaluation_duration = time.time() - end_training\n",
    "        avaliacao = [accuracy, balanced_accuracy, precision, recall, specificity, f1, false_alarm_rate, tn, fp, fn, tp, training_duration, evaluation_duration]\n",
    "        #print(avaliacao)\n",
    "        results_fold.append(avaliacao)\n",
    "\n",
    "    results_fold_array = np.array(results_fold, dtype=np.float32)\n",
    "    mean_results = np.mean(results_fold_array, axis=0)\n",
    "    results.append([\"DT\"] + mean_results.tolist())"
   ]
  },
  {
   "cell_type": "code",
   "execution_count": 13,
   "metadata": {},
   "outputs": [],
   "source": [
    "#Melhores Hiperparâmetros encontrados: {'criterion': 'entropy', 'splitter': 'best', 'max_depth': 10, 'min_samples_split': 2, 'min_samples_leaf': 1}"
   ]
  },
  {
   "cell_type": "code",
   "execution_count": 14,
   "metadata": {},
   "outputs": [
    {
     "name": "stdout",
     "output_type": "stream",
     "text": [
      "1\n",
      "2\n",
      "3\n",
      "4\n",
      "5\n",
      "6\n",
      "7\n",
      "8\n",
      "9\n",
      "10\n"
     ]
    }
   ],
   "source": [
    "for i in range(1,11):\n",
    "    startTrain(X, y, criterion = 'entropy', splitter= 'best', max_depth = 10, min_samples_split = 2, min_samples_leaf = 1)\n",
    "    print(i)"
   ]
  },
  {
   "cell_type": "code",
   "execution_count": 15,
   "metadata": {},
   "outputs": [
    {
     "name": "stderr",
     "output_type": "stream",
     "text": [
      "c:\\Users\\rafae\\anaconda3\\envs\\tcc_2025_py39\\lib\\functools.py:888: DataOrientationWarning: Row orientation inferred during DataFrame construction. Explicitly specify the orientation by passing `orient=\"row\"` to silence this warning.\n",
      "  return dispatch(args[0].__class__)(*args, **kw)\n"
     ]
    },
    {
     "data": {
      "text/html": [
       "<div><style>\n",
       ".dataframe > thead > tr,\n",
       ".dataframe > tbody > tr {\n",
       "  text-align: right;\n",
       "  white-space: pre-wrap;\n",
       "}\n",
       "</style>\n",
       "<small>shape: (10, 14)</small><table border=\"1\" class=\"dataframe\"><thead><tr><th>Algorithm</th><th>Accuracy</th><th>Balanced Accuracy</th><th>Precision</th><th>Recall</th><th>Specificity</th><th>F1-score</th><th>False Alarm Rate</th><th>tn</th><th>fp</th><th>fn</th><th>tp</th><th>training_duration</th><th>evaluation_duration</th></tr><tr><td>str</td><td>f64</td><td>f64</td><td>f64</td><td>f64</td><td>f64</td><td>f64</td><td>f64</td><td>f64</td><td>f64</td><td>f64</td><td>f64</td><td>f64</td><td>f64</td></tr></thead><tbody><tr><td>&quot;DT&quot;</td><td>0.994962</td><td>0.996846</td><td>0.999927</td><td>0.994073</td><td>0.999619</td><td>0.996991</td><td>0.000381</td><td>17796.400391</td><td>6.8</td><td>552.599976</td><td>92690.796875</td><td>0.165598</td><td>0.10729</td></tr><tr><td>&quot;DT&quot;</td><td>0.994923</td><td>0.996818</td><td>0.999924</td><td>0.994028</td><td>0.999607</td><td>0.996968</td><td>0.000393</td><td>17796.199219</td><td>7.0</td><td>556.799988</td><td>92686.601562</td><td>0.157305</td><td>0.090354</td></tr><tr><td>&quot;DT&quot;</td><td>0.994896</td><td>0.99682</td><td>0.999933</td><td>0.993988</td><td>0.999652</td><td>0.996951</td><td>0.000348</td><td>17797.0</td><td>6.2</td><td>560.599976</td><td>92682.796875</td><td>0.150834</td><td>0.08822</td></tr><tr><td>&quot;DT&quot;</td><td>0.994944</td><td>0.996867</td><td>0.999942</td><td>0.994037</td><td>0.999697</td><td>0.996981</td><td>0.000303</td><td>17797.800781</td><td>5.4</td><td>556.0</td><td>92687.398438</td><td>0.155236</td><td>0.095595</td></tr><tr><td>&quot;DT&quot;</td><td>0.994894</td><td>0.996805</td><td>0.999927</td><td>0.993992</td><td>0.999618</td><td>0.99695</td><td>0.000382</td><td>17796.400391</td><td>6.8</td><td>560.200012</td><td>92683.203125</td><td>0.16416</td><td>0.090425</td></tr><tr><td>&quot;DT&quot;</td><td>0.994925</td><td>0.996828</td><td>0.999929</td><td>0.994026</td><td>0.999629</td><td>0.996969</td><td>0.000371</td><td>17796.599609</td><td>6.6</td><td>557.0</td><td>92686.398438</td><td>0.161078</td><td>0.086185</td></tr><tr><td>&quot;DT&quot;</td><td>0.994943</td><td>0.996852</td><td>0.999935</td><td>0.994041</td><td>0.999663</td><td>0.99698</td><td>0.000337</td><td>17797.199219</td><td>6.0</td><td>555.599976</td><td>92687.796875</td><td>0.153937</td><td>0.090432</td></tr><tr><td>&quot;DT&quot;</td><td>0.994919</td><td>0.996834</td><td>0.999933</td><td>0.994015</td><td>0.999652</td><td>0.996966</td><td>0.000348</td><td>17797.0</td><td>6.2</td><td>558.0</td><td>92685.398438</td><td>0.162732</td><td>0.089766</td></tr><tr><td>&quot;DT&quot;</td><td>0.994914</td><td>0.996817</td><td>0.999927</td><td>0.994015</td><td>0.999619</td><td>0.996962</td><td>0.000381</td><td>17796.400391</td><td>6.8</td><td>558.0</td><td>92685.398438</td><td>0.161969</td><td>0.088917</td></tr><tr><td>&quot;DT&quot;</td><td>0.994874</td><td>0.996789</td><td>0.999924</td><td>0.99397</td><td>0.999607</td><td>0.996938</td><td>0.000393</td><td>17796.199219</td><td>7.0</td><td>562.200012</td><td>92681.203125</td><td>0.164495</td><td>0.093341</td></tr></tbody></table></div>"
      ],
      "text/plain": [
       "shape: (10, 14)\n",
       "┌───────────┬──────────┬───────────┬───────────┬───┬───────────┬───────────┬───────────┬───────────┐\n",
       "│ Algorithm ┆ Accuracy ┆ Balanced  ┆ Precision ┆ … ┆ fn        ┆ tp        ┆ training_ ┆ evaluatio │\n",
       "│ ---       ┆ ---      ┆ Accuracy  ┆ ---       ┆   ┆ ---       ┆ ---       ┆ duration  ┆ n_duratio │\n",
       "│ str       ┆ f64      ┆ ---       ┆ f64       ┆   ┆ f64       ┆ f64       ┆ ---       ┆ n         │\n",
       "│           ┆          ┆ f64       ┆           ┆   ┆           ┆           ┆ f64       ┆ ---       │\n",
       "│           ┆          ┆           ┆           ┆   ┆           ┆           ┆           ┆ f64       │\n",
       "╞═══════════╪══════════╪═══════════╪═══════════╪═══╪═══════════╪═══════════╪═══════════╪═══════════╡\n",
       "│ DT        ┆ 0.994962 ┆ 0.996846  ┆ 0.999927  ┆ … ┆ 552.59997 ┆ 92690.796 ┆ 0.165598  ┆ 0.10729   │\n",
       "│           ┆          ┆           ┆           ┆   ┆ 6         ┆ 875       ┆           ┆           │\n",
       "│ DT        ┆ 0.994923 ┆ 0.996818  ┆ 0.999924  ┆ … ┆ 556.79998 ┆ 92686.601 ┆ 0.157305  ┆ 0.090354  │\n",
       "│           ┆          ┆           ┆           ┆   ┆ 8         ┆ 562       ┆           ┆           │\n",
       "│ DT        ┆ 0.994896 ┆ 0.99682   ┆ 0.999933  ┆ … ┆ 560.59997 ┆ 92682.796 ┆ 0.150834  ┆ 0.08822   │\n",
       "│           ┆          ┆           ┆           ┆   ┆ 6         ┆ 875       ┆           ┆           │\n",
       "│ DT        ┆ 0.994944 ┆ 0.996867  ┆ 0.999942  ┆ … ┆ 556.0     ┆ 92687.398 ┆ 0.155236  ┆ 0.095595  │\n",
       "│           ┆          ┆           ┆           ┆   ┆           ┆ 438       ┆           ┆           │\n",
       "│ DT        ┆ 0.994894 ┆ 0.996805  ┆ 0.999927  ┆ … ┆ 560.20001 ┆ 92683.203 ┆ 0.16416   ┆ 0.090425  │\n",
       "│           ┆          ┆           ┆           ┆   ┆ 2         ┆ 125       ┆           ┆           │\n",
       "│ DT        ┆ 0.994925 ┆ 0.996828  ┆ 0.999929  ┆ … ┆ 557.0     ┆ 92686.398 ┆ 0.161078  ┆ 0.086185  │\n",
       "│           ┆          ┆           ┆           ┆   ┆           ┆ 438       ┆           ┆           │\n",
       "│ DT        ┆ 0.994943 ┆ 0.996852  ┆ 0.999935  ┆ … ┆ 555.59997 ┆ 92687.796 ┆ 0.153937  ┆ 0.090432  │\n",
       "│           ┆          ┆           ┆           ┆   ┆ 6         ┆ 875       ┆           ┆           │\n",
       "│ DT        ┆ 0.994919 ┆ 0.996834  ┆ 0.999933  ┆ … ┆ 558.0     ┆ 92685.398 ┆ 0.162732  ┆ 0.089766  │\n",
       "│           ┆          ┆           ┆           ┆   ┆           ┆ 438       ┆           ┆           │\n",
       "│ DT        ┆ 0.994914 ┆ 0.996817  ┆ 0.999927  ┆ … ┆ 558.0     ┆ 92685.398 ┆ 0.161969  ┆ 0.088917  │\n",
       "│           ┆          ┆           ┆           ┆   ┆           ┆ 438       ┆           ┆           │\n",
       "│ DT        ┆ 0.994874 ┆ 0.996789  ┆ 0.999924  ┆ … ┆ 562.20001 ┆ 92681.203 ┆ 0.164495  ┆ 0.093341  │\n",
       "│           ┆          ┆           ┆           ┆   ┆ 2         ┆ 125       ┆           ┆           │\n",
       "└───────────┴──────────┴───────────┴───────────┴───┴───────────┴───────────┴───────────┴───────────┘"
      ]
     },
     "execution_count": 15,
     "metadata": {},
     "output_type": "execute_result"
    }
   ],
   "source": [
    "metrics_df = pl.DataFrame(\n",
    "    results,\n",
    "    schema=['Algorithm', 'Accuracy', 'Balanced Accuracy', 'Precision', 'Recall', 'Specificity', 'F1-score', 'False Alarm Rate', 'tn', 'fp', 'fn', 'tp', 'training_duration', 'evaluation_duration']\n",
    ")\n",
    "metrics_df"
   ]
  },
  {
   "cell_type": "code",
   "execution_count": 16,
   "metadata": {},
   "outputs": [],
   "source": [
    "metrics_df.write_csv(\"metrics_results/balanced_dt_metrics_output.csv\", separator=';')"
   ]
  }
 ],
 "metadata": {
  "kernelspec": {
   "display_name": "tcc_2025_py39",
   "language": "python",
   "name": "python3"
  },
  "language_info": {
   "codemirror_mode": {
    "name": "ipython",
    "version": 3
   },
   "file_extension": ".py",
   "mimetype": "text/x-python",
   "name": "python",
   "nbconvert_exporter": "python",
   "pygments_lexer": "ipython3",
   "version": "3.9.21"
  }
 },
 "nbformat": 4,
 "nbformat_minor": 2
}
