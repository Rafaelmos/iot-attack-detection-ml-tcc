{
 "cells": [
  {
   "cell_type": "code",
   "execution_count": 1,
   "metadata": {},
   "outputs": [],
   "source": [
    "import polars as pl\n",
    "import numpy as np\n",
    "import time\n",
    "from sklearn.ensemble import RandomForestClassifier\n",
    "from sklearn.preprocessing import MinMaxScaler\n",
    "from sklearn.model_selection import train_test_split\n",
    "from sklearn.metrics import accuracy_score, precision_score, recall_score, f1_score, confusion_matrix, balanced_accuracy_score\n",
    "from sklearn.model_selection import KFold\n",
    "from imblearn.under_sampling import RandomUnderSampler"
   ]
  },
  {
   "cell_type": "code",
   "execution_count": 2,
   "metadata": {},
   "outputs": [],
   "source": [
    "df_polars_raiz = pl.read_parquet('../dataset.parquet')"
   ]
  },
  {
   "cell_type": "code",
   "execution_count": 3,
   "metadata": {},
   "outputs": [],
   "source": [
    "df_polars = df_polars_raiz.sample(fraction=0.01, seed=42)"
   ]
  },
  {
   "cell_type": "code",
   "execution_count": 4,
   "metadata": {},
   "outputs": [],
   "source": [
    "import ipaddress\n",
    "\n",
    "def ip_to_int(ip: str) -> int:\n",
    "    try:\n",
    "        return int(ipaddress.ip_address(ip))  # Funciona tanto para IPv4 quanto IPv6\n",
    "    except ValueError:\n",
    "        return None"
   ]
  },
  {
   "cell_type": "code",
   "execution_count": 5,
   "metadata": {},
   "outputs": [],
   "source": [
    "#df_polars = df_polars.with_columns([\n",
    "#    pl.col('id.resp_h').map_elements(ip_to_int).alias('id.resp_h'),\n",
    "#    pl.col('id.orig_h').map_elements(ip_to_int).alias('id.orig_h')\n",
    "#])"
   ]
  },
  {
   "cell_type": "code",
   "execution_count": 6,
   "metadata": {},
   "outputs": [],
   "source": [
    "df_polars = df_polars.with_columns([\n",
    "    pl.col('duration').fill_null(0),\n",
    "    pl.col('orig_bytes').fill_null(0),\n",
    "    pl.col('resp_bytes').fill_null(0)\n",
    "])"
   ]
  },
  {
   "cell_type": "code",
   "execution_count": 7,
   "metadata": {},
   "outputs": [],
   "source": [
    "lista_colunas = df_polars.columns\n",
    "colunas_para_spearman = ['id.resp_p', 'history', 'conn_state', 'id.orig_p', 'orig_ip_bytes', 'label']             \n",
    "#['detailed-label', 'id.resp_p', 'history', 'id.orig_h', 'conn_state', 'id.orig_p', 'orig_ip_bytes']\n",
    "colunas_para_dropar = [col for col in lista_colunas if col not in colunas_para_spearman]\n",
    "df_polars = df_polars.drop(colunas_para_dropar)"
   ]
  },
  {
   "cell_type": "code",
   "execution_count": 8,
   "metadata": {},
   "outputs": [],
   "source": [
    "df_polars = df_polars.drop_nulls()"
   ]
  },
  {
   "cell_type": "code",
   "execution_count": 9,
   "metadata": {},
   "outputs": [],
   "source": [
    "X = df_polars.drop('label')\n",
    "y = df_polars['label']       "
   ]
  },
  {
   "cell_type": "code",
   "execution_count": 10,
   "metadata": {},
   "outputs": [],
   "source": [
    "#X = X.to_numpy()\n",
    "#X[:, 0] = np.array([ip_to_int(ip) for ip in X[:, 0]])"
   ]
  },
  {
   "cell_type": "markdown",
   "metadata": {},
   "source": [
    "# Treinamento"
   ]
  },
  {
   "cell_type": "code",
   "execution_count": 11,
   "metadata": {},
   "outputs": [],
   "source": [
    "results = []"
   ]
  },
  {
   "cell_type": "code",
   "execution_count": 12,
   "metadata": {},
   "outputs": [],
   "source": [
    "def startTrain(X, y, criterion, bootstrap, max_depth, min_samples_split, n_estimators):\n",
    "    kfold = KFold(n_splits=5, shuffle=True)\n",
    "    results_fold = []\n",
    "\n",
    "    for train_idx, test_idx in kfold.split(X):\n",
    "        X_train, X_test = X[train_idx], X[test_idx]\n",
    "        y_train, y_test = y[train_idx], y[test_idx]\n",
    "        \n",
    "        scaler = MinMaxScaler()\n",
    "        X_train_scaled = scaler.fit_transform(X_train)\n",
    "        X_test_scaled = scaler.transform(X_test)\n",
    "        \n",
    "        rus = RandomUnderSampler()\n",
    "        X_train_resampled, y_train_resampled = rus.fit_resample(X_train_scaled, y_train)\n",
    "\n",
    "        rf = RandomForestClassifier(\n",
    "            criterion=criterion, bootstrap=bootstrap, max_depth=max_depth,\n",
    "            min_samples_split=min_samples_split, n_estimators=n_estimators\n",
    "        )\n",
    "\n",
    "        start_training = time.time()\n",
    "        rf.fit(X_train_resampled, y_train_resampled)\n",
    "        end_training = time.time()\n",
    "\n",
    "        y_pred = rf.predict(X_test_scaled)\n",
    "        training_duration = end_training - start_training\n",
    "        evaluation_duration = time.time() - end_training\n",
    "\n",
    "        confusion = confusion_matrix(y_test, y_pred)\n",
    "        tn, fp, fn, tp = confusion.ravel()\n",
    "        accuracy = accuracy_score(y_test, y_pred)\n",
    "        precision = precision_score(y_test, y_pred)\n",
    "        recall = recall_score(y_test, y_pred)\n",
    "        specificity = tn / (tn + fp)\n",
    "        f1 = f1_score(y_test, y_pred)\n",
    "        balanced_accuracy = balanced_accuracy_score(y_test, y_pred)\n",
    "        false_alarm_rate = fp / (fp + tn) if (fp + tn) > 0 else 0\n",
    "        \n",
    "\n",
    "        avaliacao = [accuracy, balanced_accuracy, precision, recall, specificity, f1, false_alarm_rate, tn, fp, fn, tp, training_duration, evaluation_duration]\n",
    "        #print(avaliacao)\n",
    "        results_fold.append(avaliacao)\n",
    "\n",
    "    results_fold_array = np.array(results_fold, dtype=np.float32)\n",
    "    mean_results = np.mean(results_fold_array, axis=0)\n",
    "    results.append([\"rf\"] + mean_results.tolist())"
   ]
  },
  {
   "cell_type": "code",
   "execution_count": 13,
   "metadata": {},
   "outputs": [],
   "source": [
    "#Melhores Hiperparâmetros encontrados: {'criterion': 'entropy', 'bootstrap': False, 'max_depth': 10, 'min_samples_split': 2, 'n_estimators': 200}"
   ]
  },
  {
   "cell_type": "code",
   "execution_count": 14,
   "metadata": {},
   "outputs": [
    {
     "name": "stdout",
     "output_type": "stream",
     "text": [
      "1\n",
      "2\n",
      "3\n",
      "4\n",
      "5\n",
      "6\n",
      "7\n",
      "8\n",
      "9\n",
      "10\n"
     ]
    }
   ],
   "source": [
    "for i in range(1,11):\n",
    "    startTrain(X, y, criterion='entropy',bootstrap=False,max_depth=10, min_samples_split=2, n_estimators=200)\n",
    "    print(i)"
   ]
  },
  {
   "cell_type": "code",
   "execution_count": 15,
   "metadata": {},
   "outputs": [
    {
     "name": "stderr",
     "output_type": "stream",
     "text": [
      "c:\\Users\\rafae\\anaconda3\\envs\\tcc_2025_py39\\lib\\functools.py:888: DataOrientationWarning: Row orientation inferred during DataFrame construction. Explicitly specify the orientation by passing `orient=\"row\"` to silence this warning.\n",
      "  return dispatch(args[0].__class__)(*args, **kw)\n"
     ]
    },
    {
     "data": {
      "text/html": [
       "<div><style>\n",
       ".dataframe > thead > tr,\n",
       ".dataframe > tbody > tr {\n",
       "  text-align: right;\n",
       "  white-space: pre-wrap;\n",
       "}\n",
       "</style>\n",
       "<small>shape: (10, 14)</small><table border=\"1\" class=\"dataframe\"><thead><tr><th>Algorithm</th><th>Accuracy</th><th>Balanced Accuracy</th><th>Precision</th><th>Recall</th><th>Specificity</th><th>F1-score</th><th>False Alarm Rate</th><th>tn</th><th>fp</th><th>fn</th><th>tp</th><th>training_duration</th><th>evaluation_duration</th></tr><tr><td>str</td><td>f64</td><td>f64</td><td>f64</td><td>f64</td><td>f64</td><td>f64</td><td>f64</td><td>f64</td><td>f64</td><td>f64</td><td>f64</td><td>f64</td><td>f64</td></tr></thead><tbody><tr><td>&quot;rf&quot;</td><td>0.994981</td><td>0.996811</td><td>0.999905</td><td>0.994116</td><td>0.999506</td><td>0.997002</td><td>0.000494</td><td>17794.400391</td><td>8.8</td><td>548.599976</td><td>92694.796875</td><td>15.203085</td><td>0.653919</td></tr><tr><td>&quot;rf&quot;</td><td>0.994963</td><td>0.996796</td><td>0.999903</td><td>0.994097</td><td>0.999495</td><td>0.996991</td><td>0.000505</td><td>17794.199219</td><td>9.0</td><td>550.400024</td><td>92693.0</td><td>14.741933</td><td>0.636688</td></tr><tr><td>&quot;rf&quot;</td><td>0.994984</td><td>0.996795</td><td>0.999896</td><td>0.994129</td><td>0.999461</td><td>0.997004</td><td>0.000539</td><td>17793.599609</td><td>9.6</td><td>547.400024</td><td>92696.0</td><td>14.651149</td><td>0.634556</td></tr><tr><td>&quot;rf&quot;</td><td>0.994975</td><td>0.996763</td><td>0.999883</td><td>0.994132</td><td>0.999394</td><td>0.996999</td><td>0.000606</td><td>17792.400391</td><td>10.8</td><td>547.200012</td><td>92696.203125</td><td>15.131909</td><td>0.664929</td></tr><tr><td>&quot;rf&quot;</td><td>0.994939</td><td>0.996773</td><td>0.999899</td><td>0.994074</td><td>0.999472</td><td>0.996978</td><td>0.000528</td><td>17793.800781</td><td>9.4</td><td>552.599976</td><td>92690.796875</td><td>15.043367</td><td>0.643924</td></tr><tr><td>&quot;rf&quot;</td><td>0.994993</td><td>0.996846</td><td>0.999918</td><td>0.994119</td><td>0.999573</td><td>0.99701</td><td>0.000427</td><td>17795.599609</td><td>7.6</td><td>548.400024</td><td>92695.0</td><td>15.080119</td><td>0.650719</td></tr><tr><td>&quot;rf&quot;</td><td>0.994971</td><td>0.996819</td><td>0.999911</td><td>0.994099</td><td>0.999539</td><td>0.996997</td><td>0.000461</td><td>17795.0</td><td>8.2</td><td>550.200012</td><td>92693.203125</td><td>15.364093</td><td>0.644312</td></tr><tr><td>&quot;rf&quot;</td><td>0.994998</td><td>0.996844</td><td>0.999916</td><td>0.994127</td><td>0.999562</td><td>0.997013</td><td>0.000438</td><td>17795.400391</td><td>7.8</td><td>547.599976</td><td>92695.796875</td><td>14.956586</td><td>0.640092</td></tr><tr><td>&quot;rf&quot;</td><td>0.994984</td><td>0.996818</td><td>0.999907</td><td>0.994119</td><td>0.999517</td><td>0.997005</td><td>0.000483</td><td>17794.599609</td><td>8.6</td><td>548.400024</td><td>92695.0</td><td>15.044266</td><td>0.651638</td></tr><tr><td>&quot;rf&quot;</td><td>0.994964</td><td>0.996811</td><td>0.999909</td><td>0.994093</td><td>0.999529</td><td>0.996992</td><td>0.000471</td><td>17794.800781</td><td>8.4</td><td>550.799988</td><td>92692.601562</td><td>17.935316</td><td>0.702553</td></tr></tbody></table></div>"
      ],
      "text/plain": [
       "shape: (10, 14)\n",
       "┌───────────┬──────────┬───────────┬───────────┬───┬───────────┬───────────┬───────────┬───────────┐\n",
       "│ Algorithm ┆ Accuracy ┆ Balanced  ┆ Precision ┆ … ┆ fn        ┆ tp        ┆ training_ ┆ evaluatio │\n",
       "│ ---       ┆ ---      ┆ Accuracy  ┆ ---       ┆   ┆ ---       ┆ ---       ┆ duration  ┆ n_duratio │\n",
       "│ str       ┆ f64      ┆ ---       ┆ f64       ┆   ┆ f64       ┆ f64       ┆ ---       ┆ n         │\n",
       "│           ┆          ┆ f64       ┆           ┆   ┆           ┆           ┆ f64       ┆ ---       │\n",
       "│           ┆          ┆           ┆           ┆   ┆           ┆           ┆           ┆ f64       │\n",
       "╞═══════════╪══════════╪═══════════╪═══════════╪═══╪═══════════╪═══════════╪═══════════╪═══════════╡\n",
       "│ rf        ┆ 0.994981 ┆ 0.996811  ┆ 0.999905  ┆ … ┆ 548.59997 ┆ 92694.796 ┆ 15.203085 ┆ 0.653919  │\n",
       "│           ┆          ┆           ┆           ┆   ┆ 6         ┆ 875       ┆           ┆           │\n",
       "│ rf        ┆ 0.994963 ┆ 0.996796  ┆ 0.999903  ┆ … ┆ 550.40002 ┆ 92693.0   ┆ 14.741933 ┆ 0.636688  │\n",
       "│           ┆          ┆           ┆           ┆   ┆ 4         ┆           ┆           ┆           │\n",
       "│ rf        ┆ 0.994984 ┆ 0.996795  ┆ 0.999896  ┆ … ┆ 547.40002 ┆ 92696.0   ┆ 14.651149 ┆ 0.634556  │\n",
       "│           ┆          ┆           ┆           ┆   ┆ 4         ┆           ┆           ┆           │\n",
       "│ rf        ┆ 0.994975 ┆ 0.996763  ┆ 0.999883  ┆ … ┆ 547.20001 ┆ 92696.203 ┆ 15.131909 ┆ 0.664929  │\n",
       "│           ┆          ┆           ┆           ┆   ┆ 2         ┆ 125       ┆           ┆           │\n",
       "│ rf        ┆ 0.994939 ┆ 0.996773  ┆ 0.999899  ┆ … ┆ 552.59997 ┆ 92690.796 ┆ 15.043367 ┆ 0.643924  │\n",
       "│           ┆          ┆           ┆           ┆   ┆ 6         ┆ 875       ┆           ┆           │\n",
       "│ rf        ┆ 0.994993 ┆ 0.996846  ┆ 0.999918  ┆ … ┆ 548.40002 ┆ 92695.0   ┆ 15.080119 ┆ 0.650719  │\n",
       "│           ┆          ┆           ┆           ┆   ┆ 4         ┆           ┆           ┆           │\n",
       "│ rf        ┆ 0.994971 ┆ 0.996819  ┆ 0.999911  ┆ … ┆ 550.20001 ┆ 92693.203 ┆ 15.364093 ┆ 0.644312  │\n",
       "│           ┆          ┆           ┆           ┆   ┆ 2         ┆ 125       ┆           ┆           │\n",
       "│ rf        ┆ 0.994998 ┆ 0.996844  ┆ 0.999916  ┆ … ┆ 547.59997 ┆ 92695.796 ┆ 14.956586 ┆ 0.640092  │\n",
       "│           ┆          ┆           ┆           ┆   ┆ 6         ┆ 875       ┆           ┆           │\n",
       "│ rf        ┆ 0.994984 ┆ 0.996818  ┆ 0.999907  ┆ … ┆ 548.40002 ┆ 92695.0   ┆ 15.044266 ┆ 0.651638  │\n",
       "│           ┆          ┆           ┆           ┆   ┆ 4         ┆           ┆           ┆           │\n",
       "│ rf        ┆ 0.994964 ┆ 0.996811  ┆ 0.999909  ┆ … ┆ 550.79998 ┆ 92692.601 ┆ 17.935316 ┆ 0.702553  │\n",
       "│           ┆          ┆           ┆           ┆   ┆ 8         ┆ 562       ┆           ┆           │\n",
       "└───────────┴──────────┴───────────┴───────────┴───┴───────────┴───────────┴───────────┴───────────┘"
      ]
     },
     "execution_count": 15,
     "metadata": {},
     "output_type": "execute_result"
    }
   ],
   "source": [
    "metrics_df = pl.DataFrame(\n",
    "    results,\n",
    "    schema=['Algorithm', 'Accuracy', 'Balanced Accuracy', 'Precision', 'Recall', 'Specificity', 'F1-score', 'False Alarm Rate', 'tn', 'fp', 'fn', 'tp', 'training_duration', 'evaluation_duration']\n",
    ")\n",
    "metrics_df"
   ]
  },
  {
   "cell_type": "code",
   "execution_count": 16,
   "metadata": {},
   "outputs": [],
   "source": [
    "metrics_df.write_csv(\"metrics_results/balanced_rf_metrics_output.csv\", separator=';')"
   ]
  }
 ],
 "metadata": {
  "kernelspec": {
   "display_name": "tcc_2025_py39",
   "language": "python",
   "name": "python3"
  },
  "language_info": {
   "codemirror_mode": {
    "name": "ipython",
    "version": 3
   },
   "file_extension": ".py",
   "mimetype": "text/x-python",
   "name": "python",
   "nbconvert_exporter": "python",
   "pygments_lexer": "ipython3",
   "version": "3.9.21"
  }
 },
 "nbformat": 4,
 "nbformat_minor": 2
}
