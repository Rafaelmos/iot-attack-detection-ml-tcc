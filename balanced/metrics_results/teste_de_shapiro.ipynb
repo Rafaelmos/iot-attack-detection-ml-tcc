{
 "cells": [
  {
   "cell_type": "code",
   "execution_count": 9,
   "metadata": {},
   "outputs": [],
   "source": [
    "import polars as pl\n",
    "import numpy as np\n",
    "from scipy.stats import shapiro"
   ]
  },
  {
   "cell_type": "code",
   "execution_count": 10,
   "metadata": {},
   "outputs": [],
   "source": [
    "files = [\n",
    "    (\"balanced_2DCNN_metrics_output.csv\", \"2DCNN\"),\n",
    "    (\"balanced_AE_metrics_output.csv\", \"AE\"),\n",
    "    (\"balanced_bayes_metrics_output.csv\", \"Bayes\"),\n",
    "    (\"balanced_dt_metrics_output.csv\", \"DT\"),\n",
    "    (\"balanced_knn_metrics_output.csv\", \"KNN\"),\n",
    "    (\"balanced_lr_metrics_output.csv\", \"LR\"),\n",
    "    (\"balanced_mlp_metrics_output.csv\", \"MLP\"),\n",
    "    (\"balanced_rf_metrics_output.csv\", \"RF\"),\n",
    "    (\"balanced_svm_metrics_output.csv\", \"SVM\"),\n",
    "]"
   ]
  },
  {
   "cell_type": "code",
   "execution_count": 11,
   "metadata": {},
   "outputs": [],
   "source": [
    "def shapiro_test(df, coluna):\n",
    "    stat, p_value = shapiro(df[coluna].to_numpy())\n",
    "    return stat, p_value\n"
   ]
  },
  {
   "cell_type": "code",
   "execution_count": 12,
   "metadata": {},
   "outputs": [],
   "source": [
    "# Estruturas para armazenar os resultados por métrica\n",
    "accuracy_results = []\n",
    "balanced_accuracy_results = []\n",
    "f1_score_results = []\n",
    "\n",
    "# Itera sobre os arquivos e realiza o teste para cada métrica\n",
    "for file, model_name in files:\n",
    "    df = pl.read_csv(file, separator=\";\")\n",
    "    if \"Accuracy\" in df.columns:\n",
    "        stat, p_value = shapiro_test(df, \"Accuracy\")\n",
    "        accuracy_results.append({\n",
    "            \"Model\": model_name,\n",
    "            \"Shapiro Stat\": stat,\n",
    "            \"p-value\": p_value\n",
    "        })\n",
    "    if \"Balanced Accuracy\" in df.columns:\n",
    "        stat, p_value = shapiro_test(df, \"Balanced Accuracy\")\n",
    "        balanced_accuracy_results.append({\n",
    "            \"Model\": model_name,\n",
    "            \"Shapiro Stat\": stat,\n",
    "            \"p-value\": p_value\n",
    "        })\n",
    "    if \"F1-score\" in df.columns:\n",
    "        stat, p_value = shapiro_test(df, \"F1-score\")\n",
    "        f1_score_results.append({\n",
    "            \"Model\": model_name,\n",
    "            \"Shapiro Stat\": stat,\n",
    "            \"p-value\": p_value\n",
    "        })\n",
    "\n",
    "accuracy_df = pl.DataFrame(accuracy_results)\n",
    "balanced_accuracy_df = pl.DataFrame(balanced_accuracy_results)\n",
    "f1_score_df = pl.DataFrame(f1_score_results)"
   ]
  },
  {
   "cell_type": "code",
   "execution_count": 13,
   "metadata": {},
   "outputs": [
    {
     "name": "stdout",
     "output_type": "stream",
     "text": [
      "Accuracy Results:\n",
      "shape: (9, 3)\n",
      "┌───────┬──────────────┬──────────┐\n",
      "│ Model ┆ Shapiro Stat ┆ p-value  │\n",
      "│ ---   ┆ ---          ┆ ---      │\n",
      "│ str   ┆ f64          ┆ f64      │\n",
      "╞═══════╪══════════════╪══════════╡\n",
      "│ 2DCNN ┆ 0.986005     ┆ 0.989188 │\n",
      "│ AE    ┆ 0.555079     ┆ 0.000016 │\n",
      "│ Bayes ┆ 0.628619     ┆ 0.000122 │\n",
      "│ DT    ┆ 0.978243     ┆ 0.955074 │\n",
      "│ KNN   ┆ 0.969514     ┆ 0.886304 │\n",
      "│ LR    ┆ 0.926374     ┆ 0.413192 │\n",
      "│ MLP   ┆ 0.971985     ┆ 0.908617 │\n",
      "│ RF    ┆ 0.949843     ┆ 0.666644 │\n",
      "│ SVM   ┆ 0.953844     ┆ 0.714049 │\n",
      "└───────┴──────────────┴──────────┘\n"
     ]
    }
   ],
   "source": [
    "print(\"Accuracy Results:\")\n",
    "print(accuracy_df)\n"
   ]
  },
  {
   "cell_type": "code",
   "execution_count": 14,
   "metadata": {},
   "outputs": [
    {
     "name": "stdout",
     "output_type": "stream",
     "text": [
      "\n",
      "Balanced Accuracy Results:\n",
      "shape: (9, 3)\n",
      "┌───────┬──────────────┬──────────┐\n",
      "│ Model ┆ Shapiro Stat ┆ p-value  │\n",
      "│ ---   ┆ ---          ┆ ---      │\n",
      "│ str   ┆ f64          ┆ f64      │\n",
      "╞═══════╪══════════════╪══════════╡\n",
      "│ 2DCNN ┆ 0.941261     ┆ 0.56713  │\n",
      "│ AE    ┆ 0.535996     ┆ 0.00001  │\n",
      "│ Bayes ┆ 0.940573     ┆ 0.559405 │\n",
      "│ DT    ┆ 0.984437     ┆ 0.984462 │\n",
      "│ KNN   ┆ 0.900385     ┆ 0.221237 │\n",
      "│ LR    ┆ 0.917971     ┆ 0.340342 │\n",
      "│ MLP   ┆ 0.930099     ┆ 0.448871 │\n",
      "│ RF    ┆ 0.949723     ┆ 0.665229 │\n",
      "│ SVM   ┆ 0.912447     ┆ 0.298229 │\n",
      "└───────┴──────────────┴──────────┘\n"
     ]
    }
   ],
   "source": [
    "print(\"\\nBalanced Accuracy Results:\")\n",
    "print(balanced_accuracy_df)"
   ]
  },
  {
   "cell_type": "code",
   "execution_count": 15,
   "metadata": {},
   "outputs": [
    {
     "name": "stdout",
     "output_type": "stream",
     "text": [
      "\n",
      "F1-Score Results:\n",
      "shape: (9, 3)\n",
      "┌───────┬──────────────┬──────────┐\n",
      "│ Model ┆ Shapiro Stat ┆ p-value  │\n",
      "│ ---   ┆ ---          ┆ ---      │\n",
      "│ str   ┆ f64          ┆ f64      │\n",
      "╞═══════╪══════════════╪══════════╡\n",
      "│ 2DCNN ┆ 0.985718     ┆ 0.9884   │\n",
      "│ AE    ┆ 0.550568     ┆ 0.000014 │\n",
      "│ Bayes ┆ 0.682008     ┆ 0.000534 │\n",
      "│ DT    ┆ 0.978294     ┆ 0.955387 │\n",
      "│ KNN   ┆ 0.969276     ┆ 0.884055 │\n",
      "│ LR    ┆ 0.935075     ┆ 0.499614 │\n",
      "│ MLP   ┆ 0.971804     ┆ 0.907045 │\n",
      "│ RF    ┆ 0.952155     ┆ 0.694037 │\n",
      "│ SVM   ┆ 0.954235     ┆ 0.718673 │\n",
      "└───────┴──────────────┴──────────┘\n"
     ]
    }
   ],
   "source": [
    "print(\"\\nF1-Score Results:\")\n",
    "print(f1_score_df)"
   ]
  },
  {
   "cell_type": "code",
   "execution_count": 16,
   "metadata": {},
   "outputs": [],
   "source": [
    "accuracy_df.write_csv(\"statistical_test_results/accuracy_results.csv\", separator=';')\n",
    "balanced_accuracy_df.write_csv(\"statistical_test_results/balanced_accuracy_results.csv\", separator=';')\n",
    "f1_score_df.write_csv(\"statistical_test_results/f1_score_results.csv\", separator=';')"
   ]
  }
 ],
 "metadata": {
  "kernelspec": {
   "display_name": "tcc_2025_py39",
   "language": "python",
   "name": "python3"
  },
  "language_info": {
   "codemirror_mode": {
    "name": "ipython",
    "version": 3
   },
   "file_extension": ".py",
   "mimetype": "text/x-python",
   "name": "python",
   "nbconvert_exporter": "python",
   "pygments_lexer": "ipython3",
   "version": "3.9.21"
  }
 },
 "nbformat": 4,
 "nbformat_minor": 2
}
