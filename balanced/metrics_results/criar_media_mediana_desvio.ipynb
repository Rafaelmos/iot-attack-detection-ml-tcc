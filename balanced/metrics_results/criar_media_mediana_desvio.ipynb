{
 "cells": [
  {
   "cell_type": "code",
   "execution_count": 1,
   "metadata": {},
   "outputs": [],
   "source": [
    "import polars as pl\n",
    "import numpy as np\n",
    "import matplotlib.pyplot as plt\n"
   ]
  },
  {
   "cell_type": "code",
   "execution_count": 2,
   "metadata": {},
   "outputs": [],
   "source": [
    "df_polars_knn = pl.read_csv(\"balanced_knn_metrics_output.csv\", separator=\";\")\n",
    "df_polars_lr = pl.read_csv(\"balanced_lr_metrics_output.csv\", separator=\";\")\n",
    "df_polars_svm = pl.read_csv(\"balanced_svm_metrics_output.csv\", separator=\";\")\n",
    "df_polars_rf = pl.read_csv(\"balanced_rf_metrics_output.csv\", separator=\";\")\n",
    "df_polars_bayes = pl.read_csv(\"balanced_bayes_metrics_output.csv\", separator=\";\")\n",
    "df_polars_dt = pl.read_csv(\"balanced_dt_metrics_output.csv\", separator=\";\")\n",
    "df_polars_AE = pl.read_csv(\"balanced_AE_metrics_output.csv\", separator=\";\")\n",
    "df_polars_mlp = pl.read_csv(\"balanced_mlp_metrics_output.csv\", separator=\";\")\n",
    "df_polars_2dcnn = pl.read_csv(\"balanced_2DCNN_metrics_output.csv\", separator=\";\")"
   ]
  },
  {
   "cell_type": "code",
   "execution_count": 3,
   "metadata": {},
   "outputs": [],
   "source": [
    "lista = [df_polars_knn, df_polars_lr, df_polars_svm, df_polars_rf, df_polars_bayes,df_polars_dt, df_polars_AE, df_polars_mlp, df_polars_2dcnn]\n",
    "medias = []\n",
    "desvios = []\n",
    "medianas = []\n",
    "ic_superiores = []\n",
    "ic_inferiores = []\n"
   ]
  },
  {
   "cell_type": "code",
   "execution_count": 4,
   "metadata": {},
   "outputs": [],
   "source": [
    "def gerar_media(df):\n",
    "    algoritmo = df[0,0]\n",
    "    #print(algoritmo)\n",
    "    mean_values = df.select([\n",
    "    pl.col(\"*\").mean()\n",
    "])\n",
    "    mean_values[0,0] = algoritmo\n",
    "    return mean_values"
   ]
  },
  {
   "cell_type": "code",
   "execution_count": 5,
   "metadata": {},
   "outputs": [],
   "source": [
    "def gerar_desvio(df):\n",
    "    algoritmo = df[0, 0]\n",
    "    \n",
    "    df = df.with_columns(\n",
    "        pl.lit(1).alias(df.columns[0])\n",
    "    )\n",
    "    \n",
    "    std_values = df.select([\n",
    "        pl.col(\"*\").std()\n",
    "    ])\n",
    "        \n",
    "    std_values = std_values.with_columns(\n",
    "        pl.lit(algoritmo).alias(df.columns[0])\n",
    "    )\n",
    "    return std_values"
   ]
  },
  {
   "cell_type": "code",
   "execution_count": 6,
   "metadata": {},
   "outputs": [],
   "source": [
    "def gerar_mediana(df):\n",
    "    algoritmo = df[0, 0]\n",
    "    \n",
    "    df = df.with_columns(\n",
    "        pl.lit(1).alias(df.columns[0])\n",
    "    )\n",
    "    \n",
    "    median_values = df.select([\n",
    "        pl.col(\"*\").median()\n",
    "    ])\n",
    "    \n",
    "    median_values = median_values.with_columns(\n",
    "        pl.lit(algoritmo).alias(df.columns[0])\n",
    "    )\n",
    "    return median_values"
   ]
  },
  {
   "cell_type": "code",
   "execution_count": 7,
   "metadata": {},
   "outputs": [],
   "source": [
    "def gerar_intervalo_confianca(df_medias_unificadas, df_desvios_unificados):\n",
    "    # Armazenando toda a primeira coluna (algoritmo) de df_medias_unificadas\n",
    "    algoritmo = df_medias_unificadas[:, 0]  # Pega toda a primeira coluna\n",
    "    \n",
    "    # Substitui todos os valores da primeira coluna por 1\n",
    "    df_medias_unificadas = df_medias_unificadas.with_columns(\n",
    "        pl.lit(1).alias(df_medias_unificadas.columns[0])\n",
    "    )\n",
    "    df_desvios_unificados = df_desvios_unificados.with_columns(\n",
    "        pl.lit(1).alias(df_desvios_unificados.columns[0])\n",
    "    )\n",
    "    \n",
    "    # Número de amostras\n",
    "    n = 30  # Ou qualquer valor adequado\n",
    "    \n",
    "\n",
    "    # Calculando o intervalo de confiança usando os DataFrames unificados\n",
    "    ic_superior = df_medias_unificadas + 1.96 * df_desvios_unificados / np.sqrt(n)  # IC superior\n",
    "    ic_inferior = df_medias_unificadas - 1.96 * df_desvios_unificados / np.sqrt(n)  # IC inferior\n",
    "    \n",
    "    # Restaurando os valores da primeira coluna (algoritmo) nos dois DataFrames\n",
    "    nome_coluna = df_medias_unificadas.columns[0]  # Nome da primeira coluna\n",
    "    ic_superior = ic_superior.with_columns(pl.lit(algoritmo).alias(nome_coluna))\n",
    "    ic_inferior = ic_inferior.with_columns(pl.lit(algoritmo).alias(nome_coluna))\n",
    "    \n",
    "    return ic_superior, ic_inferior\n"
   ]
  },
  {
   "cell_type": "code",
   "execution_count": 8,
   "metadata": {},
   "outputs": [],
   "source": [
    "for i in lista:\n",
    "    medias.append(gerar_media(i))\n",
    "    desvios.append(gerar_desvio(i))\n",
    "    medianas.append(gerar_mediana(i))\n"
   ]
  },
  {
   "cell_type": "code",
   "execution_count": 9,
   "metadata": {},
   "outputs": [],
   "source": [
    "df_medias_unificadas = pl.concat(medias)\n",
    "df_desvios_unificados = pl.concat(desvios)\n",
    "df_medianas_unificadas = pl.concat(medianas)"
   ]
  },
  {
   "cell_type": "code",
   "execution_count": 10,
   "metadata": {},
   "outputs": [],
   "source": [
    "ic_superiores, ic_inferiores = gerar_intervalo_confianca(df_medias_unificadas, df_desvios_unificados)\n"
   ]
  },
  {
   "cell_type": "code",
   "execution_count": 11,
   "metadata": {},
   "outputs": [
    {
     "data": {
      "text/html": [
       "<div><style>\n",
       ".dataframe > thead > tr,\n",
       ".dataframe > tbody > tr {\n",
       "  text-align: right;\n",
       "  white-space: pre-wrap;\n",
       "}\n",
       "</style>\n",
       "<small>shape: (9, 14)</small><table border=\"1\" class=\"dataframe\"><thead><tr><th>Algorithm</th><th>Accuracy</th><th>Balanced Accuracy</th><th>Precision</th><th>Recall</th><th>Specificity</th><th>F1-score</th><th>False Alarm Rate</th><th>tn</th><th>fp</th><th>fn</th><th>tp</th><th>training_duration</th><th>evaluation_duration</th></tr><tr><td>str</td><td>f64</td><td>f64</td><td>f64</td><td>f64</td><td>f64</td><td>f64</td><td>f64</td><td>f64</td><td>f64</td><td>f64</td><td>f64</td><td>f64</td><td>f64</td></tr></thead><tbody><tr><td>&quot;KNN&quot;</td><td>0.992121</td><td>0.994433</td><td>0.999583</td><td>0.99103</td><td>0.997836</td><td>0.995288</td><td>0.002164</td><td>17764.659961</td><td>38.54</td><td>836.440002</td><td>92406.960938</td><td>0.210091</td><td>9.457417</td></tr><tr><td>&quot;LR&quot;</td><td>0.981202</td><td>0.973274</td><td>0.992611</td><td>0.984944</td><td>0.961604</td><td>0.988763</td><td>0.038396</td><td>17119.579883</td><td>683.619995</td><td>1403.859998</td><td>91839.539062</td><td>0.154758</td><td>0.002189</td></tr><tr><td>&quot;SVM&quot;</td><td>0.991085</td><td>0.993703</td><td>0.999529</td><td>0.98985</td><td>0.997557</td><td>0.994666</td><td>0.002443</td><td>17759.7</td><td>43.5</td><td>946.439996</td><td>92296.960156</td><td>18.109863</td><td>14.925519</td></tr><tr><td>&quot;rf&quot;</td><td>0.994975</td><td>0.996808</td><td>0.999905</td><td>0.99411</td><td>0.999505</td><td>0.996999</td><td>0.000495</td><td>17794.380078</td><td>8.82</td><td>549.160004</td><td>92694.239844</td><td>15.315182</td><td>0.652333</td></tr><tr><td>&quot;Bayes&quot;</td><td>0.981807</td><td>0.966422</td><td>0.989262</td><td>0.989069</td><td>0.943775</td><td>0.989166</td><td>0.056225</td><td>16802.199219</td><td>1001.0</td><td>1019.260016</td><td>92224.139844</td><td>0.018452</td><td>0.010002</td></tr><tr><td>&quot;DT&quot;</td><td>0.994919</td><td>0.996827</td><td>0.99993</td><td>0.994019</td><td>0.999636</td><td>0.996966</td><td>0.000364</td><td>17796.719922</td><td>6.48</td><td>557.699994</td><td>92685.699219</td><td>0.159734</td><td>0.092053</td></tr><tr><td>&quot;AE&quot;</td><td>0.981966</td><td>0.969016</td><td>0.990421</td><td>0.988079</td><td>0.949954</td><td>0.989231</td><td>0.050046</td><td>16912.200391</td><td>891.0</td><td>1111.599994</td><td>92131.800781</td><td>11.57253</td><td>1.503638</td></tr><tr><td>&quot;MLP&quot;</td><td>0.991812</td><td>0.994461</td><td>0.999684</td><td>0.990562</td><td>0.998359</td><td>0.995102</td><td>0.001641</td><td>17773.980273</td><td>29.22</td><td>880.000006</td><td>92363.401563</td><td>59.780679</td><td>0.177</td></tr><tr><td>&quot;2DCNN&quot;</td><td>0.987457</td><td>0.989505</td><td>0.998555</td><td>0.986491</td><td>0.99252</td><td>0.992485</td><td>0.00748</td><td>17670.0</td><td>133.2</td><td>1259.659985</td><td>91983.740625</td><td>33.339141</td><td>2.007937</td></tr></tbody></table></div>"
      ],
      "text/plain": [
       "shape: (9, 14)\n",
       "┌───────────┬──────────┬───────────┬───────────┬───┬───────────┬───────────┬───────────┬───────────┐\n",
       "│ Algorithm ┆ Accuracy ┆ Balanced  ┆ Precision ┆ … ┆ fn        ┆ tp        ┆ training_ ┆ evaluatio │\n",
       "│ ---       ┆ ---      ┆ Accuracy  ┆ ---       ┆   ┆ ---       ┆ ---       ┆ duration  ┆ n_duratio │\n",
       "│ str       ┆ f64      ┆ ---       ┆ f64       ┆   ┆ f64       ┆ f64       ┆ ---       ┆ n         │\n",
       "│           ┆          ┆ f64       ┆           ┆   ┆           ┆           ┆ f64       ┆ ---       │\n",
       "│           ┆          ┆           ┆           ┆   ┆           ┆           ┆           ┆ f64       │\n",
       "╞═══════════╪══════════╪═══════════╪═══════════╪═══╪═══════════╪═══════════╪═══════════╪═══════════╡\n",
       "│ KNN       ┆ 0.992121 ┆ 0.994433  ┆ 0.999583  ┆ … ┆ 836.44000 ┆ 92406.960 ┆ 0.210091  ┆ 9.457417  │\n",
       "│           ┆          ┆           ┆           ┆   ┆ 2         ┆ 938       ┆           ┆           │\n",
       "│ LR        ┆ 0.981202 ┆ 0.973274  ┆ 0.992611  ┆ … ┆ 1403.8599 ┆ 91839.539 ┆ 0.154758  ┆ 0.002189  │\n",
       "│           ┆          ┆           ┆           ┆   ┆ 98        ┆ 062       ┆           ┆           │\n",
       "│ SVM       ┆ 0.991085 ┆ 0.993703  ┆ 0.999529  ┆ … ┆ 946.43999 ┆ 92296.960 ┆ 18.109863 ┆ 14.925519 │\n",
       "│           ┆          ┆           ┆           ┆   ┆ 6         ┆ 156       ┆           ┆           │\n",
       "│ rf        ┆ 0.994975 ┆ 0.996808  ┆ 0.999905  ┆ … ┆ 549.16000 ┆ 92694.239 ┆ 15.315182 ┆ 0.652333  │\n",
       "│           ┆          ┆           ┆           ┆   ┆ 4         ┆ 844       ┆           ┆           │\n",
       "│ Bayes     ┆ 0.981807 ┆ 0.966422  ┆ 0.989262  ┆ … ┆ 1019.2600 ┆ 92224.139 ┆ 0.018452  ┆ 0.010002  │\n",
       "│           ┆          ┆           ┆           ┆   ┆ 16        ┆ 844       ┆           ┆           │\n",
       "│ DT        ┆ 0.994919 ┆ 0.996827  ┆ 0.99993   ┆ … ┆ 557.69999 ┆ 92685.699 ┆ 0.159734  ┆ 0.092053  │\n",
       "│           ┆          ┆           ┆           ┆   ┆ 4         ┆ 219       ┆           ┆           │\n",
       "│ AE        ┆ 0.981966 ┆ 0.969016  ┆ 0.990421  ┆ … ┆ 1111.5999 ┆ 92131.800 ┆ 11.57253  ┆ 1.503638  │\n",
       "│           ┆          ┆           ┆           ┆   ┆ 94        ┆ 781       ┆           ┆           │\n",
       "│ MLP       ┆ 0.991812 ┆ 0.994461  ┆ 0.999684  ┆ … ┆ 880.00000 ┆ 92363.401 ┆ 59.780679 ┆ 0.177     │\n",
       "│           ┆          ┆           ┆           ┆   ┆ 6         ┆ 563       ┆           ┆           │\n",
       "│ 2DCNN     ┆ 0.987457 ┆ 0.989505  ┆ 0.998555  ┆ … ┆ 1259.6599 ┆ 91983.740 ┆ 33.339141 ┆ 2.007937  │\n",
       "│           ┆          ┆           ┆           ┆   ┆ 85        ┆ 625       ┆           ┆           │\n",
       "└───────────┴──────────┴───────────┴───────────┴───┴───────────┴───────────┴───────────┴───────────┘"
      ]
     },
     "execution_count": 11,
     "metadata": {},
     "output_type": "execute_result"
    }
   ],
   "source": [
    "df_medias_unificadas"
   ]
  },
  {
   "cell_type": "code",
   "execution_count": 12,
   "metadata": {},
   "outputs": [],
   "source": [
    "df_medias_unificadas.write_csv(\"_balanced_mean_metrics_output.csv\", separator=';')"
   ]
  },
  {
   "cell_type": "code",
   "execution_count": 13,
   "metadata": {},
   "outputs": [
    {
     "data": {
      "text/html": [
       "<div><style>\n",
       ".dataframe > thead > tr,\n",
       ".dataframe > tbody > tr {\n",
       "  text-align: right;\n",
       "  white-space: pre-wrap;\n",
       "}\n",
       "</style>\n",
       "<small>shape: (9, 14)</small><table border=\"1\" class=\"dataframe\"><thead><tr><th>Algorithm</th><th>Accuracy</th><th>Balanced Accuracy</th><th>Precision</th><th>Recall</th><th>Specificity</th><th>F1-score</th><th>False Alarm Rate</th><th>tn</th><th>fp</th><th>fn</th><th>tp</th><th>training_duration</th><th>evaluation_duration</th></tr><tr><td>str</td><td>f64</td><td>f64</td><td>f64</td><td>f64</td><td>f64</td><td>f64</td><td>f64</td><td>f64</td><td>f64</td><td>f64</td><td>f64</td><td>f64</td><td>f64</td></tr></thead><tbody><tr><td>&quot;KNN&quot;</td><td>0.000025</td><td>0.000052</td><td>0.000023</td><td>0.000033</td><td>0.000117</td><td>0.000015</td><td>0.000117</td><td>2.08059</td><td>2.080705</td><td>3.11241</td><td>3.112985</td><td>0.004815</td><td>0.464589</td></tr><tr><td>&quot;LR&quot;</td><td>0.000006</td><td>0.000018</td><td>0.000007</td><td>0.000005</td><td>0.000038</td><td>0.000004</td><td>0.000038</td><td>0.68275</td><td>0.6828</td><td>0.508159</td><td>0.507352</td><td>0.029599</td><td>0.000466</td></tr><tr><td>&quot;SVM&quot;</td><td>0.000072</td><td>0.000036</td><td>0.000016</td><td>0.000095</td><td>0.000081</td><td>0.000043</td><td>0.000081</td><td>1.458417</td><td>1.45831</td><td>8.886342</td><td>8.887052</td><td>0.573122</td><td>0.363794</td></tr><tr><td>&quot;rf&quot;</td><td>0.000017</td><td>0.000027</td><td>0.00001</td><td>0.000019</td><td>0.000053</td><td>0.00001</td><td>0.000053</td><td>0.944856</td><td>0.944928</td><td>1.763323</td><td>1.763611</td><td>0.943653</td><td>0.01981</td></tr><tr><td>&quot;Bayes&quot;</td><td>0.000002</td><td>0.000002</td><td>1.4614e-7</td><td>0.000003</td><td>0.000003</td><td>0.000002</td><td>0.000003</td><td>0.0</td><td>0.0</td><td>0.267515</td><td>0.266554</td><td>0.001971</td><td>0.000721</td></tr><tr><td>&quot;DT&quot;</td><td>0.000027</td><td>0.000023</td><td>0.000006</td><td>0.00003</td><td>0.000029</td><td>0.000016</td><td>0.000029</td><td>0.518321</td><td>0.518116</td><td>2.782892</td><td>2.781419</td><td>0.00507</td><td>0.005951</td></tr><tr><td>&quot;AE&quot;</td><td>0.00322</td><td>0.001889</td><td>0.000035</td><td>0.003844</td><td>0.000147</td><td>0.001989</td><td>0.000147</td><td>2.664882</td><td>2.664998</td><td>358.837254</td><td>358.838649</td><td>3.105641</td><td>0.286903</td></tr><tr><td>&quot;MLP&quot;</td><td>0.000127</td><td>0.000049</td><td>0.000026</td><td>0.000172</td><td>0.000136</td><td>0.000077</td><td>0.000136</td><td>2.41386</td><td>2.413757</td><td>16.045765</td><td>16.046298</td><td>8.543496</td><td>0.048736</td></tr><tr><td>&quot;2DCNN&quot;</td><td>0.000515</td><td>0.000256</td><td>0.000177</td><td>0.000752</td><td>0.000921</td><td>0.000312</td><td>0.000921</td><td>16.391795</td><td>16.391869</td><td>70.145239</td><td>70.146281</td><td>2.28789</td><td>0.160261</td></tr></tbody></table></div>"
      ],
      "text/plain": [
       "shape: (9, 14)\n",
       "┌───────────┬──────────┬───────────┬───────────┬───┬───────────┬───────────┬───────────┬───────────┐\n",
       "│ Algorithm ┆ Accuracy ┆ Balanced  ┆ Precision ┆ … ┆ fn        ┆ tp        ┆ training_ ┆ evaluatio │\n",
       "│ ---       ┆ ---      ┆ Accuracy  ┆ ---       ┆   ┆ ---       ┆ ---       ┆ duration  ┆ n_duratio │\n",
       "│ str       ┆ f64      ┆ ---       ┆ f64       ┆   ┆ f64       ┆ f64       ┆ ---       ┆ n         │\n",
       "│           ┆          ┆ f64       ┆           ┆   ┆           ┆           ┆ f64       ┆ ---       │\n",
       "│           ┆          ┆           ┆           ┆   ┆           ┆           ┆           ┆ f64       │\n",
       "╞═══════════╪══════════╪═══════════╪═══════════╪═══╪═══════════╪═══════════╪═══════════╪═══════════╡\n",
       "│ KNN       ┆ 0.000025 ┆ 0.000052  ┆ 0.000023  ┆ … ┆ 3.11241   ┆ 3.112985  ┆ 0.004815  ┆ 0.464589  │\n",
       "│ LR        ┆ 0.000006 ┆ 0.000018  ┆ 0.000007  ┆ … ┆ 0.508159  ┆ 0.507352  ┆ 0.029599  ┆ 0.000466  │\n",
       "│ SVM       ┆ 0.000072 ┆ 0.000036  ┆ 0.000016  ┆ … ┆ 8.886342  ┆ 8.887052  ┆ 0.573122  ┆ 0.363794  │\n",
       "│ rf        ┆ 0.000017 ┆ 0.000027  ┆ 0.00001   ┆ … ┆ 1.763323  ┆ 1.763611  ┆ 0.943653  ┆ 0.01981   │\n",
       "│ Bayes     ┆ 0.000002 ┆ 0.000002  ┆ 1.4614e-7 ┆ … ┆ 0.267515  ┆ 0.266554  ┆ 0.001971  ┆ 0.000721  │\n",
       "│ DT        ┆ 0.000027 ┆ 0.000023  ┆ 0.000006  ┆ … ┆ 2.782892  ┆ 2.781419  ┆ 0.00507   ┆ 0.005951  │\n",
       "│ AE        ┆ 0.00322  ┆ 0.001889  ┆ 0.000035  ┆ … ┆ 358.83725 ┆ 358.83864 ┆ 3.105641  ┆ 0.286903  │\n",
       "│           ┆          ┆           ┆           ┆   ┆ 4         ┆ 9         ┆           ┆           │\n",
       "│ MLP       ┆ 0.000127 ┆ 0.000049  ┆ 0.000026  ┆ … ┆ 16.045765 ┆ 16.046298 ┆ 8.543496  ┆ 0.048736  │\n",
       "│ 2DCNN     ┆ 0.000515 ┆ 0.000256  ┆ 0.000177  ┆ … ┆ 70.145239 ┆ 70.146281 ┆ 2.28789   ┆ 0.160261  │\n",
       "└───────────┴──────────┴───────────┴───────────┴───┴───────────┴───────────┴───────────┴───────────┘"
      ]
     },
     "execution_count": 13,
     "metadata": {},
     "output_type": "execute_result"
    }
   ],
   "source": [
    "df_desvios_unificados"
   ]
  },
  {
   "cell_type": "code",
   "execution_count": 14,
   "metadata": {},
   "outputs": [],
   "source": [
    "df_desvios_unificados.write_csv(\"_balanced_std_metrics_output.csv\", separator=';')"
   ]
  },
  {
   "cell_type": "code",
   "execution_count": 15,
   "metadata": {},
   "outputs": [],
   "source": [
    "df_medianas_unificadas.write_csv(\"_balanced_median_metrics_output.csv\", separator=';')"
   ]
  },
  {
   "cell_type": "code",
   "execution_count": 16,
   "metadata": {},
   "outputs": [
    {
     "data": {
      "image/png": "[encoded data removed]",
      "text/plain": [
       "<Figure size 1000x600 with 1 Axes>"
      ]
     },
     "metadata": {},
     "output_type": "display_data"
    }
   ],
   "source": [
    "medias_accuracy = df_medias_unificadas['Accuracy'].to_numpy()\n",
    "desvios_accuracy = df_desvios_unificados['Accuracy'].to_numpy()\n",
    "modelos = df_medias_unificadas['Algorithm'].to_numpy()\n",
    "\n",
    "plt.figure(figsize=(10,6))\n",
    "bars = plt.bar(modelos, medias_accuracy, yerr=desvios_accuracy,  # Use as médias e desvios padrão\n",
    "               capsize=5, color='skyblue', edgecolor='black')\n",
    "\n",
    "plt.title(\"Média das Métricas com Erro Padrão\")\n",
    "plt.ylabel(\"Média\")\n",
    "plt.xlabel(\"Modelos\")\n",
    "\n",
    "plt.xticks(rotation=45, ha='right')\n",
    "\n",
    "for bar in bars:\n",
    "    yval = bar.get_height()  # Obtém a altura da barra (média)\n",
    "    plt.text(bar.get_x() + bar.get_width() / 2, yval, f\"{yval:.4f}\", ha='center', va='bottom', fontsize=10)\n",
    "\n",
    "plt.show()\n"
   ]
  }
 ],
 "metadata": {
  "kernelspec": {
   "display_name": "tcc_2025_py39",
   "language": "python",
   "name": "python3"
  },
  "language_info": {
   "codemirror_mode": {
    "name": "ipython",
    "version": 3
   },
   "file_extension": ".py",
   "mimetype": "text/x-python",
   "name": "python",
   "nbconvert_exporter": "python",
   "pygments_lexer": "ipython3",
   "version": "3.9.21"
  }
 },
 "nbformat": 4,
 "nbformat_minor": 2
}
