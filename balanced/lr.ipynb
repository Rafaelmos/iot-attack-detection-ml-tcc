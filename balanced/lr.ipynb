{
 "cells": [
  {
   "cell_type": "code",
   "execution_count": 1,
   "metadata": {},
   "outputs": [],
   "source": [
    "import polars as pl\n",
    "import numpy as np\n",
    "import time\n",
    "from sklearn.linear_model import LogisticRegression\n",
    "from sklearn.preprocessing import MinMaxScaler\n",
    "from sklearn.model_selection import train_test_split\n",
    "from sklearn.metrics import accuracy_score, precision_score, recall_score, f1_score, confusion_matrix, balanced_accuracy_score\n",
    "from sklearn.model_selection import KFold\n",
    "from imblearn.under_sampling import RandomUnderSampler"
   ]
  },
  {
   "cell_type": "code",
   "execution_count": 2,
   "metadata": {},
   "outputs": [],
   "source": [
    "df_polars_raiz = pl.read_parquet('../dataset.parquet')"
   ]
  },
  {
   "cell_type": "code",
   "execution_count": 3,
   "metadata": {},
   "outputs": [],
   "source": [
    "df_polars = df_polars_raiz.sample(fraction=0.01, seed=42)"
   ]
  },
  {
   "cell_type": "code",
   "execution_count": 4,
   "metadata": {},
   "outputs": [],
   "source": [
    "import ipaddress\n",
    "\n",
    "def ip_to_int(ip: str) -> int:\n",
    "    try:\n",
    "        return int(ipaddress.ip_address(ip))  # Funciona tanto para IPv4 quanto IPv6\n",
    "    except ValueError:\n",
    "        return None"
   ]
  },
  {
   "cell_type": "code",
   "execution_count": 5,
   "metadata": {},
   "outputs": [],
   "source": [
    "#df_polars = df_polars.with_columns([\n",
    "#    pl.col('id.resp_h').map_elements(ip_to_int).alias('id.resp_h'),\n",
    "#    pl.col('id.orig_h').map_elements(ip_to_int).alias('id.orig_h')\n",
    "#])"
   ]
  },
  {
   "cell_type": "code",
   "execution_count": 6,
   "metadata": {},
   "outputs": [],
   "source": [
    "df_polars = df_polars.with_columns([\n",
    "    pl.col('duration').fill_null(0),\n",
    "    pl.col('orig_bytes').fill_null(0),\n",
    "    pl.col('resp_bytes').fill_null(0)\n",
    "])"
   ]
  },
  {
   "cell_type": "code",
   "execution_count": null,
   "metadata": {},
   "outputs": [],
   "source": [
    "lista_colunas = df_polars.columns\n",
    "colunas_para_spearman = ['id.resp_p', 'history', 'conn_state', 'id.orig_p', 'orig_ip_bytes', 'label']             \n",
    "#['detailed-label', 'id.resp_p', 'history', 'id.orig_h', 'conn_state', 'id.orig_p', 'orig_ip_bytes']\n",
    "colunas_para_dropar = [col for col in lista_colunas if col not in colunas_para_spearman]\n",
    "df_polars = df_polars.drop(colunas_para_dropar)"
   ]
  },
  {
   "cell_type": "code",
   "execution_count": 8,
   "metadata": {},
   "outputs": [],
   "source": [
    "df_polars = df_polars.drop_nulls()"
   ]
  },
  {
   "cell_type": "code",
   "execution_count": 9,
   "metadata": {},
   "outputs": [],
   "source": [
    "X = df_polars.drop('label')\n",
    "y = df_polars['label']       "
   ]
  },
  {
   "cell_type": "code",
   "execution_count": 10,
   "metadata": {},
   "outputs": [],
   "source": [
    "#X = X.to_numpy()\n",
    "#X[:, 0] = np.array([ip_to_int(ip) for ip in X[:, 0]])"
   ]
  },
  {
   "cell_type": "markdown",
   "metadata": {},
   "source": [
    "# Treinamento"
   ]
  },
  {
   "cell_type": "code",
   "execution_count": 11,
   "metadata": {},
   "outputs": [],
   "source": [
    "results = []"
   ]
  },
  {
   "cell_type": "code",
   "execution_count": 12,
   "metadata": {},
   "outputs": [],
   "source": [
    "def startTrain(X, y, penalty, C, solver):\n",
    "    kfold = KFold(n_splits=5, shuffle=True)\n",
    "    results_fold = []\n",
    "\n",
    "    for train_idx, test_idx in kfold.split(X):\n",
    "        X_train, X_test = X[train_idx], X[test_idx]\n",
    "        y_train, y_test = y[train_idx], y[test_idx]\n",
    "\n",
    "        # 🔹 Normalização MinMaxScaler\n",
    "        scaler = MinMaxScaler()\n",
    "        X_train_scaled = scaler.fit_transform(X_train)\n",
    "        X_test_scaled = scaler.transform(X_test)\n",
    "\n",
    "        # Aplicando o undersampling no conjunto de treino\n",
    "        rus = RandomUnderSampler()\n",
    "        X_train_resampled, y_train_resampled = rus.fit_resample(X_train_scaled, y_train)\n",
    "\n",
    "        start_training = time.time()\n",
    "\n",
    "        # Inicializa o modelo de Regressão Logística\n",
    "        lr = LogisticRegression(penalty=penalty, C=C, solver=solver)\n",
    "        \n",
    "        # Treina o modelo\n",
    "        lr.fit(X_train_resampled, y_train_resampled)\n",
    "        end_training = time.time()\n",
    "\n",
    "        # Predição\n",
    "        y_pred = lr.predict(X_test_scaled)\n",
    "        evaluation_duration = time.time() - end_training\n",
    "        training_duration = end_training - start_training\n",
    "        \n",
    "        confusion = confusion_matrix(y_test, y_pred)\n",
    "        tn, fp, fn, tp = confusion.ravel()\n",
    "        accuracy = accuracy_score(y_test, y_pred)\n",
    "        precision = precision_score(y_test, y_pred)\n",
    "        recall = recall_score(y_test, y_pred)\n",
    "        specificity = tn / (tn + fp)\n",
    "        f1 = f1_score(y_test, y_pred)\n",
    "        balanced_accuracy = balanced_accuracy_score(y_test, y_pred)\n",
    "        false_alarm_rate = fp / (fp + tn) if (fp + tn) > 0 else 0\n",
    "        \n",
    "        avaliacao = [accuracy, balanced_accuracy, precision, recall, specificity, f1, false_alarm_rate, tn, fp, fn, tp, training_duration, evaluation_duration]\n",
    "        #print(avaliacao)\n",
    "        results_fold.append(avaliacao)\n",
    "\n",
    "    results_fold_array = np.array(results_fold, dtype=np.float32)\n",
    "    mean_results = np.mean(results_fold_array, axis=0)\n",
    "    results.append([\"LR\"] + mean_results.tolist())"
   ]
  },
  {
   "cell_type": "code",
   "execution_count": 13,
   "metadata": {},
   "outputs": [],
   "source": [
    "#Melhores Hiperparâmetros encontrados: {'penalty': 'l2', 'C': 1, 'solver': 'newton-cg'}"
   ]
  },
  {
   "cell_type": "code",
   "execution_count": 14,
   "metadata": {},
   "outputs": [
    {
     "name": "stdout",
     "output_type": "stream",
     "text": [
      "1\n",
      "2\n",
      "3\n",
      "4\n",
      "5\n",
      "6\n",
      "7\n",
      "8\n",
      "9\n",
      "10\n"
     ]
    }
   ],
   "source": [
    "for i in range(1,11):\n",
    "    startTrain(X=X, y=y, penalty='l2', C=1, solver='newton-cg')\n",
    "    print(i)"
   ]
  },
  {
   "cell_type": "code",
   "execution_count": 15,
   "metadata": {},
   "outputs": [
    {
     "name": "stderr",
     "output_type": "stream",
     "text": [
      "c:\\Users\\rafae\\anaconda3\\envs\\tcc_2025_py39\\lib\\functools.py:888: DataOrientationWarning: Row orientation inferred during DataFrame construction. Explicitly specify the orientation by passing `orient=\"row\"` to silence this warning.\n",
      "  return dispatch(args[0].__class__)(*args, **kw)\n"
     ]
    },
    {
     "data": {
      "text/html": [
       "<div><style>\n",
       ".dataframe > thead > tr,\n",
       ".dataframe > tbody > tr {\n",
       "  text-align: right;\n",
       "  white-space: pre-wrap;\n",
       "}\n",
       "</style>\n",
       "<small>shape: (10, 14)</small><table border=\"1\" class=\"dataframe\"><thead><tr><th>Algorithm</th><th>Accuracy</th><th>Balanced Accuracy</th><th>Precision</th><th>Recall</th><th>Specificity</th><th>F1-score</th><th>False Alarm Rate</th><th>tn</th><th>fp</th><th>fn</th><th>tp</th><th>training_duration</th><th>evaluation_duration</th></tr><tr><td>str</td><td>f64</td><td>f64</td><td>f64</td><td>f64</td><td>f64</td><td>f64</td><td>f64</td><td>f64</td><td>f64</td><td>f64</td><td>f64</td><td>f64</td><td>f64</td></tr></thead><tbody><tr><td>&quot;LR&quot;</td><td>0.981201</td><td>0.973271</td><td>0.992612</td><td>0.984943</td><td>0.961599</td><td>0.988762</td><td>0.038401</td><td>17119.599609</td><td>683.599976</td><td>1404.0</td><td>91839.398438</td><td>0.160195</td><td>0.002337</td></tr><tr><td>&quot;LR&quot;</td><td>0.981197</td><td>0.973272</td><td>0.992611</td><td>0.984939</td><td>0.961606</td><td>0.98876</td><td>0.038394</td><td>17119.599609</td><td>683.599976</td><td>1404.400024</td><td>91839.0</td><td>0.147171</td><td>0.002217</td></tr><tr><td>&quot;LR&quot;</td><td>0.981195</td><td>0.973256</td><td>0.992605</td><td>0.984942</td><td>0.961569</td><td>0.988759</td><td>0.038431</td><td>17119.0</td><td>684.200012</td><td>1404.0</td><td>91839.398438</td><td>0.151487</td><td>0.002001</td></tr><tr><td>&quot;LR&quot;</td><td>0.981204</td><td>0.973254</td><td>0.992601</td><td>0.984958</td><td>0.961551</td><td>0.988764</td><td>0.038449</td><td>17118.599609</td><td>684.599976</td><td>1402.599976</td><td>91840.796875</td><td>0.136816</td><td>0.002001</td></tr><tr><td>&quot;LR&quot;</td><td>0.981211</td><td>0.973295</td><td>0.992618</td><td>0.984949</td><td>0.96164</td><td>0.988769</td><td>0.03836</td><td>17120.199219</td><td>683.0</td><td>1403.400024</td><td>91840.0</td><td>0.145472</td><td>0.002906</td></tr><tr><td>&quot;LR&quot;</td><td>0.981194</td><td>0.973252</td><td>0.992603</td><td>0.984943</td><td>0.961562</td><td>0.988758</td><td>0.038438</td><td>17118.800781</td><td>684.400024</td><td>1404.0</td><td>91839.398438</td><td>0.137118</td><td>0.001417</td></tr><tr><td>&quot;LR&quot;</td><td>0.981199</td><td>0.97327</td><td>0.992609</td><td>0.984943</td><td>0.961597</td><td>0.988761</td><td>0.038403</td><td>17119.400391</td><td>683.799988</td><td>1404.0</td><td>91839.398438</td><td>0.141304</td><td>0.002046</td></tr><tr><td>&quot;LR&quot;</td><td>0.981211</td><td>0.973306</td><td>0.992624</td><td>0.984943</td><td>0.96167</td><td>0.988768</td><td>0.03833</td><td>17120.800781</td><td>682.400024</td><td>1404.0</td><td>91839.398438</td><td>0.144015</td><td>0.002213</td></tr><tr><td>&quot;LR&quot;</td><td>0.981204</td><td>0.973292</td><td>0.992618</td><td>0.984941</td><td>0.961644</td><td>0.988764</td><td>0.038356</td><td>17120.199219</td><td>683.0</td><td>1404.199951</td><td>91839.203125</td><td>0.147293</td><td>0.001801</td></tr><tr><td>&quot;LR&quot;</td><td>0.981201</td><td>0.973275</td><td>0.992612</td><td>0.984943</td><td>0.961607</td><td>0.988762</td><td>0.038393</td><td>17119.599609</td><td>683.599976</td><td>1404.0</td><td>91839.398438</td><td>0.236707</td><td>0.00295</td></tr></tbody></table></div>"
      ],
      "text/plain": [
       "shape: (10, 14)\n",
       "┌───────────┬──────────┬───────────┬───────────┬───┬───────────┬───────────┬───────────┬───────────┐\n",
       "│ Algorithm ┆ Accuracy ┆ Balanced  ┆ Precision ┆ … ┆ fn        ┆ tp        ┆ training_ ┆ evaluatio │\n",
       "│ ---       ┆ ---      ┆ Accuracy  ┆ ---       ┆   ┆ ---       ┆ ---       ┆ duration  ┆ n_duratio │\n",
       "│ str       ┆ f64      ┆ ---       ┆ f64       ┆   ┆ f64       ┆ f64       ┆ ---       ┆ n         │\n",
       "│           ┆          ┆ f64       ┆           ┆   ┆           ┆           ┆ f64       ┆ ---       │\n",
       "│           ┆          ┆           ┆           ┆   ┆           ┆           ┆           ┆ f64       │\n",
       "╞═══════════╪══════════╪═══════════╪═══════════╪═══╪═══════════╪═══════════╪═══════════╪═══════════╡\n",
       "│ LR        ┆ 0.981201 ┆ 0.973271  ┆ 0.992612  ┆ … ┆ 1404.0    ┆ 91839.398 ┆ 0.160195  ┆ 0.002337  │\n",
       "│           ┆          ┆           ┆           ┆   ┆           ┆ 438       ┆           ┆           │\n",
       "│ LR        ┆ 0.981197 ┆ 0.973272  ┆ 0.992611  ┆ … ┆ 1404.4000 ┆ 91839.0   ┆ 0.147171  ┆ 0.002217  │\n",
       "│           ┆          ┆           ┆           ┆   ┆ 24        ┆           ┆           ┆           │\n",
       "│ LR        ┆ 0.981195 ┆ 0.973256  ┆ 0.992605  ┆ … ┆ 1404.0    ┆ 91839.398 ┆ 0.151487  ┆ 0.002001  │\n",
       "│           ┆          ┆           ┆           ┆   ┆           ┆ 438       ┆           ┆           │\n",
       "│ LR        ┆ 0.981204 ┆ 0.973254  ┆ 0.992601  ┆ … ┆ 1402.5999 ┆ 91840.796 ┆ 0.136816  ┆ 0.002001  │\n",
       "│           ┆          ┆           ┆           ┆   ┆ 76        ┆ 875       ┆           ┆           │\n",
       "│ LR        ┆ 0.981211 ┆ 0.973295  ┆ 0.992618  ┆ … ┆ 1403.4000 ┆ 91840.0   ┆ 0.145472  ┆ 0.002906  │\n",
       "│           ┆          ┆           ┆           ┆   ┆ 24        ┆           ┆           ┆           │\n",
       "│ LR        ┆ 0.981194 ┆ 0.973252  ┆ 0.992603  ┆ … ┆ 1404.0    ┆ 91839.398 ┆ 0.137118  ┆ 0.001417  │\n",
       "│           ┆          ┆           ┆           ┆   ┆           ┆ 438       ┆           ┆           │\n",
       "│ LR        ┆ 0.981199 ┆ 0.97327   ┆ 0.992609  ┆ … ┆ 1404.0    ┆ 91839.398 ┆ 0.141304  ┆ 0.002046  │\n",
       "│           ┆          ┆           ┆           ┆   ┆           ┆ 438       ┆           ┆           │\n",
       "│ LR        ┆ 0.981211 ┆ 0.973306  ┆ 0.992624  ┆ … ┆ 1404.0    ┆ 91839.398 ┆ 0.144015  ┆ 0.002213  │\n",
       "│           ┆          ┆           ┆           ┆   ┆           ┆ 438       ┆           ┆           │\n",
       "│ LR        ┆ 0.981204 ┆ 0.973292  ┆ 0.992618  ┆ … ┆ 1404.1999 ┆ 91839.203 ┆ 0.147293  ┆ 0.001801  │\n",
       "│           ┆          ┆           ┆           ┆   ┆ 51        ┆ 125       ┆           ┆           │\n",
       "│ LR        ┆ 0.981201 ┆ 0.973275  ┆ 0.992612  ┆ … ┆ 1404.0    ┆ 91839.398 ┆ 0.236707  ┆ 0.00295   │\n",
       "│           ┆          ┆           ┆           ┆   ┆           ┆ 438       ┆           ┆           │\n",
       "└───────────┴──────────┴───────────┴───────────┴───┴───────────┴───────────┴───────────┴───────────┘"
      ]
     },
     "execution_count": 15,
     "metadata": {},
     "output_type": "execute_result"
    }
   ],
   "source": [
    "metrics_df = pl.DataFrame(\n",
    "    results,\n",
    "    schema=['Algorithm', 'Accuracy', 'Balanced Accuracy', 'Precision', 'Recall', 'Specificity', 'F1-score', 'False Alarm Rate', 'tn', 'fp', 'fn', 'tp', 'training_duration', 'evaluation_duration']\n",
    ")\n",
    "metrics_df"
   ]
  },
  {
   "cell_type": "code",
   "execution_count": null,
   "metadata": {},
   "outputs": [],
   "source": [
    "metrics_df.write_csv(\"metrics_results/balanced_lr_metrics_output.csv\", separator=';')"
   ]
  }
 ],
 "metadata": {
  "kernelspec": {
   "display_name": "tcc_2025_py39",
   "language": "python",
   "name": "python3"
  },
  "language_info": {
   "codemirror_mode": {
    "name": "ipython",
    "version": 3
   },
   "file_extension": ".py",
   "mimetype": "text/x-python",
   "name": "python",
   "nbconvert_exporter": "python",
   "pygments_lexer": "ipython3",
   "version": "3.9.21"
  }
 },
 "nbformat": 4,
 "nbformat_minor": 2
}
