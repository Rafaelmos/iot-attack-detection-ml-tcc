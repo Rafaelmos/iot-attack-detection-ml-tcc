{
 "cells": [
  {
   "cell_type": "code",
   "execution_count": 1,
   "metadata": {},
   "outputs": [],
   "source": [
    "import polars as pl\n",
    "import numpy as np\n",
    "import time\n",
    "from sklearn.neural_network import MLPClassifier\n",
    "from sklearn.preprocessing import MinMaxScaler\n",
    "from sklearn.model_selection import train_test_split\n",
    "from sklearn.metrics import accuracy_score, precision_score, recall_score, f1_score, confusion_matrix, balanced_accuracy_score\n",
    "from sklearn.model_selection import KFold\n",
    "from imblearn.under_sampling import RandomUnderSampler"
   ]
  },
  {
   "cell_type": "code",
   "execution_count": 2,
   "metadata": {},
   "outputs": [],
   "source": [
    "df_polars_raiz = pl.read_parquet('../dataset.parquet')"
   ]
  },
  {
   "cell_type": "code",
   "execution_count": 3,
   "metadata": {},
   "outputs": [],
   "source": [
    "df_polars = df_polars_raiz.sample(fraction=0.01, seed=42)"
   ]
  },
  {
   "cell_type": "code",
   "execution_count": 4,
   "metadata": {},
   "outputs": [],
   "source": [
    "import ipaddress\n",
    "\n",
    "def ip_to_int(ip: str) -> int:\n",
    "    try:\n",
    "        return int(ipaddress.ip_address(ip))  # Funciona tanto para IPv4 quanto IPv6\n",
    "    except ValueError:\n",
    "        return None\n"
   ]
  },
  {
   "cell_type": "code",
   "execution_count": 5,
   "metadata": {},
   "outputs": [],
   "source": [
    "#df_polars = df_polars.with_columns([\n",
    "#    pl.col('id.resp_h').map_elements(ip_to_int).alias('id.resp_h'),\n",
    "#    pl.col('id.orig_h').map_elements(ip_to_int).alias('id.orig_h')\n",
    "#])"
   ]
  },
  {
   "cell_type": "code",
   "execution_count": 6,
   "metadata": {},
   "outputs": [],
   "source": [
    "df_polars = df_polars.with_columns([\n",
    "    pl.col('duration').fill_null(0),\n",
    "    pl.col('orig_bytes').fill_null(0),\n",
    "    pl.col('resp_bytes').fill_null(0)\n",
    "])"
   ]
  },
  {
   "cell_type": "code",
   "execution_count": 7,
   "metadata": {},
   "outputs": [],
   "source": [
    "lista_colunas = df_polars.columns\n",
    "colunas_para_spearman = ['id.resp_p', 'history', 'conn_state', 'id.orig_p', 'orig_ip_bytes', 'label']             \n",
    "#['detailed-label', 'id.resp_p', 'history', 'id.orig_h', 'conn_state', 'id.orig_p', 'orig_ip_bytes']\n",
    "colunas_para_dropar = [col for col in lista_colunas if col not in colunas_para_spearman]\n",
    "df_polars = df_polars.drop(colunas_para_dropar)"
   ]
  },
  {
   "cell_type": "code",
   "execution_count": 8,
   "metadata": {},
   "outputs": [],
   "source": [
    "df_polars = df_polars.drop_nulls()"
   ]
  },
  {
   "cell_type": "code",
   "execution_count": 9,
   "metadata": {},
   "outputs": [],
   "source": [
    "X = df_polars.drop('label')\n",
    "y = df_polars['label']       "
   ]
  },
  {
   "cell_type": "code",
   "execution_count": 10,
   "metadata": {},
   "outputs": [],
   "source": [
    "#X = X.to_numpy()\n",
    "#X[:, 0] = np.array([ip_to_int(ip) for ip in X[:, 0]])"
   ]
  },
  {
   "cell_type": "code",
   "execution_count": 11,
   "metadata": {},
   "outputs": [],
   "source": [
    "scaler = MinMaxScaler()\n",
    "X = scaler.fit_transform(X)"
   ]
  },
  {
   "cell_type": "markdown",
   "metadata": {},
   "source": [
    "# Treinamento"
   ]
  },
  {
   "cell_type": "code",
   "execution_count": 12,
   "metadata": {},
   "outputs": [],
   "source": [
    "results = []"
   ]
  },
  {
   "cell_type": "code",
   "execution_count": 13,
   "metadata": {},
   "outputs": [],
   "source": [
    "def startTrain(X, y, hidden_layer_sizes, activation, alpha, max_iter):\n",
    "    kfold = KFold(n_splits=5, shuffle=True)\n",
    "    results_fold = []\n",
    "    \n",
    "    for train_idx, test_idx in kfold.split(X):\n",
    "        X_train, X_test = X[train_idx], X[test_idx]\n",
    "        y_train, y_test = y[train_idx], y[test_idx]\n",
    "\n",
    "        scaler = MinMaxScaler()\n",
    "        X_train_scaled = scaler.fit_transform(X_train)\n",
    "        X_test_scaled = scaler.transform(X_test)\n",
    "        \n",
    "        rus = RandomUnderSampler()\n",
    "        X_train_resampled, y_train_resampled = rus.fit_resample(X_train_scaled, y_train)\n",
    "        \n",
    "        mlp = MLPClassifier(hidden_layer_sizes=hidden_layer_sizes, activation=activation, solver='adam', alpha=alpha, max_iter=max_iter)\n",
    "    \n",
    "        start_training = time.time()\n",
    "        mlp.fit(X_train_resampled, y_train_resampled)\n",
    "        end_training = time.time()\n",
    "\n",
    "        y_pred = mlp.predict(X_test_scaled)\n",
    "        training_duration = end_training - start_training\n",
    "        evaluation_duration = time.time() - end_training\n",
    "\n",
    "        confusion = confusion_matrix(y_test, y_pred)\n",
    "        tn, fp, fn, tp = confusion.ravel()\n",
    "        accuracy = accuracy_score(y_test, y_pred)\n",
    "        precision = precision_score(y_test, y_pred)\n",
    "        recall = recall_score(y_test, y_pred)\n",
    "        specificity = tn / (tn + fp)\n",
    "        f1 = f1_score(y_test, y_pred)\n",
    "        balanced_accuracy = balanced_accuracy_score(y_test, y_pred)\n",
    "        false_alarm_rate = fp / (fp + tn) if (fp + tn) > 0 else 0\n",
    "        \n",
    "\n",
    "        avaliacao = [accuracy, balanced_accuracy, precision, recall, specificity, f1, false_alarm_rate, tn, fp, fn, tp, training_duration, evaluation_duration]\n",
    "        #print(avaliacao)\n",
    "        results_fold.append(avaliacao)\n",
    "\n",
    "    results_fold_array = np.array(results_fold, dtype=np.float32)\n",
    "    mean_results = np.mean(results_fold_array, axis=0)\n",
    "    results.append([\"MLP\"] + mean_results.tolist())"
   ]
  },
  {
   "cell_type": "code",
   "execution_count": 14,
   "metadata": {},
   "outputs": [],
   "source": [
    "#Melhores Hiperparâmetros encontrados: {'hidden_layer_sizes': (128, 64, 32), 'activation': 'relu', 'alpha': 0.0001, 'max_iter': 300}"
   ]
  },
  {
   "cell_type": "code",
   "execution_count": 15,
   "metadata": {},
   "outputs": [
    {
     "name": "stdout",
     "output_type": "stream",
     "text": [
      "1\n",
      "2\n",
      "3\n",
      "4\n",
      "5\n",
      "6\n",
      "7\n",
      "8\n",
      "9\n",
      "10\n"
     ]
    }
   ],
   "source": [
    "for i in range(1,11):\n",
    "    startTrain(X=X, y=y, hidden_layer_sizes=(128,64,32), activation='relu', alpha=0.0001, max_iter=300)\n",
    "    print(i)"
   ]
  },
  {
   "cell_type": "code",
   "execution_count": 16,
   "metadata": {},
   "outputs": [
    {
     "name": "stderr",
     "output_type": "stream",
     "text": [
      "c:\\Users\\rafae\\anaconda3\\envs\\tcc_2025_py39\\lib\\functools.py:888: DataOrientationWarning: Row orientation inferred during DataFrame construction. Explicitly specify the orientation by passing `orient=\"row\"` to silence this warning.\n",
      "  return dispatch(args[0].__class__)(*args, **kw)\n"
     ]
    },
    {
     "data": {
      "text/html": [
       "<div><style>\n",
       ".dataframe > thead > tr,\n",
       ".dataframe > tbody > tr {\n",
       "  text-align: right;\n",
       "  white-space: pre-wrap;\n",
       "}\n",
       "</style>\n",
       "<small>shape: (10, 14)</small><table border=\"1\" class=\"dataframe\"><thead><tr><th>Algorithm</th><th>Accuracy</th><th>Balanced Accuracy</th><th>Precision</th><th>Recall</th><th>Specificity</th><th>F1-score</th><th>False Alarm Rate</th><th>tn</th><th>fp</th><th>fn</th><th>tp</th><th>training_duration</th><th>evaluation_duration</th></tr><tr><td>str</td><td>f64</td><td>f64</td><td>f64</td><td>f64</td><td>f64</td><td>f64</td><td>f64</td><td>f64</td><td>f64</td><td>f64</td><td>f64</td><td>f64</td><td>f64</td></tr></thead><tbody><tr><td>&quot;MLP&quot;</td><td>0.991866</td><td>0.994525</td><td>0.999699</td><td>0.990611</td><td>0.998438</td><td>0.995135</td><td>0.001562</td><td>17775.400391</td><td>27.799999</td><td>875.400024</td><td>92368.0</td><td>68.786514</td><td>0.25796</td></tr><tr><td>&quot;MLP&quot;</td><td>0.992039</td><td>0.994537</td><td>0.999656</td><td>0.99086</td><td>0.998214</td><td>0.995239</td><td>0.001786</td><td>17771.400391</td><td>31.799999</td><td>852.200012</td><td>92391.203125</td><td>68.443748</td><td>0.212154</td></tr><tr><td>&quot;MLP&quot;</td><td>0.991757</td><td>0.994481</td><td>0.99971</td><td>0.99047</td><td>0.998493</td><td>0.995068</td><td>0.001507</td><td>17776.400391</td><td>26.799999</td><td>888.599976</td><td>92354.796875</td><td>56.634632</td><td>0.142457</td></tr><tr><td>&quot;MLP&quot;</td><td>0.991726</td><td>0.994397</td><td>0.999677</td><td>0.990466</td><td>0.998327</td><td>0.99505</td><td>0.001673</td><td>17773.400391</td><td>29.799999</td><td>889.0</td><td>92354.398438</td><td>57.140362</td><td>0.149257</td></tr><tr><td>&quot;MLP&quot;</td><td>0.991575</td><td>0.994406</td><td>0.999725</td><td>0.990238</td><td>0.998574</td><td>0.994959</td><td>0.001426</td><td>17777.800781</td><td>25.4</td><td>910.200012</td><td>92333.203125</td><td>50.219116</td><td>0.151034</td></tr><tr><td>&quot;MLP&quot;</td><td>0.991764</td><td>0.994474</td><td>0.999703</td><td>0.990485</td><td>0.998462</td><td>0.995073</td><td>0.001538</td><td>17775.800781</td><td>27.4</td><td>887.200012</td><td>92356.203125</td><td>64.911041</td><td>0.149833</td></tr><tr><td>&quot;MLP&quot;</td><td>0.991776</td><td>0.994445</td><td>0.999686</td><td>0.990517</td><td>0.998372</td><td>0.99508</td><td>0.001628</td><td>17774.199219</td><td>29.0</td><td>884.200012</td><td>92359.203125</td><td>58.270988</td><td>0.144632</td></tr><tr><td>&quot;MLP&quot;</td><td>0.991949</td><td>0.994461</td><td>0.999645</td><td>0.990764</td><td>0.998157</td><td>0.995185</td><td>0.001843</td><td>17770.400391</td><td>32.799999</td><td>861.200012</td><td>92382.203125</td><td>49.569996</td><td>0.146032</td></tr><tr><td>&quot;MLP&quot;</td><td>0.991818</td><td>0.994405</td><td>0.999656</td><td>0.990597</td><td>0.998214</td><td>0.995106</td><td>0.001786</td><td>17771.400391</td><td>31.799999</td><td>876.799988</td><td>92366.601562</td><td>50.723557</td><td>0.152454</td></tr><tr><td>&quot;MLP&quot;</td><td>0.991852</td><td>0.994476</td><td>0.99968</td><td>0.990614</td><td>0.998337</td><td>0.995126</td><td>0.001663</td><td>17773.599609</td><td>29.6</td><td>875.200012</td><td>92368.203125</td><td>73.106834</td><td>0.264191</td></tr></tbody></table></div>"
      ],
      "text/plain": [
       "shape: (10, 14)\n",
       "┌───────────┬──────────┬───────────┬───────────┬───┬───────────┬───────────┬───────────┬───────────┐\n",
       "│ Algorithm ┆ Accuracy ┆ Balanced  ┆ Precision ┆ … ┆ fn        ┆ tp        ┆ training_ ┆ evaluatio │\n",
       "│ ---       ┆ ---      ┆ Accuracy  ┆ ---       ┆   ┆ ---       ┆ ---       ┆ duration  ┆ n_duratio │\n",
       "│ str       ┆ f64      ┆ ---       ┆ f64       ┆   ┆ f64       ┆ f64       ┆ ---       ┆ n         │\n",
       "│           ┆          ┆ f64       ┆           ┆   ┆           ┆           ┆ f64       ┆ ---       │\n",
       "│           ┆          ┆           ┆           ┆   ┆           ┆           ┆           ┆ f64       │\n",
       "╞═══════════╪══════════╪═══════════╪═══════════╪═══╪═══════════╪═══════════╪═══════════╪═══════════╡\n",
       "│ MLP       ┆ 0.991866 ┆ 0.994525  ┆ 0.999699  ┆ … ┆ 875.40002 ┆ 92368.0   ┆ 68.786514 ┆ 0.25796   │\n",
       "│           ┆          ┆           ┆           ┆   ┆ 4         ┆           ┆           ┆           │\n",
       "│ MLP       ┆ 0.992039 ┆ 0.994537  ┆ 0.999656  ┆ … ┆ 852.20001 ┆ 92391.203 ┆ 68.443748 ┆ 0.212154  │\n",
       "│           ┆          ┆           ┆           ┆   ┆ 2         ┆ 125       ┆           ┆           │\n",
       "│ MLP       ┆ 0.991757 ┆ 0.994481  ┆ 0.99971   ┆ … ┆ 888.59997 ┆ 92354.796 ┆ 56.634632 ┆ 0.142457  │\n",
       "│           ┆          ┆           ┆           ┆   ┆ 6         ┆ 875       ┆           ┆           │\n",
       "│ MLP       ┆ 0.991726 ┆ 0.994397  ┆ 0.999677  ┆ … ┆ 889.0     ┆ 92354.398 ┆ 57.140362 ┆ 0.149257  │\n",
       "│           ┆          ┆           ┆           ┆   ┆           ┆ 438       ┆           ┆           │\n",
       "│ MLP       ┆ 0.991575 ┆ 0.994406  ┆ 0.999725  ┆ … ┆ 910.20001 ┆ 92333.203 ┆ 50.219116 ┆ 0.151034  │\n",
       "│           ┆          ┆           ┆           ┆   ┆ 2         ┆ 125       ┆           ┆           │\n",
       "│ MLP       ┆ 0.991764 ┆ 0.994474  ┆ 0.999703  ┆ … ┆ 887.20001 ┆ 92356.203 ┆ 64.911041 ┆ 0.149833  │\n",
       "│           ┆          ┆           ┆           ┆   ┆ 2         ┆ 125       ┆           ┆           │\n",
       "│ MLP       ┆ 0.991776 ┆ 0.994445  ┆ 0.999686  ┆ … ┆ 884.20001 ┆ 92359.203 ┆ 58.270988 ┆ 0.144632  │\n",
       "│           ┆          ┆           ┆           ┆   ┆ 2         ┆ 125       ┆           ┆           │\n",
       "│ MLP       ┆ 0.991949 ┆ 0.994461  ┆ 0.999645  ┆ … ┆ 861.20001 ┆ 92382.203 ┆ 49.569996 ┆ 0.146032  │\n",
       "│           ┆          ┆           ┆           ┆   ┆ 2         ┆ 125       ┆           ┆           │\n",
       "│ MLP       ┆ 0.991818 ┆ 0.994405  ┆ 0.999656  ┆ … ┆ 876.79998 ┆ 92366.601 ┆ 50.723557 ┆ 0.152454  │\n",
       "│           ┆          ┆           ┆           ┆   ┆ 8         ┆ 562       ┆           ┆           │\n",
       "│ MLP       ┆ 0.991852 ┆ 0.994476  ┆ 0.99968   ┆ … ┆ 875.20001 ┆ 92368.203 ┆ 73.106834 ┆ 0.264191  │\n",
       "│           ┆          ┆           ┆           ┆   ┆ 2         ┆ 125       ┆           ┆           │\n",
       "└───────────┴──────────┴───────────┴───────────┴───┴───────────┴───────────┴───────────┴───────────┘"
      ]
     },
     "execution_count": 16,
     "metadata": {},
     "output_type": "execute_result"
    }
   ],
   "source": [
    "metrics_df = pl.DataFrame(\n",
    "    results,\n",
    "    schema=['Algorithm', 'Accuracy', 'Balanced Accuracy', 'Precision', 'Recall', 'Specificity', 'F1-score', 'False Alarm Rate', 'tn', 'fp', 'fn', 'tp', 'training_duration', 'evaluation_duration']\n",
    ")\n",
    "metrics_df"
   ]
  },
  {
   "cell_type": "code",
   "execution_count": 17,
   "metadata": {},
   "outputs": [],
   "source": [
    "metrics_df.write_csv(\"metrics_results/unbalanced_mlp_metrics_output.csv\", separator=';')"
   ]
  }
 ],
 "metadata": {
  "kernelspec": {
   "display_name": "tcc_2025_py39",
   "language": "python",
   "name": "python3"
  },
  "language_info": {
   "codemirror_mode": {
    "name": "ipython",
    "version": 3
   },
   "file_extension": ".py",
   "mimetype": "text/x-python",
   "name": "python",
   "nbconvert_exporter": "python",
   "pygments_lexer": "ipython3",
   "version": "3.9.21"
  }
 },
 "nbformat": 4,
 "nbformat_minor": 2
}
