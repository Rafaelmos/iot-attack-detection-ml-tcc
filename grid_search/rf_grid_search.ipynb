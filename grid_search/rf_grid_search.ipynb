{
 "cells": [
  {
   "cell_type": "code",
   "execution_count": 1,
   "metadata": {},
   "outputs": [],
   "source": [
    "import polars as pl\n",
    "import numpy as np\n",
    "import time\n",
    "from sklearn.ensemble import RandomForestClassifier\n",
    "from sklearn.preprocessing import MinMaxScaler\n",
    "from sklearn.model_selection import train_test_split\n",
    "from sklearn.metrics import accuracy_score, precision_score, recall_score, f1_score, confusion_matrix, balanced_accuracy_score\n",
    "from sklearn.model_selection import KFold\n",
    "from imblearn.under_sampling import RandomUnderSampler"
   ]
  },
  {
   "cell_type": "code",
   "execution_count": 2,
   "metadata": {},
   "outputs": [],
   "source": [
    "df_polars_raiz = pl.read_parquet('../dataset.parquet')"
   ]
  },
  {
   "cell_type": "code",
   "execution_count": 3,
   "metadata": {},
   "outputs": [],
   "source": [
    "df_polars = df_polars_raiz.sample(fraction=0.01, seed=42)"
   ]
  },
  {
   "cell_type": "code",
   "execution_count": 4,
   "metadata": {},
   "outputs": [],
   "source": [
    "import ipaddress\n",
    "\n",
    "def ip_to_int(ip: str) -> int:\n",
    "    try:\n",
    "        return int(ipaddress.ip_address(ip))  # Funciona tanto para IPv4 quanto IPv6\n",
    "    except ValueError:\n",
    "        return None"
   ]
  },
  {
   "cell_type": "code",
   "execution_count": 5,
   "metadata": {},
   "outputs": [],
   "source": [
    "#df_polars = df_polars.with_columns([\n",
    "#    pl.col('id.resp_h').map_elements(ip_to_int).alias('id.resp_h'),\n",
    "#    pl.col('id.orig_h').map_elements(ip_to_int).alias('id.orig_h')\n",
    "#])"
   ]
  },
  {
   "cell_type": "code",
   "execution_count": 6,
   "metadata": {},
   "outputs": [],
   "source": [
    "df_polars = df_polars.with_columns([\n",
    "    pl.col('duration').fill_null(0),\n",
    "    pl.col('orig_bytes').fill_null(0),\n",
    "    pl.col('resp_bytes').fill_null(0)\n",
    "])"
   ]
  },
  {
   "cell_type": "code",
   "execution_count": 7,
   "metadata": {},
   "outputs": [],
   "source": [
    "lista_colunas = df_polars.columns\n",
    "colunas_para_spearman = ['id.resp_p', 'history', 'conn_state', 'id.orig_p', 'orig_ip_bytes', 'label']             \n",
    "#['detailed-label', 'id.resp_p', 'history', 'id.orig_h', 'conn_state', 'id.orig_p', 'orig_ip_bytes']\n",
    "colunas_para_dropar = [col for col in lista_colunas if col not in colunas_para_spearman]\n",
    "df_polars = df_polars.drop(colunas_para_dropar)"
   ]
  },
  {
   "cell_type": "code",
   "execution_count": 8,
   "metadata": {},
   "outputs": [],
   "source": [
    "df_polars = df_polars.drop_nulls()"
   ]
  },
  {
   "cell_type": "code",
   "execution_count": 9,
   "metadata": {},
   "outputs": [],
   "source": [
    "X = df_polars.drop('label')\n",
    "y = df_polars['label']       "
   ]
  },
  {
   "cell_type": "code",
   "execution_count": 10,
   "metadata": {},
   "outputs": [],
   "source": [
    "#X = X.to_numpy()\n",
    "#X[:, 0] = np.array([ip_to_int(ip) for ip in X[:, 0]])"
   ]
  },
  {
   "cell_type": "markdown",
   "metadata": {},
   "source": [
    "# Treinamento"
   ]
  },
  {
   "cell_type": "code",
   "execution_count": 11,
   "metadata": {},
   "outputs": [],
   "source": [
    "results = []"
   ]
  },
  {
   "cell_type": "code",
   "execution_count": 12,
   "metadata": {},
   "outputs": [],
   "source": [
    "def startTrain(X, y, criterion, bootstrap, max_depth, min_samples_split, n_estimators):\n",
    "    kfold = KFold(n_splits=5, shuffle=True, random_state=42)\n",
    "    results_fold = []\n",
    "\n",
    "    for train_idx, test_idx in kfold.split(X):\n",
    "        X_train, X_test = X[train_idx], X[test_idx]\n",
    "        y_train, y_test = y[train_idx], y[test_idx]\n",
    "        \n",
    "        scaler = MinMaxScaler()\n",
    "        X_train_scaled = scaler.fit_transform(X_train)\n",
    "        X_test_scaled = scaler.transform(X_test)\n",
    "        \n",
    "        rus = RandomUnderSampler(random_state=42)\n",
    "        X_train_resampled, y_train_resampled = rus.fit_resample(X_train_scaled, y_train)\n",
    "\n",
    "        rf = RandomForestClassifier(\n",
    "            criterion=criterion, bootstrap=bootstrap, max_depth=max_depth,\n",
    "            min_samples_split=min_samples_split, n_estimators=n_estimators\n",
    "        )\n",
    "\n",
    "        rf.fit(X_train_resampled, y_train_resampled)\n",
    "        y_pred = rf.predict(X_test_scaled)\n",
    "\n",
    "        # Avaliação\n",
    "        accuracy = accuracy_score(y_test, y_pred)\n",
    "        results_fold.append(accuracy)\n",
    "\n",
    "    return np.mean(results_fold)"
   ]
  },
  {
   "cell_type": "code",
   "execution_count": null,
   "metadata": {},
   "outputs": [],
   "source": [
    "def grid_search():\n",
    "    param_grid = {\n",
    "        'criterion': ['gini', 'entropy'],  \n",
    "        'bootstrap': [True, False],       \n",
    "        'max_depth': [10, 20, 30, None],  \n",
    "        'min_samples_split': [2, 3, 5],   \n",
    "        'n_estimators': [50, 100, 200]    \n",
    "    }\n",
    "    \n",
    "    best_accuracy = 0\n",
    "    best_params = {}\n",
    "\n",
    "    for criterion in param_grid['criterion']:\n",
    "        for bootstrap in param_grid['bootstrap']:\n",
    "            for max_depth in param_grid['max_depth']:\n",
    "                for min_samples_split in param_grid['min_samples_split']:\n",
    "                    for n_estimators in param_grid['n_estimators']:\n",
    "                        accuracy = startTrain(\n",
    "                            X, y, criterion=criterion, bootstrap=bootstrap,\n",
    "                            max_depth=max_depth, min_samples_split=min_samples_split,\n",
    "                            n_estimators=n_estimators\n",
    "                        )\n",
    "\n",
    "                        print(f\"criterion={criterion}, bootstrap={bootstrap}, max_depth={max_depth}, min_samples_split={min_samples_split}, n_estimators={n_estimators} -> Accuracy: {accuracy}\")\n",
    "\n",
    "                        if accuracy > best_accuracy:\n",
    "                            best_accuracy = accuracy\n",
    "                            best_params = {\n",
    "                                'criterion': criterion,\n",
    "                                'bootstrap': bootstrap,\n",
    "                                'max_depth': max_depth,\n",
    "                                'min_samples_split': min_samples_split,\n",
    "                                'n_estimators': n_estimators\n",
    "                            }\n",
    "    \n",
    "    print(\"\\nMelhores Hiperparâmetros encontrados:\", best_params)\n",
    "    print(f\"Melhor Acurácia Média: {best_accuracy}\")\n",
    "    return best_params\n"
   ]
  },
  {
   "cell_type": "code",
   "execution_count": 14,
   "metadata": {},
   "outputs": [
    {
     "name": "stdout",
     "output_type": "stream",
     "text": [
      "criterion=gini, bootstrap=True, max_depth=10, min_samples_split=2, n_estimators=50 -> Accuracy: 0.9949804852287294\n",
      "criterion=gini, bootstrap=True, max_depth=10, min_samples_split=2, n_estimators=100 -> Accuracy: 0.9949606737326582\n",
      "criterion=gini, bootstrap=True, max_depth=10, min_samples_split=2, n_estimators=200 -> Accuracy: 0.994989490359852\n",
      "criterion=gini, bootstrap=True, max_depth=10, min_samples_split=3, n_estimators=50 -> Accuracy: 0.9949714800002936\n",
      "criterion=gini, bootstrap=True, max_depth=10, min_samples_split=3, n_estimators=100 -> Accuracy: 0.9949822862679291\n",
      "criterion=gini, bootstrap=True, max_depth=10, min_samples_split=3, n_estimators=200 -> Accuracy: 0.9949912914314893\n",
      "criterion=gini, bootstrap=True, max_depth=10, min_samples_split=5, n_estimators=50 -> Accuracy: 0.994980485163854\n",
      "criterion=gini, bootstrap=True, max_depth=10, min_samples_split=5, n_estimators=100 -> Accuracy: 0.994960673748877\n",
      "criterion=gini, bootstrap=True, max_depth=10, min_samples_split=5, n_estimators=200 -> Accuracy: 0.9949750820300363\n",
      "criterion=gini, bootstrap=True, max_depth=20, min_samples_split=2, n_estimators=50 -> Accuracy: 0.9949804852125105\n",
      "criterion=gini, bootstrap=True, max_depth=20, min_samples_split=2, n_estimators=100 -> Accuracy: 0.9949804851800728\n",
      "criterion=gini, bootstrap=True, max_depth=20, min_samples_split=2, n_estimators=200 -> Accuracy: 0.9949930925517834\n",
      "criterion=gini, bootstrap=True, max_depth=20, min_samples_split=3, n_estimators=50 -> Accuracy: 0.9949624748042953\n",
      "criterion=gini, bootstrap=True, max_depth=20, min_samples_split=3, n_estimators=100 -> Accuracy: 0.9949858883138905\n",
      "criterion=gini, bootstrap=True, max_depth=20, min_samples_split=3, n_estimators=200 -> Accuracy: 0.9949822862354912\n",
      "criterion=gini, bootstrap=True, max_depth=20, min_samples_split=5, n_estimators=50 -> Accuracy: 0.9949480664258232\n",
      "criterion=gini, bootstrap=True, max_depth=20, min_samples_split=5, n_estimators=100 -> Accuracy: 0.9949840872746909\n",
      "criterion=gini, bootstrap=True, max_depth=20, min_samples_split=5, n_estimators=200 -> Accuracy: 0.9949714800327312\n",
      "criterion=gini, bootstrap=True, max_depth=30, min_samples_split=2, n_estimators=50 -> Accuracy: 0.9947535534624159\n",
      "criterion=gini, bootstrap=True, max_depth=30, min_samples_split=2, n_estimators=100 -> Accuracy: 0.994802181796526\n",
      "criterion=gini, bootstrap=True, max_depth=30, min_samples_split=2, n_estimators=200 -> Accuracy: 0.994796778695146\n",
      "criterion=gini, bootstrap=True, max_depth=30, min_samples_split=3, n_estimators=50 -> Accuracy: 0.9948075848654682\n",
      "criterion=gini, bootstrap=True, max_depth=30, min_samples_split=3, n_estimators=100 -> Accuracy: 0.9947607577976216\n",
      "criterion=gini, bootstrap=True, max_depth=30, min_samples_split=3, n_estimators=200 -> Accuracy: 0.9948003807897642\n",
      "criterion=gini, bootstrap=True, max_depth=30, min_samples_split=5, n_estimators=50 -> Accuracy: 0.9947931766816224\n",
      "criterion=gini, bootstrap=True, max_depth=30, min_samples_split=5, n_estimators=100 -> Accuracy: 0.9948057839073631\n",
      "criterion=gini, bootstrap=True, max_depth=30, min_samples_split=5, n_estimators=200 -> Accuracy: 0.994775166176094\n",
      "criterion=gini, bootstrap=True, max_depth=None, min_samples_split=2, n_estimators=50 -> Accuracy: 0.9946346845670826\n",
      "criterion=gini, bootstrap=True, max_depth=None, min_samples_split=2, n_estimators=100 -> Accuracy: 0.9946436897792996\n",
      "criterion=gini, bootstrap=True, max_depth=None, min_samples_split=2, n_estimators=200 -> Accuracy: 0.9946490929293361\n",
      "criterion=gini, bootstrap=True, max_depth=None, min_samples_split=3, n_estimators=50 -> Accuracy: 0.9946346846643959\n",
      "criterion=gini, bootstrap=True, max_depth=None, min_samples_split=3, n_estimators=100 -> Accuracy: 0.9946544961604671\n",
      "criterion=gini, bootstrap=True, max_depth=None, min_samples_split=3, n_estimators=200 -> Accuracy: 0.9946635013402464\n",
      "criterion=gini, bootstrap=True, max_depth=None, min_samples_split=5, n_estimators=50 -> Accuracy: 0.9946382866779195\n",
      "criterion=gini, bootstrap=True, max_depth=None, min_samples_split=5, n_estimators=100 -> Accuracy: 0.9946508940496301\n",
      "criterion=gini, bootstrap=True, max_depth=None, min_samples_split=5, n_estimators=200 -> Accuracy: 0.9946544961442483\n",
      "criterion=gini, bootstrap=False, max_depth=10, min_samples_split=2, n_estimators=50 -> Accuracy: 0.9949912914152705\n",
      "criterion=gini, bootstrap=False, max_depth=10, min_samples_split=2, n_estimators=100 -> Accuracy: 0.9949876893368712\n",
      "criterion=gini, bootstrap=False, max_depth=10, min_samples_split=2, n_estimators=200 -> Accuracy: 0.9949912914801459\n",
      "criterion=gini, bootstrap=False, max_depth=10, min_samples_split=3, n_estimators=50 -> Accuracy: 0.9949840873071286\n",
      "criterion=gini, bootstrap=False, max_depth=10, min_samples_split=3, n_estimators=100 -> Accuracy: 0.9949714799516369\n",
      "criterion=gini, bootstrap=False, max_depth=10, min_samples_split=3, n_estimators=200 -> Accuracy: 0.9950020976829059\n",
      "criterion=gini, bootstrap=False, max_depth=10, min_samples_split=5, n_estimators=50 -> Accuracy: 0.9949822862354912\n",
      "criterion=gini, bootstrap=False, max_depth=10, min_samples_split=5, n_estimators=100 -> Accuracy: 0.994989490343633\n",
      "criterion=gini, bootstrap=False, max_depth=10, min_samples_split=5, n_estimators=200 -> Accuracy: 0.9949930924706891\n",
      "criterion=gini, bootstrap=False, max_depth=20, min_samples_split=2, n_estimators=50 -> Accuracy: 0.994885029875429\n",
      "criterion=gini, bootstrap=False, max_depth=20, min_samples_split=2, n_estimators=100 -> Accuracy: 0.9948922340646652\n",
      "criterion=gini, bootstrap=False, max_depth=20, min_samples_split=2, n_estimators=200 -> Accuracy: 0.9949048414201569\n",
      "criterion=gini, bootstrap=False, max_depth=20, min_samples_split=3, n_estimators=50 -> Accuracy: 0.994897637182264\n",
      "criterion=gini, bootstrap=False, max_depth=20, min_samples_split=3, n_estimators=100 -> Accuracy: 0.9948832288524484\n",
      "criterion=gini, bootstrap=False, max_depth=20, min_samples_split=3, n_estimators=200 -> Accuracy: 0.9948994382376826\n",
      "criterion=gini, bootstrap=False, max_depth=20, min_samples_split=5, n_estimators=50 -> Accuracy: 0.994901239293101\n",
      "criterion=gini, bootstrap=False, max_depth=20, min_samples_split=5, n_estimators=100 -> Accuracy: 0.9949030403323007\n",
      "criterion=gini, bootstrap=False, max_depth=20, min_samples_split=5, n_estimators=200 -> Accuracy: 0.9948940351363026\n",
      "criterion=gini, bootstrap=False, max_depth=30, min_samples_split=2, n_estimators=50 -> Accuracy: 0.9947697629287443\n",
      "criterion=gini, bootstrap=False, max_depth=30, min_samples_split=2, n_estimators=100 -> Accuracy: 0.9947661608665639\n",
      "criterion=gini, bootstrap=False, max_depth=30, min_samples_split=2, n_estimators=200 -> Accuracy: 0.9947733650558002\n",
      "criterion=gini, bootstrap=False, max_depth=30, min_samples_split=3, n_estimators=50 -> Accuracy: 0.9947625589179155\n",
      "criterion=gini, bootstrap=False, max_depth=30, min_samples_split=3, n_estimators=100 -> Accuracy: 0.9947715640328193\n",
      "criterion=gini, bootstrap=False, max_depth=30, min_samples_split=3, n_estimators=200 -> Accuracy: 0.9947625588043836\n",
      "criterion=gini, bootstrap=False, max_depth=30, min_samples_split=5, n_estimators=50 -> Accuracy: 0.9947751660463432\n",
      "criterion=gini, bootstrap=False, max_depth=30, min_samples_split=5, n_estimators=100 -> Accuracy: 0.994757155638128\n",
      "criterion=gini, bootstrap=False, max_depth=30, min_samples_split=5, n_estimators=200 -> Accuracy: 0.9947715640328194\n",
      "criterion=gini, bootstrap=False, max_depth=None, min_samples_split=2, n_estimators=50 -> Accuracy: 0.9946580982388662\n",
      "criterion=gini, bootstrap=False, max_depth=None, min_samples_split=2, n_estimators=100 -> Accuracy: 0.9946562972483234\n",
      "criterion=gini, bootstrap=False, max_depth=None, min_samples_split=2, n_estimators=200 -> Accuracy: 0.9946562971996666\n",
      "criterion=gini, bootstrap=False, max_depth=None, min_samples_split=3, n_estimators=50 -> Accuracy: 0.9946562971834478\n",
      "criterion=gini, bootstrap=False, max_depth=None, min_samples_split=3, n_estimators=100 -> Accuracy: 0.9946617003172655\n",
      "criterion=gini, bootstrap=False, max_depth=None, min_samples_split=3, n_estimators=200 -> Accuracy: 0.9946508940496301\n",
      "criterion=gini, bootstrap=False, max_depth=None, min_samples_split=5, n_estimators=50 -> Accuracy: 0.9946689044902829\n",
      "criterion=gini, bootstrap=False, max_depth=None, min_samples_split=5, n_estimators=100 -> Accuracy: 0.9946653024605402\n",
      "criterion=gini, bootstrap=False, max_depth=None, min_samples_split=5, n_estimators=200 -> Accuracy: 0.9946562971996666\n",
      "criterion=entropy, bootstrap=True, max_depth=10, min_samples_split=2, n_estimators=50 -> Accuracy: 0.9949948935261075\n",
      "criterion=entropy, bootstrap=True, max_depth=10, min_samples_split=2, n_estimators=100 -> Accuracy: 0.9949930924382514\n",
      "criterion=entropy, bootstrap=True, max_depth=10, min_samples_split=2, n_estimators=200 -> Accuracy: 0.9949858882814528\n",
      "criterion=entropy, bootstrap=True, max_depth=10, min_samples_split=3, n_estimators=50 -> Accuracy: 0.9949696789448751\n",
      "criterion=entropy, bootstrap=True, max_depth=10, min_samples_split=3, n_estimators=100 -> Accuracy: 0.9949840872584721\n",
      "criterion=entropy, bootstrap=True, max_depth=10, min_samples_split=3, n_estimators=200 -> Accuracy: 0.994996694565307\n",
      "criterion=entropy, bootstrap=True, max_depth=10, min_samples_split=5, n_estimators=50 -> Accuracy: 0.9949822861868347\n",
      "criterion=entropy, bootstrap=True, max_depth=10, min_samples_split=5, n_estimators=100 -> Accuracy: 0.9949660768016004\n",
      "criterion=entropy, bootstrap=True, max_depth=10, min_samples_split=5, n_estimators=200 -> Accuracy: 0.9949822861868347\n",
      "criterion=entropy, bootstrap=True, max_depth=20, min_samples_split=2, n_estimators=50 -> Accuracy: 0.9949966946139638\n",
      "criterion=entropy, bootstrap=True, max_depth=20, min_samples_split=2, n_estimators=100 -> Accuracy: 0.9949912914963648\n",
      "criterion=entropy, bootstrap=True, max_depth=20, min_samples_split=2, n_estimators=200 -> Accuracy: 0.9949912914639272\n",
      "criterion=entropy, bootstrap=True, max_depth=20, min_samples_split=3, n_estimators=50 -> Accuracy: 0.9949768831665491\n",
      "criterion=entropy, bootstrap=True, max_depth=20, min_samples_split=3, n_estimators=100 -> Accuracy: 0.9949876894017468\n",
      "criterion=entropy, bootstrap=True, max_depth=20, min_samples_split=3, n_estimators=200 -> Accuracy: 0.9950002967085817\n",
      "criterion=entropy, bootstrap=True, max_depth=20, min_samples_split=5, n_estimators=50 -> Accuracy: 0.994967877970551\n",
      "criterion=entropy, bootstrap=True, max_depth=20, min_samples_split=5, n_estimators=100 -> Accuracy: 0.9949732810881498\n",
      "criterion=entropy, bootstrap=True, max_depth=20, min_samples_split=5, n_estimators=200 -> Accuracy: 0.9949822862679291\n",
      "criterion=entropy, bootstrap=True, max_depth=30, min_samples_split=2, n_estimators=50 -> Accuracy: 0.9948724226010317\n",
      "criterion=entropy, bootstrap=True, max_depth=30, min_samples_split=2, n_estimators=100 -> Accuracy: 0.9949066424431375\n",
      "criterion=entropy, bootstrap=True, max_depth=30, min_samples_split=2, n_estimators=200 -> Accuracy: 0.9948814277970299\n",
      "criterion=entropy, bootstrap=True, max_depth=30, min_samples_split=3, n_estimators=50 -> Accuracy: 0.9948652183793578\n",
      "criterion=entropy, bootstrap=True, max_depth=30, min_samples_split=3, n_estimators=100 -> Accuracy: 0.9948562132806729\n",
      "criterion=entropy, bootstrap=True, max_depth=30, min_samples_split=3, n_estimators=200 -> Accuracy: 0.9948706215456132\n",
      "criterion=entropy, bootstrap=True, max_depth=30, min_samples_split=5, n_estimators=50 -> Accuracy: 0.9948436060387132\n",
      "criterion=entropy, bootstrap=True, max_depth=30, min_samples_split=5, n_estimators=100 -> Accuracy: 0.9948724225037185\n",
      "criterion=entropy, bootstrap=True, max_depth=30, min_samples_split=5, n_estimators=200 -> Accuracy: 0.9948868309957228\n",
      "criterion=entropy, bootstrap=True, max_depth=None, min_samples_split=2, n_estimators=50 -> Accuracy: 0.9946346846481771\n",
      "criterion=entropy, bootstrap=True, max_depth=None, min_samples_split=2, n_estimators=100 -> Accuracy: 0.9946617003497031\n",
      "criterion=entropy, bootstrap=True, max_depth=None, min_samples_split=2, n_estimators=200 -> Accuracy: 0.9946580982713039\n",
      "criterion=entropy, bootstrap=True, max_depth=None, min_samples_split=3, n_estimators=50 -> Accuracy: 0.9946346846319581\n",
      "criterion=entropy, bootstrap=True, max_depth=None, min_samples_split=3, n_estimators=100 -> Accuracy: 0.9946454908671558\n",
      "criterion=entropy, bootstrap=True, max_depth=None, min_samples_split=3, n_estimators=200 -> Accuracy: 0.9946635013564652\n",
      "criterion=entropy, bootstrap=True, max_depth=None, min_samples_split=5, n_estimators=50 -> Accuracy: 0.994656297053697\n",
      "criterion=entropy, bootstrap=True, max_depth=None, min_samples_split=5, n_estimators=100 -> Accuracy: 0.9946562972645421\n",
      "criterion=entropy, bootstrap=True, max_depth=None, min_samples_split=5, n_estimators=200 -> Accuracy: 0.9946653024118837\n",
      "criterion=entropy, bootstrap=False, max_depth=10, min_samples_split=2, n_estimators=50 -> Accuracy: 0.9949354591676446\n",
      "criterion=entropy, bootstrap=False, max_depth=10, min_samples_split=2, n_estimators=100 -> Accuracy: 0.994987689369309\n",
      "criterion=entropy, bootstrap=False, max_depth=10, min_samples_split=2, n_estimators=200 -> Accuracy: 0.9950020977153438\n",
      "criterion=entropy, bootstrap=False, max_depth=10, min_samples_split=3, n_estimators=50 -> Accuracy: 0.9949966945977448\n",
      "criterion=entropy, bootstrap=False, max_depth=10, min_samples_split=3, n_estimators=100 -> Accuracy: 0.9949930925031266\n",
      "criterion=entropy, bootstrap=False, max_depth=10, min_samples_split=3, n_estimators=200 -> Accuracy: 0.9949858882976717\n",
      "criterion=entropy, bootstrap=False, max_depth=10, min_samples_split=5, n_estimators=50 -> Accuracy: 0.9949840872909098\n",
      "criterion=entropy, bootstrap=False, max_depth=10, min_samples_split=5, n_estimators=100 -> Accuracy: 0.9949930924706889\n",
      "criterion=entropy, bootstrap=False, max_depth=10, min_samples_split=5, n_estimators=200 -> Accuracy: 0.9950020976991247\n",
      "criterion=entropy, bootstrap=False, max_depth=20, min_samples_split=2, n_estimators=50 -> Accuracy: 0.9949426632595678\n",
      "criterion=entropy, bootstrap=False, max_depth=20, min_samples_split=2, n_estimators=100 -> Accuracy: 0.9949462653866235\n",
      "criterion=entropy, bootstrap=False, max_depth=20, min_samples_split=2, n_estimators=200 -> Accuracy: 0.9949516684880036\n",
      "criterion=entropy, bootstrap=False, max_depth=20, min_samples_split=3, n_estimators=50 -> Accuracy: 0.9949318570405887\n",
      "criterion=entropy, bootstrap=False, max_depth=20, min_samples_split=3, n_estimators=100 -> Accuracy: 0.9949426632757866\n",
      "criterion=entropy, bootstrap=False, max_depth=20, min_samples_split=3, n_estimators=200 -> Accuracy: 0.9949408622528058\n",
      "criterion=entropy, bootstrap=False, max_depth=20, min_samples_split=5, n_estimators=50 -> Accuracy: 0.9949426632757865\n",
      "criterion=entropy, bootstrap=False, max_depth=20, min_samples_split=5, n_estimators=100 -> Accuracy: 0.9949408622528058\n",
      "criterion=entropy, bootstrap=False, max_depth=20, min_samples_split=5, n_estimators=200 -> Accuracy: 0.9949354590703315\n",
      "criterion=entropy, bootstrap=False, max_depth=30, min_samples_split=2, n_estimators=50 -> Accuracy: 0.9948309984561575\n",
      "criterion=entropy, bootstrap=False, max_depth=30, min_samples_split=2, n_estimators=100 -> Accuracy: 0.9948111869276486\n",
      "criterion=entropy, bootstrap=False, max_depth=30, min_samples_split=2, n_estimators=200 -> Accuracy: 0.994834600534557\n",
      "criterion=entropy, bootstrap=False, max_depth=30, min_samples_split=3, n_estimators=50 -> Accuracy: 0.9948201921236468\n",
      "criterion=entropy, bootstrap=False, max_depth=30, min_samples_split=3, n_estimators=100 -> Accuracy: 0.9948327994304819\n",
      "criterion=entropy, bootstrap=False, max_depth=30, min_samples_split=3, n_estimators=200 -> Accuracy: 0.9948183911168849\n",
      "criterion=entropy, bootstrap=False, max_depth=30, min_samples_split=5, n_estimators=50 -> Accuracy: 0.9948219932277219\n",
      "criterion=entropy, bootstrap=False, max_depth=30, min_samples_split=5, n_estimators=100 -> Accuracy: 0.9948418047400118\n",
      "criterion=entropy, bootstrap=False, max_depth=30, min_samples_split=5, n_estimators=200 -> Accuracy: 0.9948454067859736\n",
      "criterion=entropy, bootstrap=False, max_depth=None, min_samples_split=2, n_estimators=50 -> Accuracy: 0.9946617003172655\n",
      "criterion=entropy, bootstrap=False, max_depth=None, min_samples_split=2, n_estimators=100 -> Accuracy: 0.9946562971510101\n",
      "criterion=entropy, bootstrap=False, max_depth=None, min_samples_split=2, n_estimators=200 -> Accuracy: 0.9946725065686822\n",
      "criterion=entropy, bootstrap=False, max_depth=None, min_samples_split=3, n_estimators=50 -> Accuracy: 0.9946526951050485\n",
      "criterion=entropy, bootstrap=False, max_depth=None, min_samples_split=3, n_estimators=100 -> Accuracy: 0.9946653024118837\n",
      "criterion=entropy, bootstrap=False, max_depth=None, min_samples_split=3, n_estimators=200 -> Accuracy: 0.9946617003010466\n",
      "criterion=entropy, bootstrap=False, max_depth=None, min_samples_split=5, n_estimators=50 -> Accuracy: 0.9946779096538434\n",
      "criterion=entropy, bootstrap=False, max_depth=None, min_samples_split=5, n_estimators=100 -> Accuracy: 0.9946743075916629\n",
      "criterion=entropy, bootstrap=False, max_depth=None, min_samples_split=5, n_estimators=200 -> Accuracy: 0.9946761086308624\n",
      "\n",
      "Melhores Hiperparâmetros encontrados: {'criterion': 'entropy', 'bootstrap': False, 'max_depth': 10, 'min_samples_split': 2, 'n_estimators': 200}\n",
      "Melhor Acurácia Média: 0.9950020977153438\n"
     ]
    }
   ],
   "source": [
    "inicio = time.time()\n",
    "best_params = grid_search()\n",
    "fim = time.time()"
   ]
  },
  {
   "cell_type": "code",
   "execution_count": 15,
   "metadata": {},
   "outputs": [
    {
     "name": "stdout",
     "output_type": "stream",
     "text": [
      "12133.26722073555\n"
     ]
    }
   ],
   "source": [
    "duracao = fim - inicio\n",
    "print(duracao)"
   ]
  },
  {
   "cell_type": "code",
   "execution_count": 16,
   "metadata": {},
   "outputs": [
    {
     "name": "stdout",
     "output_type": "stream",
     "text": [
      "\n",
      "Melhores Hiperparâmetros encontrados: {'criterion': 'entropy', 'bootstrap': False, 'max_depth': 10, 'min_samples_split': 2, 'n_estimators': 200}\n"
     ]
    }
   ],
   "source": [
    "print(\"\\nMelhores Hiperparâmetros encontrados:\", best_params)"
   ]
  },
  {
   "cell_type": "code",
   "execution_count": 17,
   "metadata": {},
   "outputs": [
    {
     "ename": "TypeError",
     "evalue": "startTrain() missing 7 required positional arguments: 'X', 'y', 'criterion', 'bootstrap', 'max_depth', 'min_samples_split', and 'n_estimators'",
     "output_type": "error",
     "traceback": [
      "\u001b[1;31m---------------------------------------------------------------------------\u001b[0m",
      "\u001b[1;31mTypeError\u001b[0m                                 Traceback (most recent call last)",
      "Cell \u001b[1;32mIn[17], line 2\u001b[0m\n\u001b[0;32m      1\u001b[0m \u001b[38;5;28;01mfor\u001b[39;00m i \u001b[38;5;129;01min\u001b[39;00m \u001b[38;5;28mrange\u001b[39m(\u001b[38;5;241m1\u001b[39m,\u001b[38;5;241m31\u001b[39m):\n\u001b[1;32m----> 2\u001b[0m     \u001b[43mstartTrain\u001b[49m\u001b[43m(\u001b[49m\u001b[43m)\u001b[49m\n\u001b[0;32m      3\u001b[0m     \u001b[38;5;28mprint\u001b[39m(i)\n",
      "\u001b[1;31mTypeError\u001b[0m: startTrain() missing 7 required positional arguments: 'X', 'y', 'criterion', 'bootstrap', 'max_depth', 'min_samples_split', and 'n_estimators'"
     ]
    }
   ],
   "source": [
    "for i in range(1,31):\n",
    "    startTrain()\n",
    "    print(i)"
   ]
  },
  {
   "cell_type": "code",
   "execution_count": null,
   "metadata": {},
   "outputs": [],
   "source": [
    "metrics_df = pl.DataFrame(\n",
    "    results,\n",
    "    schema=['Algorithm', 'Accuracy', 'Balanced Accuracy', 'Precision', 'Recall', 'Specificity', 'F1-score', 'False Alarm Rate', 'tn', 'fp', 'fn', 'tp', 'training_duration', 'evaluation_duration']\n",
    ")\n",
    "metrics_df"
   ]
  },
  {
   "cell_type": "code",
   "execution_count": null,
   "metadata": {},
   "outputs": [],
   "source": [
    "metrics_df.write_csv(\"metrics_results/unbalanced_rf_metrics_output.csv\", separator=';')"
   ]
  }
 ],
 "metadata": {
  "kernelspec": {
   "display_name": "tcc_2025_py39",
   "language": "python",
   "name": "python3"
  },
  "language_info": {
   "codemirror_mode": {
    "name": "ipython",
    "version": 3
   },
   "file_extension": ".py",
   "mimetype": "text/x-python",
   "name": "python",
   "nbconvert_exporter": "python",
   "pygments_lexer": "ipython3",
   "version": "3.9.21"
  }
 },
 "nbformat": 4,
 "nbformat_minor": 2
}
