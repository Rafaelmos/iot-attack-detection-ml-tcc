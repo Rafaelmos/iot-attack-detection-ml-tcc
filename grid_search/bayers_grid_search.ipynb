{
 "cells": [
  {
   "cell_type": "code",
   "execution_count": 1,
   "metadata": {},
   "outputs": [],
   "source": [
    "import polars as pl\n",
    "import numpy as np\n",
    "import time\n",
    "from sklearn.naive_bayes import GaussianNB, MultinomialNB, BernoulliNB, ComplementNB \n",
    "from sklearn.preprocessing import MinMaxScaler\n",
    "from sklearn.model_selection import train_test_split\n",
    "from sklearn.metrics import accuracy_score, precision_score, recall_score, f1_score, confusion_matrix, balanced_accuracy_score\n",
    "from sklearn.model_selection import KFold\n"
   ]
  },
  {
   "cell_type": "code",
   "execution_count": 2,
   "metadata": {},
   "outputs": [],
   "source": [
    "df_polars_raiz = pl.read_parquet('../dataset.parquet')"
   ]
  },
  {
   "cell_type": "code",
   "execution_count": 3,
   "metadata": {},
   "outputs": [],
   "source": [
    "df_polars = df_polars_raiz.sample(fraction=0.01, seed=42)"
   ]
  },
  {
   "cell_type": "code",
   "execution_count": 4,
   "metadata": {},
   "outputs": [],
   "source": [
    "import ipaddress\n",
    "\n",
    "def ip_to_int(ip: str) -> int:\n",
    "    try:\n",
    "        return int(ipaddress.ip_address(ip))  # Funciona tanto para IPv4 quanto IPv6\n",
    "    except ValueError:\n",
    "        return None"
   ]
  },
  {
   "cell_type": "code",
   "execution_count": 5,
   "metadata": {},
   "outputs": [],
   "source": [
    "#df_polars = df_polars.with_columns([\n",
    "#    pl.col('id.resp_h').map_elements(ip_to_int).alias('id.resp_h'),\n",
    "#    pl.col('id.orig_h').map_elements(ip_to_int).alias('id.orig_h')\n",
    "#])"
   ]
  },
  {
   "cell_type": "code",
   "execution_count": 6,
   "metadata": {},
   "outputs": [],
   "source": [
    "df_polars = df_polars.with_columns([\n",
    "    pl.col('duration').fill_null(0),\n",
    "    pl.col('orig_bytes').fill_null(0),\n",
    "    pl.col('resp_bytes').fill_null(0),\n",
    "])"
   ]
  },
  {
   "cell_type": "code",
   "execution_count": 7,
   "metadata": {},
   "outputs": [],
   "source": [
    "lista_colunas = df_polars.columns\n",
    "colunas_para_spearman = ['id.resp_p', 'history', 'conn_state', 'id.orig_p', 'orig_ip_bytes', 'label']             \n",
    "#['detailed-label', 'id.resp_p', 'history', 'id.orig_h', 'conn_state', 'id.orig_p', 'orig_ip_bytes']\n",
    "colunas_para_dropar = [col for col in lista_colunas if col not in colunas_para_spearman]\n",
    "df_polars = df_polars.drop(colunas_para_dropar)"
   ]
  },
  {
   "cell_type": "code",
   "execution_count": 8,
   "metadata": {},
   "outputs": [
    {
     "data": {
      "text/html": [
       "<div><style>\n",
       ".dataframe > thead > tr,\n",
       ".dataframe > tbody > tr {\n",
       "  text-align: right;\n",
       "  white-space: pre-wrap;\n",
       "}\n",
       "</style>\n",
       "<small>shape: (555_233, 6)</small><table border=\"1\" class=\"dataframe\"><thead><tr><th>id.orig_p</th><th>id.resp_p</th><th>conn_state</th><th>history</th><th>orig_ip_bytes</th><th>label</th></tr><tr><td>i32</td><td>i32</td><td>i64</td><td>i64</td><td>i64</td><td>i32</td></tr></thead><tbody><tr><td>5526</td><td>37215</td><td>0</td><td>0</td><td>40</td><td>1</td></tr><tr><td>60403</td><td>23</td><td>2</td><td>7</td><td>40</td><td>1</td></tr><tr><td>13386</td><td>81</td><td>2</td><td>7</td><td>40</td><td>1</td></tr><tr><td>36097</td><td>37215</td><td>0</td><td>0</td><td>40</td><td>1</td></tr><tr><td>36097</td><td>37215</td><td>0</td><td>0</td><td>40</td><td>1</td></tr><tr><td>&hellip;</td><td>&hellip;</td><td>&hellip;</td><td>&hellip;</td><td>&hellip;</td><td>&hellip;</td></tr><tr><td>30535</td><td>8081</td><td>1</td><td>1</td><td>80</td><td>1</td></tr><tr><td>36097</td><td>37215</td><td>0</td><td>0</td><td>40</td><td>1</td></tr><tr><td>41258</td><td>23</td><td>1</td><td>1</td><td>120</td><td>1</td></tr><tr><td>36658</td><td>23</td><td>1</td><td>1</td><td>120</td><td>1</td></tr><tr><td>36097</td><td>37215</td><td>0</td><td>0</td><td>40</td><td>1</td></tr></tbody></table></div>"
      ],
      "text/plain": [
       "shape: (555_233, 6)\n",
       "┌───────────┬───────────┬────────────┬─────────┬───────────────┬───────┐\n",
       "│ id.orig_p ┆ id.resp_p ┆ conn_state ┆ history ┆ orig_ip_bytes ┆ label │\n",
       "│ ---       ┆ ---       ┆ ---        ┆ ---     ┆ ---           ┆ ---   │\n",
       "│ i32       ┆ i32       ┆ i64        ┆ i64     ┆ i64           ┆ i32   │\n",
       "╞═══════════╪═══════════╪════════════╪═════════╪═══════════════╪═══════╡\n",
       "│ 5526      ┆ 37215     ┆ 0          ┆ 0       ┆ 40            ┆ 1     │\n",
       "│ 60403     ┆ 23        ┆ 2          ┆ 7       ┆ 40            ┆ 1     │\n",
       "│ 13386     ┆ 81        ┆ 2          ┆ 7       ┆ 40            ┆ 1     │\n",
       "│ 36097     ┆ 37215     ┆ 0          ┆ 0       ┆ 40            ┆ 1     │\n",
       "│ 36097     ┆ 37215     ┆ 0          ┆ 0       ┆ 40            ┆ 1     │\n",
       "│ …         ┆ …         ┆ …          ┆ …       ┆ …             ┆ …     │\n",
       "│ 30535     ┆ 8081      ┆ 1          ┆ 1       ┆ 80            ┆ 1     │\n",
       "│ 36097     ┆ 37215     ┆ 0          ┆ 0       ┆ 40            ┆ 1     │\n",
       "│ 41258     ┆ 23        ┆ 1          ┆ 1       ┆ 120           ┆ 1     │\n",
       "│ 36658     ┆ 23        ┆ 1          ┆ 1       ┆ 120           ┆ 1     │\n",
       "│ 36097     ┆ 37215     ┆ 0          ┆ 0       ┆ 40            ┆ 1     │\n",
       "└───────────┴───────────┴────────────┴─────────┴───────────────┴───────┘"
      ]
     },
     "execution_count": 8,
     "metadata": {},
     "output_type": "execute_result"
    }
   ],
   "source": [
    "df_polars"
   ]
  },
  {
   "cell_type": "code",
   "execution_count": 9,
   "metadata": {},
   "outputs": [],
   "source": [
    "df_polars = df_polars.drop_nulls()"
   ]
  },
  {
   "cell_type": "code",
   "execution_count": 10,
   "metadata": {},
   "outputs": [],
   "source": [
    "X = df_polars.drop('label')\n",
    "y = df_polars['label']       "
   ]
  },
  {
   "cell_type": "code",
   "execution_count": 11,
   "metadata": {},
   "outputs": [],
   "source": [
    "#X = X.to_numpy()\n",
    "#X[:, 0] = np.array([ip_to_int(ip) for ip in X[:, 0]])"
   ]
  },
  {
   "cell_type": "code",
   "execution_count": 12,
   "metadata": {},
   "outputs": [],
   "source": []
  },
  {
   "cell_type": "markdown",
   "metadata": {},
   "source": [
    "# Treinamento"
   ]
  },
  {
   "cell_type": "code",
   "execution_count": 12,
   "metadata": {},
   "outputs": [],
   "source": [
    "results = []"
   ]
  },
  {
   "cell_type": "code",
   "execution_count": 14,
   "metadata": {},
   "outputs": [],
   "source": []
  },
  {
   "cell_type": "code",
   "execution_count": 13,
   "metadata": {},
   "outputs": [],
   "source": [
    "def startTrain(X, y, algorithm, params, kfold):\n",
    "    results_fold = []\n",
    "\n",
    "    # K-Fold Cross Validation\n",
    "    for train_idx, test_idx in kfold.split(X, y):\n",
    "        X_train, X_test = X[train_idx], X[test_idx]\n",
    "        y_train, y_test = y[train_idx], y[test_idx]\n",
    "\n",
    "        # Normalizar os dados\n",
    "        scaler = MinMaxScaler()\n",
    "        X_train = scaler.fit_transform(X_train)\n",
    "        X_test = scaler.transform(X_test)\n",
    "\n",
    "        # Definir o modelo com os parâmetros fornecidos\n",
    "        model = algorithm.set_params(**params)\n",
    "        model.fit(X_train, y_train)\n",
    "\n",
    "        # Fazer previsões\n",
    "        y_pred = model.predict(X_test)\n",
    "\n",
    "        # Avaliar o modelo\n",
    "        accuracy = accuracy_score(y_test, y_pred)\n",
    "        results_fold.append(accuracy)\n",
    "\n",
    "    # Acurácia média após K-Fold\n",
    "    return np.mean(results_fold)"
   ]
  },
  {
   "cell_type": "code",
   "execution_count": 14,
   "metadata": {},
   "outputs": [],
   "source": [
    "def grid_search(X, y):\n",
    "    algorithms = [\n",
    "        GaussianNB(),\n",
    "        MultinomialNB(),\n",
    "        BernoulliNB(),\n",
    "        ComplementNB()\n",
    "    ]\n",
    "    algorithm_names = ['GaussianNB', 'MultinomialNB', 'BernoulliNB', 'ComplementNB']\n",
    "    \n",
    "    param_grid = {\n",
    "        'GaussianNB': {'var_smoothing': [1e-9, 1e-8, 1e-7, 1e-6]},\n",
    "        'MultinomialNB': {'alpha': [0.1, 0.5, 1.0, 2.0]},\n",
    "        'BernoulliNB': {'alpha': [0.1, 0.5, 1.0, 2.0], 'binarize': [0.0, 0.1, 0.5]},\n",
    "        'ComplementNB': {'alpha': [0.1, 0.5, 1.0, 2.0]}\n",
    "    }\n",
    "\n",
    "    best_accuracy = 0\n",
    "    best_params = {}\n",
    "\n",
    "    kfold = KFold(n_splits=5, shuffle=True)\n",
    "\n",
    "    # Loop por cada modelo\n",
    "    for algorithm, algorithm_name in zip(algorithms, algorithm_names):\n",
    "        print(f\"\\nExecutando Grid Search para {algorithm_name}...\")\n",
    "        \n",
    "        best_model_params = None\n",
    "        best_model_score = -np.inf\n",
    "\n",
    "        # Realizar Grid Search manualmente\n",
    "        for params in [dict(zip(param_grid[algorithm_name].keys(), v)) for v in np.array(np.meshgrid(*param_grid[algorithm_name].values())).T.reshape(-1, len(param_grid[algorithm_name]))]:\n",
    "            accuracy = startTrain(X, y, algorithm, params, kfold)\n",
    "\n",
    "            print(f\"Parâmetros: {params} -> Acurácia: {accuracy}\")\n",
    "\n",
    "            if accuracy > best_model_score:\n",
    "                best_model_score = accuracy\n",
    "                best_model_params = params\n",
    "\n",
    "        # Atualizar melhores parâmetros\n",
    "        if best_model_score > best_accuracy:\n",
    "            best_accuracy = best_model_score\n",
    "            best_params = {\n",
    "                'model': algorithm_name,\n",
    "                'params': best_model_params\n",
    "            }\n",
    "\n",
    "    # Exibir os melhores resultados\n",
    "    print(\"\\nMelhores Hiperparâmetros encontrados:\")\n",
    "    print(f\"Modelo: {best_params['model']} - Parâmetros: {best_params['params']}\")\n",
    "    print(f\"Melhor Acurácia Média: {best_accuracy}\")\n",
    "\n",
    "    return best_params\n"
   ]
  },
  {
   "cell_type": "code",
   "execution_count": 15,
   "metadata": {},
   "outputs": [
    {
     "name": "stdout",
     "output_type": "stream",
     "text": [
      "\n",
      "Executando Grid Search para GaussianNB...\n",
      "Parâmetros: {'var_smoothing': 1e-09} -> Acurácia: 0.885543784803491\n",
      "Parâmetros: {'var_smoothing': 1e-08} -> Acurácia: 0.9366302663554725\n",
      "Parâmetros: {'var_smoothing': 1e-07} -> Acurácia: 0.9476994754961598\n",
      "Parâmetros: {'var_smoothing': 1e-06} -> Acurácia: 0.9796229667210199\n",
      "\n",
      "Executando Grid Search para MultinomialNB...\n",
      "Parâmetros: {'alpha': 0.1} -> Acurácia: 0.8396763147976749\n",
      "Parâmetros: {'alpha': 0.5} -> Acurácia: 0.8396763147976749\n",
      "Parâmetros: {'alpha': 1.0} -> Acurácia: 0.8396763147976749\n",
      "Parâmetros: {'alpha': 2.0} -> Acurácia: 0.8396763147976749\n",
      "\n",
      "Executando Grid Search para BernoulliNB...\n",
      "Parâmetros: {'alpha': 0.1, 'binarize': 0.0} -> Acurácia: 0.8398492151933736\n",
      "Parâmetros: {'alpha': 0.1, 'binarize': 0.1} -> Acurácia: 0.9818076370176897\n",
      "Parâmetros: {'alpha': 0.1, 'binarize': 0.5} -> Acurácia: 0.8396709116800759\n",
      "Parâmetros: {'alpha': 0.5, 'binarize': 0.0} -> Acurácia: 0.8396781158530933\n",
      "Parâmetros: {'alpha': 0.5, 'binarize': 0.1} -> Acurácia: 0.9818076370176897\n",
      "Parâmetros: {'alpha': 0.5, 'binarize': 0.5} -> Acurácia: 0.8396673095692389\n",
      "Parâmetros: {'alpha': 1.0, 'binarize': 0.0} -> Acurácia: 0.8396781158530933\n",
      "Parâmetros: {'alpha': 1.0, 'binarize': 0.1} -> Acurácia: 0.9818076370176897\n",
      "Parâmetros: {'alpha': 1.0, 'binarize': 0.5} -> Acurácia: 0.8396673095692389\n",
      "Parâmetros: {'alpha': 2.0, 'binarize': 0.0} -> Acurácia: 0.8396781158530933\n",
      "Parâmetros: {'alpha': 2.0, 'binarize': 0.1} -> Acurácia: 0.9818076370176897\n",
      "Parâmetros: {'alpha': 2.0, 'binarize': 0.5} -> Acurácia: 0.8396547022461851\n",
      "\n",
      "Executando Grid Search para ComplementNB...\n",
      "Parâmetros: {'alpha': 0.1} -> Acurácia: 0.9244677468995606\n",
      "Parâmetros: {'alpha': 0.5} -> Acurácia: 0.924419118614107\n",
      "Parâmetros: {'alpha': 1.0} -> Acurácia: 0.9243758935273464\n",
      "Parâmetros: {'alpha': 2.0} -> Acurácia: 0.9242372129088782\n",
      "\n",
      "Melhores Hiperparâmetros encontrados:\n",
      "Modelo: BernoulliNB - Parâmetros: {'alpha': 0.1, 'binarize': 0.1}\n",
      "Melhor Acurácia Média: 0.9818076370176897\n"
     ]
    }
   ],
   "source": [
    "inicio = time.time()\n",
    "best_params = grid_search(X, y)\n",
    "fim = time.time()"
   ]
  },
  {
   "cell_type": "code",
   "execution_count": 16,
   "metadata": {},
   "outputs": [
    {
     "data": {
      "text/html": [
       "<div><style>\n",
       ".dataframe > thead > tr,\n",
       ".dataframe > tbody > tr {\n",
       "  text-align: right;\n",
       "  white-space: pre-wrap;\n",
       "}\n",
       "</style>\n",
       "<small>shape: (0, 14)</small><table border=\"1\" class=\"dataframe\"><thead><tr><th>Algorithm</th><th>Accuracy</th><th>Balanced Accuracy</th><th>Precision</th><th>Recall</th><th>Specificity</th><th>F1-score</th><th>False Alarm Rate</th><th>tn</th><th>fp</th><th>fn</th><th>tp</th><th>training_duration</th><th>evaluation_duration</th></tr><tr><td>null</td><td>null</td><td>null</td><td>null</td><td>null</td><td>null</td><td>null</td><td>null</td><td>null</td><td>null</td><td>null</td><td>null</td><td>null</td><td>null</td></tr></thead><tbody></tbody></table></div>"
      ],
      "text/plain": [
       "shape: (0, 14)\n",
       "┌───────────┬──────────┬──────────┬───────────┬───┬──────┬──────┬─────────────────┬────────────────┐\n",
       "│ Algorithm ┆ Accuracy ┆ Balanced ┆ Precision ┆ … ┆ fn   ┆ tp   ┆ training_durati ┆ evaluation_dur │\n",
       "│ ---       ┆ ---      ┆ Accuracy ┆ ---       ┆   ┆ ---  ┆ ---  ┆ on              ┆ ation          │\n",
       "│ null      ┆ null     ┆ ---      ┆ null      ┆   ┆ null ┆ null ┆ ---             ┆ ---            │\n",
       "│           ┆          ┆ null     ┆           ┆   ┆      ┆      ┆ null            ┆ null           │\n",
       "╞═══════════╪══════════╪══════════╪═══════════╪═══╪══════╪══════╪═════════════════╪════════════════╡\n",
       "└───────────┴──────────┴──────────┴───────────┴───┴──────┴──────┴─────────────────┴────────────────┘"
      ]
     },
     "execution_count": 16,
     "metadata": {},
     "output_type": "execute_result"
    }
   ],
   "source": [
    "metrics_df = pl.DataFrame(\n",
    "    results,\n",
    "    schema=['Algorithm', 'Accuracy', 'Balanced Accuracy', 'Precision', 'Recall', 'Specificity', 'F1-score', 'False Alarm Rate', 'tn', 'fp', 'fn', 'tp', 'training_duration', 'evaluation_duration']\n",
    ")\n",
    "metrics_df"
   ]
  },
  {
   "cell_type": "code",
   "execution_count": 17,
   "metadata": {},
   "outputs": [
    {
     "ename": "FileNotFoundError",
     "evalue": "O sistema não pode encontrar o caminho especificado. (os error 3): metrics_results/unbalanced_bayes_metrics_output.csv",
     "output_type": "error",
     "traceback": [
      "\u001b[1;31m---------------------------------------------------------------------------\u001b[0m",
      "\u001b[1;31mFileNotFoundError\u001b[0m                         Traceback (most recent call last)",
      "\u001b[1;32m~\\AppData\\Local\\Temp\\ipykernel_16004\\2864227397.py\u001b[0m in \u001b[0;36m?\u001b[1;34m()\u001b[0m\n\u001b[1;32m----> 1\u001b[1;33m \u001b[0mmetrics_df\u001b[0m\u001b[1;33m.\u001b[0m\u001b[0mwrite_csv\u001b[0m\u001b[1;33m(\u001b[0m\u001b[1;34m\"metrics_results/unbalanced_bayes_metrics_output.csv\"\u001b[0m\u001b[1;33m,\u001b[0m \u001b[0mseparator\u001b[0m\u001b[1;33m=\u001b[0m\u001b[1;34m';'\u001b[0m\u001b[1;33m)\u001b[0m\u001b[1;33m\u001b[0m\u001b[1;33m\u001b[0m\u001b[0m\n\u001b[0m",
      "\u001b[1;32mc:\\Users\\rafae\\anaconda3\\envs\\tcc_2025_py39\\lib\\site-packages\\polars\\dataframe\\frame.py\u001b[0m in \u001b[0;36m?\u001b[1;34m(self, file, include_bom, include_header, separator, line_terminator, quote_char, batch_size, datetime_format, date_format, time_format, float_scientific, float_precision, null_value, quote_style, storage_options, credential_provider, retries)\u001b[0m\n\u001b[0;32m   2979\u001b[0m         \u001b[1;32melse\u001b[0m\u001b[1;33m:\u001b[0m\u001b[1;33m\u001b[0m\u001b[1;33m\u001b[0m\u001b[0m\n\u001b[0;32m   2980\u001b[0m             \u001b[1;31m# Handle empty dict input\u001b[0m\u001b[1;33m\u001b[0m\u001b[1;33m\u001b[0m\u001b[0m\n\u001b[0;32m   2981\u001b[0m             \u001b[0mstorage_options\u001b[0m \u001b[1;33m=\u001b[0m \u001b[1;32mNone\u001b[0m\u001b[1;33m\u001b[0m\u001b[1;33m\u001b[0m\u001b[0m\n\u001b[0;32m   2982\u001b[0m \u001b[1;33m\u001b[0m\u001b[0m\n\u001b[1;32m-> 2983\u001b[1;33m         self._df.write_csv(\n\u001b[0m\u001b[0;32m   2984\u001b[0m             \u001b[0mfile\u001b[0m\u001b[1;33m,\u001b[0m\u001b[1;33m\u001b[0m\u001b[1;33m\u001b[0m\u001b[0m\n\u001b[0;32m   2985\u001b[0m             \u001b[0minclude_bom\u001b[0m\u001b[1;33m,\u001b[0m\u001b[1;33m\u001b[0m\u001b[1;33m\u001b[0m\u001b[0m\n\u001b[0;32m   2986\u001b[0m             \u001b[0minclude_header\u001b[0m\u001b[1;33m,\u001b[0m\u001b[1;33m\u001b[0m\u001b[1;33m\u001b[0m\u001b[0m\n",
      "\u001b[1;31mFileNotFoundError\u001b[0m: O sistema não pode encontrar o caminho especificado. (os error 3): metrics_results/unbalanced_bayes_metrics_output.csv"
     ]
    }
   ],
   "source": [
    "metrics_df.write_csv(\"metrics_results/unbalanced_bayes_metrics_output.csv\", separator=';')"
   ]
  }
 ],
 "metadata": {
  "kernelspec": {
   "display_name": "tcc_2025_py39",
   "language": "python",
   "name": "python3"
  },
  "language_info": {
   "codemirror_mode": {
    "name": "ipython",
    "version": 3
   },
   "file_extension": ".py",
   "mimetype": "text/x-python",
   "name": "python",
   "nbconvert_exporter": "python",
   "pygments_lexer": "ipython3",
   "version": "3.9.21"
  }
 },
 "nbformat": 4,
 "nbformat_minor": 2
}
