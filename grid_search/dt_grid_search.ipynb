{
 "cells": [
  {
   "cell_type": "code",
   "execution_count": 1,
   "metadata": {},
   "outputs": [],
   "source": [
    "import polars as pl\n",
    "import numpy as np\n",
    "import time\n",
    "from sklearn.tree import DecisionTreeClassifier\n",
    "from sklearn.preprocessing import MinMaxScaler\n",
    "from sklearn.model_selection import train_test_split\n",
    "from sklearn.metrics import accuracy_score, precision_score, recall_score, f1_score, confusion_matrix, balanced_accuracy_score\n",
    "from sklearn.model_selection import KFold\n",
    "from imblearn.under_sampling import RandomUnderSampler"
   ]
  },
  {
   "cell_type": "code",
   "execution_count": 2,
   "metadata": {},
   "outputs": [],
   "source": [
    "df_polars_raiz = pl.read_parquet('../dataset.parquet')"
   ]
  },
  {
   "cell_type": "code",
   "execution_count": 3,
   "metadata": {},
   "outputs": [],
   "source": [
    "df_polars = df_polars_raiz.sample(fraction=0.01, seed=42)"
   ]
  },
  {
   "cell_type": "code",
   "execution_count": 4,
   "metadata": {},
   "outputs": [],
   "source": [
    "import ipaddress\n",
    "\n",
    "def ip_to_int(ip: str) -> int:\n",
    "    try:\n",
    "        return int(ipaddress.ip_address(ip))  # Funciona tanto para IPv4 quanto IPv6\n",
    "    except ValueError:\n",
    "        return None"
   ]
  },
  {
   "cell_type": "code",
   "execution_count": 5,
   "metadata": {},
   "outputs": [],
   "source": [
    "#df_polars = df_polars.with_columns([\n",
    "#    pl.col('id.resp_h').map_elements(ip_to_int).alias('id.resp_h'),\n",
    "#    pl.col('id.orig_h').map_elements(ip_to_int).alias('id.orig_h')\n",
    "#])"
   ]
  },
  {
   "cell_type": "code",
   "execution_count": 6,
   "metadata": {},
   "outputs": [],
   "source": [
    "df_polars = df_polars.with_columns([\n",
    "    pl.col('duration').fill_null(0),\n",
    "    pl.col('orig_bytes').fill_null(0),\n",
    "    pl.col('resp_bytes').fill_null(0)\n",
    "])"
   ]
  },
  {
   "cell_type": "code",
   "execution_count": 7,
   "metadata": {},
   "outputs": [],
   "source": [
    "lista_colunas = df_polars.columns\n",
    "colunas_para_spearman = ['id.resp_p', 'history', 'conn_state', 'id.orig_p', 'orig_ip_bytes', 'label']             \n",
    "#['detailed-label', 'id.resp_p', 'history', 'id.orig_h', 'conn_state', 'id.orig_p', 'orig_ip_bytes']\n",
    "colunas_para_dropar = [col for col in lista_colunas if col not in colunas_para_spearman]\n",
    "df_polars = df_polars.drop(colunas_para_dropar)"
   ]
  },
  {
   "cell_type": "code",
   "execution_count": 8,
   "metadata": {},
   "outputs": [],
   "source": [
    "df_polars = df_polars.drop_nulls()"
   ]
  },
  {
   "cell_type": "code",
   "execution_count": 9,
   "metadata": {},
   "outputs": [],
   "source": [
    "X = df_polars.drop('label')\n",
    "y = df_polars['label']       "
   ]
  },
  {
   "cell_type": "code",
   "execution_count": 10,
   "metadata": {},
   "outputs": [],
   "source": [
    "#X = X.to_numpy()\n",
    "#X[:, 0] = np.array([ip_to_int(ip) for ip in X[:, 0]])"
   ]
  },
  {
   "cell_type": "markdown",
   "metadata": {},
   "source": [
    "# Treinamento"
   ]
  },
  {
   "cell_type": "code",
   "execution_count": 11,
   "metadata": {},
   "outputs": [],
   "source": [
    "results = []"
   ]
  },
  {
   "cell_type": "code",
   "execution_count": 12,
   "metadata": {},
   "outputs": [],
   "source": [
    "def startTrain(X, y, criterion='gini', splitter='best', max_depth=None, min_samples_split=2, min_samples_leaf=1):\n",
    "    kfold = KFold(n_splits=5, shuffle=True, random_state=42)\n",
    "    results_fold = []\n",
    "\n",
    "    for train_idx, test_idx in kfold.split(X):\n",
    "        X_train, X_test = X[train_idx], X[test_idx]\n",
    "        y_train, y_test = y[train_idx], y[test_idx]\n",
    "        \n",
    "        scaler = MinMaxScaler()\n",
    "        X_train_scaled = scaler.fit_transform(X_train)\n",
    "        X_test = scaler.transform(X_test)\n",
    "        \n",
    "        rus = RandomUnderSampler(random_state=42)\n",
    "        X_train_resampled, y_train_resampled = rus.fit_resample(X_train_scaled, y_train)\n",
    "        \n",
    "        dt = DecisionTreeClassifier(\n",
    "            criterion=criterion, splitter=splitter, max_depth=max_depth, \n",
    "            min_samples_split=min_samples_split, min_samples_leaf=min_samples_leaf)\n",
    "        \n",
    "        dt.fit(X_train_resampled, y_train_resampled)\n",
    "        y_pred = dt.predict(X_test)\n",
    "\n",
    "        accuracy = accuracy_score(y_test, y_pred)\n",
    "        results_fold.append(accuracy)\n",
    "\n",
    "    return np.mean(results_fold)"
   ]
  },
  {
   "cell_type": "code",
   "execution_count": 13,
   "metadata": {},
   "outputs": [],
   "source": [
    "from itertools import product\n",
    "\n",
    "def grid_search(X, y):\n",
    "    param_grid = {\n",
    "        'criterion': ['gini', 'entropy'],\n",
    "        'splitter': ['best', 'random'],\n",
    "        'max_depth': [None, 5, 10, 20],\n",
    "        'min_samples_split': [2, 5, 10],\n",
    "        'min_samples_leaf': [1, 2, 5]\n",
    "    }\n",
    "\n",
    "    best_accuracy = 0\n",
    "    best_params = {}\n",
    "\n",
    "    # Gerando todas as combinações de hiperparâmetros\n",
    "    for criterion, splitter, max_depth, min_samples_split, min_samples_leaf in product(\n",
    "        param_grid['criterion'], param_grid['splitter'], param_grid['max_depth'], param_grid['min_samples_split'], param_grid['min_samples_leaf']\n",
    "    ):\n",
    "        accuracy = startTrain(X, y, criterion=criterion, splitter=splitter, max_depth=max_depth, \n",
    "                              min_samples_split=min_samples_split, min_samples_leaf=min_samples_leaf)\n",
    "        \n",
    "        print(f\"criterion={criterion}, splitter={splitter}, max_depth={max_depth}, min_samples_split={min_samples_split}, min_samples_leaf={min_samples_leaf} -> Accuracy: {accuracy}\")\n",
    "\n",
    "        # Atualiza os melhores hiperparâmetros caso a acurácia seja maior\n",
    "        if accuracy > best_accuracy:\n",
    "            best_accuracy = accuracy\n",
    "            best_params = {\n",
    "                'criterion': criterion,\n",
    "                'splitter': splitter,\n",
    "                'max_depth': max_depth,\n",
    "                'min_samples_split': min_samples_split,\n",
    "                'min_samples_leaf': min_samples_leaf\n",
    "            }\n",
    "\n",
    "    print(\"\\nMelhores Hiperparâmetros encontrados:\", best_params)\n",
    "    print(f\"Melhor Acurácia Média: {best_accuracy}\")\n",
    "    return best_params\n"
   ]
  },
  {
   "cell_type": "code",
   "execution_count": 14,
   "metadata": {},
   "outputs": [
    {
     "name": "stdout",
     "output_type": "stream",
     "text": [
      "criterion=gini, splitter=best, max_depth=None, min_samples_split=2, min_samples_leaf=1 -> Accuracy: 0.9945374282394581\n",
      "criterion=gini, splitter=best, max_depth=None, min_samples_split=2, min_samples_leaf=2 -> Accuracy: 0.9947193335392155\n",
      "criterion=gini, splitter=best, max_depth=None, min_samples_split=2, min_samples_leaf=5 -> Accuracy: 0.9946761086470813\n",
      "criterion=gini, splitter=best, max_depth=None, min_samples_split=5, min_samples_leaf=1 -> Accuracy: 0.9945068105244081\n",
      "criterion=gini, splitter=best, max_depth=None, min_samples_split=5, min_samples_leaf=2 -> Accuracy: 0.9946544961442483\n",
      "criterion=gini, splitter=best, max_depth=None, min_samples_split=5, min_samples_leaf=5 -> Accuracy: 0.9946779096538432\n",
      "criterion=gini, splitter=best, max_depth=None, min_samples_split=10, min_samples_leaf=1 -> Accuracy: 0.9944635854376476\n",
      "criterion=gini, splitter=best, max_depth=None, min_samples_split=10, min_samples_leaf=2 -> Accuracy: 0.9946743075430062\n",
      "criterion=gini, splitter=best, max_depth=None, min_samples_split=10, min_samples_leaf=5 -> Accuracy: 0.9946671034348643\n",
      "criterion=gini, splitter=best, max_depth=5, min_samples_split=2, min_samples_leaf=1 -> Accuracy: 0.9939773027128614\n",
      "criterion=gini, splitter=best, max_depth=5, min_samples_split=2, min_samples_leaf=2 -> Accuracy: 0.9939376797045002\n",
      "criterion=gini, splitter=best, max_depth=5, min_samples_split=2, min_samples_leaf=5 -> Accuracy: 0.9939394808085753\n",
      "criterion=gini, splitter=best, max_depth=5, min_samples_split=5, min_samples_leaf=1 -> Accuracy: 0.9939809047750419\n",
      "criterion=gini, splitter=best, max_depth=5, min_samples_split=5, min_samples_leaf=2 -> Accuracy: 0.9939376797045002\n",
      "criterion=gini, splitter=best, max_depth=5, min_samples_split=5, min_samples_leaf=5 -> Accuracy: 0.9939412818639937\n",
      "criterion=gini, splitter=best, max_depth=5, min_samples_split=10, min_samples_leaf=1 -> Accuracy: 0.9939628943506079\n",
      "criterion=gini, splitter=best, max_depth=5, min_samples_split=10, min_samples_leaf=2 -> Accuracy: 0.9939376797045002\n",
      "criterion=gini, splitter=best, max_depth=5, min_samples_split=10, min_samples_leaf=5 -> Accuracy: 0.9939412818639937\n",
      "criterion=gini, splitter=best, max_depth=10, min_samples_split=2, min_samples_leaf=1 -> Accuracy: 0.9947949775099769\n",
      "criterion=gini, splitter=best, max_depth=10, min_samples_split=2, min_samples_leaf=2 -> Accuracy: 0.9947211344486643\n",
      "criterion=gini, splitter=best, max_depth=10, min_samples_split=2, min_samples_leaf=5 -> Accuracy: 0.9946490928806797\n",
      "criterion=gini, splitter=best, max_depth=10, min_samples_split=5, min_samples_leaf=1 -> Accuracy: 0.994787773272084\n",
      "criterion=gini, splitter=best, max_depth=10, min_samples_split=5, min_samples_leaf=2 -> Accuracy: 0.9947265376149197\n",
      "criterion=gini, splitter=best, max_depth=10, min_samples_split=5, min_samples_leaf=5 -> Accuracy: 0.9946454908184993\n",
      "criterion=gini, splitter=best, max_depth=10, min_samples_split=10, min_samples_leaf=1 -> Accuracy: 0.9947391450028491\n",
      "criterion=gini, splitter=best, max_depth=10, min_samples_split=10, min_samples_leaf=2 -> Accuracy: 0.9947049250309924\n",
      "criterion=gini, splitter=best, max_depth=10, min_samples_split=10, min_samples_leaf=5 -> Accuracy: 0.9946454907698428\n",
      "criterion=gini, splitter=best, max_depth=20, min_samples_split=2, min_samples_leaf=1 -> Accuracy: 0.9947607576354331\n",
      "criterion=gini, splitter=best, max_depth=20, min_samples_split=2, min_samples_leaf=2 -> Accuracy: 0.9947049251120867\n",
      "criterion=gini, splitter=best, max_depth=20, min_samples_split=2, min_samples_leaf=5 -> Accuracy: 0.9946689044740641\n",
      "criterion=gini, splitter=best, max_depth=20, min_samples_split=5, min_samples_leaf=1 -> Accuracy: 0.9947013233418456\n",
      "criterion=gini, splitter=best, max_depth=20, min_samples_split=5, min_samples_leaf=2 -> Accuracy: 0.9946797106443863\n",
      "criterion=gini, splitter=best, max_depth=20, min_samples_split=5, min_samples_leaf=5 -> Accuracy: 0.9946671034348643\n",
      "criterion=gini, splitter=best, max_depth=20, min_samples_split=10, min_samples_leaf=1 -> Accuracy: 0.9946418887887566\n",
      "criterion=gini, splitter=best, max_depth=20, min_samples_split=10, min_samples_leaf=2 -> Accuracy: 0.9946869148660602\n",
      "criterion=gini, splitter=best, max_depth=20, min_samples_split=10, min_samples_leaf=5 -> Accuracy: 0.9946833128038799\n",
      "criterion=gini, splitter=random, max_depth=None, min_samples_split=2, min_samples_leaf=1 -> Accuracy: 0.9946220770818401\n",
      "criterion=gini, splitter=random, max_depth=None, min_samples_split=2, min_samples_leaf=2 -> Accuracy: 0.9943465167705711\n",
      "criterion=gini, splitter=random, max_depth=None, min_samples_split=2, min_samples_leaf=5 -> Accuracy: 0.9940457426727939\n",
      "criterion=gini, splitter=random, max_depth=None, min_samples_split=5, min_samples_leaf=1 -> Accuracy: 0.9947769669233543\n",
      "criterion=gini, splitter=random, max_depth=None, min_samples_split=5, min_samples_leaf=2 -> Accuracy: 0.994481594532135\n",
      "criterion=gini, splitter=random, max_depth=None, min_samples_split=5, min_samples_leaf=5 -> Accuracy: 0.9937809892779146\n",
      "criterion=gini, splitter=random, max_depth=None, min_samples_split=10, min_samples_leaf=1 -> Accuracy: 0.9946598987915003\n",
      "criterion=gini, splitter=random, max_depth=None, min_samples_split=10, min_samples_leaf=2 -> Accuracy: 0.9943519188988198\n",
      "criterion=gini, splitter=random, max_depth=None, min_samples_split=10, min_samples_leaf=5 -> Accuracy: 0.9936855323027285\n",
      "criterion=gini, splitter=random, max_depth=5, min_samples_split=2, min_samples_leaf=1 -> Accuracy: 0.9882607809381192\n",
      "criterion=gini, splitter=random, max_depth=5, min_samples_split=2, min_samples_leaf=2 -> Accuracy: 0.9255358664914913\n",
      "criterion=gini, splitter=random, max_depth=5, min_samples_split=2, min_samples_leaf=5 -> Accuracy: 0.9372677379245642\n",
      "criterion=gini, splitter=random, max_depth=5, min_samples_split=5, min_samples_leaf=1 -> Accuracy: 0.97423237682685\n",
      "criterion=gini, splitter=random, max_depth=5, min_samples_split=5, min_samples_leaf=2 -> Accuracy: 0.9614793202709645\n",
      "criterion=gini, splitter=random, max_depth=5, min_samples_split=5, min_samples_leaf=5 -> Accuracy: 0.9608919461238354\n",
      "criterion=gini, splitter=random, max_depth=5, min_samples_split=10, min_samples_leaf=1 -> Accuracy: 0.9616898338180405\n",
      "criterion=gini, splitter=random, max_depth=5, min_samples_split=10, min_samples_leaf=2 -> Accuracy: 0.9714516066541787\n",
      "criterion=gini, splitter=random, max_depth=5, min_samples_split=10, min_samples_leaf=5 -> Accuracy: 0.9430148608386846\n",
      "criterion=gini, splitter=random, max_depth=10, min_samples_split=2, min_samples_leaf=1 -> Accuracy: 0.9919385253982\n",
      "criterion=gini, splitter=random, max_depth=10, min_samples_split=2, min_samples_leaf=2 -> Accuracy: 0.99270216159109\n",
      "criterion=gini, splitter=random, max_depth=10, min_samples_split=2, min_samples_leaf=5 -> Accuracy: 0.9900240139170859\n",
      "criterion=gini, splitter=random, max_depth=10, min_samples_split=5, min_samples_leaf=1 -> Accuracy: 0.9929164875427036\n",
      "criterion=gini, splitter=random, max_depth=10, min_samples_split=5, min_samples_leaf=2 -> Accuracy: 0.9921204260593643\n",
      "criterion=gini, splitter=random, max_depth=10, min_samples_split=5, min_samples_leaf=5 -> Accuracy: 0.9926661417153537\n",
      "criterion=gini, splitter=random, max_depth=10, min_samples_split=10, min_samples_leaf=1 -> Accuracy: 0.992338351234858\n",
      "criterion=gini, splitter=random, max_depth=10, min_samples_split=10, min_samples_leaf=2 -> Accuracy: 0.992017764570565\n",
      "criterion=gini, splitter=random, max_depth=10, min_samples_split=10, min_samples_leaf=5 -> Accuracy: 0.9917296018505558\n",
      "criterion=gini, splitter=random, max_depth=20, min_samples_split=2, min_samples_leaf=1 -> Accuracy: 0.9945824535220378\n",
      "criterion=gini, splitter=random, max_depth=20, min_samples_split=2, min_samples_leaf=2 -> Accuracy: 0.9944347689239856\n",
      "criterion=gini, splitter=random, max_depth=20, min_samples_split=2, min_samples_leaf=5 -> Accuracy: 0.9939322754353626\n",
      "criterion=gini, splitter=random, max_depth=20, min_samples_split=5, min_samples_leaf=1 -> Accuracy: 0.9947589568719539\n",
      "criterion=gini, splitter=random, max_depth=20, min_samples_split=5, min_samples_leaf=2 -> Accuracy: 0.9943843392425175\n",
      "criterion=gini, splitter=random, max_depth=20, min_samples_split=5, min_samples_leaf=5 -> Accuracy: 0.993431587640751\n",
      "criterion=gini, splitter=random, max_depth=20, min_samples_split=10, min_samples_leaf=1 -> Accuracy: 0.9945032085108843\n",
      "criterion=gini, splitter=random, max_depth=20, min_samples_split=10, min_samples_leaf=2 -> Accuracy: 0.9944167589536796\n",
      "criterion=gini, splitter=random, max_depth=20, min_samples_split=10, min_samples_leaf=5 -> Accuracy: 0.9940907673714946\n",
      "criterion=entropy, splitter=best, max_depth=None, min_samples_split=2, min_samples_leaf=1 -> Accuracy: 0.9946382868887648\n",
      "criterion=entropy, splitter=best, max_depth=None, min_samples_split=2, min_samples_leaf=2 -> Accuracy: 0.9948508100981985\n",
      "criterion=entropy, splitter=best, max_depth=None, min_samples_split=2, min_samples_leaf=5 -> Accuracy: 0.9948814278132486\n",
      "criterion=entropy, splitter=best, max_depth=None, min_samples_split=5, min_samples_leaf=1 -> Accuracy: 0.9945986639128412\n",
      "criterion=entropy, splitter=best, max_depth=None, min_samples_split=5, min_samples_leaf=2 -> Accuracy: 0.9948778257510682\n",
      "criterion=entropy, splitter=best, max_depth=None, min_samples_split=5, min_samples_leaf=5 -> Accuracy: 0.9948760246956498\n",
      "criterion=entropy, splitter=best, max_depth=None, min_samples_split=10, min_samples_leaf=1 -> Accuracy: 0.9946022659263651\n",
      "criterion=entropy, splitter=best, max_depth=None, min_samples_split=10, min_samples_leaf=2 -> Accuracy: 0.9948400038305631\n",
      "criterion=entropy, splitter=best, max_depth=None, min_samples_split=10, min_samples_leaf=5 -> Accuracy: 0.9948706215456132\n",
      "criterion=entropy, splitter=best, max_depth=5, min_samples_split=2, min_samples_leaf=1 -> Accuracy: 0.9939178681597725\n",
      "criterion=entropy, splitter=best, max_depth=5, min_samples_split=2, min_samples_leaf=2 -> Accuracy: 0.9939016587583194\n",
      "criterion=entropy, splitter=best, max_depth=5, min_samples_split=2, min_samples_leaf=5 -> Accuracy: 0.9939016588069759\n",
      "criterion=entropy, splitter=best, max_depth=5, min_samples_split=5, min_samples_leaf=1 -> Accuracy: 0.9939286744111889\n",
      "criterion=entropy, splitter=best, max_depth=5, min_samples_split=5, min_samples_leaf=2 -> Accuracy: 0.9939016587583194\n",
      "criterion=entropy, splitter=best, max_depth=5, min_samples_split=5, min_samples_leaf=5 -> Accuracy: 0.9939052609178127\n",
      "criterion=entropy, splitter=best, max_depth=5, min_samples_split=10, min_samples_leaf=1 -> Accuracy: 0.9939196692151908\n",
      "criterion=entropy, splitter=best, max_depth=5, min_samples_split=10, min_samples_leaf=2 -> Accuracy: 0.9939016587583194\n",
      "criterion=entropy, splitter=best, max_depth=5, min_samples_split=10, min_samples_leaf=5 -> Accuracy: 0.9938962556407203\n",
      "criterion=entropy, splitter=best, max_depth=10, min_samples_split=2, min_samples_leaf=1 -> Accuracy: 0.994953469754267\n",
      "criterion=entropy, splitter=best, max_depth=10, min_samples_split=2, min_samples_leaf=2 -> Accuracy: 0.994879626790268\n",
      "criterion=entropy, splitter=best, max_depth=10, min_samples_split=2, min_samples_leaf=5 -> Accuracy: 0.9948742236402314\n",
      "criterion=entropy, splitter=best, max_depth=10, min_samples_split=5, min_samples_leaf=1 -> Accuracy: 0.9949408623825567\n",
      "criterion=entropy, splitter=best, max_depth=10, min_samples_split=5, min_samples_leaf=2 -> Accuracy: 0.9948580142712158\n",
      "criterion=entropy, splitter=best, max_depth=10, min_samples_split=5, min_samples_leaf=5 -> Accuracy: 0.9948724225848128\n",
      "criterion=entropy, splitter=best, max_depth=10, min_samples_split=10, min_samples_leaf=1 -> Accuracy: 0.9948832288362295\n",
      "criterion=entropy, splitter=best, max_depth=10, min_samples_split=10, min_samples_leaf=2 -> Accuracy: 0.9948652184280145\n",
      "criterion=entropy, splitter=best, max_depth=10, min_samples_split=10, min_samples_leaf=5 -> Accuracy: 0.9948688204253193\n",
      "criterion=entropy, splitter=best, max_depth=20, min_samples_split=2, min_samples_leaf=1 -> Accuracy: 0.9948652185091087\n",
      "criterion=entropy, splitter=best, max_depth=20, min_samples_split=2, min_samples_leaf=2 -> Accuracy: 0.9948688205226324\n",
      "criterion=entropy, splitter=best, max_depth=20, min_samples_split=2, min_samples_leaf=5 -> Accuracy: 0.9948652183793578\n",
      "criterion=entropy, splitter=best, max_depth=20, min_samples_split=5, min_samples_leaf=1 -> Accuracy: 0.994838202726488\n",
      "criterion=entropy, splitter=best, max_depth=20, min_samples_split=5, min_samples_leaf=2 -> Accuracy: 0.99486521849289\n",
      "criterion=entropy, splitter=best, max_depth=20, min_samples_split=5, min_samples_leaf=5 -> Accuracy: 0.9948670193699009\n",
      "criterion=entropy, splitter=best, max_depth=20, min_samples_split=10, min_samples_leaf=1 -> Accuracy: 0.994830998504814\n",
      "criterion=entropy, splitter=best, max_depth=20, min_samples_split=10, min_samples_leaf=2 -> Accuracy: 0.9948688205226324\n",
      "criterion=entropy, splitter=best, max_depth=20, min_samples_split=10, min_samples_leaf=5 -> Accuracy: 0.9948652183307012\n",
      "criterion=entropy, splitter=random, max_depth=None, min_samples_split=2, min_samples_leaf=1 -> Accuracy: 0.9946580984497115\n",
      "criterion=entropy, splitter=random, max_depth=None, min_samples_split=2, min_samples_leaf=2 -> Accuracy: 0.9943465169165411\n",
      "criterion=entropy, splitter=random, max_depth=None, min_samples_split=2, min_samples_leaf=5 -> Accuracy: 0.9936134898913632\n",
      "criterion=entropy, splitter=random, max_depth=None, min_samples_split=5, min_samples_leaf=1 -> Accuracy: 0.9946617003172655\n",
      "criterion=entropy, splitter=random, max_depth=None, min_samples_split=5, min_samples_leaf=2 -> Accuracy: 0.9943861397789325\n",
      "criterion=entropy, splitter=random, max_depth=None, min_samples_split=5, min_samples_leaf=5 -> Accuracy: 0.9936080889957477\n",
      "criterion=entropy, splitter=random, max_depth=None, min_samples_split=10, min_samples_leaf=1 -> Accuracy: 0.9948201925128994\n",
      "criterion=entropy, splitter=random, max_depth=None, min_samples_split=10, min_samples_leaf=2 -> Accuracy: 0.9946022657966141\n",
      "criterion=entropy, splitter=random, max_depth=None, min_samples_split=10, min_samples_leaf=5 -> Accuracy: 0.9939016601369222\n",
      "criterion=entropy, splitter=random, max_depth=5, min_samples_split=2, min_samples_leaf=1 -> Accuracy: 0.9582372006548828\n",
      "criterion=entropy, splitter=random, max_depth=5, min_samples_split=2, min_samples_leaf=2 -> Accuracy: 0.9859662479314645\n",
      "criterion=entropy, splitter=random, max_depth=5, min_samples_split=2, min_samples_leaf=5 -> Accuracy: 0.964971359336863\n",
      "criterion=entropy, splitter=random, max_depth=5, min_samples_split=5, min_samples_leaf=1 -> Accuracy: 0.9859770534854704\n",
      "criterion=entropy, splitter=random, max_depth=5, min_samples_split=5, min_samples_leaf=2 -> Accuracy: 0.9285667925686963\n",
      "criterion=entropy, splitter=random, max_depth=5, min_samples_split=5, min_samples_leaf=5 -> Accuracy: 0.9364518484667949\n",
      "criterion=entropy, splitter=random, max_depth=5, min_samples_split=10, min_samples_leaf=1 -> Accuracy: 0.986535376545608\n",
      "criterion=entropy, splitter=random, max_depth=5, min_samples_split=10, min_samples_leaf=2 -> Accuracy: 0.95054514463058\n",
      "criterion=entropy, splitter=random, max_depth=5, min_samples_split=10, min_samples_leaf=5 -> Accuracy: 0.9086869931976255\n",
      "criterion=entropy, splitter=random, max_depth=10, min_samples_split=2, min_samples_leaf=1 -> Accuracy: 0.9925454685208308\n",
      "criterion=entropy, splitter=random, max_depth=10, min_samples_split=2, min_samples_leaf=2 -> Accuracy: 0.9912775368269864\n",
      "criterion=entropy, splitter=random, max_depth=10, min_samples_split=2, min_samples_leaf=5 -> Accuracy: 0.9922933250926791\n",
      "criterion=entropy, splitter=random, max_depth=10, min_samples_split=5, min_samples_leaf=1 -> Accuracy: 0.9925688842361904\n",
      "criterion=entropy, splitter=random, max_depth=10, min_samples_split=5, min_samples_leaf=2 -> Accuracy: 0.9925598786671586\n",
      "criterion=entropy, splitter=random, max_depth=10, min_samples_split=5, min_samples_leaf=5 -> Accuracy: 0.9919853414858805\n",
      "criterion=entropy, splitter=random, max_depth=10, min_samples_split=10, min_samples_leaf=1 -> Accuracy: 0.9918304538663498\n",
      "criterion=entropy, splitter=random, max_depth=10, min_samples_split=10, min_samples_leaf=2 -> Accuracy: 0.9928084228552111\n",
      "criterion=entropy, splitter=random, max_depth=10, min_samples_split=10, min_samples_leaf=5 -> Accuracy: 0.9921186234631545\n",
      "criterion=entropy, splitter=random, max_depth=20, min_samples_split=2, min_samples_leaf=1 -> Accuracy: 0.9945248200243672\n",
      "criterion=entropy, splitter=random, max_depth=20, min_samples_split=2, min_samples_leaf=2 -> Accuracy: 0.9943249042839568\n",
      "criterion=entropy, splitter=random, max_depth=20, min_samples_split=2, min_samples_leaf=5 -> Accuracy: 0.9937053447232745\n",
      "criterion=entropy, splitter=random, max_depth=20, min_samples_split=5, min_samples_leaf=1 -> Accuracy: 0.9945410302692007\n",
      "criterion=entropy, splitter=random, max_depth=20, min_samples_split=5, min_samples_leaf=2 -> Accuracy: 0.9945140132863848\n",
      "criterion=entropy, splitter=random, max_depth=20, min_samples_split=5, min_samples_leaf=5 -> Accuracy: 0.994142999389671\n",
      "criterion=entropy, splitter=random, max_depth=20, min_samples_split=10, min_samples_leaf=1 -> Accuracy: 0.9946076688655564\n",
      "criterion=entropy, splitter=random, max_depth=20, min_samples_split=10, min_samples_leaf=2 -> Accuracy: 0.9945122129283772\n",
      "criterion=entropy, splitter=random, max_depth=20, min_samples_split=10, min_samples_leaf=5 -> Accuracy: 0.9942276473237971\n",
      "\n",
      "Melhores Hiperparâmetros encontrados: {'criterion': 'entropy', 'splitter': 'best', 'max_depth': 10, 'min_samples_split': 2, 'min_samples_leaf': 1}\n",
      "Melhor Acurácia Média: 0.994953469754267\n"
     ]
    }
   ],
   "source": [
    "inicio = time.time()\n",
    "best_params = grid_search(X, y)\n",
    "fim = time.time()"
   ]
  },
  {
   "cell_type": "code",
   "execution_count": 15,
   "metadata": {},
   "outputs": [
    {
     "name": "stdout",
     "output_type": "stream",
     "text": [
      "167.86991381645203\n"
     ]
    }
   ],
   "source": [
    "duracao = fim - inicio\n",
    "print(duracao)"
   ]
  },
  {
   "cell_type": "code",
   "execution_count": 16,
   "metadata": {},
   "outputs": [
    {
     "name": "stdout",
     "output_type": "stream",
     "text": [
      "\n",
      "Melhores Hiperparâmetros encontrados: {'criterion': 'entropy', 'splitter': 'best', 'max_depth': 10, 'min_samples_split': 2, 'min_samples_leaf': 1}\n"
     ]
    }
   ],
   "source": [
    "print(\"\\nMelhores Hiperparâmetros encontrados:\", best_params)"
   ]
  }
 ],
 "metadata": {
  "kernelspec": {
   "display_name": "tcc_2025_py39",
   "language": "python",
   "name": "python3"
  },
  "language_info": {
   "codemirror_mode": {
    "name": "ipython",
    "version": 3
   },
   "file_extension": ".py",
   "mimetype": "text/x-python",
   "name": "python",
   "nbconvert_exporter": "python",
   "pygments_lexer": "ipython3",
   "version": "3.9.21"
  }
 },
 "nbformat": 4,
 "nbformat_minor": 2
}
