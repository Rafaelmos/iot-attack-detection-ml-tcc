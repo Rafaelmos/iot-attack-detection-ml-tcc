{
 "cells": [
  {
   "cell_type": "code",
   "execution_count": 1,
   "metadata": {},
   "outputs": [],
   "source": [
    "import dask.dataframe as dd\n",
    "import polars as pl"
   ]
  },
  {
   "cell_type": "code",
   "execution_count": 2,
   "metadata": {},
   "outputs": [],
   "source": [
    "lista = ['CTU-Honeypot-Capture-4-1','CTU-Honeypot-Capture-5-1','CTU-Honeypot-Capture-7-1', #2\n",
    "         'CTU-IoT-Malware-Capture-1-1','CTU-IoT-Malware-Capture-3-1','CTU-IoT-Malware-Capture-7-1',#5\n",
    "         'CTU-IoT-Malware-Capture-8-1', 'CTU-IoT-Malware-Capture-20-1', 'CTU-IoT-Malware-Capture-21-1',#8\n",
    "         'CTU-IoT-Malware-Capture-33-1', 'CTU-IoT-Malware-Capture-34-1','CTU-IoT-Malware-Capture-35-1',#11\n",
    "         'CTU-IoT-Malware-Capture-36-1','CTU-IoT-Malware-Capture-42-1','CTU-IoT-Malware-Capture-44-1', #14\n",
    "         'CTU-IoT-Malware-Capture-48-1','CTU-IoT-Malware-Capture-60-1'] #16\n",
    "\n",
    "caminhos_arquivos = [f'../../{nome_arquivo}.parquet' for nome_arquivo in lista]\n"
   ]
  },
  {
   "cell_type": "code",
   "execution_count": 3,
   "metadata": {},
   "outputs": [],
   "source": [
    "dfs = [dd.read_parquet(caminho, engine='pyarrow') for caminho in caminhos_arquivos]\n",
    "df = dd.concat(dfs)"
   ]
  },
  {
   "cell_type": "code",
   "execution_count": 4,
   "metadata": {},
   "outputs": [],
   "source": [
    "#df = df.sample(frac=0.01, random_state=42)\n",
    "del lista, dfs,caminhos_arquivos"
   ]
  },
  {
   "cell_type": "markdown",
   "metadata": {},
   "source": [
    "# Pré-processamento"
   ]
  },
  {
   "cell_type": "code",
   "execution_count": 5,
   "metadata": {},
   "outputs": [
    {
     "data": {
      "text/html": [
       "<div><strong>Dask DataFrame Structure:</strong></div>\n",
       "<table border=\"1\" class=\"dataframe\">\n",
       "  <thead>\n",
       "    <tr style=\"text-align: right;\">\n",
       "      <th></th>\n",
       "      <th>ts</th>\n",
       "      <th>uid</th>\n",
       "      <th>id.orig_h</th>\n",
       "      <th>id.orig_p</th>\n",
       "      <th>id.resp_h</th>\n",
       "      <th>id.resp_p</th>\n",
       "      <th>proto</th>\n",
       "      <th>service</th>\n",
       "      <th>duration</th>\n",
       "      <th>orig_bytes</th>\n",
       "      <th>resp_bytes</th>\n",
       "      <th>conn_state</th>\n",
       "      <th>local_orig</th>\n",
       "      <th>local_resp</th>\n",
       "      <th>missed_bytes</th>\n",
       "      <th>history</th>\n",
       "      <th>orig_pkts</th>\n",
       "      <th>orig_ip_bytes</th>\n",
       "      <th>resp_pkts</th>\n",
       "      <th>resp_ip_bytes</th>\n",
       "      <th>tunnel_parents</th>\n",
       "      <th>label</th>\n",
       "      <th>detailed-label</th>\n",
       "    </tr>\n",
       "    <tr>\n",
       "      <th>npartitions=21</th>\n",
       "      <th></th>\n",
       "      <th></th>\n",
       "      <th></th>\n",
       "      <th></th>\n",
       "      <th></th>\n",
       "      <th></th>\n",
       "      <th></th>\n",
       "      <th></th>\n",
       "      <th></th>\n",
       "      <th></th>\n",
       "      <th></th>\n",
       "      <th></th>\n",
       "      <th></th>\n",
       "      <th></th>\n",
       "      <th></th>\n",
       "      <th></th>\n",
       "      <th></th>\n",
       "      <th></th>\n",
       "      <th></th>\n",
       "      <th></th>\n",
       "      <th></th>\n",
       "      <th></th>\n",
       "      <th></th>\n",
       "    </tr>\n",
       "  </thead>\n",
       "  <tbody>\n",
       "    <tr>\n",
       "      <th></th>\n",
       "      <td>float64</td>\n",
       "      <td>string</td>\n",
       "      <td>string</td>\n",
       "      <td>int64</td>\n",
       "      <td>string</td>\n",
       "      <td>int64</td>\n",
       "      <td>string</td>\n",
       "      <td>string</td>\n",
       "      <td>object</td>\n",
       "      <td>object</td>\n",
       "      <td>object</td>\n",
       "      <td>string</td>\n",
       "      <td>string</td>\n",
       "      <td>string</td>\n",
       "      <td>int64</td>\n",
       "      <td>string</td>\n",
       "      <td>int64</td>\n",
       "      <td>int64</td>\n",
       "      <td>int64</td>\n",
       "      <td>int64</td>\n",
       "      <td>string</td>\n",
       "      <td>string</td>\n",
       "      <td>string</td>\n",
       "    </tr>\n",
       "    <tr>\n",
       "      <th></th>\n",
       "      <td>...</td>\n",
       "      <td>...</td>\n",
       "      <td>...</td>\n",
       "      <td>...</td>\n",
       "      <td>...</td>\n",
       "      <td>...</td>\n",
       "      <td>...</td>\n",
       "      <td>...</td>\n",
       "      <td>...</td>\n",
       "      <td>...</td>\n",
       "      <td>...</td>\n",
       "      <td>...</td>\n",
       "      <td>...</td>\n",
       "      <td>...</td>\n",
       "      <td>...</td>\n",
       "      <td>...</td>\n",
       "      <td>...</td>\n",
       "      <td>...</td>\n",
       "      <td>...</td>\n",
       "      <td>...</td>\n",
       "      <td>...</td>\n",
       "      <td>...</td>\n",
       "      <td>...</td>\n",
       "    </tr>\n",
       "    <tr>\n",
       "      <th>...</th>\n",
       "      <td>...</td>\n",
       "      <td>...</td>\n",
       "      <td>...</td>\n",
       "      <td>...</td>\n",
       "      <td>...</td>\n",
       "      <td>...</td>\n",
       "      <td>...</td>\n",
       "      <td>...</td>\n",
       "      <td>...</td>\n",
       "      <td>...</td>\n",
       "      <td>...</td>\n",
       "      <td>...</td>\n",
       "      <td>...</td>\n",
       "      <td>...</td>\n",
       "      <td>...</td>\n",
       "      <td>...</td>\n",
       "      <td>...</td>\n",
       "      <td>...</td>\n",
       "      <td>...</td>\n",
       "      <td>...</td>\n",
       "      <td>...</td>\n",
       "      <td>...</td>\n",
       "      <td>...</td>\n",
       "    </tr>\n",
       "    <tr>\n",
       "      <th></th>\n",
       "      <td>...</td>\n",
       "      <td>...</td>\n",
       "      <td>...</td>\n",
       "      <td>...</td>\n",
       "      <td>...</td>\n",
       "      <td>...</td>\n",
       "      <td>...</td>\n",
       "      <td>...</td>\n",
       "      <td>...</td>\n",
       "      <td>...</td>\n",
       "      <td>...</td>\n",
       "      <td>...</td>\n",
       "      <td>...</td>\n",
       "      <td>...</td>\n",
       "      <td>...</td>\n",
       "      <td>...</td>\n",
       "      <td>...</td>\n",
       "      <td>...</td>\n",
       "      <td>...</td>\n",
       "      <td>...</td>\n",
       "      <td>...</td>\n",
       "      <td>...</td>\n",
       "      <td>...</td>\n",
       "    </tr>\n",
       "    <tr>\n",
       "      <th></th>\n",
       "      <td>...</td>\n",
       "      <td>...</td>\n",
       "      <td>...</td>\n",
       "      <td>...</td>\n",
       "      <td>...</td>\n",
       "      <td>...</td>\n",
       "      <td>...</td>\n",
       "      <td>...</td>\n",
       "      <td>...</td>\n",
       "      <td>...</td>\n",
       "      <td>...</td>\n",
       "      <td>...</td>\n",
       "      <td>...</td>\n",
       "      <td>...</td>\n",
       "      <td>...</td>\n",
       "      <td>...</td>\n",
       "      <td>...</td>\n",
       "      <td>...</td>\n",
       "      <td>...</td>\n",
       "      <td>...</td>\n",
       "      <td>...</td>\n",
       "      <td>...</td>\n",
       "      <td>...</td>\n",
       "    </tr>\n",
       "  </tbody>\n",
       "</table>\n",
       "<div>Dask Name: concat, 18 expressions</div>"
      ],
      "text/plain": [
       "Dask DataFrame Structure:\n",
       "                     ts     uid id.orig_h id.orig_p id.resp_h id.resp_p   proto service duration orig_bytes resp_bytes conn_state local_orig local_resp missed_bytes history orig_pkts orig_ip_bytes resp_pkts resp_ip_bytes tunnel_parents   label detailed-label\n",
       "npartitions=21                                                                                                                                                                                                                                                    \n",
       "                float64  string    string     int64    string     int64  string  string   object     object     object     string     string     string        int64  string     int64         int64     int64         int64         string  string         string\n",
       "                    ...     ...       ...       ...       ...       ...     ...     ...      ...        ...        ...        ...        ...        ...          ...     ...       ...           ...       ...           ...            ...     ...            ...\n",
       "...                 ...     ...       ...       ...       ...       ...     ...     ...      ...        ...        ...        ...        ...        ...          ...     ...       ...           ...       ...           ...            ...     ...            ...\n",
       "                    ...     ...       ...       ...       ...       ...     ...     ...      ...        ...        ...        ...        ...        ...          ...     ...       ...           ...       ...           ...            ...     ...            ...\n",
       "                    ...     ...       ...       ...       ...       ...     ...     ...      ...        ...        ...        ...        ...        ...          ...     ...       ...           ...       ...           ...            ...     ...            ...\n",
       "Dask Name: concat, 18 expressions\n",
       "Expr=Concat(frames=[ReadParquetFSSpec(f0ce936), ReadParquetFSSpec(0b1df25), ReadParquetFSSpec(9ecfb5f), ReadParquetFSSpec(6b50600), ReadParquetFSSpec(00ef3a5), ReadParquetFSSpec(0f0ab1d), ReadParquetFSSpec(51e58a0), ReadParquetFSSpec(bb1985a), ReadParquetFSSpec(078a5dc), ReadParquetFSSpec(1dc8b38), ReadParquetFSSpec(be97602), ReadParquetFSSpec(257fb82), ReadParquetFSSpec(22f538f), ReadParquetFSSpec(f36905f), ReadParquetFSSpec(3604615), ReadParquetFSSpec(907c6c6), ReadParquetFSSpec(19c5796)], )"
      ]
     },
     "execution_count": 5,
     "metadata": {},
     "output_type": "execute_result"
    }
   ],
   "source": [
    "df"
   ]
  },
  {
   "cell_type": "code",
   "execution_count": 6,
   "metadata": {},
   "outputs": [],
   "source": [
    "# Função para substituir \"-\" por \"0\" em uma coluna\n",
    "def replace_dash_with_zero_dask(df, column):\n",
    "    df[column] = df[column].replace(\"-\", \"0\", regex=True)\n",
    "    return df\n",
    "\n",
    "# Aplicar a substituição nas colunas desejadas\n",
    "df = df.map_partitions(replace_dash_with_zero_dask, column='duration')\n",
    "df = df.map_partitions(replace_dash_with_zero_dask, column='orig_bytes')\n",
    "df = df.map_partitions(replace_dash_with_zero_dask, column='resp_bytes')\n",
    "\n",
    "# Conversão de tipos\n",
    "df['ts'] = df['ts'].astype(float)\n",
    "df['uid'] = df['uid'].astype(str)\n",
    "df['id.orig_h'] = df['id.orig_h'].astype(str)\n",
    "df['id.orig_p'] = df['id.orig_p'].astype(int)\n",
    "df['id.resp_h'] = df['id.resp_h'].astype(str)\n",
    "df['id.resp_p'] = df['id.resp_p'].astype(int)\n",
    "df['proto'] = df['proto'].astype(str)\n",
    "df['service'] = df['service'].astype(str)\n",
    "df['duration'] = df['duration'].astype(float)\n",
    "df['orig_bytes'] = df['orig_bytes'].astype(float)\n",
    "df['resp_bytes'] = df['resp_bytes'].astype(float)\n",
    "df['conn_state'] = df['conn_state'].astype(str)\n",
    "df['local_orig'] = df['local_orig'].astype(str)\n",
    "df['local_resp'] = df['local_resp'].astype(str)\n",
    "df['missed_bytes'] = df['missed_bytes'].astype(int)\n",
    "df['history'] = df['history'].astype(str)\n",
    "df['tunnel_parents'] = df['tunnel_parents'].astype(str)\n",
    "df['label'] = df['label'].astype(str)"
   ]
  },
  {
   "cell_type": "code",
   "execution_count": 7,
   "metadata": {},
   "outputs": [],
   "source": [
    "def ipv4_to_int(ip):\n",
    "    if not isinstance(ip, str):  # Verifica se o valor é uma string válida\n",
    "        return None\n",
    "    try:\n",
    "        parts = [int(part) for part in ip.split('.')]\n",
    "        return (parts[0] << 24) + (parts[1] << 16) + (parts[2] << 8) + parts[3]\n",
    "    except Exception:\n",
    "        return None  # Retorna None se ocorrer algum problema"
   ]
  },
  {
   "cell_type": "code",
   "execution_count": 8,
   "metadata": {},
   "outputs": [
    {
     "name": "stderr",
     "output_type": "stream",
     "text": [
      "c:\\Users\\rafae\\miniconda3\\envs\\env-tcc\\lib\\site-packages\\dask_expr\\_collection.py:4341: UserWarning: \n",
      "You did not provide metadata, so Dask is running your function on a small dataset to guess output types. It is possible that Dask will guess incorrectly.\n",
      "To provide an explicit output types or to silence this message, please provide the `meta=` keyword, as described in the map or apply function that you are using.\n",
      "  Before: .apply(func)\n",
      "  After:  .apply(func, meta=('id.resp_h', 'object'))\n",
      "\n",
      "  warnings.warn(meta_warning(meta))\n",
      "c:\\Users\\rafae\\miniconda3\\envs\\env-tcc\\lib\\site-packages\\dask_expr\\_collection.py:4341: UserWarning: \n",
      "You did not provide metadata, so Dask is running your function on a small dataset to guess output types. It is possible that Dask will guess incorrectly.\n",
      "To provide an explicit output types or to silence this message, please provide the `meta=` keyword, as described in the map or apply function that you are using.\n",
      "  Before: .apply(func)\n",
      "  After:  .apply(func, meta=('id.resp_h', 'object'))\n",
      "\n",
      "  warnings.warn(meta_warning(meta))\n"
     ]
    }
   ],
   "source": [
    "df['id.resp_h'] = df['id.resp_h'].apply(ipv4_to_int)\n",
    "df['id.orig_h'] = df['id.resp_h'].apply(ipv4_to_int)"
   ]
  },
  {
   "cell_type": "code",
   "execution_count": 9,
   "metadata": {},
   "outputs": [
    {
     "name": "stderr",
     "output_type": "stream",
     "text": [
      "c:\\Users\\rafae\\miniconda3\\envs\\env-tcc\\lib\\site-packages\\dask_expr\\_collection.py:4160: UserWarning: \n",
      "You did not provide metadata, so Dask is running your function on a small dataset to guess output types. It is possible that Dask will guess incorrectly.\n",
      "To provide an explicit output types or to silence this message, please provide the `meta=` keyword, as described in the map or apply function that you are using.\n",
      "  Before: .apply(func)\n",
      "  After:  .apply(func, meta=('label', 'float64'))\n",
      "\n",
      "  warnings.warn(meta_warning(meta))\n"
     ]
    }
   ],
   "source": [
    "# Mapear labels\n",
    "df['label'] = df['label'].str.replace('benign', 'Benign')\n",
    "df['label'] = df['label'].map({'Benign': 0, 'Malicious': 1})\n",
    "df['label'] = df['label'].astype(int)"
   ]
  },
  {
   "cell_type": "code",
   "execution_count": 10,
   "metadata": {},
   "outputs": [
    {
     "ename": "",
     "evalue": "",
     "output_type": "error",
     "traceback": [
      "\u001b[1;31mO Kernel deu pane ao executar o código na célula atual ou em uma célula anterior. \n",
      "\u001b[1;31mAnalise o código nas células para identificar uma possível causa da pane. \n",
      "\u001b[1;31mClique <a href='https://aka.ms/vscodeJupyterKernelCrash'>aqui</a> para obter mais informações. \n",
      "\u001b[1;31mConsulte Jupyter <a href='command:jupyter.viewOutput'>log</a> para obter mais detalhes."
     ]
    }
   ],
   "source": [
    "label_columns = ['proto', 'service', 'conn_state', 'history']\n",
    "\n",
    "def label_encode_column(df, col):\n",
    "    unique_values = df[col].dropna().unique()\n",
    "    label_mapping = {value: i for i, value in enumerate(unique_values)}\n",
    "    df[col] = df[col].map(label_mapping)\n",
    "    return df\n",
    "\n",
    "for col in label_columns:\n",
    "    df = df.map_partitions(label_encode_column, col=col)"
   ]
  },
  {
   "cell_type": "code",
   "execution_count": null,
   "metadata": {},
   "outputs": [
    {
     "name": "stderr",
     "output_type": "stream",
     "text": [
      "C:\\Users\\rafae\\AppData\\Local\\Temp\\ipykernel_10372\\3648796677.py:3: FutureWarning: Downcasting behavior in `replace` is deprecated and will be removed in a future version. To retain the old behavior, explicitly call `result.infer_objects(copy=False)`. To opt-in to the future behavior, set `pd.set_option('future.no_silent_downcasting', True)`\n",
      "  df[column] = df[column].replace(\"-\", \"0\", regex=True)\n",
      "C:\\Users\\rafae\\AppData\\Local\\Temp\\ipykernel_10372\\3648796677.py:3: FutureWarning: Downcasting behavior in `replace` is deprecated and will be removed in a future version. To retain the old behavior, explicitly call `result.infer_objects(copy=False)`. To opt-in to the future behavior, set `pd.set_option('future.no_silent_downcasting', True)`\n",
      "  df[column] = df[column].replace(\"-\", \"0\", regex=True)\n",
      "C:\\Users\\rafae\\AppData\\Local\\Temp\\ipykernel_10372\\3648796677.py:3: FutureWarning: Downcasting behavior in `replace` is deprecated and will be removed in a future version. To retain the old behavior, explicitly call `result.infer_objects(copy=False)`. To opt-in to the future behavior, set `pd.set_option('future.no_silent_downcasting', True)`\n",
      "  df[column] = df[column].replace(\"-\", \"0\", regex=True)\n",
      "C:\\Users\\rafae\\AppData\\Local\\Temp\\ipykernel_10372\\3648796677.py:3: FutureWarning: Downcasting behavior in `replace` is deprecated and will be removed in a future version. To retain the old behavior, explicitly call `result.infer_objects(copy=False)`. To opt-in to the future behavior, set `pd.set_option('future.no_silent_downcasting', True)`\n",
      "  df[column] = df[column].replace(\"-\", \"0\", regex=True)\n",
      "C:\\Users\\rafae\\AppData\\Local\\Temp\\ipykernel_10372\\3648796677.py:3: FutureWarning: Downcasting behavior in `replace` is deprecated and will be removed in a future version. To retain the old behavior, explicitly call `result.infer_objects(copy=False)`. To opt-in to the future behavior, set `pd.set_option('future.no_silent_downcasting', True)`\n",
      "  df[column] = df[column].replace(\"-\", \"0\", regex=True)\n",
      "C:\\Users\\rafae\\AppData\\Local\\Temp\\ipykernel_10372\\3648796677.py:3: FutureWarning: Downcasting behavior in `replace` is deprecated and will be removed in a future version. To retain the old behavior, explicitly call `result.infer_objects(copy=False)`. To opt-in to the future behavior, set `pd.set_option('future.no_silent_downcasting', True)`\n",
      "  df[column] = df[column].replace(\"-\", \"0\", regex=True)\n",
      "C:\\Users\\rafae\\AppData\\Local\\Temp\\ipykernel_10372\\3648796677.py:3: FutureWarning: Downcasting behavior in `replace` is deprecated and will be removed in a future version. To retain the old behavior, explicitly call `result.infer_objects(copy=False)`. To opt-in to the future behavior, set `pd.set_option('future.no_silent_downcasting', True)`\n",
      "  df[column] = df[column].replace(\"-\", \"0\", regex=True)\n",
      "C:\\Users\\rafae\\AppData\\Local\\Temp\\ipykernel_10372\\3648796677.py:3: FutureWarning: Downcasting behavior in `replace` is deprecated and will be removed in a future version. To retain the old behavior, explicitly call `result.infer_objects(copy=False)`. To opt-in to the future behavior, set `pd.set_option('future.no_silent_downcasting', True)`\n",
      "  df[column] = df[column].replace(\"-\", \"0\", regex=True)\n",
      "C:\\Users\\rafae\\AppData\\Local\\Temp\\ipykernel_10372\\3648796677.py:3: FutureWarning: Downcasting behavior in `replace` is deprecated and will be removed in a future version. To retain the old behavior, explicitly call `result.infer_objects(copy=False)`. To opt-in to the future behavior, set `pd.set_option('future.no_silent_downcasting', True)`\n",
      "  df[column] = df[column].replace(\"-\", \"0\", regex=True)\n",
      "C:\\Users\\rafae\\AppData\\Local\\Temp\\ipykernel_10372\\3648796677.py:3: FutureWarning: Downcasting behavior in `replace` is deprecated and will be removed in a future version. To retain the old behavior, explicitly call `result.infer_objects(copy=False)`. To opt-in to the future behavior, set `pd.set_option('future.no_silent_downcasting', True)`\n",
      "  df[column] = df[column].replace(\"-\", \"0\", regex=True)\n",
      "C:\\Users\\rafae\\AppData\\Local\\Temp\\ipykernel_10372\\3648796677.py:3: FutureWarning: Downcasting behavior in `replace` is deprecated and will be removed in a future version. To retain the old behavior, explicitly call `result.infer_objects(copy=False)`. To opt-in to the future behavior, set `pd.set_option('future.no_silent_downcasting', True)`\n",
      "  df[column] = df[column].replace(\"-\", \"0\", regex=True)\n",
      "C:\\Users\\rafae\\AppData\\Local\\Temp\\ipykernel_10372\\3648796677.py:3: FutureWarning: Downcasting behavior in `replace` is deprecated and will be removed in a future version. To retain the old behavior, explicitly call `result.infer_objects(copy=False)`. To opt-in to the future behavior, set `pd.set_option('future.no_silent_downcasting', True)`\n",
      "  df[column] = df[column].replace(\"-\", \"0\", regex=True)\n",
      "C:\\Users\\rafae\\AppData\\Local\\Temp\\ipykernel_10372\\3648796677.py:3: FutureWarning: Downcasting behavior in `replace` is deprecated and will be removed in a future version. To retain the old behavior, explicitly call `result.infer_objects(copy=False)`. To opt-in to the future behavior, set `pd.set_option('future.no_silent_downcasting', True)`\n",
      "  df[column] = df[column].replace(\"-\", \"0\", regex=True)\n",
      "C:\\Users\\rafae\\AppData\\Local\\Temp\\ipykernel_10372\\3648796677.py:3: FutureWarning: Downcasting behavior in `replace` is deprecated and will be removed in a future version. To retain the old behavior, explicitly call `result.infer_objects(copy=False)`. To opt-in to the future behavior, set `pd.set_option('future.no_silent_downcasting', True)`\n",
      "  df[column] = df[column].replace(\"-\", \"0\", regex=True)\n",
      "C:\\Users\\rafae\\AppData\\Local\\Temp\\ipykernel_10372\\3648796677.py:3: FutureWarning: Downcasting behavior in `replace` is deprecated and will be removed in a future version. To retain the old behavior, explicitly call `result.infer_objects(copy=False)`. To opt-in to the future behavior, set `pd.set_option('future.no_silent_downcasting', True)`\n",
      "  df[column] = df[column].replace(\"-\", \"0\", regex=True)\n",
      "C:\\Users\\rafae\\AppData\\Local\\Temp\\ipykernel_10372\\3648796677.py:3: FutureWarning: Downcasting behavior in `replace` is deprecated and will be removed in a future version. To retain the old behavior, explicitly call `result.infer_objects(copy=False)`. To opt-in to the future behavior, set `pd.set_option('future.no_silent_downcasting', True)`\n",
      "  df[column] = df[column].replace(\"-\", \"0\", regex=True)\n"
     ]
    }
   ],
   "source": [
    "pandas_df = df.compute()"
   ]
  },
  {
   "cell_type": "code",
   "execution_count": null,
   "metadata": {},
   "outputs": [],
   "source": [
    "df_polars = pl.from_pandas(pandas_df)\n",
    "\n",
    "del pandas_df"
   ]
  },
  {
   "cell_type": "code",
   "execution_count": null,
   "metadata": {},
   "outputs": [],
   "source": [
    "df_polars"
   ]
  },
  {
   "cell_type": "code",
   "execution_count": null,
   "metadata": {},
   "outputs": [],
   "source": [
    "df_polars.write_parquet('dataset2.parquet', compression='snappy')\n",
    "print(f\"Arquivo foi salvo com sucesso.\")"
   ]
  },
  {
   "cell_type": "code",
   "execution_count": null,
   "metadata": {},
   "outputs": [],
   "source": [
    "#arquivo = \"dataset\"\n",
    "#df_pandas.to_parquet(f'{arquivo}.parquet', compression='snappy')\n",
    "\n",
    "#print(f\"Arquivo '{arquivo}.parquet' salvo com sucesso.\")"
   ]
  }
 ],
 "metadata": {
  "kernelspec": {
   "display_name": "env-tcc",
   "language": "python",
   "name": "python3"
  },
  "language_info": {
   "codemirror_mode": {
    "name": "ipython",
    "version": 3
   },
   "file_extension": ".py",
   "mimetype": "text/x-python",
   "name": "python",
   "nbconvert_exporter": "python",
   "pygments_lexer": "ipython3",
   "version": "3.10.13"
  }
 },
 "nbformat": 4,
 "nbformat_minor": 2
}
